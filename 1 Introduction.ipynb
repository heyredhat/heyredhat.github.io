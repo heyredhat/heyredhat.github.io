{
 "cells": [
  {
   "cell_type": "markdown",
   "metadata": {},
   "source": [
    "<img align=\"center\" src=\"img/wormhole.jpeg\">"
   ]
  },
  {
   "cell_type": "markdown",
   "metadata": {},
   "source": [
    "# Introduction"
   ]
  },
  {
   "cell_type": "markdown",
   "metadata": {},
   "source": [
    "Welcome to the repository of quantum tutorials! \n",
    "\n",
    "What follows is a series of essays mixing code, images, mathematics, and philosophy. They are a work in progress!\n",
    "This site is dedicated to the [BROOKLYN QUANTUM MEETUP](https://www.meetup.com/brooklyn_quantum/); you can find recordings of our get togethers on [youtube](https://www.youtube.com/channel/UCC2OaOMwZ7HkrAm1yHuD9sg). Join us!\n"
   ]
  },
  {
   "cell_type": "markdown",
   "metadata": {},
   "source": [
    "# Prerequisites\n",
    "\n",
    "Quantum physics is notorious from pretty much all perspectives. But fear not-- it's the 21st century! If you're handy with python, you can implement much of the crucial machinery with just a few lines of code and a little imagination. And even if you aren't a programmer, it *is* possible to visualize what's going on, even if in unfamiliar ways--and I've written code to do just that for you.\n",
    "\n",
    "The difficulty with quantum mechanics at a foundational level is not that it's complicated. It's actually dizzyingly simple when expressed in the right language. But to pick up this lingo requires immersion, immersion in the cloud of vector spaces, linear transformations, string diagrams... Once you have that in you, however, the words and the grammar, it becomes impossible to ignore the sweet sounds of this poem which nature has written for us.\n",
    "\n",
    "With that in mind, we'll take the time to spell out our calculations step-by-step, especially at first, so that even if you don't know yet *why* something is happening, you can at least be sure *what* is happening. The problem with most popular accounts of quantum physics is that they move across the subject at a more-or-less verbal level, introducing you to the fantasias of physicists, but without giving you the tools to interrogate what you've learned, access to the underlying forms against which we can actually *test* our thinking about nature. On the other side, the problem with the most sophisticated accounts is that the motivations behind them and their philosophical principles are often obscured under the weight of technical detail. We'll try to find a happy medium between these two poles, although such a place, perhaps, doesn't exist. In the end, this is a world you're going to have to spend time in to really feel it in your gut. The point is these essays is to give you the tools to start playing around.\n",
    "\n",
    "The essays are organized thematically, not necessarily from simplest to most difficult. We'll circle around and around certain topics again and again, elaborating them as time goes by. We begin with traversible wormholes, taking a detour around the bend of string diagrams, and are now trying to make pictures of quantum entanglement. More to come!"
   ]
  },
  {
   "cell_type": "markdown",
   "metadata": {},
   "source": [
    "# The Python Environment\n",
    "\n",
    "To take the full advantage of these tutorials, you should run them at home as python notebooks. First, make sure to install [conda](https://docs.conda.io/). Then run in the shell:"
   ]
  },
  {
   "cell_type": "markdown",
   "metadata": {},
   "source": [
    "```\n",
    "conda create --name heyredhat\n",
    "conda activate heyredhat\n",
    "conda install vpython jupyterlab nodejs qutip matplotlib\n",
    "jupyter labextension install vpython\n",
    "git clone https://github.com/heyredhat/heyredhat.github.io\n",
    "```"
   ]
  },
  {
   "cell_type": "markdown",
   "metadata": {},
   "source": [
    "Then run `jupyter lab`. A word about vpython, which we use for 3D graphics. When you use it in a jupyter notebook, you should call `vpython.rate(some_rate)` afer each update to the graphics. Also, right click the notebook and select \"Disable Scrolling for Outputs.\" When used outside a jupyter notebook, vpython will open up a browser window alongside the console to display its graphics: `vpython.rate` isn't needed. We'll primarily use vpython outside of the notebook environment when we really want to interact with our visualizations, so make sure to run scripts interactively like `python -i viz.py`.\n",
    "\n",
    "Alternatively, you can run the notebooks online: [![Binder](https://mybinder.org/badge_logo.svg)](https://mybinder.org/v2/gh/heyredhat/heyredhat.github.io/master)."
   ]
  },
  {
   "cell_type": "markdown",
   "metadata": {},
   "source": [
    "# Links\n",
    "\n",
    "The images were made with [tikzit](https://tikzit.github.io/).\n",
    "\n",
    "Some references:\n",
    "\n",
    "* [Quantum Gravity in the Lab, Et al](https://arxiv.org/abs/1911.06314).\n",
    "* [Kindergarten Quantum Mechanics, Bob Coecke](https://arxiv.org/abs/quant-ph/0510032).\n",
    "* [Time-reversal formalism applied to maximal bipartite entanglement: Theoretical and experimental exploration, M. Laforest, J. Baugh, R. Laflamme](https://arxiv.org/abs/quant-ph/0510048).\n",
    "* [Braiding Majorana Fermions, Louis Kauffman and Samuel J. Lomonaco](https://arxiv.org/abs/1603.07827)\n",
    "* [Dear Qubitzers, GR=QM; Leonard Susskind](https://arxiv.org/abs/1708.03040).\n",
    "* [The Quantum Physics Sequence, Eliezer Yudkowsky](https://www.lesswrong.com/posts/hc9Eg6erp6hk9bWhn/the-quantum-physics-sequence)\n",
    "* [From quantum foundations via natural language meaning to a theory of everything, Bob Coecke](https://arxiv.org/abs/1602.07618)\n",
    "\n",
    "Some recent lectures worth checking out:\n",
    "* [Quantum Teleportation in the Lab, Stefan Leichenauer](https://www.youtube.com/watch?v=9VT9U4tDK-w).\n",
    "* [A Quantum Circuit Interpretation of Evaporating Black Hole Geometry, Ying Zhao](https://www.youtube.com/watch?v=o8r56S-nXbI).\n",
    "* [New roles for wormholes, Douglas Standford](https://www.youtube.com/watch?v=-hfcApA9s8Q).\n",
    "* [Quantum Natural Language Processing, Bob Coecke](https://www.youtube.com/watch?v=mL-hWbwVphk).\n",
    "    * Check out this [medium post](https://medium.com/cambridge-quantum-computing/quantum-natural-language-processing-748d6f27b31d) and this [repository](https://github.com/oxford-quantum-group/discopy). A word to the wise is to install pytket==0.4.1 with python 3.7, and also pytket-qiskit==0.3.6. \n",
    "* ...\n",
    "\n"
   ]
  }
 ],
 "metadata": {
  "kernelspec": {
   "display_name": "VPython",
   "language": "python",
   "name": "vpython"
  },
  "language_info": {
   "codemirror_mode": {
    "name": "ipython",
    "version": 3
   },
   "file_extension": ".py",
   "mimetype": "text/x-python",
   "name": "python",
   "nbconvert_exporter": "python",
   "pygments_lexer": "ipython3",
   "version": "3.7.7"
  }
 },
 "nbformat": 4,
 "nbformat_minor": 4
}
