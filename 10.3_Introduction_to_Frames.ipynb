{
 "cells": [
  {
   "cell_type": "markdown",
   "metadata": {},
   "source": [
    "# Introduction to Finite Frames and RIC-POVM's"
   ]
  },
  {
   "cell_type": "markdown",
   "metadata": {},
   "source": [
    "Maturing out of our reflexive habit of working with orthonormal bases, we can instead work with an overcomplete basis or \"frame,\" which can have as many elements as we like. In fact, with probability 1, any randomly chosen set of vectors ($n \\ge d$) will form a frame.\n",
    "\n",
    "Let's just think about $d=2$ real vector space. Why not a frame made of 5 vectors?"
   ]
  },
  {
   "cell_type": "code",
   "execution_count": 111,
   "metadata": {},
   "outputs": [
    {
     "data": {
      "text/plain": [
       "array([[ 0.4546, -0.3572,  1.4754,  0.1348, -0.1037],\n",
       "       [ 0.8486,  1.0428,  1.077 ,  0.4611,  0.7134]])"
      ]
     },
     "execution_count": 111,
     "metadata": {},
     "output_type": "execute_result"
    }
   ],
   "source": [
    "import numpy as np\n",
    "import scipy as sc\n",
    "import scipy.linalg\n",
    "np.set_printoptions(precision=4, suppress=True)\n",
    "\n",
    "d, n = 2, 5\n",
    "R = np.random.randn(d, n); R"
   ]
  },
  {
   "cell_type": "markdown",
   "metadata": {},
   "source": [
    "We can form the Gram matrix, aka the matrix of inner products:"
   ]
  },
  {
   "cell_type": "code",
   "execution_count": 112,
   "metadata": {},
   "outputs": [
    {
     "data": {
      "text/plain": [
       "array([[0.9268, 0.7225, 1.5847, 0.4525, 0.5582],\n",
       "       [0.7225, 1.2151, 0.596 , 0.4327, 0.781 ],\n",
       "       [1.5847, 0.596 , 3.3368, 0.6954, 0.6153],\n",
       "       [0.4525, 0.4327, 0.6954, 0.2307, 0.3149],\n",
       "       [0.5582, 0.781 , 0.6153, 0.3149, 0.5197]])"
      ]
     },
     "execution_count": 112,
     "metadata": {},
     "output_type": "execute_result"
    }
   ],
   "source": [
    "G = R.T @ R; G"
   ]
  },
  {
   "cell_type": "markdown",
   "metadata": {},
   "source": [
    "One condition for everything being kosher is that the Gram matrix ought to be rank-$d$."
   ]
  },
  {
   "cell_type": "code",
   "execution_count": 113,
   "metadata": {},
   "outputs": [
    {
     "data": {
      "text/plain": [
       "array([4.8055, 1.4236, 0.    , 0.    , 0.    ])"
      ]
     },
     "execution_count": 113,
     "metadata": {},
     "output_type": "execute_result"
    }
   ],
   "source": [
    "np.round(np.linalg.svd(G)[1], decimals=4)"
   ]
  },
  {
   "cell_type": "markdown",
   "metadata": {},
   "source": [
    "We should also check out:"
   ]
  },
  {
   "cell_type": "code",
   "execution_count": 114,
   "metadata": {},
   "outputs": [
    {
     "data": {
      "text/plain": [
       "array([[2.5402, 1.5905],\n",
       "       [1.5905, 3.6889]])"
      ]
     },
     "execution_count": 114,
     "metadata": {},
     "output_type": "execute_result"
    }
   ],
   "source": [
    "R @ R.T"
   ]
  },
  {
   "cell_type": "markdown",
   "metadata": {},
   "source": [
    "We'll have a frame if the latter has non-0 determinant aka is full rank. This means that the rows of $R$ are linearly independent."
   ]
  },
  {
   "cell_type": "code",
   "execution_count": 115,
   "metadata": {},
   "outputs": [
    {
     "data": {
      "text/plain": [
       "6.8410026757178155"
      ]
     },
     "execution_count": 115,
     "metadata": {},
     "output_type": "execute_result"
    }
   ],
   "source": [
    "np.linalg.det(R @ R.T)"
   ]
  },
  {
   "cell_type": "markdown",
   "metadata": {},
   "source": [
    "By the way, the technical definition of a frame is a set of vectors $\\{v\\}$, for which there are constants $a, b > 0$ such that for any vector $u$:\n",
    "\n",
    "$$ a ||u||^2 \\leq \\sum_{i} |\\langle u|v_{i}\\rangle|^2 \\leq b||u||^2 $$\n",
    "\n",
    "The $a$ and $b$ are called frame bounds, and this definition is always satisfied if the aforementioned conditions are true. We won't be using this definition too much. \n",
    "\n",
    "<hr>"
   ]
  },
  {
   "cell_type": "markdown",
   "metadata": {},
   "source": [
    "## Analysis and Synthesis\n",
    "\n",
    "Suppose we have some 2D point:"
   ]
  },
  {
   "cell_type": "code",
   "execution_count": 116,
   "metadata": {},
   "outputs": [
    {
     "data": {
      "text/plain": [
       "array([-1.5857,  2.4579])"
      ]
     },
     "execution_count": 116,
     "metadata": {},
     "output_type": "execute_result"
    }
   ],
   "source": [
    "point = np.random.randn(2); point"
   ]
  },
  {
   "cell_type": "markdown",
   "metadata": {},
   "source": [
    "We can expand it in terms of our frame vectors:"
   ]
  },
  {
   "cell_type": "code",
   "execution_count": 117,
   "metadata": {},
   "outputs": [
    {
     "data": {
      "text/plain": [
       "array([1.3649, 3.1296, 0.3076, 0.9196, 1.9179])"
      ]
     },
     "execution_count": 117,
     "metadata": {},
     "output_type": "execute_result"
    }
   ],
   "source": [
    "c = R.T @ point; c"
   ]
  },
  {
   "cell_type": "markdown",
   "metadata": {},
   "source": [
    " `R.T` is often called the \"analysis\" operator.\n",
    " \n",
    "How do we recover the original point, though? \n",
    "\n",
    "We use the dual frame, obtained by taking the pseudo-inverse of `R`. \n",
    "\n",
    "The inner products with the frame vectors turn out to be the weights on the dual basis vectors, which via summation recover the original point."
   ]
  },
  {
   "cell_type": "code",
   "execution_count": 118,
   "metadata": {},
   "outputs": [
    {
     "data": {
      "text/plain": [
       "array([[ 0.0479,  0.2094],\n",
       "       [-0.4351,  0.4703],\n",
       "       [ 0.5452,  0.0569],\n",
       "       [-0.0345,  0.1399],\n",
       "       [-0.2218,  0.289 ]])"
      ]
     },
     "execution_count": 118,
     "metadata": {},
     "output_type": "execute_result"
    }
   ],
   "source": [
    "D = np.linalg.pinv(R); D"
   ]
  },
  {
   "cell_type": "code",
   "execution_count": 119,
   "metadata": {},
   "outputs": [
    {
     "data": {
      "text/plain": [
       "array([-1.5857,  2.4579])"
      ]
     },
     "execution_count": 119,
     "metadata": {},
     "output_type": "execute_result"
    }
   ],
   "source": [
    "sum([c[i]*D[i] for i in range(n)])"
   ]
  },
  {
   "cell_type": "markdown",
   "metadata": {},
   "source": [
    "Or:"
   ]
  },
  {
   "cell_type": "code",
   "execution_count": 120,
   "metadata": {},
   "outputs": [
    {
     "data": {
      "text/plain": [
       "array([-1.5857,  2.4579])"
      ]
     },
     "execution_count": 120,
     "metadata": {},
     "output_type": "execute_result"
    }
   ],
   "source": [
    "D.T @ c"
   ]
  },
  {
   "cell_type": "markdown",
   "metadata": {},
   "source": [
    "`D.T` is often called the \"synthesis\" operator."
   ]
  },
  {
   "cell_type": "markdown",
   "metadata": {},
   "source": [
    "It works because:"
   ]
  },
  {
   "cell_type": "code",
   "execution_count": 121,
   "metadata": {},
   "outputs": [
    {
     "data": {
      "text/plain": [
       "array([[ 1., -0.],\n",
       "       [-0.,  1.]])"
      ]
     },
     "execution_count": 121,
     "metadata": {},
     "output_type": "execute_result"
    }
   ],
   "source": [
    "D.T @ R.T "
   ]
  },
  {
   "cell_type": "markdown",
   "metadata": {},
   "source": [
    "Conversely, we could have expanded in the dual basis:"
   ]
  },
  {
   "cell_type": "code",
   "execution_count": 122,
   "metadata": {},
   "outputs": [
    {
     "data": {
      "text/plain": [
       "array([ 0.4388,  1.8458, -0.7248,  0.3985,  1.062 ])"
      ]
     },
     "execution_count": 122,
     "metadata": {},
     "output_type": "execute_result"
    }
   ],
   "source": [
    "c = D @ point; c"
   ]
  },
  {
   "cell_type": "code",
   "execution_count": 123,
   "metadata": {},
   "outputs": [
    {
     "data": {
      "text/plain": [
       "array([-1.5857,  2.4579])"
      ]
     },
     "execution_count": 123,
     "metadata": {},
     "output_type": "execute_result"
    }
   ],
   "source": [
    "R @ c"
   ]
  },
  {
   "cell_type": "markdown",
   "metadata": {},
   "source": [
    "<hr>"
   ]
  },
  {
   "cell_type": "markdown",
   "metadata": {},
   "source": [
    "Another way of thinking about this \"recovery\" procedure: instead, we could take the pseudo-inverse of the Gram matrix. "
   ]
  },
  {
   "cell_type": "code",
   "execution_count": 124,
   "metadata": {},
   "outputs": [
    {
     "data": {
      "text/plain": [
       "array([[ 0.0461,  0.0776,  0.038 ,  0.0276,  0.0499],\n",
       "       [ 0.0776,  0.4104, -0.2105,  0.0808,  0.2324],\n",
       "       [ 0.038 , -0.2105,  0.3005, -0.0109, -0.1045],\n",
       "       [ 0.0276,  0.0808, -0.0109,  0.0208,  0.0481],\n",
       "       [ 0.0499,  0.2324, -0.1045,  0.0481,  0.1327]])"
      ]
     },
     "execution_count": 124,
     "metadata": {},
     "output_type": "execute_result"
    }
   ],
   "source": [
    "Ginv = np.linalg.pinv(G); Ginv"
   ]
  },
  {
   "cell_type": "markdown",
   "metadata": {},
   "source": [
    "If we have our frame coordinates:"
   ]
  },
  {
   "cell_type": "code",
   "execution_count": 125,
   "metadata": {},
   "outputs": [
    {
     "data": {
      "text/plain": [
       "array([1.3649, 3.1296, 0.3076, 0.9196, 1.9179])"
      ]
     },
     "execution_count": 125,
     "metadata": {},
     "output_type": "execute_result"
    }
   ],
   "source": [
    "c = R.T @ point; c"
   ]
  },
  {
   "cell_type": "markdown",
   "metadata": {},
   "source": [
    "Acting with $G^{-1}$ will give us the coordinates in the dual basis:"
   ]
  },
  {
   "cell_type": "code",
   "execution_count": 126,
   "metadata": {},
   "outputs": [
    {
     "data": {
      "text/plain": [
       "array([ 0.4388,  1.8458, -0.7248,  0.3985,  1.062 ])"
      ]
     },
     "execution_count": 126,
     "metadata": {},
     "output_type": "execute_result"
    }
   ],
   "source": [
    "Ginv @ c"
   ]
  },
  {
   "cell_type": "markdown",
   "metadata": {},
   "source": [
    "So that:"
   ]
  },
  {
   "cell_type": "code",
   "execution_count": 127,
   "metadata": {},
   "outputs": [
    {
     "data": {
      "text/plain": [
       "array([-1.5857,  2.4579])"
      ]
     },
     "execution_count": 127,
     "metadata": {},
     "output_type": "execute_result"
    }
   ],
   "source": [
    "R @ Ginv @ c"
   ]
  },
  {
   "cell_type": "markdown",
   "metadata": {},
   "source": [
    "In other words, using $G^{-1}$, we can avoid explicitly invoking the dual basis."
   ]
  },
  {
   "cell_type": "markdown",
   "metadata": {},
   "source": [
    "<hr>\n",
    "\n",
    "## Tight Frames\n",
    "\n",
    "We might consider restrictions on our frames. Different kinds of frames are useful for different purposes. \n",
    "\n",
    "For example, everyone loves tight frames. We can get one via a generalization of a polar decomposition for rectangular matrices. Starting with a random $d \\times n$ matrix $R$, we decompose as $R = UH$, where the rows of $U$ are orthonormal, and $H$ is Hermitian. Then we throw out the $H$ part."
   ]
  },
  {
   "cell_type": "code",
   "execution_count": 128,
   "metadata": {},
   "outputs": [
    {
     "data": {
      "text/plain": [
       "array([[ 0.4898,  0.1454,  0.3816,  0.7698, -0.0268],\n",
       "       [-0.6428,  0.584 ,  0.4865,  0.06  ,  0.0741]])"
      ]
     },
     "execution_count": 128,
     "metadata": {},
     "output_type": "execute_result"
    }
   ],
   "source": [
    "R = np.random.randn(d, n)\n",
    "R = sc.linalg.polar(R)[0]; R"
   ]
  },
  {
   "cell_type": "code",
   "execution_count": 129,
   "metadata": {},
   "outputs": [
    {
     "data": {
      "text/plain": [
       "array([[ 0.653 , -0.3042, -0.1258,  0.3384, -0.0607],\n",
       "       [-0.3042,  0.3623,  0.3396,  0.147 ,  0.0394],\n",
       "       [-0.1258,  0.3396,  0.3823,  0.323 ,  0.0258],\n",
       "       [ 0.3384,  0.147 ,  0.323 ,  0.5962, -0.0162],\n",
       "       [-0.0607,  0.0394,  0.0258, -0.0162,  0.0062]])"
      ]
     },
     "execution_count": 129,
     "metadata": {},
     "output_type": "execute_result"
    }
   ],
   "source": [
    "R.T @ R"
   ]
  },
  {
   "cell_type": "markdown",
   "metadata": {},
   "source": [
    "The point is that:"
   ]
  },
  {
   "cell_type": "code",
   "execution_count": 130,
   "metadata": {},
   "outputs": [
    {
     "data": {
      "text/plain": [
       "array([[1., 0.],\n",
       "       [0., 1.]])"
      ]
     },
     "execution_count": 130,
     "metadata": {},
     "output_type": "execute_result"
    }
   ],
   "source": [
    "R @ R.T"
   ]
  },
  {
   "cell_type": "markdown",
   "metadata": {},
   "source": [
    "So the frame is the same as its dual! In other words, the analysis operator is `R.T` and the synthesis operator is `R`."
   ]
  },
  {
   "cell_type": "code",
   "execution_count": 131,
   "metadata": {},
   "outputs": [
    {
     "data": {
      "text/plain": [
       "array([-1.5857,  2.4579])"
      ]
     },
     "execution_count": 131,
     "metadata": {},
     "output_type": "execute_result"
    }
   ],
   "source": [
    "point"
   ]
  },
  {
   "cell_type": "code",
   "execution_count": 132,
   "metadata": {},
   "outputs": [
    {
     "data": {
      "text/plain": [
       "array([-2.3565,  1.205 ,  0.5906, -1.0731,  0.2245])"
      ]
     },
     "execution_count": 132,
     "metadata": {},
     "output_type": "execute_result"
    }
   ],
   "source": [
    "c = R.T @ point; c"
   ]
  },
  {
   "cell_type": "code",
   "execution_count": 133,
   "metadata": {},
   "outputs": [
    {
     "data": {
      "text/plain": [
       "array([-1.5857,  2.4579])"
      ]
     },
     "execution_count": 133,
     "metadata": {},
     "output_type": "execute_result"
    }
   ],
   "source": [
    "R @ c"
   ]
  },
  {
   "cell_type": "markdown",
   "metadata": {},
   "source": [
    "More generally, any frame for which $R R^{\\dagger}$ is proportional to the identity is a \"tight frame,\" so that the dual frame is proportional to the original frame. In terms of the \"frame bounds\" from before, a tight frame means that $a=b$. And when $a=b=1$, this is known as a \"Parseval frame.\"\n",
    "\n",
    "Also, for a tight frame, the Gram matrix is a rank-$d$ projector."
   ]
  },
  {
   "cell_type": "code",
   "execution_count": 134,
   "metadata": {},
   "outputs": [
    {
     "data": {
      "text/plain": [
       "array([ 0.,  1.,  1., -0., -0.])"
      ]
     },
     "execution_count": 134,
     "metadata": {},
     "output_type": "execute_result"
    }
   ],
   "source": [
    "np.linalg.eig(R.T @ R)[0]"
   ]
  },
  {
   "cell_type": "markdown",
   "metadata": {},
   "source": [
    "<hr>"
   ]
  },
  {
   "cell_type": "markdown",
   "metadata": {},
   "source": [
    "## Unit Norm Tight Frames\n",
    "\n",
    "We might also be interested not just in tight frames, but in \"unit norm tight frames\". As the name suggests, each vector has unit norm. \n",
    "\n",
    "One easy way to get one is to alternate between \"tightening\" and \"normalizing\" our vectors until we're satisfied."
   ]
  },
  {
   "cell_type": "code",
   "execution_count": 135,
   "metadata": {},
   "outputs": [],
   "source": [
    "def random_funtf(d, n, rtol=1e-15, atol=1e-15):\n",
    "    R = np.random.randn(d, n)\n",
    "    done = False\n",
    "    while not (np.allclose(R @ R.T, (n/d)*np.eye(d), rtol=rtol, atol=atol) and\\\n",
    "               np.allclose(np.linalg.norm(R, axis=0), np.ones(n), rtol=rtol, atol=atol)):\n",
    "        R = sc.linalg.polar(R)[0]\n",
    "        R = np.array([state/np.linalg.norm(state) for state in R.T]).T\n",
    "    return R"
   ]
  },
  {
   "cell_type": "code",
   "execution_count": 136,
   "metadata": {},
   "outputs": [
    {
     "data": {
      "text/plain": [
       "array([[-0.201 , -0.7607,  0.6446,  0.7488,  0.9513],\n",
       "       [-0.9796,  0.6492, -0.7646,  0.6628,  0.3084]])"
      ]
     },
     "execution_count": 136,
     "metadata": {},
     "output_type": "execute_result"
    }
   ],
   "source": [
    "R = random_funtf(2, 5); R"
   ]
  },
  {
   "cell_type": "code",
   "execution_count": 137,
   "metadata": {},
   "outputs": [
    {
     "data": {
      "text/plain": [
       "array([[ 1.    , -0.483 ,  0.6194, -0.7998, -0.4933],\n",
       "       [-0.483 ,  1.    , -0.9866, -0.1393, -0.5234],\n",
       "       [ 0.6194, -0.9866,  1.    , -0.0241,  0.3773],\n",
       "       [-0.7998, -0.1393, -0.0241,  1.    ,  0.9167],\n",
       "       [-0.4933, -0.5234,  0.3773,  0.9167,  1.    ]])"
      ]
     },
     "execution_count": 137,
     "metadata": {},
     "output_type": "execute_result"
    }
   ],
   "source": [
    "R.T @ R"
   ]
  },
  {
   "cell_type": "code",
   "execution_count": 138,
   "metadata": {},
   "outputs": [
    {
     "data": {
      "text/plain": [
       "array([[2.5, 0. ],\n",
       "       [0. , 2.5]])"
      ]
     },
     "execution_count": 138,
     "metadata": {},
     "output_type": "execute_result"
    }
   ],
   "source": [
    "R @ R.T"
   ]
  },
  {
   "cell_type": "markdown",
   "metadata": {},
   "source": [
    "Notice that we've had to demand $RR^{\\dagger}$ to be $\\frac{n}{d} I$."
   ]
  },
  {
   "cell_type": "code",
   "execution_count": 139,
   "metadata": {},
   "outputs": [
    {
     "data": {
      "text/plain": [
       "array([-1.5857,  2.4579])"
      ]
     },
     "execution_count": 139,
     "metadata": {},
     "output_type": "execute_result"
    }
   ],
   "source": [
    "point"
   ]
  },
  {
   "cell_type": "code",
   "execution_count": 140,
   "metadata": {},
   "outputs": [
    {
     "data": {
      "text/plain": [
       "array([-2.089 ,  2.8017, -2.9013,  0.4419, -0.7503])"
      ]
     },
     "execution_count": 140,
     "metadata": {},
     "output_type": "execute_result"
    }
   ],
   "source": [
    "c = R.T @ point; c"
   ]
  },
  {
   "cell_type": "code",
   "execution_count": 141,
   "metadata": {},
   "outputs": [
    {
     "data": {
      "text/plain": [
       "array([-1.5857,  2.4579])"
      ]
     },
     "execution_count": 141,
     "metadata": {},
     "output_type": "execute_result"
    }
   ],
   "source": [
    "(d/n)*R @ c"
   ]
  },
  {
   "cell_type": "markdown",
   "metadata": {},
   "source": [
    "<hr>"
   ]
  },
  {
   "cell_type": "markdown",
   "metadata": {},
   "source": [
    "## Equiangular Frames\n",
    "\n",
    "As I say, there are many kinds of frames that people are interested in, which have various geometric and/or information theoretic properties.\n",
    "\n",
    "One of the classics of the genre are the so-called \"equiangular frames,\" which are made up of vectors which form equal angles with each other (or more properly, the absolute values of the inner products are all the same).\n",
    "\n",
    "These are great for many reasons, not least because they provide very resilient representations of data even if you should lose a few components.\n",
    "\n",
    "There are, however, geometrical restrictions on the maximum number of equiangular lines you can have in a given dimension. For example, in $d=2$, you can have a maximum of $3$ equiangular lines. \n",
    "\n",
    "The $3$ are easy to construct:"
   ]
  },
  {
   "cell_type": "code",
   "execution_count": 142,
   "metadata": {},
   "outputs": [
    {
     "data": {
      "text/plain": [
       "array([[ 1.   , -0.5  , -0.5  ],\n",
       "       [ 0.   ,  0.866, -0.866]])"
      ]
     },
     "execution_count": 142,
     "metadata": {},
     "output_type": "execute_result"
    }
   ],
   "source": [
    "R = np.array([[r.real, r.imag] for r in [np.exp(2j*np.pi*i/3) for i in range(3)]]).T; R"
   ]
  },
  {
   "cell_type": "code",
   "execution_count": 143,
   "metadata": {},
   "outputs": [
    {
     "data": {
      "text/plain": [
       "array([[ 1. , -0.5, -0.5],\n",
       "       [-0.5,  1. , -0.5],\n",
       "       [-0.5, -0.5,  1. ]])"
      ]
     },
     "execution_count": 143,
     "metadata": {},
     "output_type": "execute_result"
    }
   ],
   "source": [
    "R.T @ R"
   ]
  },
  {
   "cell_type": "code",
   "execution_count": 144,
   "metadata": {},
   "outputs": [
    {
     "data": {
      "text/plain": [
       "array([[1.5, 0. ],\n",
       "       [0. , 1.5]])"
      ]
     },
     "execution_count": 144,
     "metadata": {},
     "output_type": "execute_result"
    }
   ],
   "source": [
    "R @ R.T"
   ]
  },
  {
   "cell_type": "markdown",
   "metadata": {},
   "source": [
    "The 3 lines form the diagonals of a hexagon. \n",
    "\n",
    "<img src=\"img/hexagon.jpg\">"
   ]
  },
  {
   "cell_type": "markdown",
   "metadata": {},
   "source": [
    "<hr>\n",
    "\n",
    "In three dimensions, an equiangular frame is provided by the icosahedron, which has 20 faces and 12 vertices: its six diagonals provide the frame vectors.\n",
    "\n",
    "<img width=300 src=\"img/icosahedron.png\">"
   ]
  },
  {
   "cell_type": "code",
   "execution_count": 145,
   "metadata": {},
   "outputs": [],
   "source": [
    "def circular_shifts(v): \n",
    "    \"\"\"\n",
    "    Returns all shifted versions of a vector, e.g.:\n",
    "        [1,2,3]\n",
    "        [3,1,2]\n",
    "        [2,3,1]\n",
    "    \"\"\"\n",
    "    shifts = [v]\n",
    "    for i in range(len(v)-1):\n",
    "        u = shifts[-1][:]\n",
    "        u.insert(0, u.pop()) \n",
    "        shifts.append(u)\n",
    "    return shifts\n",
    "\n",
    "def icosahedron_frame():\n",
    "    \"\"\"\n",
    "    Returns equiangular frame based on the icosahedron in three dimensions.\n",
    "    \"\"\"\n",
    "    phi = (1+np.sqrt(5))/2 # golden ratio\n",
    "    # 12 vertices provided by circular shifts of the four vectors\n",
    "    vertices = [np.array(v) for v in \n",
    "                   circular_shifts([0, 1, phi]) + \\\n",
    "                   circular_shifts([0, -1, -phi]) + \\\n",
    "                   circular_shifts([0, 1, -phi]) + \\\n",
    "                   circular_shifts([0, -1, phi])]\n",
    "    # throw out the antipodal vectors\n",
    "    keep = []\n",
    "    for i, a in enumerate(vertices):\n",
    "        for j, b in enumerate(vertices):\n",
    "            if i != j and np.allclose(a, -b) and j not in keep:\n",
    "                keep.append(i)\n",
    "    # normalize\n",
    "    return np.array([e/np.linalg.norm(e) for i, e in enumerate(vertices) if i in keep]).T"
   ]
  },
  {
   "cell_type": "code",
   "execution_count": 146,
   "metadata": {},
   "outputs": [
    {
     "data": {
      "text/plain": [
       "array([[ 0.    ,  0.8507,  0.5257,  0.    , -0.8507,  0.5257],\n",
       "       [ 0.5257,  0.    ,  0.8507,  0.5257,  0.    , -0.8507],\n",
       "       [ 0.8507,  0.5257,  0.    , -0.8507,  0.5257,  0.    ]])"
      ]
     },
     "execution_count": 146,
     "metadata": {},
     "output_type": "execute_result"
    }
   ],
   "source": [
    "R = icosahedron_frame(); R"
   ]
  },
  {
   "cell_type": "code",
   "execution_count": 147,
   "metadata": {},
   "outputs": [
    {
     "data": {
      "text/plain": [
       "array([[ 1.    ,  0.4472,  0.4472, -0.4472,  0.4472, -0.4472],\n",
       "       [ 0.4472,  1.    ,  0.4472, -0.4472, -0.4472,  0.4472],\n",
       "       [ 0.4472,  0.4472,  1.    ,  0.4472, -0.4472, -0.4472],\n",
       "       [-0.4472, -0.4472,  0.4472,  1.    , -0.4472, -0.4472],\n",
       "       [ 0.4472, -0.4472, -0.4472, -0.4472,  1.    , -0.4472],\n",
       "       [-0.4472,  0.4472, -0.4472, -0.4472, -0.4472,  1.    ]])"
      ]
     },
     "execution_count": 147,
     "metadata": {},
     "output_type": "execute_result"
    }
   ],
   "source": [
    "R.T @ R"
   ]
  },
  {
   "cell_type": "code",
   "execution_count": 148,
   "metadata": {},
   "outputs": [
    {
     "data": {
      "text/plain": [
       "array([[2., 0., 0.],\n",
       "       [0., 2., 0.],\n",
       "       [0., 0., 2.]])"
      ]
     },
     "execution_count": 148,
     "metadata": {},
     "output_type": "execute_result"
    }
   ],
   "source": [
    "R @ R.T"
   ]
  },
  {
   "cell_type": "markdown",
   "metadata": {},
   "source": [
    "<hr>"
   ]
  },
  {
   "cell_type": "markdown",
   "metadata": {},
   "source": [
    "Check out <a href=\"examples/frame_viz.py\">frame_viz.py</a> to play around with different kinds of 2D frames! \n",
    "\n",
    "You'll be able to drag around a point in 2D. Press `c` to show standard Cartesian axes, and the projections of the point onto them. Press `f` to show the frame vectors and the projections onto them. Press `d` to show the dual vectors and the projections onto them. Press `q` to show the reconstruction of the point by a weighted sum of frame vectors (provided by the inner products with the dual vectors). Press `p` to show the reconstruction of the point by a weighted sum of dual vectors (provided by the inner products with the frame vectors).\n",
    "\n",
    "Note that to get the projections right, we need to divide frame (dual) coordinates by the norm squared of the corresponding frame (dual) vectors. \n",
    "\n",
    "Because:"
   ]
  },
  {
   "cell_type": "code",
   "execution_count": 149,
   "metadata": {},
   "outputs": [
    {
     "data": {
      "text/plain": [
       "array([[ 0.2093, -0.4849,  0.8807],\n",
       "       [ 0.2474,  0.1251, -1.4777]])"
      ]
     },
     "execution_count": 149,
     "metadata": {},
     "output_type": "execute_result"
    }
   ],
   "source": [
    "R = np.random.randn(2, 3); R"
   ]
  },
  {
   "cell_type": "code",
   "execution_count": 150,
   "metadata": {},
   "outputs": [
    {
     "data": {
      "text/plain": [
       "array([-1.5857,  2.4579])"
      ]
     },
     "execution_count": 150,
     "metadata": {},
     "output_type": "execute_result"
    }
   ],
   "source": [
    "point"
   ]
  },
  {
   "cell_type": "markdown",
   "metadata": {},
   "source": [
    "If we want to project the point onto the three frame vectors, we can use the projectors formed from the outer products $rr^{T}$, where $r$ is unit norm. This amounts to dividing by $||r||^2$."
   ]
  },
  {
   "cell_type": "code",
   "execution_count": 151,
   "metadata": {},
   "outputs": [
    {
     "data": {
      "text/plain": [
       "array([[ 0.5505,  0.6508],\n",
       "       [-2.0814,  0.5371],\n",
       "       [-1.4966,  2.511 ]])"
      ]
     },
     "execution_count": 151,
     "metadata": {},
     "output_type": "execute_result"
    }
   ],
   "source": [
    "np.array([np.outer(r/np.linalg.norm(r), r/np.linalg.norm(r))@point for r in R.T])"
   ]
  },
  {
   "cell_type": "markdown",
   "metadata": {},
   "source": [
    "Meanwhile, we have our inner products:"
   ]
  },
  {
   "cell_type": "code",
   "execution_count": 152,
   "metadata": {},
   "outputs": [
    {
     "data": {
      "text/plain": [
       "array([ 0.2762,  1.0764, -5.0286])"
      ]
     },
     "execution_count": 152,
     "metadata": {},
     "output_type": "execute_result"
    }
   ],
   "source": [
    "c = R.T @ point; c"
   ]
  },
  {
   "cell_type": "markdown",
   "metadata": {},
   "source": [
    "To recover the projections, we multiply each of the inner products by the vector, divided by the norm squared."
   ]
  },
  {
   "cell_type": "code",
   "execution_count": 153,
   "metadata": {},
   "outputs": [
    {
     "data": {
      "text/plain": [
       "array([[ 0.5505,  0.6508],\n",
       "       [-2.0814,  0.5371],\n",
       "       [-1.4966,  2.511 ]])"
      ]
     },
     "execution_count": 153,
     "metadata": {},
     "output_type": "execute_result"
    }
   ],
   "source": [
    "np.array([c[i]*R.T[i]/np.linalg.norm(R.T[i])**2 for i in range(3)])"
   ]
  },
  {
   "cell_type": "markdown",
   "metadata": {},
   "source": [
    "Finally, in the case of 2D, we have another way of visualizing things. Press `3` to check it out.\n",
    "\n",
    "We can interpret the three inner products with the frame vectors as a point in 3D. "
   ]
  },
  {
   "cell_type": "code",
   "execution_count": 154,
   "metadata": {},
   "outputs": [
    {
     "data": {
      "text/plain": [
       "array([ 0.2762,  1.0764, -5.0286])"
      ]
     },
     "execution_count": 154,
     "metadata": {},
     "output_type": "execute_result"
    }
   ],
   "source": [
    "c"
   ]
  },
  {
   "cell_type": "markdown",
   "metadata": {},
   "source": [
    "Moreover, `D` will be a $3 \\times 2$ matrix: we can interpret its 2 columns as specifying two vectors in 3D."
   ]
  },
  {
   "cell_type": "code",
   "execution_count": 155,
   "metadata": {},
   "outputs": [
    {
     "data": {
      "text/plain": [
       "array([[ 1.1956,  0.8025],\n",
       "       [-1.3979, -0.755 ],\n",
       "       [ 0.0818, -0.6063]])"
      ]
     },
     "execution_count": 155,
     "metadata": {},
     "output_type": "execute_result"
    }
   ],
   "source": [
    "D = np.linalg.pinv(R); D"
   ]
  },
  {
   "cell_type": "markdown",
   "metadata": {},
   "source": [
    "We can project our 3D point onto these two vectors:"
   ]
  },
  {
   "cell_type": "code",
   "execution_count": 156,
   "metadata": {},
   "outputs": [
    {
     "data": {
      "text/plain": [
       "[array([-0.5592,  0.6538, -0.0382]), array([ 1.2471, -1.1733, -0.9423])]"
      ]
     },
     "execution_count": 156,
     "metadata": {},
     "output_type": "execute_result"
    }
   ],
   "source": [
    "[np.outer(D.T[i], D.T[i])/np.linalg.norm(D.T[i])**2 @ c for i in range(2)]"
   ]
  },
  {
   "cell_type": "markdown",
   "metadata": {},
   "source": [
    "But this is just the same as weighting each of the two vectors by the Cartesian coordinates of the original point!"
   ]
  },
  {
   "cell_type": "code",
   "execution_count": 157,
   "metadata": {},
   "outputs": [
    {
     "data": {
      "text/plain": [
       "[array([-0.5592,  0.6538, -0.0382]), array([ 1.2471, -1.1733, -0.9423])]"
      ]
     },
     "execution_count": 157,
     "metadata": {},
     "output_type": "execute_result"
    }
   ],
   "source": [
    "[point[i]*D.T[i]/np.linalg.norm(D.T[i])**2 for i in range(2)]"
   ]
  },
  {
   "cell_type": "markdown",
   "metadata": {},
   "source": [
    "In other words, the three inner products with the frame vector specify a point in 3D. The dual basis specifies two linearly independent axes in 3D. The projection of the 3D point onto these two axes gives two coordinates: these are proportional to the original 2D point in Cartesian coordinates."
   ]
  },
  {
   "cell_type": "markdown",
   "metadata": {},
   "source": [
    "<hr>"
   ]
  },
  {
   "cell_type": "markdown",
   "metadata": {},
   "source": [
    "## RIC-POVM's\n"
   ]
  },
  {
   "cell_type": "markdown",
   "metadata": {},
   "source": [
    "Now consider that $3$ is also the dimension of the space of $2 \\times 2$ symmetric matrices. \n",
    "\n",
    "Indeed, we might be interested in this fact if we wanted to do real vector space quantum mechanics. \n",
    "\n",
    "In real quantum mechanics, pure states are given by 2D vectors $\\mid \\psi \\rangle = \\begin{pmatrix}x \\\\ y \\end{pmatrix}$ such that $x^2 + y^2 = 1$, aka points on the circle; or better yet: rank-1 density matrices: $\\mid \\psi \\rangle \\langle \\psi \\mid = \\begin{pmatrix}x^2 & xy \\\\ xy & y^2 \\end{pmatrix}$. \n",
    "\n",
    "More generally, a density matrix might be a higher rank statistical mixture. Any symmetric, positive semi-definite matrix with unit trace will do.\n",
    "\n",
    "Now here's the big reveal: it turns out that tight frames are just rank-1 POVM's in disguise. \n",
    "\n",
    "Recall that a POVM, or positive operator valued measure, is a set of positive semi-definite matrices that sum to the identity: $\\sum_{i} E_{i} = I$. Each \"element\" represents an outcome to a generalized quantum measurement that concretely involves entangling your quantum system to an apparatus (with a dimensionality equal to the number of POVM elements) and doing a standard (Von Neumann) measurement on the latter. In the case of a rank-1 POVM, the outcome states of the original sytem will correspond to the normalized POVM elements.\n",
    "\n",
    "A POVM can have any number of elements (well, I suppose at least two!): but we're interested in \"informationally complete\" POVM's, which have as many elements as the dimensions of the relevant operator space, aka the space of density matrices, which for real vector space is $\\frac{d(d+1)}{2}$. (In complex quantum mechanics, we use not symmetric matrices, but Hermitian matrices, which have $d^2$ parameters.) \n",
    "\n",
    "If we have enough elements to span the operator space, then the vector of probabilities for each outcome suffice to completely determine the quantum state. And so, among other things, we can do quantum tomography, treating pure states and mixed states on an equal footing, by repeating one measurement over and over again on many copies of a system, instead of having to do different, complementary measurements.\n",
    "\n",
    "We can upgrade a tight frame into a rank-1 POVM by taking the outer products of the vectors with themselves. (And by the way, it's not at all necessary that POVM elements be rank-1: those we'll be considering here, however, will be.) The POVM condition, as you can see, is satisfied since $RR^{\\dagger}$ amounts to $\\sum_{i} |r\\rangle\\langle r|$."
   ]
  },
  {
   "cell_type": "code",
   "execution_count": 158,
   "metadata": {},
   "outputs": [
    {
     "data": {
      "text/plain": [
       "array([[1., 0.],\n",
       "       [0., 1.]])"
      ]
     },
     "execution_count": 158,
     "metadata": {},
     "output_type": "execute_result"
    }
   ],
   "source": [
    "d, n = 2, 3\n",
    "R = sc.linalg.polar(np.random.randn(d, n))[0]\n",
    "R @ R.T"
   ]
  },
  {
   "cell_type": "code",
   "execution_count": 159,
   "metadata": {},
   "outputs": [
    {
     "data": {
      "text/plain": [
       "array([[1., 0.],\n",
       "       [0., 1.]])"
      ]
     },
     "execution_count": 159,
     "metadata": {},
     "output_type": "execute_result"
    }
   ],
   "source": [
    "E = [np.outer(r, r) for r in R.T]\n",
    "sum(E)"
   ]
  },
  {
   "cell_type": "markdown",
   "metadata": {},
   "source": [
    "Given a random density matrix:"
   ]
  },
  {
   "cell_type": "code",
   "execution_count": 160,
   "metadata": {},
   "outputs": [
    {
     "data": {
      "text/plain": [
       "array([[0.7393, 0.4366],\n",
       "       [0.4366, 0.2607]])"
      ]
     },
     "execution_count": 160,
     "metadata": {},
     "output_type": "execute_result"
    }
   ],
   "source": [
    "def rand_dm(d, n=2):\n",
    "    # n controls the degree of mixedness\n",
    "    A = np.random.randn(d, n)\n",
    "    rho = A @ A.T\n",
    "    return rho/rho.trace()\n",
    "\n",
    "rho = rand_dm(2); rho"
   ]
  },
  {
   "cell_type": "markdown",
   "metadata": {},
   "source": [
    "We can expand it in terms of POVM elements:"
   ]
  },
  {
   "cell_type": "code",
   "execution_count": 161,
   "metadata": {},
   "outputs": [
    {
     "data": {
      "text/plain": [
       "array([0.143, 0.776, 0.081])"
      ]
     },
     "execution_count": 161,
     "metadata": {},
     "output_type": "execute_result"
    }
   ],
   "source": [
    "p = np.array([(e @ rho).trace() for e in E]); p"
   ]
  },
  {
   "cell_type": "code",
   "execution_count": 162,
   "metadata": {},
   "outputs": [
    {
     "data": {
      "text/plain": [
       "1.0000000000000002"
      ]
     },
     "execution_count": 162,
     "metadata": {},
     "output_type": "execute_result"
    }
   ],
   "source": [
    "sum(p)"
   ]
  },
  {
   "cell_type": "markdown",
   "metadata": {},
   "source": [
    "The components sum to 1: they are the probabilities for the outcomes to this experiment. \n",
    "\n",
    "<hr>\n",
    "\n",
    "Now how do we get the density matrix back? The dual basis, of course! But how do we find it?\n",
    "\n",
    "Given a matrix $A$, denote by $|A\\rangle \\rangle$ the vector you get by reshaping the matrix into a vector. \n",
    "\n",
    "(If you want to be fancy, you can think of this like $\\sum_{i} (A \\otimes I)\\mid i \\rangle\\mid i \\rangle$, or as $A$ acting on the left on the maximally entangled \"cup\" state on the doubled Hilbert space, $H_{d} \\otimes H_{d}$).\n",
    "\n",
    "Then form the \"(operator) frame operator\":\n",
    "\n",
    "$F = \\sum_{i} \\mid E_{i} \\rangle \\rangle \\langle \\langle E_{i} \\mid$\n",
    "\n",
    "Next, take its (pseudo) inverse. Finally, $F^{-1}\\mid E_{i}\\rangle \\rangle = \\mid \\tilde{E}_{i} \\rangle \\rangle$, where $\\tilde{E}$ is the dual basis. "
   ]
  },
  {
   "cell_type": "code",
   "execution_count": 163,
   "metadata": {},
   "outputs": [],
   "source": [
    "F = sum([np.outer(e.reshape(d**2), e.reshape(d**2)) for e in E])\n",
    "Finv = np.linalg.pinv(F)\n",
    "D = [(Finv @ e.reshape(d**2)).reshape(d,d) for e in E]"
   ]
  },
  {
   "cell_type": "markdown",
   "metadata": {},
   "source": [
    "Then, we can recover the original density matrix by weighting the elements of the dual basis by the probabilities and summing:"
   ]
  },
  {
   "cell_type": "code",
   "execution_count": 164,
   "metadata": {},
   "outputs": [
    {
     "data": {
      "text/plain": [
       "array([[0.7393, 0.4366],\n",
       "       [0.4366, 0.2607]])"
      ]
     },
     "execution_count": 164,
     "metadata": {},
     "output_type": "execute_result"
    }
   ],
   "source": [
    "rho"
   ]
  },
  {
   "cell_type": "code",
   "execution_count": 165,
   "metadata": {},
   "outputs": [
    {
     "data": {
      "text/plain": [
       "array([[0.7393, 0.4366],\n",
       "       [0.4366, 0.2607]])"
      ]
     },
     "execution_count": 165,
     "metadata": {},
     "output_type": "execute_result"
    }
   ],
   "source": [
    "sum([p[i]*D[i] for i in range(n)])"
   ]
  },
  {
   "cell_type": "markdown",
   "metadata": {},
   "source": [
    "Conversely, we could expand in dual elements:"
   ]
  },
  {
   "cell_type": "code",
   "execution_count": 166,
   "metadata": {},
   "outputs": [
    {
     "data": {
      "text/plain": [
       "array([ 4.1493,  0.5355, -0.1605])"
      ]
     },
     "execution_count": 166,
     "metadata": {},
     "output_type": "execute_result"
    }
   ],
   "source": [
    "q = np.array([(e @ rho).trace() for e in D]); q"
   ]
  },
  {
   "cell_type": "markdown",
   "metadata": {},
   "source": [
    "And recover the original density matrix by weighting POVM elements and summing"
   ]
  },
  {
   "cell_type": "code",
   "execution_count": 167,
   "metadata": {},
   "outputs": [
    {
     "data": {
      "text/plain": [
       "array([[0.7393, 0.4366],\n",
       "       [0.4366, 0.2607]])"
      ]
     },
     "execution_count": 167,
     "metadata": {},
     "output_type": "execute_result"
    }
   ],
   "source": [
    "sum([q[i]*E[i] for i in range(n)])"
   ]
  },
  {
   "cell_type": "markdown",
   "metadata": {},
   "source": [
    "By the way, the dual basis of an informationally complete POVM <a href=\"https://physics.stackexchange.com/questions/588467/dual-of-ic-povm-cannot-be-positive\">doesn't form a POVM itself</a>. Indeed, its elements must be indefinite!"
   ]
  },
  {
   "cell_type": "markdown",
   "metadata": {},
   "source": [
    "<hr>"
   ]
  },
  {
   "cell_type": "markdown",
   "metadata": {},
   "source": [
    "Alternatively, instead of working with the dual basis directly, we could play a similar trick from before. \n",
    "\n",
    "Instead of taking $G^{-1}$, now we take $(G \\circ G )^{-1}$ where $\\circ$ is the Hadamard (element-wise) square. Instead of expanding in the dual basis, we can act with $(G \\circ G )^{-1}$ on the vector of probabilities to get the proper weights for POVM elements required to recover $\\rho$."
   ]
  },
  {
   "cell_type": "code",
   "execution_count": 168,
   "metadata": {},
   "outputs": [
    {
     "data": {
      "text/plain": [
       "array([[0.7393, 0.4366],\n",
       "       [0.4366, 0.2607]])"
      ]
     },
     "execution_count": 168,
     "metadata": {},
     "output_type": "execute_result"
    }
   ],
   "source": [
    "rho"
   ]
  },
  {
   "cell_type": "code",
   "execution_count": 169,
   "metadata": {},
   "outputs": [
    {
     "data": {
      "text/plain": [
       "array([0.143, 0.776, 0.081])"
      ]
     },
     "execution_count": 169,
     "metadata": {},
     "output_type": "execute_result"
    }
   ],
   "source": [
    "p"
   ]
  },
  {
   "cell_type": "code",
   "execution_count": 170,
   "metadata": {},
   "outputs": [],
   "source": [
    "G = R.T @ R\n",
    "Gsq_inv = np.linalg.inv(G**2)"
   ]
  },
  {
   "cell_type": "code",
   "execution_count": 171,
   "metadata": {},
   "outputs": [
    {
     "data": {
      "text/plain": [
       "array([ 4.1493,  0.5355, -0.1605])"
      ]
     },
     "execution_count": 171,
     "metadata": {},
     "output_type": "execute_result"
    }
   ],
   "source": [
    "q = Gsq_inv @ p; q"
   ]
  },
  {
   "cell_type": "markdown",
   "metadata": {},
   "source": [
    "We can now get our density matrix back:"
   ]
  },
  {
   "cell_type": "code",
   "execution_count": 172,
   "metadata": {},
   "outputs": [
    {
     "data": {
      "text/plain": [
       "array([[0.7393, 0.4366],\n",
       "       [0.4366, 0.2607]])"
      ]
     },
     "execution_count": 172,
     "metadata": {},
     "output_type": "execute_result"
    }
   ],
   "source": [
    "sum([q[i]*E[i] for i in range(n)])"
   ]
  },
  {
   "cell_type": "markdown",
   "metadata": {},
   "source": [
    "<hr>\n",
    "\n",
    "But we can do a little bit more, which will prove useful.\n",
    "\n",
    "We could form a matrix of conditional probabilities supposing we repeat our POVM twice. In other words, a matrix of conditional probabilities: \n",
    "\n",
    "$$ Pr(E_{i}|E_{j}) = tr(E_{i}\\frac{E_{j}}{tr(E_{j})})$$\n",
    "\n",
    "After the first measurement, we end up in some $\\frac{E_{j}}{tr(E_{j})}$, and then we look at the probabilities that we get some $E_{i}$.\n"
   ]
  },
  {
   "cell_type": "code",
   "execution_count": 173,
   "metadata": {},
   "outputs": [
    {
     "data": {
      "text/plain": [
       "array([[0.1609, 0.0912, 0.0562],\n",
       "       [0.5115, 0.9019, 0.0066],\n",
       "       [0.3276, 0.0068, 0.9372]])"
      ]
     },
     "execution_count": 173,
     "metadata": {},
     "output_type": "execute_result"
    }
   ],
   "source": [
    "E_given_E = np.array([[(E[i]@(E[j]/E[j].trace())).trace() for j in range(n)] for i in range(n)]); E_given_E"
   ]
  },
  {
   "cell_type": "markdown",
   "metadata": {},
   "source": [
    "Notice that this related to $(G \\circ G )$, except for the fact that we divide by $tr(E_{j})$. \n",
    "\n",
    "We can take its inverse to obtain the \"Born matrix\" $\\Phi$:"
   ]
  },
  {
   "cell_type": "code",
   "execution_count": 174,
   "metadata": {},
   "outputs": [
    {
     "data": {
      "text/plain": [
       "array([[11.1201, -1.1198, -0.6594],\n",
       "       [-6.2784,  1.741 ,  0.3645],\n",
       "       [-3.8416,  0.3788,  1.2949]])"
      ]
     },
     "execution_count": 174,
     "metadata": {},
     "output_type": "execute_result"
    }
   ],
   "source": [
    "phi = np.linalg.inv(E_given_E); phi"
   ]
  },
  {
   "cell_type": "markdown",
   "metadata": {},
   "source": [
    "What's the point? If we take our density matrix:"
   ]
  },
  {
   "cell_type": "code",
   "execution_count": 175,
   "metadata": {},
   "outputs": [
    {
     "data": {
      "text/plain": [
       "array([[0.7393, 0.4366],\n",
       "       [0.4366, 0.2607]])"
      ]
     },
     "execution_count": 175,
     "metadata": {},
     "output_type": "execute_result"
    }
   ],
   "source": [
    "rho"
   ]
  },
  {
   "cell_type": "markdown",
   "metadata": {},
   "source": [
    "And its probabilities:"
   ]
  },
  {
   "cell_type": "code",
   "execution_count": 176,
   "metadata": {},
   "outputs": [
    {
     "data": {
      "text/plain": [
       "array([0.143, 0.776, 0.081])"
      ]
     },
     "execution_count": 176,
     "metadata": {},
     "output_type": "execute_result"
    }
   ],
   "source": [
    "p"
   ]
  },
  {
   "cell_type": "markdown",
   "metadata": {},
   "source": [
    "Then we can form:"
   ]
  },
  {
   "cell_type": "code",
   "execution_count": 177,
   "metadata": {},
   "outputs": [
    {
     "data": {
      "text/plain": [
       "array([ 0.6675,  0.483 , -0.1504])"
      ]
     },
     "execution_count": 177,
     "metadata": {},
     "output_type": "execute_result"
    }
   ],
   "source": [
    "q = phi @ p; q"
   ]
  },
  {
   "cell_type": "code",
   "execution_count": 178,
   "metadata": {},
   "outputs": [
    {
     "data": {
      "text/plain": [
       "1.0000000000000004"
      ]
     },
     "execution_count": 178,
     "metadata": {},
     "output_type": "execute_result"
    }
   ],
   "source": [
    "sum(q)"
   ]
  },
  {
   "cell_type": "markdown",
   "metadata": {},
   "source": [
    "This is nice, because by acting on our vector of probabilities with $\\Phi$, we get back a vector of *quasi-probabilities*: while the components might be negative, they nevertheless sum to 1. And this will prove to be useful.\n",
    "\n",
    "We can then get our density matrix back by summing over normalized elements of our POVM, weighted by the quasi-probabilities."
   ]
  },
  {
   "cell_type": "code",
   "execution_count": 179,
   "metadata": {},
   "outputs": [
    {
     "data": {
      "text/plain": [
       "array([[0.7393, 0.4366],\n",
       "       [0.4366, 0.2607]])"
      ]
     },
     "execution_count": 179,
     "metadata": {},
     "output_type": "execute_result"
    }
   ],
   "source": [
    "sum([q[i]*E[i]/E[i].trace() for i in range(n)])"
   ]
  },
  {
   "cell_type": "markdown",
   "metadata": {},
   "source": [
    "Moreover, we can also obtain this matrix $\\Phi$ from the dual elements. Actually, it's nicer to renormalize the dual elements first so that they have the same weights as the POVM elements."
   ]
  },
  {
   "cell_type": "code",
   "execution_count": 180,
   "metadata": {},
   "outputs": [
    {
     "data": {
      "text/plain": [
       "array([[ 1.,  0.],\n",
       "       [-0.,  1.]])"
      ]
     },
     "execution_count": 180,
     "metadata": {},
     "output_type": "execute_result"
    }
   ],
   "source": [
    "D = [E[i].trace()*D[i] for i in range(n)]\n",
    "sum(D)"
   ]
  },
  {
   "cell_type": "code",
   "execution_count": 181,
   "metadata": {
    "scrolled": true
   },
   "outputs": [
    {
     "data": {
      "text/plain": [
       "array([[11.1201, -1.1198, -0.6594],\n",
       "       [-6.2784,  1.741 ,  0.3645],\n",
       "       [-3.8416,  0.3788,  1.2949]])"
      ]
     },
     "execution_count": 181,
     "metadata": {},
     "output_type": "execute_result"
    }
   ],
   "source": [
    "D_given_D = np.array([[(D[i]@(D[j]/D[j].trace())).trace() for j in range(n)] for i in range(n)]); D_given_D"
   ]
  },
  {
   "cell_type": "markdown",
   "metadata": {},
   "source": [
    "Expanding in renormalized dual elements gives us our quasiprobabilities:"
   ]
  },
  {
   "cell_type": "code",
   "execution_count": 182,
   "metadata": {},
   "outputs": [
    {
     "data": {
      "text/plain": [
       "array([ 0.6675,  0.483 , -0.1504])"
      ]
     },
     "execution_count": 182,
     "metadata": {},
     "output_type": "execute_result"
    }
   ],
   "source": [
    "q = np.array([(d @ rho).trace() for d in D]); q"
   ]
  },
  {
   "cell_type": "markdown",
   "metadata": {},
   "source": [
    "And as before:"
   ]
  },
  {
   "cell_type": "code",
   "execution_count": 183,
   "metadata": {
    "scrolled": true
   },
   "outputs": [
    {
     "data": {
      "text/plain": [
       "array([[0.7393, 0.4366],\n",
       "       [0.4366, 0.2607]])"
      ]
     },
     "execution_count": 183,
     "metadata": {},
     "output_type": "execute_result"
    }
   ],
   "source": [
    "sum([q[i]*E[i]/E[i].trace() for i in range(n)])"
   ]
  },
  {
   "cell_type": "markdown",
   "metadata": {},
   "source": [
    "And symmetrically:"
   ]
  },
  {
   "cell_type": "code",
   "execution_count": 184,
   "metadata": {},
   "outputs": [
    {
     "data": {
      "text/plain": [
       "array([[0.7393, 0.4366],\n",
       "       [0.4366, 0.2607]])"
      ]
     },
     "execution_count": 184,
     "metadata": {},
     "output_type": "execute_result"
    }
   ],
   "source": [
    "sum([p[i]*D[i]/D[i].trace() for i in range(n)])"
   ]
  },
  {
   "cell_type": "markdown",
   "metadata": {},
   "source": [
    "<hr>"
   ]
  },
  {
   "cell_type": "markdown",
   "metadata": {},
   "source": [
    "## Deforming the Law of Total Probability\n",
    "\n",
    "Okay, but why should we care?\n",
    "\n",
    "We're going to consider two measurements on our quantum system, $A$ and $B$, where $A$ is an IC-POVM, and $B$ could be a standard Von Neumann measurement or a POVM, doesn't matter. Let's say it's an IC-POVM."
   ]
  },
  {
   "cell_type": "code",
   "execution_count": 185,
   "metadata": {},
   "outputs": [],
   "source": [
    "d, n = 2, 3\n",
    "A = [np.outer(r, r) for r in sc.linalg.polar(np.random.randn(d, n))[0].T]\n",
    "B = [np.outer(r, r) for r in sc.linalg.polar(np.random.randn(d, n))[0].T]"
   ]
  },
  {
   "cell_type": "code",
   "execution_count": 186,
   "metadata": {},
   "outputs": [
    {
     "data": {
      "text/plain": [
       "array([[0.7393, 0.4366],\n",
       "       [0.4366, 0.2607]])"
      ]
     },
     "execution_count": 186,
     "metadata": {},
     "output_type": "execute_result"
    }
   ],
   "source": [
    "rho"
   ]
  },
  {
   "cell_type": "markdown",
   "metadata": {},
   "source": [
    "We can of course nail down our quantum state by its probabilities on measurement $A$."
   ]
  },
  {
   "cell_type": "code",
   "execution_count": 187,
   "metadata": {},
   "outputs": [
    {
     "data": {
      "text/plain": [
       "array([0.1037, 0.0005, 0.8958])"
      ]
     },
     "execution_count": 187,
     "metadata": {},
     "output_type": "execute_result"
    }
   ],
   "source": [
    "p_A = np.array([(a @ rho).trace() for a in A]); p_A"
   ]
  },
  {
   "cell_type": "markdown",
   "metadata": {},
   "source": [
    "Now we're going to compare two sequences of events.\n",
    "\n",
    "First: we measure $A$, and then measure $B$. Before we look at the outcome for $A$, however, what probabilities should we assign to the outcomes of $B$?\n",
    "\n",
    "To figure this out, we could use a matrix of conditional probabilities:"
   ]
  },
  {
   "cell_type": "code",
   "execution_count": 188,
   "metadata": {},
   "outputs": [
    {
     "data": {
      "text/plain": [
       "array([[0.9642, 0.9582, 0.0177],\n",
       "       [0.0001, 0.0083, 0.0489],\n",
       "       [0.0358, 0.0335, 0.9335]])"
      ]
     },
     "execution_count": 188,
     "metadata": {},
     "output_type": "execute_result"
    }
   ],
   "source": [
    "B_given_A = np.array([[(b@a/a.trace()).trace() for a in A] for b in B]); B_given_A"
   ]
  },
  {
   "cell_type": "markdown",
   "metadata": {},
   "source": [
    "These are the conditional probabilities for each of $B$'s outcomes, given each outcome state of $A$. This gives us conditional probabilities $Pr(B_{i}|A_{j})$. \n",
    "\n",
    "We end up with a column stochastic matrix:"
   ]
  },
  {
   "cell_type": "code",
   "execution_count": 189,
   "metadata": {},
   "outputs": [
    {
     "data": {
      "text/plain": [
       "array([1., 1., 1.])"
      ]
     },
     "execution_count": 189,
     "metadata": {},
     "output_type": "execute_result"
    }
   ],
   "source": [
    "np.sum(B_given_A, axis=0)"
   ]
  },
  {
   "cell_type": "markdown",
   "metadata": {},
   "source": [
    "We can then use the law of total probability: $Pr(B_{i}) = \\sum_{j} Pr(B_{i}|A_{j}) Pr(A_{j})$."
   ]
  },
  {
   "cell_type": "code",
   "execution_count": 190,
   "metadata": {},
   "outputs": [
    {
     "data": {
      "text/plain": [
       "array([0.1163, 0.0438, 0.8399])"
      ]
     },
     "execution_count": 190,
     "metadata": {},
     "output_type": "execute_result"
    }
   ],
   "source": [
    "p_AB = B_given_A @ p_A; p_AB"
   ]
  },
  {
   "cell_type": "code",
   "execution_count": 191,
   "metadata": {},
   "outputs": [
    {
     "data": {
      "text/plain": [
       "1.0"
      ]
     },
     "execution_count": 191,
     "metadata": {},
     "output_type": "execute_result"
    }
   ],
   "source": [
    "sum(p_AB)"
   ]
  },
  {
   "cell_type": "markdown",
   "metadata": {},
   "source": [
    "We can check this. After the measurement of $A$, we should regard our system's state as a statistical mixture of $A$'s outcomes, weighted by the probability of their occurance:"
   ]
  },
  {
   "cell_type": "code",
   "execution_count": 192,
   "metadata": {},
   "outputs": [
    {
     "data": {
      "text/plain": [
       "array([[0.8505, 0.1846],\n",
       "       [0.1846, 0.1495]])"
      ]
     },
     "execution_count": 192,
     "metadata": {},
     "output_type": "execute_result"
    }
   ],
   "source": [
    "rho_post_A = sum([p_A[i]*a/a.trace() for i, a in enumerate(A)]); rho_post_A"
   ]
  },
  {
   "cell_type": "markdown",
   "metadata": {},
   "source": [
    "We can then get the $B$ probabilities for this density matrix by taking inner products with $B$'s elements."
   ]
  },
  {
   "cell_type": "code",
   "execution_count": 193,
   "metadata": {},
   "outputs": [
    {
     "data": {
      "text/plain": [
       "array([0.1163, 0.0438, 0.8399])"
      ]
     },
     "execution_count": 193,
     "metadata": {},
     "output_type": "execute_result"
    }
   ],
   "source": [
    "p_AB2 = np.array([(b @ rho_post_A).trace() for b in B]); p_AB2"
   ]
  },
  {
   "cell_type": "code",
   "execution_count": 194,
   "metadata": {},
   "outputs": [
    {
     "data": {
      "text/plain": [
       "1.0"
      ]
     },
     "execution_count": 194,
     "metadata": {},
     "output_type": "execute_result"
    }
   ],
   "source": [
    "sum(p_AB2)"
   ]
  },
  {
   "cell_type": "markdown",
   "metadata": {},
   "source": [
    "We get the same probabilities. \n",
    "\n",
    "<hr>\n",
    "\n",
    "To recap: we did measurement of $A$, but didn't look at the answer. We just wanted the probabilities for the future measurement $B$. So we used the law of total probability: $p(B_{i}) = \\sum_{j} p(B_{i}|A_{j}) p(A_{j})$.\n",
    "\n",
    "Okay. \n",
    "\n",
    "The second experiment is that we leave $A$ hypothetical, but instead just do the $B$ measurement. We know what the answer should be: we just expand in terms of $B$."
   ]
  },
  {
   "cell_type": "code",
   "execution_count": 195,
   "metadata": {},
   "outputs": [
    {
     "data": {
      "text/plain": [
       "array([0.0289, 0.0421, 0.9289])"
      ]
     },
     "execution_count": 195,
     "metadata": {},
     "output_type": "execute_result"
    }
   ],
   "source": [
    "p_B = np.array([(b @ rho).trace() for b in B]); p_B"
   ]
  },
  {
   "cell_type": "markdown",
   "metadata": {},
   "source": [
    "But since our probabilities on $A$ completely nail down the state, there ought to be a way of getting these latter probabilities in terms of them...\n",
    "\n",
    "It's easy! We simply form the \"Born matrix\" $\\Phi$ from before:"
   ]
  },
  {
   "cell_type": "code",
   "execution_count": 196,
   "metadata": {},
   "outputs": [],
   "source": [
    "phi = np.linalg.inv([[(a1 @ a0/a0.trace()).trace() for a0 in A] for a1 in A])"
   ]
  },
  {
   "cell_type": "markdown",
   "metadata": {},
   "source": [
    "And instead of doing:"
   ]
  },
  {
   "cell_type": "code",
   "execution_count": 197,
   "metadata": {},
   "outputs": [
    {
     "data": {
      "text/plain": [
       "array([0.1163, 0.0438, 0.8399])"
      ]
     },
     "execution_count": 197,
     "metadata": {},
     "output_type": "execute_result"
    }
   ],
   "source": [
    "B_given_A @ p_A "
   ]
  },
  {
   "cell_type": "markdown",
   "metadata": {},
   "source": [
    "We do:"
   ]
  },
  {
   "cell_type": "code",
   "execution_count": 198,
   "metadata": {},
   "outputs": [
    {
     "data": {
      "text/plain": [
       "array([0.0289, 0.0421, 0.9289])"
      ]
     },
     "execution_count": 198,
     "metadata": {},
     "output_type": "execute_result"
    }
   ],
   "source": [
    "B_given_A @ phi @ p_A "
   ]
  },
  {
   "cell_type": "markdown",
   "metadata": {},
   "source": [
    "Hence the name the \"Born matrix\": it allows us to recover the Born rule. Notice how everything is still formulated in terms of a) the conditional probability matrix for B's outcomes given A's outcomes, and b) the probability vector for A's outcomes. \n",
    "\n",
    "One can now see the usefulness of:"
   ]
  },
  {
   "cell_type": "code",
   "execution_count": 199,
   "metadata": {},
   "outputs": [
    {
     "data": {
      "text/plain": [
       "array([ 0.7857, -0.7786,  0.993 ])"
      ]
     },
     "execution_count": 199,
     "metadata": {},
     "output_type": "execute_result"
    }
   ],
   "source": [
    "q = phi @ p_A; q"
   ]
  },
  {
   "cell_type": "code",
   "execution_count": 200,
   "metadata": {},
   "outputs": [
    {
     "data": {
      "text/plain": [
       "0.9999999999999999"
      ]
     },
     "execution_count": 200,
     "metadata": {},
     "output_type": "execute_result"
    }
   ],
   "source": [
    "sum(q)"
   ]
  },
  {
   "cell_type": "markdown",
   "metadata": {},
   "source": [
    "The fact that $\\Phi$ takes us to quasiprobabilities makes sure we play nicely with the conditional probability matrix."
   ]
  },
  {
   "cell_type": "markdown",
   "metadata": {},
   "source": [
    "Another way of thinking about this is to form a \"conditional quasiprobability matrix\":\n",
    "\n",
    "$$ Qr(B_{i}|\\tilde{A}_{j}) = tr(B_{i}\\frac{\\tilde{A}_{j}}{tr(\\tilde{A}_{j})})$$\n"
   ]
  },
  {
   "cell_type": "code",
   "execution_count": 201,
   "metadata": {},
   "outputs": [
    {
     "data": {
      "text/plain": [
       "array([[ 0.5994,  3.6002, -0.039 ],\n",
       "       [-0.0122,  0.0873,  0.0484],\n",
       "       [ 0.4128, -2.6875,  0.9906]])"
      ]
     },
     "execution_count": 201,
     "metadata": {},
     "output_type": "execute_result"
    }
   ],
   "source": [
    "FA = sum([np.outer(e.reshape(d**2), e.reshape(d**2)) for e in A])\n",
    "FAinv = np.linalg.pinv(FA)\n",
    "DA = [e.trace()*(FAinv @ e.reshape(d**2)).reshape(d,d) for e in A]\n",
    "B_given_DA = np.array([[(B[i]@(DA[j]/DA[j].trace())).trace() for j in range(n)] for i in range(n)]); B_given_DA"
   ]
  },
  {
   "cell_type": "markdown",
   "metadata": {},
   "source": [
    "Then:"
   ]
  },
  {
   "cell_type": "code",
   "execution_count": 202,
   "metadata": {},
   "outputs": [
    {
     "data": {
      "text/plain": [
       "array([0.0289, 0.0421, 0.9289])"
      ]
     },
     "execution_count": 202,
     "metadata": {},
     "output_type": "execute_result"
    }
   ],
   "source": [
    "B_given_DA @ p_A"
   ]
  },
  {
   "cell_type": "markdown",
   "metadata": {},
   "source": [
    "Indeed:"
   ]
  },
  {
   "cell_type": "code",
   "execution_count": 203,
   "metadata": {},
   "outputs": [
    {
     "data": {
      "text/plain": [
       "True"
      ]
     },
     "execution_count": 203,
     "metadata": {},
     "output_type": "execute_result"
    }
   ],
   "source": [
    "np.allclose(B_given_DA, B_given_A@phi)"
   ]
  },
  {
   "cell_type": "markdown",
   "metadata": {},
   "source": [
    "Perhaps more concretely:\n",
    "\n",
    "If we perform POVM $A$, then:\n",
    "\n",
    "$$ \\rho \\rightarrow \\rho^{\\prime} = \\sum_{i} Pr(A_{i}|\\rho)\\frac{A_{i}}{tr(A_{i})}$$\n",
    "\n",
    "If we *don't* perform POVM $A$, then:\n",
    "\n",
    "$$ \\rho \\rightarrow \\sum_{i} Pr(A_{i}|\\rho)\\frac{\\tilde{A}_{i}}{tr(\\tilde{A}_{i})}$$\n",
    "\n",
    "Which is just $\\rho$! \n",
    "\n",
    "If we perform POVM $A$, and then POVM $B$:\n",
    "\n",
    "$$ \\rho \\rightarrow \\sum_{i} \\Big{(} \\sum_{j} Pr(B_{i}|A_{j}) Pr(A_{j}|\\rho) \\Big{)} \\frac{B_{i}}{tr(B_{i})} = \\sum_{i} Pr(B_{i}|\\rho^{\\prime}) \\frac{B_{i}}{tr(B_{i})}$$\n",
    "\n",
    "If we *don't* perform POVM $A$, and then do perform POVM $B$:\n",
    "\n",
    "$$ \\rho \\rightarrow  \\sum_{i} \\big{(} \\sum_{j} Qr(B_{i}|\\tilde{A}_{j}) Pr(A_{j}|\\rho) \\big{)} \\frac{B_{i}}{tr(B_{i})} =  \\sum_{i} Pr(B_{i}|\\rho)  \\frac{B_{i}}{tr(B_{i})} $$\n",
    "\n",
    "And if we did neither:\n",
    "\n",
    "$$ \\rho \\rightarrow  \\sum_{i} \\big{(} \\sum_{j} Qr(B_{i}|\\tilde{A}_{j}) Pr(A_{j}|\\rho) \\big{)} \\frac{\\tilde{B}_{i}}{tr(\\tilde{B}_{i})} =  \\sum_{i} Pr(B_{i}|\\rho)  \\frac{\\tilde{B}_{i}}{tr(\\tilde{B}_{i})} $$\n",
    "\n",
    "Which is just $\\rho$!\n"
   ]
  },
  {
   "cell_type": "markdown",
   "metadata": {},
   "source": [
    "<hr>\n",
    "\n",
    "## Quantumness \n",
    "\n",
    "So in the first case, we did $A$, and afterwards we described our system as a mixed state of A's outcomes, weighted by the probability of them happening. No \"coherence\" between outcomes: there's just \"classical ignorance.\" And we used the old school law of total probability to get the probabilities for the outcomes of $B$.\n",
    "\n",
    "In the second case, we didn't do $A$: and so \"quantum coherence\" was preserved. But we could still get the probabilities for a $B$ measurement from the probabilities of the (hypothetical) $A$ measurement.\n",
    "\n",
    "One way of thinking of this is that quantum mechanics encourages us to modify the law of total probability. Classically speaking, we could use the law of total probability whether or not we did an intermediate measurement of $A$ before $B$. But quantum mechanically, it matters. If we don't do $A$, we have to stick the Born matrix $\\Phi$ in between the conditional probability matrix and the probability vector. In matrix notation, instead of $\\vec{Pr(B_{i})} = \\hat{Pr(B_{i}|A_{j})}\\vec{Pr(A_{j})}$, we have $\\vec{Pr(B_{i})} = \\hat{Pr(B_{i}|A_{j})}\\hat{\\Phi}\\vec{Pr(A_{j})}$.\n",
    "\n",
    "Now, if $\\Phi$ were the identity, then there would be no difference, as it were, between classical and quantum. No coherence, everything having \"objective properties,\" law of total probability always valid, etc. The lesson of quantum mechanics is that: $\\Phi$ is not the identity.\n",
    "\n",
    "So you might wonder: what measurements are associated with a $\\Phi$ such that $\\Phi$ is *as close to the identity as possible*?\n",
    "\n",
    "With this in mind, we form a quantity we'll call \"quantumness\": $Q = ||\\Phi - I||$."
   ]
  },
  {
   "cell_type": "code",
   "execution_count": 204,
   "metadata": {},
   "outputs": [],
   "source": [
    "def quantumness(E):\n",
    "    phi = np.linalg.inv([[(e1@e0/e0.trace()).trace() for e0 in E] for e1 in E])\n",
    "    return np.linalg.norm(phi - np.eye(len(E)))"
   ]
  },
  {
   "cell_type": "code",
   "execution_count": 205,
   "metadata": {},
   "outputs": [
    {
     "data": {
      "text/plain": [
       "(37.01558922121932, 273.4549974104693)"
      ]
     },
     "execution_count": 205,
     "metadata": {},
     "output_type": "execute_result"
    }
   ],
   "source": [
    "quantumness(A), quantumness(B)"
   ]
  },
  {
   "cell_type": "markdown",
   "metadata": {},
   "source": [
    "This quantity diagnoses the extent to which the law of total probability is deformed.\n"
   ]
  },
  {
   "cell_type": "markdown",
   "metadata": {},
   "source": [
    "Now it's known that SIC-POVM's aka \"symmetrically informationally complete POVM's,\" which correspond to equiangular lines, minimize quantumness. And in fact, the proof that they do so doesn't depend on the particulars of which norm you choose to measure the difference between $\\Phi$ and the identity. \n",
    "\n",
    "In other words, and it makes sense, SIC-POVM's, whose elements all make the same angle with each other, have $\\Phi$ matrices as close to the identity as possible. They are the quantum measurements that are \"irreducibly quantum.\"\n",
    "\n",
    "Now much of the study of SIC-POVM's takes place in the context of *real* quantum mechanics, I mean, complex vector space quantum mechanics. In this case, SIC-POVM's would correspond to *complex equiangular lines*, which are a bit more difficult to visualize. And to span the space of density matrices, you'd need $d^2$ of them for dimension $d$.\n",
    "\n",
    "For example, in the case of $d=2$, the four elements of a SIC-POVM make up the vertices of a regular tetrahedron on the Bloch sphere. \n",
    "\n",
    "It's been conjectured, and widely believed, on the basis of a great deal of theoretical and computational effort, that SIC-POVM's exist in all complex dimensions. And conditional on this being true, then we know the irreducibly quantum measurements in any dimension: they are the SIC's.\n",
    "\n",
    "<hr>\n",
    "\n",
    "Here's the thing, though. \n",
    "\n",
    "As I've said: in real quantum mechanics, RIC-POVM's (real informationally complete POVM's) require $n=\\frac{d(d+1)}{2}$ elements. As we've seen, this is fine for $d=2$: in this case, $n=3$, and we have the \"Mercedes-Benz\" frame. So too, all is well in $d=3$. Then $n=6$, and we have our icosahedron.\n",
    "\n",
    "But then the shit hits the fan. \n",
    "\n",
    "Here's a table listing the known maximum number of equiangular lines in different real dimensions compared to the dimensionality of the symmetric operator space. \n",
    "\n",
    "I've starred the ones where SIC-POVM's can exist, namely: 2, 3, 7, 23 (so far as we know).\n",
    "\n",
    "| d | max| n |\n",
    "|---|-----|----------------|\n",
    "| 2 |  3  |  3* |\n",
    "| 3 |  6  |  6*|\n",
    "| 4 |  6  |  10|\n",
    "| 5 | 10  |  15|\n",
    "| 6 | 16  |  21|\n",
    "| 7 | 28 |  28*|\n",
    "| 8 | 28 | 36|\n",
    "| 9 | 28 | 45|\n",
    "| 10 | 28 | 55|\n",
    "| 11 | 28 | 66|\n",
    "| 12 | 28 | 78|\n",
    "| 13 | 28 | 91|\n",
    "|14 | 28-30| 105|\n",
    "|15 | 36 | 120|\n",
    "|16 | 40-42| 136|\n",
    "|17 | 48-50| 153|\n",
    "|18 | 48-61| 171|\n",
    "|19 | 72-76| 190|\n",
    "|20 | 90-96| 210|\n",
    "|21 | 126 | 231|\n",
    "|22 | 176 | 253|\n",
    "|23 | 276 | 276*|\n",
    "\n",
    "(Incidentally, the famous Gerzon bound says there definitely can't be more that $\\frac{d(d+1)}{2}$ equiangular lines in $\\mathbb{R}^n$).\n",
    "\n",
    "You might wonder: given that (unlike in the complex case), we definitely know there aren't SIC's in all real dimensions, what's the *next best thing*? Specifically, what are the RIC's with lowest quantumness in each real dimension where a SIC doesn't exist? \n",
    "\n",
    "It's an open question!"
   ]
  },
  {
   "cell_type": "markdown",
   "metadata": {},
   "source": [
    "<hr>\n",
    "\n",
    "## Bibliography"
   ]
  },
  {
   "cell_type": "markdown",
   "metadata": {},
   "source": [
    "<a href=\"https://www.math.auckland.ac.nz/~waldron/Preprints/Frame-book/draft26-7.17.pdf\">\n",
    "An Introduction to Finite Tight Frames</a>\n",
    "\n",
    "<a href=\"https://faculty.sites.iastate.edu/esweber/files/inline-files/book_final.pdf\">Frames for Undergraduates</a>\n",
    "\n",
    "<a href=\"http://www1.chapman.edu/~mbvajiac/conferences/chapman_lec03_slides.pdf\">Slides on Frame Theory</a>\n",
    "    \n",
    "<a href=\"https://arxiv.org/abs/1311.3219\">New bounds for equiangular lines</a>\n",
    "\n",
    "<a href=\"https://www.lib.uidaho.edu/digital/etd/items/oldroyd_idaho_0089e_10817.html\">Generalizations and Approximations of Equiangular Tight Frames</a>\n",
    "\n",
    "<a href=\"https://arxiv.org/abs/1812.08762\">The Varieties of Minimal Tomographically Complete Measurements</a>\n",
    "\n",
    "<a href=\"https://arxiv.org/abs/1805.08721\">Symmetric Informationally Complete Measurements Identify the Irreducible Difference between Classical and Quantum Systems</a>\n",
    "\n",
    "<a href=\"https://arxiv.org/abs/quant-ph/0310075\">Symmetric Informationally Complete Quantum Measurements</a>\n",
    "\n",
    "<a href=\"https://arxiv.org/abs/1911.05809\">Sporadic SICs and Exceptional Lie Algebras</a>"
   ]
  }
 ],
 "metadata": {
  "kernelspec": {
   "display_name": "VPython",
   "language": "python",
   "name": "vpython"
  },
  "language_info": {
   "codemirror_mode": {
    "name": "ipython",
    "version": 3
   },
   "file_extension": ".py",
   "mimetype": "text/x-python",
   "name": "python",
   "nbconvert_exporter": "python",
   "pygments_lexer": "ipython3",
   "version": "3.8.5"
  }
 },
 "nbformat": 4,
 "nbformat_minor": 4
}
