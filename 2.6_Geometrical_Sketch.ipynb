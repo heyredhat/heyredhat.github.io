{
 "cells": [
  {
   "cell_type": "markdown",
   "metadata": {},
   "source": [
    "# How to Make a Wormhole\n",
    "\n",
    "## Part 7: Geometrical Sketch"
   ]
  },
  {
   "cell_type": "markdown",
   "metadata": {},
   "source": [
    "It's worth noting that not all such entangled black holes correspond to what we would call a semiclassical wormhole, even if they still allow information transfer. So it's a more specific problem, which Hamilonians give rise to good wormhole states. One model that people love is the SYK model, which in the limit can be identified with a conformal field theory which is actually dual (as per the AdS/CFT correspondence) to a semiclassical wormhole geometry. In a future meeting, we'll take a look at the SYK model (as well as try running our qubit models on a real life quantum computer!). \n",
    "\n",
    "For now, let's observe a few things.\n",
    "\n",
    "For states close to the TFD, we can define a \"boost\" operator and a time translation operator.\n",
    "\n",
    "$$ B = H_{R} - H_{L} $$\n",
    "$$ E = H_{L} + H_{R} + \\mu V - E_{0} $$\n",
    "\n",
    "As well as momenta operators:\n",
    "\n",
    "$$ P_{\\pm} -\\frac{1}{2}(E \\pm B)$$\n",
    "\n",
    "In other words, \\\\( e^{ia\\pm P \\pm}\\\\) generates null shifts.\n",
    "\n",
    "$$ -P_{+} = H_{R} + \\frac{\\mu}{2}V $$\n",
    "$$ -P_{-} = H_{L} + \\frac{\\mu}{2}V $$\n",
    "\n",
    "For operators on the left, the amount of \\\\(P_{+}\\\\) momentum is proportional to the \"size\" V. And vice versa, for operators on the right the amount of \\\\(P_{-}\\\\) momentum is proportional to size. This suggests that the \"size wavefunction\" of operator O on one side is dual to the momentum space wavefunction of particle created by O.\n",
    "\n",
    "Finally, complementarity. We have two pictures. On the one hand, we throw a qubit at the left black hole and it gets ever closer to its event horizon ever more slowly, getting scrambled across its surface until it fades out. Later it recoalesces out of the right black hole. This is the perspective of someone who stays outside. But for the qubit which falls in: it doesn't experience anything unusual at the event horizon and may in fact experience a semiclassical wormhole on the way from left to right. Rather, what we perceive as the qubit getting scrambled across all scales of the black hole, the qubit would experience as merely passing through empty space going ever deeper into the emergent geometry.\n",
    "\n",
    "The idea is that any time there is a \"horizon,\" the quantum states beyond that horizon have to be dual to some states on this side of the horizon. This cut is yet another kind of observer dependency. In the case of the black hole, its interior geometry is taken to be dual to: the surface of the event horizon and the radiation released by the black hole. \n",
    "\n",
    "How do we feel about that?!"
   ]
  }
 ],
 "metadata": {
  "kernelspec": {
   "display_name": "VPython",
   "language": "python",
   "name": "vpython"
  },
  "language_info": {
   "codemirror_mode": {
    "name": "ipython",
    "version": 3
   },
   "file_extension": ".py",
   "mimetype": "text/x-python",
   "name": "python",
   "nbconvert_exporter": "python",
   "pygments_lexer": "ipython3",
   "version": "3.7.7"
  }
 },
 "nbformat": 4,
 "nbformat_minor": 4
}
