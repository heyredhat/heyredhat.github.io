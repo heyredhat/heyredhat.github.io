{
 "cells": [
  {
   "cell_type": "markdown",
   "metadata": {},
   "source": [
    "# How to Make a Wormhole\n",
    "\n",
    "## Part 1: Yanking"
   ]
  },
  {
   "cell_type": "markdown",
   "metadata": {},
   "source": [
    "$$\\begin{pmatrix}1 & 0\\\\\\ 0 & 1\\end{pmatrix}$$\n",
    "\n",
    "We begin with the 2x2 identity matrix, which has the property:\n",
    "\n",
    "$$\\begin{pmatrix}1 & 0\\\\\\ 0 & 1\\end{pmatrix} \\begin{pmatrix}a \\\\\\ b\\end{pmatrix} = \\begin{pmatrix}a \\\\\\ b\\end{pmatrix}$$\n",
    "\n",
    "<hr>\n"
   ]
  },
  {
   "cell_type": "markdown",
   "metadata": {},
   "source": [
    "Let's \"unfurl\" the 2x2 identity matrix into a 4x1 vector.\n",
    "\n",
    "$$\\begin{pmatrix}1 & 0\\\\\\ 0 & 1\\end{pmatrix} \\Rightarrow \\begin{pmatrix}1 \\\\ 0 \\\\ 0 \\\\ 1\\end{pmatrix}$$\n",
    "\n",
    "How can we interpret this?\n",
    "<hr>"
   ]
  },
  {
   "cell_type": "markdown",
   "metadata": {},
   "source": [
    "Suppose we have two qubits A and B.\n",
    "\n",
    "$$\n",
    "A = a\\mid\\uparrow\\rangle + b\\mid\\downarrow\\rangle\n",
    "\\\\\n",
    "B = c\\mid\\uparrow\\rangle + d\\mid\\downarrow\\rangle\n",
    "\\\\\n",
    "$$\n",
    "where \\\\(\\mid\\uparrow\\rangle = \\begin{pmatrix}1 \\\\\\ 0\\end{pmatrix} \\\\),\n",
    "\\\\(\\mid\\downarrow\\rangle = \\begin{pmatrix}0 \\\\\\ 1\\end{pmatrix} \\\\), \n",
    "and \\\\(a, b, c, d \\in \\mathbb{C}\\\\).\n",
    "\n",
    "<hr> "
   ]
  },
  {
   "cell_type": "markdown",
   "metadata": {},
   "source": [
    "Their tensor product \\\\( A \\otimes B \\\\) lives in:\n",
    "\n",
    "$$\n",
    "\\alpha\\mid\\uparrow\\uparrow\\rangle + \\beta\\mid\\uparrow\\downarrow\\rangle + \\gamma\\mid\\downarrow\\uparrow\\rangle + \\delta\\mid\\downarrow\\downarrow\\rangle\n",
    "$$\n",
    "\n",
    "<hr>"
   ]
  },
  {
   "cell_type": "markdown",
   "metadata": {},
   "source": [
    "We can therefore interpret \\\\( \\begin{pmatrix}1 \\\\ 0 \\\\ 0 \\\\ 1\\end{pmatrix} \\\\) as:\n",
    "$$A,B$$\n",
    "$$\n",
    "\\begin{matrix} \\mid\\uparrow\\uparrow\\rangle \\\\ \\mid\\uparrow\\downarrow\\rangle \\\\ \\mid\\downarrow\\uparrow\\rangle \\\\ \\mid\\downarrow\\downarrow\\rangle \\end{matrix}\n",
    "\\begin{pmatrix} 1 \\\\ 0 \\\\ 0 \\\\ 1\\end{pmatrix}\n",
    "$$\n",
    "\n",
    "In other words, as: \\\\(\\mid\\uparrow\\uparrow\\rangle \\ + \\mid\\downarrow\\downarrow\\rangle\\\\), one of the four maximally entangled states of two qubits. There's an equal probability for both qubits to be in the up state or both qubits to be in the down state: but if one is up, then the other must be up, and vice versa.\n",
    "\n",
    "<hr>"
   ]
  },
  {
   "cell_type": "markdown",
   "metadata": {},
   "source": [
    "A word on \"bra/ket\" formalism:\n",
    "\n",
    "$$\n",
    "\\mid ket \\rangle \\  \\Rightarrow \\begin{pmatrix}a \\\\ b \\\\ c \\\\ \\vdots \\end{pmatrix}\n",
    "$$\n",
    "\\\\(\n",
    "\\langle bra \\mid \\ \\Rightarrow \\begin{pmatrix}a^{*} & b^{*} & c^{*} & \\dots \\end{pmatrix} \n",
    "\\\\), where \\\\(a^{*}\\\\) is complex conjugation: \\\\(x+iy \\to x-iy\\\\).\n",
    "\n",
    "The inner product: \\\\(\\langle bra \\mid ket \\rangle \\Rightarrow \\begin{pmatrix}a^{*} & b^{*} & c^{*} & \\dots \\end{pmatrix} \\begin{pmatrix}a \\\\ b \\\\ c \\\\ \\vdots \\end{pmatrix} \\Rightarrow a^{*}a \\ + b^{*}b \\ + c^{*}c \\ + \\dots \\\\)\n",
    "\n",
    "The outer product: \\\\(\\mid ket \\rangle \\langle bra \\mid \\ \\Rightarrow \\begin{pmatrix}a \\\\ b \\\\ c \\\\ \\vdots \\end{pmatrix} \\begin{pmatrix}a^{*} & b^{*} & c^{*} & \\dots \\end{pmatrix}  \\Rightarrow \\begin{pmatrix} aa^{*} & ab^{*} & ac^{*} & \\dots \\\\ ba^{*} & bb^{*} & bc^{*} & \\dots \\\\ ca^{*} & cb^{*} & cc^{*} & \\dots \\\\ \\vdots & \\vdots & \\vdots & \\vdots \\end{pmatrix} \\\\)\n",
    "\n",
    "$$\\mid\\uparrow\\uparrow\\rangle \\Rightarrow \\begin{pmatrix}1 \\\\\\ 0\\end{pmatrix} \\otimes \\begin{pmatrix}1 \\\\\\ 0\\end{pmatrix} \\Rightarrow \\begin{pmatrix}1 \\\\\\ 0 \\\\\\ 0 \\\\\\ 0\\end{pmatrix}$$\n",
    "\n",
    "<hr>"
   ]
  },
  {
   "cell_type": "markdown",
   "metadata": {},
   "source": [
    "Expectation value of operator O: \\\\(\\langle bra\\mid O \\mid ket \\rangle \\\\)\n",
    "\n",
    "Projectors onto up state: \\\\( \\mid \\uparrow \\rangle \\langle \\uparrow \\mid \\ \\Rightarrow \\begin{pmatrix}1 & 0 \\\\\\ 0 & 0\\end{pmatrix}\\\\) and down state: \\\\( \\mid \\downarrow \\rangle \\langle \\downarrow \\mid \\ \\Rightarrow \\begin{pmatrix}0 & 0 \\\\\\ 0 & 1\\end{pmatrix}\\\\)\n",
    "\n",
    "Probability: \\\\(\\langle bra \\mid projector \\mid ket \\rangle \\\\).\n",
    "<hr>"
   ]
  },
  {
   "cell_type": "markdown",
   "metadata": {},
   "source": [
    "If we have two qubits, A on the left and B on the right, we can consider operators that act only on the left or the right.\n",
    "\n",
    "$$O_{L} = O \\otimes I \\Rightarrow \\begin{pmatrix}a & b \\\\\\ c & d\\end{pmatrix} \\otimes \\begin{pmatrix}1 & 0 \\\\\\ 0 & 1\\end{pmatrix} \\Rightarrow \\begin{pmatrix}a & 0 & b & 0 \\\\\\ 0 & a & 0 & b \\\\ c & 0 & d & 0 \\\\ 0 & c & 0 & d\\end{pmatrix}\\\\ \\\\$$\n",
    "$$O_{R} = I \\otimes O \\Rightarrow \\begin{pmatrix}1 & 0 \\\\\\ 0 & 1\\end{pmatrix} \\otimes \\begin{pmatrix}a & b \\\\\\ c & d\\end{pmatrix} \\Rightarrow \\begin{pmatrix}a & b & 0 & 0 \\\\\\ c & d & 0 & 0 \\\\ 0 & 0 & a & b \\\\ 0 & 0 & c & d\\end{pmatrix}$$\n",
    "\n",
    "<hr>"
   ]
  },
  {
   "cell_type": "markdown",
   "metadata": {},
   "source": [
    "For example, let's see what happens if we act with an \\\\(\\uparrow\\\\) projector on the left half of our maximally entangled state:\n",
    "\n",
    "$$ \n",
    "(\\mid \\uparrow \\rangle \\langle \\uparrow \\mid \\otimes I)(\\mid\\uparrow\\uparrow\\rangle \\ + \\mid\\downarrow\\downarrow\\rangle) \\Rightarrow \\big( \\begin{pmatrix}1 & 0 \\\\\\ 0 & 0\\end{pmatrix} \\otimes \\begin{pmatrix}1 & 0 \\\\\\ 0 & 1\\end{pmatrix} \\big) \\big( \\begin{pmatrix}1 \\\\ 0 \\\\ 0 \\\\ 0\\end{pmatrix} + \\begin{pmatrix}0 \\\\ 0 \\\\ 0 \\\\ 1\\end{pmatrix}\\big) \\Rightarrow \\begin{pmatrix}1 & 0 & 0 & 0 \\\\\\ 0 & 1 & 0 & 0 \\\\ 0 & 0 & 0 & 0 \\\\ 0 & 0 & 0 & 0\\end{pmatrix}\\begin{pmatrix}1 \\\\ 0 \\\\ 0 \\\\ 1\\end{pmatrix} \\Rightarrow \\begin{pmatrix}1 \\\\ 0 \\\\ 0 \\\\ 0\\end{pmatrix} = \\ \\mid\\uparrow\\uparrow\\rangle\n",
    "$$\n",
    "\n",
    "And with the \\\\(\\downarrow\\\\) projector:\n",
    "\n",
    "$$ \n",
    "(\\mid \\downarrow \\rangle \\langle \\downarrow \\mid \\otimes I)(\\mid\\uparrow\\uparrow\\rangle \\ + \\mid\\downarrow\\downarrow\\rangle) \\Rightarrow \\big( \\begin{pmatrix}0 & 0 \\\\\\ 0 & 1\\end{pmatrix} \\otimes \\begin{pmatrix}1 & 0 \\\\\\ 0 & 1\\end{pmatrix} \\big) \\big( \\begin{pmatrix}1 \\\\ 0 \\\\ 0 \\\\ 0\\end{pmatrix} + \\begin{pmatrix}0 \\\\ 0 \\\\ 0 \\\\ 1\\end{pmatrix}\\big) \\Rightarrow \\begin{pmatrix}0 & 0 & 0 & 0 \\\\\\ 0 & 0 & 0 & 0 \\\\ 0 & 0 & 1 & 0 \\\\ 0 & 0 & 0 & 1\\end{pmatrix}\\begin{pmatrix}1 \\\\ 0 \\\\ 0 \\\\ 1\\end{pmatrix} \\Rightarrow \\begin{pmatrix}0 \\\\ 0 \\\\ 0 \\\\ 1\\end{pmatrix} = \\ \\mid\\downarrow\\downarrow\\rangle\n",
    "$$\n",
    "\n",
    "And symmetrically with the projectors on the right side:\n",
    "\n",
    "$$ \n",
    "(I \\otimes \\mid \\uparrow \\rangle \\langle \\uparrow \\mid)(\\mid\\uparrow\\uparrow\\rangle \\ + \\mid\\downarrow\\downarrow\\rangle) \\Rightarrow \\big( \\begin{pmatrix}1 & 0 \\\\\\ 0 & 1\\end{pmatrix} \\otimes \\begin{pmatrix}1 & 0 \\\\\\ 0 & 0\\end{pmatrix} \\big) \\begin{pmatrix}1 \\\\ 0 \\\\ 0 \\\\ 1\\end{pmatrix} \\Rightarrow \\begin{pmatrix}1 & 0 & 0 & 0 \\\\\\ 0 & 0 & 0 & 0 \\\\ 0 & 0 & 1 & 0 \\\\ 0 & 0 & 0 & 0\\end{pmatrix}\\begin{pmatrix}1 \\\\ 0 \\\\ 0 \\\\ 1\\end{pmatrix} \\Rightarrow \\begin{pmatrix}1 \\\\ 0 \\\\ 0 \\\\ 0\\end{pmatrix} = \\ \\mid\\uparrow\\uparrow\\rangle\n",
    "$$\n",
    "\n",
    "$$ \n",
    "(I \\otimes \\mid \\downarrow \\rangle \\langle \\downarrow \\mid)(\\mid\\uparrow\\uparrow\\rangle \\ + \\mid\\downarrow\\downarrow\\rangle) \\Rightarrow \\big( \\begin{pmatrix}1 & 0 \\\\\\ 0 & 1\\end{pmatrix} \\otimes \\begin{pmatrix}0 & 0 \\\\\\ 0 & 1\\end{pmatrix} \\big) \\begin{pmatrix}1 \\\\ 0 \\\\ 0 \\\\ 1\\end{pmatrix} \\Rightarrow \\begin{pmatrix}0 & 0 & 0 & 0 \\\\\\ 0 & 1 & 0 & 0 \\\\ 0 & 0 & 0 & 0 \\\\ 0 & 0 & 0 & 1\\end{pmatrix}\\begin{pmatrix}1 \\\\ 0 \\\\ 0 \\\\ 1\\end{pmatrix} \\Rightarrow \\begin{pmatrix}0 \\\\ 0 \\\\ 0 \\\\ 1\\end{pmatrix} = \\ \\mid\\downarrow\\downarrow\\rangle\n",
    "$$\n",
    "\n",
    "Meanwhile, the probability of getting \\\\(\\uparrow\\\\) on the left side. Note that to get the right answer we have to normalize our state so that probabilities sum to 1: \\\\( \\frac{1}{\\sqrt{2}} (\\mid\\uparrow\\uparrow\\rangle \\ + \\mid\\downarrow\\downarrow\\rangle) \\\\).\n",
    "\n",
    "$$ \n",
    "\\frac{1}{\\sqrt{2}}(\\langle \\uparrow\\uparrow\\mid + \\ \\langle\\downarrow\\downarrow\\mid)(\\mid \\uparrow \\rangle \\langle \\uparrow \\mid \\otimes I)\\frac{1}{\\sqrt{2}}(\\mid\\uparrow\\uparrow\\rangle \\ + \\mid\\downarrow\\downarrow\\rangle) \\Rightarrow \\begin{pmatrix}\\frac{1}{\\sqrt{2}} & 0 & 0 & \\frac{1}{\\sqrt{2}}\\end{pmatrix} \\begin{pmatrix}1 & 0 & 0 & 0 \\\\\\ 0 & 1 & 0 & 0 \\\\ 0 & 0 & 0 & 0 \\\\ 0 & 0 & 0 & 0\\end{pmatrix}\\begin{pmatrix}\\frac{1}{\\sqrt{2}} \\\\ 0 \\\\ 0 \\\\ \\frac{1}{\\sqrt{2}}\\end{pmatrix} \\Rightarrow \\frac{1}{2}\n",
    "$$\n",
    "\n",
    "The same is true on the up projector on the right side, and for the down projectors on the left and right.\n",
    "<hr>"
   ]
  },
  {
   "cell_type": "markdown",
   "metadata": {},
   "source": [
    "Let's consider the difference between a general 2x2 operator \\\\( O = \\begin{pmatrix}a & b \\\\ c & d\\end{pmatrix} \\\\) acting on the left vs the right on our maximally entangled state, which we should give a name: \\\\(\\mid \\phi^{+} \\rangle\\\\).\n",
    "\n",
    "\n",
    "$$O_{L}\\mid \\phi^{+} \\rangle = \\big( \\begin{pmatrix}a & b \\\\\\ c & d\\end{pmatrix} \\otimes \\begin{pmatrix}1 & 0 \\\\\\ 0 & 1\\end{pmatrix} \\big) \\begin{pmatrix}1 \\\\ 0 \\\\ 0 \\\\ 1\\end{pmatrix} \\Rightarrow \\begin{pmatrix}a & 0 & b & 0 \\\\\\ 0 & a & 0 & b \\\\ c & 0 & d & 0 \\\\ 0 & c & 0 & d\\end{pmatrix}\\begin{pmatrix}1 \\\\ 0 \\\\ 0 \\\\ 1\\end{pmatrix} \\Rightarrow \\begin{pmatrix}a \\\\ b \\\\ c \\\\ d\\end{pmatrix}$$\n",
    "\n",
    "We get the 2x2 operator O unfurled as a 4x1 vector!\n",
    "\n",
    "<hr>"
   ]
  },
  {
   "cell_type": "markdown",
   "metadata": {},
   "source": [
    "What about on the right?\n",
    "\n",
    "$$O_{R}\\mid \\phi^{+} \\rangle = \\big( \\begin{pmatrix}1 & 0 \\\\\\ 0 & 1\\end{pmatrix} \\otimes \\begin{pmatrix}a & b \\\\\\ c & d\\end{pmatrix}  \\big) \\begin{pmatrix}1 \\\\ 0 \\\\ 0 \\\\ 1\\end{pmatrix} \\Rightarrow \\begin{pmatrix}a & b & 0 & 0 \\\\\\ c & d & 0 & 0 \\\\ 0 & 0 & a & b \\\\ 0 & 0 & c & d\\end{pmatrix}\\begin{pmatrix}1 \\\\ 0 \\\\ 0 \\\\ 1\\end{pmatrix} \\Rightarrow \\begin{pmatrix}a \\\\ c \\\\ b \\\\ d\\end{pmatrix}$$\n",
    "\n",
    "Let's define \\\\(O^{T}\\\\) to be the transpose of O. In other words, interchange rows and columns.\n",
    "\n",
    "$$O^{T} = \\begin{pmatrix}a & c \\\\\\ b & d\\end{pmatrix} $$\n",
    "\n",
    "We observe that:\n",
    "\n",
    "$$O_{R}^{T}\\mid \\phi^{+} \\rangle = \\big( \\begin{pmatrix}1 & 0 \\\\\\ 0 & 1\\end{pmatrix} \\otimes \\begin{pmatrix}a & c \\\\\\ b & d\\end{pmatrix}  \\big) \\begin{pmatrix}1 \\\\ 0 \\\\ 0 \\\\ 1\\end{pmatrix} \\Rightarrow \\begin{pmatrix}a & c & 0 & 0 \\\\\\ b & d & 0 & 0 \\\\ 0 & 0 & a & c \\\\ 0 & 0 & b & d\\end{pmatrix}\\begin{pmatrix}1 \\\\ 0 \\\\ 0 \\\\ 1\\end{pmatrix} \\Rightarrow \\begin{pmatrix}a \\\\ b \\\\ c \\\\ d\\end{pmatrix}$$\n",
    "\n",
    "And conclude:\n",
    "\n",
    "$$ O_{L}\\mid \\phi^{+} \\rangle = O_{R}^{T}\\mid \\phi^{+} \\rangle$$\n",
    "\n",
    "<hr>"
   ]
  },
  {
   "cell_type": "markdown",
   "metadata": {},
   "source": [
    "Introducing the diagram language.\n",
    "\n",
    "$\\mid\\uparrow\\uparrow\\rangle\\ + \\mid\\downarrow\\downarrow\\rangle \\ \\Rightarrow \\cup $\n",
    "\n",
    "$\\langle\\uparrow\\uparrow\\mid + \\langle\\downarrow\\downarrow\\mid \\ \\Rightarrow \\cap $\n",
    "\n",
    "$ \\begin{pmatrix}1 & 0 \\\\\\ 0 & 1\\end{pmatrix} \\Rightarrow \\ \\mid $\n",
    "\n",
    "$ \\begin{matrix} \\fbox{A} & \\fbox{B} \\end{matrix} \\Rightarrow A \\otimes B $\n",
    "\n",
    "$ \\begin{matrix} \\fbox{A} \\\\ \\fbox{B} \\end{matrix} \\Rightarrow A * B $\n",
    "\n",
    "<img src=\"img/swap.png\" width=\"100\" style=\"float:left;\"/> \\\\( \\Rightarrow \\begin{pmatrix}1 & 0 & 0 & 0\\\\\\ 0 & 0 & 1 & 0 \\\\ 0 & 1 & 0 & 0 \\\\ 0 & 0 & 0 &1\\end{pmatrix}  \\\\)\n",
    "\n",
    "<br />\n",
    "<hr>"
   ]
  },
  {
   "cell_type": "markdown",
   "metadata": {},
   "source": [
    "The yanking equation.\n",
    "\n",
    "<img src=\"img/yanking_equation.png\" align=\"center\">\n",
    "\n",
    "We can interpret this by slicing the diagram horizontally, and moving from bottom to top.\n",
    "\n",
    "So in the first layer, we have a wire next to a cup: \\\\(I \\otimes \\mid \\phi^{+} \\rangle\\\\).\n",
    "\n",
    "In the second layer, we have cap next to a wire: \\\\( \\langle \\phi^{+} \\mid \\otimes I \\\\).\n",
    "\n",
    "The yanking equation says that \\\\(  \\big( \\langle \\phi^{+} \\mid \\otimes I \\big) \\big( I \\otimes \\mid \\phi^{+} \\rangle \\big) = I \\\\).\n",
    "\n",
    "<hr>"
   ]
  },
  {
   "cell_type": "markdown",
   "metadata": {},
   "source": [
    "Let's check:\n",
    "\n",
    "$$  \\big( \\begin{pmatrix}1 & 0 & 0 & 1\\end{pmatrix} \\otimes \\begin{pmatrix}1 & 0 \\\\\\ 0 & 1\\end{pmatrix} \\big) \\big( \\begin{pmatrix}1 & 0 \\\\\\ 0 & 1\\end{pmatrix} \\otimes \\begin{pmatrix}1 \\\\ 0 \\\\ 0 \\\\  1\\end{pmatrix} \\big) = \\begin{pmatrix}1 & 0 \\\\\\ 0 & 1\\end{pmatrix} $$\n",
    "\n",
    "$$  \n",
    "\\begin{pmatrix}1 & 0 & 0 & 0 & 0 & 0 & 1 & 0\\\\ 0 & 1 & 0 & 0 & 0 & 0 & 0 & 1\\end{pmatrix} \n",
    "\\begin{pmatrix}1 & 0 \\\\ 0 & 0 \\\\ 0 & 0 \\\\ 1 & 0 \\\\ 0 & 1 \\\\ 0 & 0 \\\\ 0 & 0 \\\\ 0 & 1\\end{pmatrix} = \\begin{pmatrix}1 & 0 \\\\\\ 0 & 1\\end{pmatrix} $$\n",
    "\n",
    "Indeed for some state A entering the wire: \\\\(  \\big( \\langle \\phi^{+} \\mid \\otimes I \\big) \\big( A \\otimes \\mid \\phi^{+} \\rangle \\big) = A \\\\).\n",
    "\n",
    "$$  \\big( \\begin{pmatrix}1 & 0 & 0 & 1\\end{pmatrix} \\otimes \\begin{pmatrix}1 & 0 \\\\\\ 0 & 1\\end{pmatrix} \\big) \\big( \\begin{pmatrix}a & b \\\\\\ c & d\\end{pmatrix} \\otimes \\begin{pmatrix}1 \\\\ 0 \\\\ 0 \\\\  1\\end{pmatrix} \\big) = \\begin{pmatrix}a & b \\\\\\ c & d\\end{pmatrix} $$\n",
    "\n",
    "$$  \n",
    "\\begin{pmatrix}1 & 0 & 0 & 0 & 0 & 0 & 1 & 0\\\\ 0 & 1 & 0 & 0 & 0 & 0 & 0 & 1\\end{pmatrix} \n",
    "\\begin{pmatrix}a & b \\\\ 0 & 0 \\\\ 0 & 0 \\\\ a & b \\\\ c & d \\\\ 0 & 0 \\\\ 0 & 0 \\\\ c & d\\end{pmatrix} = \\begin{pmatrix}a & b \\\\\\ c & d\\end{pmatrix} $$\n",
    "\n",
    "<hr>"
   ]
  },
  {
   "cell_type": "markdown",
   "metadata": {},
   "source": [
    "Recall our discovery that:\n",
    "\n",
    "$$ O_{L}\\mid \\phi^{+} \\rangle = O_{R}^{T}\\mid \\phi^{+} \\rangle$$\n",
    "\n",
    "where\n",
    "\n",
    "$$O^{T} = \\begin{pmatrix}a & c \\\\\\ b & d\\end{pmatrix} $$\n",
    "\n",
    "We can express this in diagrams:\n",
    "\n",
    "<img src=\"img/cup_slide.png\">\n",
    "\n",
    "The idea is we can slide operators up and down wires and around cups and caps, which transpose them (just like in real life!).\n",
    "\n",
    "<img src=\"img/yanking_slide.png\">\n",
    "\n",
    "<hr>"
   ]
  },
  {
   "cell_type": "markdown",
   "metadata": {},
   "source": [
    "One useful thing to be able to do is take a partial trace. If we have two qubits A and B, we can trace over B to get the partial state of A, or trace over A to get the partial state of B. These partial states will be density matrices, a 2x2 Hermitian density matrix for A and B each. It's easy to see how to do this with the diagrams. First recall that a density matrix can be formed from a pure state vector by taking the outer product. In our case:\n",
    "\n",
    "$\n",
    "\\rho_{A,B} = \\mid\\phi^{+}\\rangle\\langle\\phi^{+}\\mid\n",
    "$\n",
    "\n",
    "<img src=\"img/Apartial.png\">\n",
    "\n",
    "In other words, \\\\( \\rho_{A} = \\big( I \\otimes \\cap \\big) \\big(\\rho_{A,B} \\otimes I \\big) \\big( I \\otimes \\cup \\big) \\\\).\n",
    "\n",
    "<img src=\"img/Bpartial.png\">\n",
    "\n",
    "Aka: \\\\( \\rho_{B} = \\big( \\cap \\otimes I \\big) \\big( I \\otimes \\rho_{A,B} \\big) \\big( \\cup \\otimes I \\big) \\\\).\n",
    "\n",
    "On that note, the expectation value of an operator O on a density matrix \\\\(\\rho\\\\) is \\\\(tr(\\rho O) \\\\), where the trace is the sum along the diagonal of the matrix.\n",
    "\n",
    "<hr>"
   ]
  },
  {
   "cell_type": "code",
   "execution_count": null,
   "metadata": {},
   "outputs": [],
   "source": [
    "# Let's try it out in python.\n",
    "import qutip as qt\n",
    "import numpy as np\n",
    "\n",
    "I = qt.identity(2)\n",
    "cup = qt.Qobj(np.array([1,0,0,1]))\n",
    "cup.dims = [[2,2], [1,1]]\n",
    "cap = qt.Qobj(np.array([1,0,0,1])).dag()\n",
    "cap.dims = [[1,1], [2,2]]\n",
    "\n",
    "rhoAB = qt.bell_state(\"00\")*qt.bell_state(\"00\").dag()\n",
    "rhoA = qt.tensor(I, cap)*qt.tensor(rhoAB, I)*qt.tensor(I, cup)\n",
    "rhoB = qt.tensor(cap, I)*qt.tensor(I, rhoAB)*qt.tensor(cup, I)\n",
    "\n",
    "# Compare with qutip's builtin function.\n",
    "rhoA_ = rhoAB.ptrace(0)\n",
    "rhoB_ = rhoAB.ptrace(1)\n",
    "\n",
    "print(rhoA == rhoA_ and rhoB == rhoB_)"
   ]
  }
 ],
 "metadata": {
  "kernelspec": {
   "display_name": "VPython",
   "language": "python",
   "name": "vpython"
  },
  "language_info": {
   "codemirror_mode": {
    "name": "ipython",
    "version": 3
   },
   "file_extension": ".py",
   "mimetype": "text/x-python",
   "name": "python",
   "nbconvert_exporter": "python",
   "pygments_lexer": "ipython3",
   "version": "3.7.4"
  }
 },
 "nbformat": 4,
 "nbformat_minor": 4
}
