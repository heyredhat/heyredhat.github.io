{
 "cells": [
  {
   "cell_type": "markdown",
   "metadata": {},
   "source": [
    "# How to Continue Making a Wormhole\n",
    "\n",
    "## Part 2: Majorana Fermions and SYK"
   ]
  },
  {
   "cell_type": "markdown",
   "metadata": {},
   "source": [
    "To approach SYK (the Sachdev-Ye-Kitaev) model, first we need to recall about fermions.\n",
    "\n",
    "As you may know, we (often) classify particles in terms of whether they are bosons or fermions. Generally speaking, bosons are like force particles: examples are the photon, the gluon. Any number of bosons can be in the same state: hence, a laser beam. The bosonic particles are in themselves indistinguishable: they are permutation symmetric. We can use quantum harmonic oscillators to easily keep track of bosonic degrees of freedom. We assign a harmonic oscillator to each degree of freedom of the particle, and the number operator of each oscillator keeps track of how many particles are in *that state*. The use of harmonic oscillators automatically imposes for us that the particles be permutation symmetric. \n",
    "\n",
    "For each oscillator, we have \"creation\" and \"annihilation\" operators, which add and subtract quanta from each oscillator--and although they are not themselves hermitian, they can be used as building blocks for hermitian operators. If we have multiple oscillators, we can just tensor these creation and annihilation operators with identities so they act on the appropriate subspaces. These operators obey the following commutation relations:\n",
    "\n",
    "$$ [b_{i}, b_{j}] = [b^{\\dagger}_{i}, b^{\\dagger}_{j}] = 0 $$\n",
    "$$ [b_{i}, b^{\\dagger}_{j}] = \\delta_{ij} $$\n",
    "\n",
    "Where \\\\( b^{\\dagger} \\\\) is a creation operator, \\\\( b \\\\) is an annihilation operator, and: the commutator is \\\\( [A, B] = AB - BA \\\\). \n",
    "\n",
    "If we want to do the same thing for fermions, we have to make some changes. First, our oscillators can only have 0 or 1 excitations. In other words, at maximum only 1 fermion can be in a given state. This is the Pauli exclusion principle at work. Indeed, the tensor product has to work differently: the whole thing has to do with how fermions are permutation *antisymmetric* particles, unlike bosons which are permutation *symmetric*. So it doesn't matter the order in which we create bosons, but for fermions: \\\\( f^{\\dagger}_{i} f^{\\dagger}_{j} \\mid 0 \\rangle = -f^{\\dagger}_{j} f^{\\dagger}_{i} \\mid 0 \\rangle \\\\), where \\\\( \\mid 0 \\rangle \\\\) is the fermion vacuum aka the state of all oscillators having 0 quanta.\n",
    "\n",
    "The upshot is that the commutation relations between fermions involve the anticommutator instead of the commutator. The anticommutator is \\\\( \\{A, B\\} = AB + BA \\\\).\n",
    "\n",
    "$$ \\{f_{i}, f_{j}\\} = \\{f^{\\dagger}_{i}, f^{\\dagger}_{j}\\} = 0 $$\n",
    "$$ \\{f_{i}, f^{\\dagger}_{j}\\} = \\delta^{i,j} $$\n",
    "\n",
    "It's not hard to implement this. Suppose we have 5 fermions. The standard 2x2 matrices for creation and annihilation operators are just:\n",
    "\n",
    "$$ f^{\\dagger} = \\begin{pmatrix} 0 & 0 \\\\ 1 & 0 \\end{pmatrix} $$\n",
    "$$ f = \\begin{pmatrix} 0 & 1 \\\\ 0 & 0 \\end{pmatrix} $$\n",
    "\n",
    "To construct, for example, 5 pairs of creation and annihilation operators with the correct commutation relations, and so which preserve the antisymmetry of the fermions:\n",
    "\n",
    "$$ f_{0} = f \\otimes I \\otimes I \\otimes I \\otimes I $$\n",
    "$$ f_{1} = Z \\otimes f \\otimes I \\otimes I \\otimes I $$\n",
    "$$ f_{2} = Z \\otimes Z \\otimes f \\otimes I \\otimes I $$\n",
    "$$ f_{3} = Z \\otimes Z \\otimes Z \\otimes f \\otimes I $$\n",
    "$$ f_{4} = Z \\otimes Z \\otimes Z \\otimes Z \\otimes f $$\n",
    "\n",
    "Where $Z$ is Pauli $Z$. The idea is that there is a \"normal ordering\" for the fermions. When the operators are applied to the vacuum in the descending order, the $Z$'s in \\\\( f_{4} \\\\), say, don't matter since there are no excitations in those oscillators: we're in the vacuum after all. But when the operators are applied in the reverse order, they pick up a negative sign from the $Z$'s. You can check that this works\n"
   ]
  },
  {
   "cell_type": "code",
   "execution_count": 2,
   "metadata": {},
   "outputs": [
    {
     "name": "stdout",
     "output_type": "stream",
     "text": [
      "testing fermion operators: True\n"
     ]
    }
   ],
   "source": [
    "import qutip as qt\n",
    "import numpy as np\n",
    "\n",
    "def fermion_operators(n):\n",
    "    return [qt.tensor(*[qt.destroy(2) if i == j\\\n",
    "                else (qt.sigmaz() if j < i\\\n",
    "                    else qt.identity(2))\\\n",
    "                        for j in range(n)])\\\n",
    "                            for i in range(n)]\n",
    "\n",
    "def anticommutator(a, b):\n",
    "    return a*b + b*a\n",
    "\n",
    "def test_fermions(f):\n",
    "    d = f[0].shape[0]\n",
    "    for i in range(len(f)):\n",
    "        for j in range(len(f)):\n",
    "            test1 = anticommutator(f[i], f[j]).full()\n",
    "            test2 = anticommutator(f[i], f[j].dag()).full()\n",
    "            if not \\\n",
    "                (np.isclose(test1, np.zeros((d,d))).all()\\\n",
    "                    and \\\n",
    "                ((np.isclose(test2, np.zeros((d,d))).all() and i != j)\\\n",
    "                        or (np.isclose(test2, np.eye(d)).all() and i == j))):\n",
    "                return False\n",
    "    return True\n",
    "\n",
    "#########################################################################################\n",
    "\n",
    "n = 4\n",
    "f = fermion_operators(n)\n",
    "fvac = qt.basis(2**n)\n",
    "fvac.dims = [[2]*n, [1]*n]\n",
    "\n",
    "print(\"testing fermion operators: %s\" % test_fermions(f))"
   ]
  },
  {
   "cell_type": "markdown",
   "metadata": {},
   "source": [
    "So we have some fermions. Now we're going to do a crazy thing. It turns out we can split a fermion into two \"Majorana fermions.\" The idea is that a Majorana fermion is its own antiparticle: its creation and annihilation operators *are the same operator*. In some sense, we can think of them like the \"square roots\" of normal fermions. At the same time, if we swap the order of Majorana operators, we pick up a negative sign, and so we are justified in calling them fermions.\n",
    "\n",
    "Given normal fermion operators \\\\(f\\\\) and \\\\(f^{\\dagger}\\\\), we form Majorana operators:\n",
    "\n",
    "$$ \\psi_{L} = f + f^{\\dagger} $$\n",
    "$$ \\psi_{R} = i(f - f^{\\dagger}) $$\n",
    "\n",
    "Here \\\\( \\psi \\\\) is the standard way of referring to a Majorana operator. We've chosen to call the two Majoranas we get  by \"left\" and \"right\" for reasons we shall shortly see. And by the way, they are hermitian.\n",
    "\n",
    "So we we have $n$ fermions, we could imagine splitting them all into Majoranas. Given our choice of normalization, they'll obey the commutation relations:\n",
    "\n",
    "$$ \\{ \\psi_{i}, \\psi_{j} \\}  = 2\\delta_{ij}$$"
   ]
  },
  {
   "cell_type": "code",
   "execution_count": 3,
   "metadata": {},
   "outputs": [
    {
     "name": "stdout",
     "output_type": "stream",
     "text": [
      "testing majorana operators: True\n",
      "anticommutes?: True\n",
      "is own antiparticle?: True\n"
     ]
    }
   ],
   "source": [
    "def split_fermion(f):\n",
    "    return (f + f.dag()), 1j*(f - f.dag())\n",
    "\n",
    "def test_majoranas(m):\n",
    "    d = m[0].shape[0]\n",
    "    for i in range(len(m)):\n",
    "        for j in range(len(m)):\n",
    "            test = anticommutator(m[i], m[j]).full()\n",
    "            if not ((i == j and np.isclose(test, 2*np.eye(d)).all()) or\\\n",
    "                    (i != j and np.isclose(test, np.zeros((d,d))).all())):\n",
    "                return False\n",
    "    return True\n",
    "\n",
    "#########################################################################################\n",
    "\n",
    "m = []\n",
    "for i in range(n):\n",
    "    m.extend(split_fermion(f[i]))\n",
    "\n",
    "print(\"testing majorana operators: %s\" % test_majoranas(m))\n",
    "print(\"anticommutes?: %s\" % (m[2]*m[1]*fvac == -m[1]*m[2]*fvac))\n",
    "print(\"is own antiparticle?: %s\" % (m[0]*m[0]*fvac == fvac))"
   ]
  },
  {
   "cell_type": "markdown",
   "metadata": {},
   "source": [
    "We've seen how in the case of $n$ qubits, strings of $n$ Pauli's form a basis for hermitian/unitary operators. Something quite analogous works here with the Majoranas. If we have $n$ Majoranas, we can take all combinations of them of lengths $0,1,2,3,\\dots$ up to $n$, and these form an operator basis. In other words, we consider all combinations of Majoranas of different lengths (eg. \\\\( I, \\psi_{0}, \\psi_{1}, \\psi_{2}, \\psi_{0}\\psi_{1}, \\psi_{0}\\psi_{2}, \\psi_{1}\\psi_{2}, \\psi_{0}\\psi_{1}\\psi_{2} \\\\)) and take the inner product of our operator with each of them in turn. (In fact, due to our normalization convention, we'll be rescaling each of these operators by $2^{-\\frac{m}{4}}$, where $m$ is the number of Majoranas.) We can then recover the original operator by multiplying each of the obtained coefficients by the Majorana string operators and summing."
   ]
  },
  {
   "cell_type": "code",
   "execution_count": 4,
   "metadata": {},
   "outputs": [
    {
     "name": "stdout",
     "output_type": "stream",
     "text": [
      "Recovered operator? True\n"
     ]
    }
   ],
   "source": [
    "from itertools import combinations\n",
    "from functools import reduce \n",
    "\n",
    "def majorana_basis(m):\n",
    "    n = len(m)\n",
    "    prefac = 2**(-n/4)\n",
    "    M = {}\n",
    "    for i in range(n+1):\n",
    "        if i == 0:\n",
    "            M[\"I\"] = prefac*qt.identity(m[0].shape[0])\n",
    "            M[\"I\"].dims = m[0].dims\n",
    "        else:\n",
    "            for string in combinations(list(range(n)), i):\n",
    "                M[string] = prefac*reduce(lambda x, y: x*y, [m[j] for j in string])\n",
    "    return M\n",
    "\n",
    "def op_coeffs(O, M):\n",
    "    return dict([(string, (string_op.dag()*O).tr()) for string, string_op in M.items()])\n",
    "\n",
    "def coeffs_op(coeffs, M):\n",
    "    return sum([coeffs[string]*string_op for string, string_op in M.items()])\n",
    "\n",
    "def prettyc(coeffs):\n",
    "    for string, coeff in coeffs.items():\n",
    "        if not np.isclose(coeff, 0):\n",
    "            print(\"%s : %s\" % (string, coeff))\n",
    "\n",
    "#########################################################################################\n",
    "\n",
    "M = majorana_basis(m)\n",
    "O = qt.rand_herm(2**n)\n",
    "O.dims = [[2]*n, [2]*n]\n",
    "Oc = op_coeffs(O, M)\n",
    "O2 = coeffs_op(Oc, M)\n",
    "\n",
    "print(\"Recovered operator? %s\" % (O == O2))\n",
    "#print(\"Expansion in Majoranas:\")\n",
    "#prettyc(Oc)"
   ]
  },
  {
   "cell_type": "markdown",
   "metadata": {},
   "source": [
    "<hr>\n",
    "\n",
    "Just we can split a normal fermion into two Majoranas, we can combine any two Majoranas into a normal fermion. This turns out to be a pretty powerful idea!\n",
    "\n",
    "In other words, if we have Majoranas $\\psi_{L}$ and $\\psi_{R}$:\n",
    "\n",
    "$$ f = \\frac{1}{2}(\\psi_{L} + i\\psi_{R}) $$\n",
    "$$ f^{\\dagger} = \\frac{1}{2}(\\psi_{L} - i\\psi_{R}) $$\n",
    "\n",
    "Indeed, $\\psi_{L}$ and $\\psi_{R}$ could have originally come from two different normal fermions to begin with, only to end up combined in $f$.\n",
    "\n",
    "Now here's an interesting thing to do. \n",
    "\n",
    "Suppose have $2n$ normal fermions, and we call the first $n$ \"left fermions\" and the second $n$ \"right fermions.\" We could split the left fermions into $2n$ Majoranas, and split the right fermions into $2n$ Majoranas. We could then create $2n$ new normal fermions, which we'll call \"complex fermions,\" which are each built out of one left Majorana and one right Majorana.\n",
    "\n",
    "Concretely, suppose we started with 2 normal fermions, so we have one on the left and one on the right: $f_{L}$ and $f_{R}$. We split them into Majoranas: \n",
    "\n",
    "$$\\psi_{L,0} = f_{L} + f_{L}^{\\dagger}$$\n",
    "\n",
    "$$\\psi_{L,1} = i(f_{L} - f_{L}^{\\dagger})$$\n",
    "\n",
    "$$\\psi_{R,0} = f_{R} + f_{R}^{\\dagger}$$\n",
    "\n",
    "$$\\psi_{R,1} = i(f_{R} - f_{R}^{\\dagger})$$\n",
    "\n",
    "Finally, we combine Majoranas *across left and right* to obtain complex fermions: \n",
    "\n",
    "$$c_{0} = \\frac{1}{2}(\\psi_{L, 0} + i\\psi_{R, 0})$$\n",
    "\n",
    "$$c_{1} = \\frac{1}{2}(\\psi_{L, 1} + i\\psi_{R, 1})$$\n",
    "\n",
    "The upshot is that the vacuum state of these complex fermions is a maximally entangled state of the original fermions across left and right."
   ]
  },
  {
   "cell_type": "code",
   "execution_count": 5,
   "metadata": {},
   "outputs": [
    {
     "name": "stdout",
     "output_type": "stream",
     "text": [
      "testing left and right fermions: True\n",
      "testing majoranas: True\n",
      "testing complex fermions: True\n",
      "\n",
      "<N_lr> on lr_vac = 0.000000\n",
      "<N_c> on lr_vac = 4.000000\n",
      "<N_lr> on c_vac = 4.000000\n",
      "<N_c> on c_vac = -0.000000\n",
      "\n",
      "L c_vac entropy: 2.772589\n",
      "R c_vac entropy: 2.772589\n",
      "max possible entropy: 2.772589\n",
      "\n"
     ]
    }
   ],
   "source": [
    "def join_majoranas(m, n):\n",
    "    return (1/2)*(m + 1j*n)#, (1/2)*(m - 1j*n)\n",
    "\n",
    "#########################################################################################\n",
    "\n",
    "N = 2*n\n",
    "lr = fermion_operators(N)\n",
    "\n",
    "mL = []\n",
    "for i in range(n): \n",
    "    mL.extend(split_fermion(lr[i]))\n",
    "\n",
    "mR = []\n",
    "for i in range(n, N): \n",
    "    mR.extend(split_fermion(lr[i]))\n",
    "\n",
    "cf = [join_majoranas(mL[i], mR[i]) for i in range(N)]\n",
    "\n",
    "print(\"testing left and right fermions: %s\" % test_fermions(lr))\n",
    "print(\"testing majoranas: %s\" % test_majoranas(mL+mR))\n",
    "print(\"testing complex fermions: %s\" % test_fermions(cf))\n",
    "print()\n",
    "\n",
    "N_lr = sum([lr[i].dag()*lr[i] for i in range(N)])\n",
    "N_c = sum([cf[i].dag()*cf[i] for i in range(N)])\n",
    "\n",
    "lr_vac = qt.basis(2**N, 0)\n",
    "lr_vac.dims = [[2]*N, [1]*N]\n",
    "\n",
    "N_cL, N_cV = N_c.eigenstates()\n",
    "c_vac = N_cV[0]\n",
    "\n",
    "print(\"<N_lr> on lr_vac = %f\" % qt.expect(N_lr, lr_vac))\n",
    "print(\"<N_c> on lr_vac = %f\" % qt.expect(N_c, lr_vac))\n",
    "print(\"<N_lr> on c_vac = %f\" % qt.expect(N_lr, c_vac))\n",
    "print(\"<N_c> on c_vac = %f\" % qt.expect(N_c, c_vac))\n",
    "print()\n",
    "\n",
    "L = c_vac.ptrace(list(range(0, n)))\n",
    "R = c_vac.ptrace(list(range(n, N)))\n",
    "print(\"L c_vac entropy: %f\" % qt.entropy_vn(L))\n",
    "print(\"R c_vac entropy: %f\" % qt.entropy_vn(R))\n",
    "print(\"max possible entropy: %f\" % qt.entropy_vn(qt.identity(2**n)/2**n))\n",
    "print()"
   ]
  },
  {
   "cell_type": "markdown",
   "metadata": {},
   "source": [
    "It's worth noting that alternatively, we could have started with $N$ normal fermions and treated those, right off the bat, as our complex fermions. We could have split each of the $N$ into two Majoranas, $\\psi_{L, i}$ and $\\psi_{R, i}$, and then grouped the left Majoranas and the right Majoranas together, and built our normal left fermions out of adjacent Majoranas on the left, and our normal right Majoranas out of adjacent Majoranas on the right. This would have the benefit that the complex fermion vacuum would just be the usual vacuum vector, with a $1$ in the first place followed all by $0$'s, and moreover, that the total number operator of the complex fermions would be diagonal. (Whereas in the above construction, it's the total number operator of the left/right normal fermions that's diagonal.) The downside is that it's less easy to take a partial trace over left and right to find the entanglement entropy. \n",
    "\n",
    "<hr>"
   ]
  },
  {
   "cell_type": "markdown",
   "metadata": {},
   "source": [
    "So it's an interesting fact that if we're in the vacuum state of the complex fermions, this corresponds to a maximally entangled state across left and right. In other words, the vacuum of the complex fermions corresponds to a left/right CUP state. This means we can play all of our usual games with string diagrams. \n",
    "\n",
    "Indeed, we've seen how we can turn an operator into a state by acting with that operator on one half of the maximally entangled cup state. An operator on the left becomes splayed out across left and right as a state: indeed, we saw in our discussion of quantum teleportation, if we're working in the standard basis, the components of the resulting vector are literally the components of the operator matrix unraveled.\n",
    "\n",
    "Moreover, we can take an operator and slide it down around a cup. If we had a bead on a string, and we slid it around a bend, the bead would end up flipped on the other side. Indeed, when we slide an operator around a bend, we saw that we had to take the transpose. Or in other words: we get the same state if a) we act on the left half of the cup with an operator or b) if instead we act on the right half by the transpose of the original operator.\n",
    "\n",
    "<img width=200 src=\"img/cup_slide.png\">\n",
    "\n",
    "Here, with our Majoranas, something a little different occurs: we don't take the transpose of the original operator, instead it suffices to multiply all the right Majoranas by $-i$! Somehow we've traded a 90 degree rotation of the matrix for a 90 degree rotation in the complex plane. It makes sense insofar as in each original fermion lives a left and a right part, each separated by a mere local rotation.\n",
    "\n",
    "Note that we have to be a little careful in terms of upgrading an operator to act on the left or right due to the fermonic sign flips. So to be safe: if we had an operator on $n$ fermions that we wanted to act on the left or right of $2n$ fermions,  we decompose the operator in a basis of $2n$ Majoranas, obtaining coefficients, and then go in reverse, using the $2n$ Majoranas (out of $4n$) corresponding to the left/right Majoranas, multiplying those operators by the coefficients and summing."
   ]
  },
  {
   "cell_type": "code",
   "execution_count": 6,
   "metadata": {},
   "outputs": [
    {
     "name": "stdout",
     "output_type": "stream",
     "text": [
      "OL*c_vac == OR*c_vac: True\n",
      "Even as: OL != OR: True\n"
     ]
    }
   ],
   "source": [
    "O = qt.rand_unitary(2**n)\n",
    "O.dims = [[2]*n, [2]*n]\n",
    "Oc = op_coeffs(O, M)\n",
    "\n",
    "ML = majorana_basis(mL)\n",
    "MR = majorana_basis([-1j*m_ for m_ in mR])\n",
    "\n",
    "OL = coeffs_op(Oc, ML)\n",
    "OR = coeffs_op(Oc, MR)\n",
    "\n",
    "print(\"OL*c_vac == OR*c_vac: %s\" % (OL*c_vac==OR*c_vac))\n",
    "print(\"Even as: OL != OR: %s\" % (OL!=OR))"
   ]
  },
  {
   "cell_type": "markdown",
   "metadata": {},
   "source": [
    "<hr>\n",
    "\n",
    "Now before in our wormhole adventures, we sort of waved our hands when it came to choosing the coupling operator between the two sides, saying that the $ZZ$ coupling is a good proxy for a \"size\" operator. Here there is a literal size operator which we can use, and miraculously perhaps, it turns out to be simply: *the total number operator of the complex fermions*, which are built out of left and right. Moreover, the individual number operators of the complex fermions count the number of individual Majoranas operators themselves \"inside\" the operator.\n",
    "\n",
    "The construction is that we take an operator that acts on half the fermions, upgrade it to a double sided state by acting on the left on the maximally entangled left/right state corresponding to the \"complex fermion vacuum,\" and then looking at the expectation value of the complex fermion number operator(s) on that state to get the size. Easy as pie!"
   ]
  },
  {
   "cell_type": "code",
   "execution_count": 7,
   "metadata": {},
   "outputs": [
    {
     "name": "stdout",
     "output_type": "stream",
     "text": [
      "size of m[0]: 1.000000\n",
      "size of m[1]*m[0]: 2.000000\n",
      "size of m[2]*m[1]*m[0]: 3.000000\n",
      "\n",
      "# of m[0] in m[2]*m[1]*m[0]: 1.000000\n",
      "# of m[1] in m[2]*m[1]*m[0]: 1.000000\n",
      "# of m[2] in m[2]*m[1]*m[0]: 1.000000\n",
      "# of m[3] in m[2]*m[1]*m[0]: 0.000000\n"
     ]
    }
   ],
   "source": [
    "def size(O, i=None):\n",
    "    global M, ML, N_c, cf, c_vac\n",
    "    majorana_state = coeffs_op(op_coeffs(O, M), ML)*c_vac\n",
    "    if type(i) == type(None):\n",
    "        return qt.expect(N_c, majorana_state)\n",
    "    else:\n",
    "        return qt.expect(cf[i].dag()*cf[i], majorana_state)\n",
    "\n",
    "#########################################################################################\n",
    "\n",
    "print(\"size of m[0]: %f\" % size(m[0]))\n",
    "print(\"size of m[1]*m[0]: %f\" % size(m[1]*m[0]))\n",
    "print(\"size of m[2]*m[1]*m[0]: %f\" % size(m[2]*m[1]*m[0]))\n",
    "print()\n",
    "\n",
    "print(\"# of m[0] in m[2]*m[1]*m[0]: %f\" % size(m[2]*m[1]*m[0], i=0))\n",
    "print(\"# of m[1] in m[2]*m[1]*m[0]: %f\" % size(m[2]*m[1]*m[0], i=1))\n",
    "print(\"# of m[2] in m[2]*m[1]*m[0]: %f\" % size(m[2]*m[1]*m[0], i=2))\n",
    "print(\"# of m[3] in m[2]*m[1]*m[0]: %f\" % size(m[2]*m[1]*m[0], i=3))"
   ]
  },
  {
   "cell_type": "markdown",
   "metadata": {},
   "source": [
    "<hr>\n",
    "\n",
    "Now we're ready to define the SYK hamiltonian.\n",
    "\n",
    "$$ H_{SYK} = -\\frac{1}{4!} \\sum_{i}^{m} \\sum_{j}^{m} \\sum_{k}^{m} \\sum_{l}^{m} c_{i,j,k,l} \\psi_{i}\\psi_{j}\\psi_{k}\\psi_{l} $$ \n",
    "\n",
    "for \\\\( i < j < k < l \\\\).\n",
    "\n",
    "It's a sum of four way interactions between Majorana fermions, in other words, the interactions are 4-local. The coefficients are normally distributed. The point is that the SYK model is highly scrambling: in fact, in the limit of many Majoranas, it demonstrates \"perfect size winding.\" For these reasons, people use it to model black holes, which are believed to be the \"fasted scramblers\" in nature. In other words, its dynamics will take localized states to highly nonlocalized states very quickly: an operators supported on just a few fermions will in general end up supported across all of them in no time.\n",
    "\n",
    "In the context of our double sized wormhole, before, once we decided on an energy operator $H_{L}$, we took $H_{R} = H_{L}^{T}$. Here we do the same thing, choosing SYK coefficients, and then building the left Hamiltonian out of the left Majoranas, and the right Hamiltonian out of $-i$ times the right Majoranas."
   ]
  },
  {
   "cell_type": "code",
   "execution_count": 8,
   "metadata": {},
   "outputs": [],
   "source": [
    "import math\n",
    "\n",
    "def random_syk_couplings(m):\n",
    "    J = {}\n",
    "    for i in range(m):\n",
    "        for j in range(m):\n",
    "            for k in range(m):\n",
    "                for l in range(m):\n",
    "                    if i < j and j < k and k < l:\n",
    "                        J[(i, j, k, l)] = np.random.normal()\n",
    "    return J\n",
    "\n",
    "def syk_ham(couplings, m):\n",
    "    Jterms = []\n",
    "    for ijkl, c in couplings.items():\n",
    "        i, j, k, l = ijkl\n",
    "        Jterms.append(c*m[i]*m[j]*m[k]*m[l])\n",
    "    return (-1/(math.factorial(4)))*sum(Jterms)\n",
    "\n",
    "#########################################################################################\n",
    "\n",
    "SYK = random_syk_couplings(N)\n",
    "H = syk_ham(SYK, m)\n",
    "HL = syk_ham(SYK, mL)\n",
    "HR = syk_ham(SYK, [-1j*m_ for m_ in mR]) "
   ]
  },
  {
   "cell_type": "markdown",
   "metadata": {},
   "source": [
    "Now we can evolve our operator \\\\( O \\\\) in time! And just as before, we can see that by construction, acting on the left with $O$ in the past is equivalent to acting with $O$ on the right in the future."
   ]
  },
  {
   "cell_type": "code",
   "execution_count": 9,
   "metadata": {},
   "outputs": [
    {
     "name": "stdout",
     "output_type": "stream",
     "text": [
      "True\n"
     ]
    }
   ],
   "source": [
    "OLt = lambda t: (1j*HL*t).expm()*OL*(-1j*HL*t).expm()\n",
    "ORt = lambda t: (1j*HR*t).expm()*OR*(-1j*HR*t).expm()\n",
    "\n",
    "print(OLt(-10)*c_vac == ORt(10)*c_vac)"
   ]
  },
  {
   "cell_type": "markdown",
   "metadata": {},
   "source": [
    "Similarly, we can construct the TFD state at inverse temperature \\\\( \\beta \\\\) by \"splaying\" \\\\( \\rho \\\\) across left and right."
   ]
  },
  {
   "cell_type": "code",
   "execution_count": 10,
   "metadata": {},
   "outputs": [],
   "source": [
    "def construct_thermal_dm(H, beta=0):\n",
    "    return (-beta*H*(1/2)).expm()/np.sqrt((-beta*H*(1/2)).expm().tr())\n",
    "\n",
    "rho = construct_thermal_dm(H, beta=1)\n",
    "rhoL = coeffs_op(op_coeffs(rho, M), ML)\n",
    "TFD = (rhoL*c_vac).unit()"
   ]
  },
  {
   "cell_type": "markdown",
   "metadata": {},
   "source": [
    "Recall that the TFD at infinite temperature $\\beta = 0$ is just the maximally entangled state (complex fermion vacuum) that we started with. We can use the TFD at some finite temperature to get a temperature dependent notion of size!"
   ]
  },
  {
   "cell_type": "code",
   "execution_count": 11,
   "metadata": {},
   "outputs": [
    {
     "name": "stdout",
     "output_type": "stream",
     "text": [
      "size of m[0]: 1.079712\n",
      "size of m[1]*m[0]: 2.048954\n",
      "size of m[2]*m[1]*m[0]: 3.020386\n",
      "\n",
      "# of m[0] in m[2]*m[1]*m[0]: 0.982706\n",
      "# of m[1] in m[2]*m[1]*m[0]: 0.984621\n",
      "# of m[2] in m[2]*m[1]*m[0]: 0.985716\n",
      "# of m[3] in m[2]*m[1]*m[0]: 0.013908\n"
     ]
    }
   ],
   "source": [
    "def cold_size(O, i=None):\n",
    "    global M, ML, N_c, cf, TFD\n",
    "    majorana_state = coeffs_op(op_coeffs(O, M), ML)*TFD\n",
    "    if type(i) == type(None):\n",
    "        return qt.expect(N_c, majorana_state)\n",
    "    else:\n",
    "        return qt.expect(cf[i].dag()*cf[i], majorana_state)\n",
    "\n",
    "#########################################################################################\n",
    "\n",
    "print(\"size of m[0]: %f\" % cold_size(m[0]))\n",
    "print(\"size of m[1]*m[0]: %f\" % cold_size(m[1]*m[0]))\n",
    "print(\"size of m[2]*m[1]*m[0]: %f\" % cold_size(m[2]*m[1]*m[0]))\n",
    "print()\n",
    "\n",
    "print(\"# of m[0] in m[2]*m[1]*m[0]: %f\" % cold_size(m[2]*m[1]*m[0], i=0))\n",
    "print(\"# of m[1] in m[2]*m[1]*m[0]: %f\" % cold_size(m[2]*m[1]*m[0], i=1))\n",
    "print(\"# of m[2] in m[2]*m[1]*m[0]: %f\" % cold_size(m[2]*m[1]*m[0], i=2))\n",
    "print(\"# of m[3] in m[2]*m[1]*m[0]: %f\" % cold_size(m[2]*m[1]*m[0], i=3))"
   ]
  },
  {
   "cell_type": "markdown",
   "metadata": {},
   "source": [
    "<hr>\n",
    "\n",
    "Now we have to have some way of throwing a qubit into our wormhole.\n",
    "\n",
    "Before we used a SWAP operation to insert our message qubit into the left black hole, which in any case was made of qubits. But that doesn't make much sense here. We could imagine swapping our qubit for the leftmost fermion, but that's kind of weird since although both qubits and fermionic oscillators live in 2D Hilbert spaces, they have different interpretations: in the case of a spin, the basis vectors refer to spin along or against the axis of quantization, and in the case of an oscillator, the basis vectors refer to the number of excitations, 0 or 1. \n",
    "\n",
    "But there is an elegant solution. It turns out, just as we can form a complex fermion out of two Majoranas, we can form a qubit out of three Majoranas! \n",
    "\n",
    "If we have three Majoranas denoted $\\psi_{x}, \\psi_{y}, \\psi_{z}$, we can construct a representation of the Pauli operators:\n",
    "\n",
    "$$ X = -i\\psi_{x}\\psi_{z} $$\n",
    "$$ Y = -i\\psi_{z}\\psi_{y} $$\n",
    "$$ Z = -i\\psi_{y}\\psi_{x} $$\n",
    "\n",
    "These indeed follow the correct commutation relations.\n",
    "\n",
    "$$ [X, Y] = 2iZ $$\n",
    "$$ [Y, Z] = 2iX $$\n",
    "$$ [Z, X] = 2iY $$\n",
    "$$ [X, X] = [Y, Y] = [Z, Z] = 0 $$\n",
    "\n",
    "So we could form XYZ operators out of the first three Majoranas on the left side, and the first three Majoranas on the right side."
   ]
  },
  {
   "cell_type": "code",
   "execution_count": 12,
   "metadata": {},
   "outputs": [
    {
     "name": "stdout",
     "output_type": "stream",
     "text": [
      "testing XYZ_L: [True, True, True, True, True]\n",
      "testing XYZ_R: [True, True, True, True, True]\n"
     ]
    }
   ],
   "source": [
    "def majoranas_qubit(m):\n",
    "    I = qt.identity(m[0].shape[0])\n",
    "    I.dims = m[0].dims\n",
    "    return {\"I\": I,\n",
    "            \"X\": -1j*m[0]*m[2],\\\n",
    "            \"Y\": -1j*m[2]*m[1],\\\n",
    "            \"Z\": -1j*m[1]*m[0]}\n",
    "\n",
    "def test_XYZ(XYZ):\n",
    "    return [qt.commutator(XYZ[\"X\"], XYZ[\"Y\"]) == 2j*XYZ[\"Z\"],\\\n",
    "            qt.commutator(XYZ[\"Y\"], XYZ[\"Z\"]) == 2j*XYZ[\"X\"],\\\n",
    "            qt.commutator(XYZ[\"Z\"], XYZ[\"X\"]) == 2j*XYZ[\"Y\"],\\\n",
    "            qt.commutator(XYZ[\"X\"], XYZ[\"X\"]) == qt.commutator(XYZ[\"Y\"], XYZ[\"Y\"])\\\n",
    "                                              == qt.commutator(XYZ[\"Z\"], XYZ[\"Z\"]),\\\n",
    "            qt.commutator(XYZ[\"X\"], XYZ[\"X\"]).norm() == 0]\n",
    "\n",
    "def qubit_xyz(state, XYZ):\n",
    "    return np.array([qt.expect(XYZ[\"X\"], state),\\\n",
    "                     qt.expect(XYZ[\"Y\"], state),\\\n",
    "                     qt.expect(XYZ[\"Z\"], state)])\n",
    "\n",
    "#########################################################################################\n",
    "\n",
    "XYZ_L = majoranas_qubit(mL[:3])\n",
    "XYZ_R = majoranas_qubit(mR[:3])\n",
    "\n",
    "print(\"testing XYZ_L: %s\" % test_XYZ(XYZ_L))\n",
    "print(\"testing XYZ_R: %s\" % test_XYZ(XYZ_R))"
   ]
  },
  {
   "cell_type": "markdown",
   "metadata": {},
   "source": [
    "<hr>\n",
    "\n",
    "Cool! So now let's make a message qubit, for simplicity, in the spin up state."
   ]
  },
  {
   "cell_type": "code",
   "execution_count": 13,
   "metadata": {},
   "outputs": [],
   "source": [
    "IDrest = qt.identity(2**N)\n",
    "IDrest.dims = [[2]*N, [2]*N]\n",
    "\n",
    "msg = qt.basis(2,0)\n",
    "state = qt.tensor(msg, TFD)\n",
    "\n",
    "XYZ_msg = {\"I\": qt.tensor(qt.identity(2), IDrest),\\\n",
    "           \"X\": qt.tensor(qt.sigmax(), IDrest),\\\n",
    "           \"Y\": qt.tensor(qt.sigmay(), IDrest),\\\n",
    "           \"Z\": qt.tensor(qt.sigmaz(), IDrest)}\n",
    "\n",
    "XYZ_L_ = dict([(op_name, qt.tensor(qt.identity(2), op)) for op_name, op in XYZ_L.items()])\n",
    "XYZ_R_ = dict([(op_name, qt.tensor(qt.identity(2), op)) for op_name, op in XYZ_R.items()])"
   ]
  },
  {
   "cell_type": "markdown",
   "metadata": {},
   "source": [
    "But wait, how do we implement our swap?\n",
    "\n",
    "Well, here's an idea. We can take the usual swap operator on two qubits and express it in the Pauli basis. We have two sets Pauli matrices for the message qubit and the left black hole qubit, and so we can rebuild the swap operator out of them!"
   ]
  },
  {
   "cell_type": "code",
   "execution_count": 14,
   "metadata": {},
   "outputs": [
    {
     "name": "stdout",
     "output_type": "stream",
     "text": [
      "before swap:\n",
      " msg qubit: [0. 0. 1.]\n",
      "   L qubit: [-0. -0.  0.]\n",
      "\n",
      "after swap:\n",
      " msg qubit: [-0. -0.  0.]\n",
      "   L qubit: [0. 0. 1.]\n",
      "\n",
      "swap again:\n",
      " msg qubit: [0. 0. 1.]\n",
      "   L qubit: [-0. -0.  0.]\n"
     ]
    }
   ],
   "source": [
    "from itertools import product\n",
    "from qutip.qip.operations.gates import swap\n",
    "\n",
    "def pauli_basis(n):\n",
    "    IXYZ = {\"I\": qt.identity(2), \"X\": qt.sigmax(), \"Y\": qt.sigmay(), \"Z\": qt.sigmaz()}\n",
    "    return dict([(\"\".join(P), qt.tensor(*[IXYZ[p]/2 for p in P])) for P in product(IXYZ, repeat=n)])\n",
    "\n",
    "############################################\n",
    "\n",
    "P = pauli_basis(2)\n",
    "SWAP = swap(N=2, targets=[0,1])\n",
    "SWAPc = op_coeffs(SWAP, P)\n",
    "INSERT = sum([coeff*XYZ_msg[op_name[0]]*XYZ_L_[op_name[1]] for op_name, coeff in SWAPc.items()])\n",
    "\n",
    "print(\"before swap:\")\n",
    "print(\" msg qubit: %s\" % np.round(qubit_xyz(state, XYZ_msg)))\n",
    "print(\"   L qubit: %s\" % np.round(qubit_xyz(state, XYZ_L_)))\n",
    "\n",
    "print(\"\\nafter swap:\")\n",
    "print(\" msg qubit: %s\" % np.round(qubit_xyz(INSERT*state, XYZ_msg)))\n",
    "print(\"   L qubit: %s\" % np.round(qubit_xyz(INSERT*state, XYZ_L_)))\n",
    "\n",
    "print(\"\\nswap again:\")\n",
    "print(\" msg qubit: %s\" % np.round(qubit_xyz(INSERT*INSERT*state, XYZ_msg)))\n",
    "print(\"   L qubit: %s\" % np.round(qubit_xyz(INSERT*INSERT*state, XYZ_L_)))"
   ]
  },
  {
   "cell_type": "markdown",
   "metadata": {},
   "source": [
    "<hr>\n",
    "\n",
    "So now we have all the ingredients in place. Morally speaking, we should skip over the first two complex fermions in our coupling operator since they're being used for the incoming/outgoing qubit--it, of course, works better if we don't!"
   ]
  },
  {
   "cell_type": "code",
   "execution_count": 16,
   "metadata": {},
   "outputs": [
    {
     "name": "stdout",
     "output_type": "stream",
     "text": [
      "final R qubit: [-0.01030083  0.00485226  0.36615556]\n"
     ]
    },
    {
     "data": {
      "image/png": "[encoded data removed]",
      "text/plain": [
       "<Figure size 432x288 with 1 Axes>"
      ]
     },
     "metadata": {
      "needs_background": "light"
     },
     "output_type": "display_data"
    }
   ],
   "source": [
    "%matplotlib inline\n",
    "import matplotlib.pyplot as plt\n",
    "\n",
    "HL_ = qt.tensor(qt.identity(2), HL)\n",
    "HR_ = qt.tensor(qt.identity(2), HR)\n",
    "SIZE = qt.tensor(qt.identity(2), sum([cf_.dag()*cf_ for cf_ in cf[2:]]))\n",
    "\n",
    "def wormhole(state, g, t=10):\n",
    "    global HL, HR, SIZE\n",
    "    return (-1j*HR_*t).expm()*(1j*g*SIZE).expm()*(-1j*HL_*t).expm()*INSERT*(1j*HL_*t).expm()*state\n",
    "\n",
    "G = np.linspace(-5, 5, 50)\n",
    "Z = [qt.expect(XYZ_R_[\"Z\"], wormhole(state, g)) for g in G]\n",
    "g = G[np.argmax(Z)] # since we started with the msg being [0,0,1]\n",
    "\n",
    "final_state = wormhole(state, g)\n",
    "final_qubit = qubit_xyz(final_state, XYZ_R_)\n",
    "\n",
    "print(\"final R qubit: %s\" % final_qubit)\n",
    "plt.plot(G, Z, linewidth=2.0)\n",
    "plt.xlabel(\"g\")\n",
    "plt.ylabel(\"<Z>\")\n",
    "plt.show()"
   ]
  },
  {
   "cell_type": "markdown",
   "metadata": {},
   "source": [
    "And there you have it. We iterate over possible values $g$ of the coupling, evolving backwards in time on the left, swapping in our message, evolving forward in time on the left, coupling the two sides, then evolving forward in time on the right, finally examining the XYZ expectation values of the right qubit.\n",
    "\n",
    "It's not that accurate, but then again we're only using a handful of fermions!\n",
    "\n",
    "For more: see [syk_animated.py](examples/syk_animated.py)."
   ]
  },
  {
   "cell_type": "markdown",
   "metadata": {},
   "source": [
    "<hr>\n",
    "\n",
    "## Bibliography\n",
    "\n",
    "<a href=\"https://arxiv.org/abs/1911.06314\">Quantum Gravity in the Lab: Teleportation by Size and Traversable Wormholes</a>\n",
    "\n",
    "<a href=\"https://arxiv.org/abs/1810.11958\">Quantum Epidemiology: Operator Growth, Thermal Effects, and SYK</a>\n",
    "\n",
    "<a href=\"https://arxiv.org/abs/1911.07416\">A Traversable Wormhole Teleportation Protocol in the SYK Model</a>\n",
    "\n"
   ]
  }
 ],
 "metadata": {
  "kernelspec": {
   "display_name": "VPython",
   "language": "python",
   "name": "vpython"
  },
  "language_info": {
   "codemirror_mode": {
    "name": "ipython",
    "version": 3
   },
   "file_extension": ".py",
   "mimetype": "text/x-python",
   "name": "python",
   "nbconvert_exporter": "python",
   "pygments_lexer": "ipython3",
   "version": "3.7.7"
  }
 },
 "nbformat": 4,
 "nbformat_minor": 4
}
