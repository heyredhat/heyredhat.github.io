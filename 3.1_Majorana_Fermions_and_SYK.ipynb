{
 "cells": [
  {
   "cell_type": "markdown",
   "metadata": {},
   "source": [
    "# How to Continue Making a Wormhole\n",
    "\n",
    "## Part 2: Majorana Fermions and SYK"
   ]
  },
  {
   "cell_type": "markdown",
   "metadata": {},
   "source": [
    "To approach SYK (the Sachdev-Ye-Kitaev) model, first we need to recall about fermions.\n",
    "\n",
    "As you may know, we (often) classify particles in terms of whether they are bosons or fermions. Generally speaking, bosons are like force particles: examples are the photon, the gluon. Any number of bosons can be in the same state: hence, a laser beam. The bosonic particles are in themselves indistinguishable: they are permutation symmetric. We can use quantum harmonic oscillators to easily keep track of bosonic degrees of freedom. We assign a harmonic oscillator to each degree of freedom of the particle, and the number operator of each oscillator keeps track of how many particles are in *that state*. The use of harmonic oscillators automatically imposes for us that the particles be permutation symmetric. For each oscillator, we have \"creation\" and \"annihilation\" operators, which add and subtract quanta from each oscillator--and although they are not themselves hermitian, they can be used as building blocks for hermitian operators. If we have multiple oscillators, we can just tensor these creation and annihilation operators with identities so they act on the appropriate subspaces. These operators obey the following commutation relations:\n",
    "\n",
    "$$ [b_{i}, b_{j}] = [b^{\\dagger}_{i}, b^{\\dagger}_{j}] = 0 $$\n",
    "$$ [b_{i}, b^{\\dagger}_{j}] = \\delta^{i}_{j} $$\n",
    "\n",
    "Where \\\\( b^{\\dagger} \\\\) is a creation operator, \\\\( b \\\\) is an annihilation operator, and: the commutator is \\\\( [A, B] = AB - BA \\\\). \n",
    "\n",
    "If we want to do the same thing for fermions, we have to make some changes. First, our oscillators can only have 0 or 1 excitations. In other words, at maximum only 1 fermion can be in a given state. This is the Pauli exclusion principle at work. Indeed, the tensor product has to work differently: the whole thing has to do with how fermions are permutation *antisymmetric* particles, unlike bosons which are permutation *symmetric*. So it doesn't matter the order in which we create bosons, but if for fermions: \\\\( f^{\\dagger}_{i} f^{\\dagger}_{j} \\mid 0 \\rangle = -f^{\\dagger}_{i} f^{\\dagger}_{j} \\mid 0 \\rangle \\\\), where \\\\( \\mid 0 \\rangle \\\\) is the fermion vacuum aka the state of all oscillators having 0 quanta.\n",
    "\n",
    "The upshot is that the commutation relations between fermions involve the anticommutator instead of the commutator. The anticommutator is \\\\( \\{A, B\\} = AB + BA \\\\).\n",
    "\n",
    "$$ \\{f_{i}, f_{j}\\} = \\{f^{\\dagger}_{i}, f^{\\dagger}_{j}\\} = 0 $$\n",
    "$$ \\{f_{i}, f^{\\dagger}_{j}\\} = \\delta^{i}_{j} $$\n",
    "\n",
    "It's not hard to implement this. Suppose we have 5 fermions. The standard 2x2 matrices for creation and annihilation operators are just:\n",
    "\n",
    "$$ f^{\\dagger} = \\begin{pmatrix} 0 & 0 \\\\ 1 & 0 \\end{pmatrix} $$\n",
    "$$ f = \\begin{pmatrix} 0 & 1 \\\\ 0 & 0 \\end{pmatrix} $$\n",
    "\n",
    "To get 5 pairs of creation and annihilation operators with the correct commutation relations, and so which preserve the antisymmetry of the fermions: \n",
    "\n",
    "$$ f_{0} = f \\otimes I \\otimes I \\otimes I \\otimes I $$\n",
    "$$ f_{1} = Z \\otimes f \\otimes I \\otimes I \\otimes I $$\n",
    "$$ f_{2} = Z \\otimes Z \\otimes f \\otimes I \\otimes I $$\n",
    "$$ f_{3} = Z \\otimes Z \\otimes Z \\otimes f \\otimes I $$\n",
    "$$ f_{4} = Z \\otimes Z \\otimes Z \\otimes Z \\otimes f $$\n",
    "\n",
    "Where $Z$ is Pauli $Z$. The idea is that there is a \"normal ordering\" for the fermions. When the operators are applied to the vacuum in the descending order, the $Z$'s in \\\\( f_{4} \\\\), say, don't matter since there are no excitations in those oscillators: we're in the vacuum after all. But when the operators are applied in the reverse order, they pick up a negative sign from the $Z$'s. You can check that this works\n"
   ]
  },
  {
   "cell_type": "code",
   "execution_count": null,
   "metadata": {},
   "outputs": [],
   "source": [
    "import qutip as qt\n",
    "import numpy as np\n",
    "\n",
    "def anticommutator(a, b):\n",
    "    return a*b + b*a\n",
    "\n",
    "#########################################################################################\n",
    "\n",
    "def fermion_operators(n):\n",
    "    return [qt.tensor(*[qt.destroy(2) if i == j\\\n",
    "                else (qt.sigmaz() if j < i\\\n",
    "                    else qt.identity(2))\\\n",
    "                        for j in range(n)])\\\n",
    "                            for i in range(n)]\n",
    "\n",
    "def test_fermion_operators(f):\n",
    "    for i in range(len(f)):\n",
    "        for j in range(len(f)):\n",
    "            d = f[i].shape[0]\n",
    "            test1 = anticommutator(f[i], f[j]).full()\n",
    "            test2 = anticommutator(f[i], f[j].dag()).full()\n",
    "            if not \\\n",
    "                (np.isclose(test1, np.zeros((d,d))).all()\\\n",
    "                    and \\\n",
    "                ((np.isclose(test2, np.zeros((d,d))).all() and i != j)\\\n",
    "                        or (np.isclose(test2, np.eye(d)).all() and i == j))):\n",
    "                return False\n",
    "    return True\n",
    "\n",
    "#########################################################################################\n",
    "\n",
    "n = 6\n",
    "IDn = qt.identity(2**n)\n",
    "IDn.dims = [[2]*n, [2]*n]\n",
    "\n",
    "f = fermion_operators(n)\n",
    "print(test_fermion_operators(f))\n",
    "\n",
    "N = sum([a.dag()*a for a in f]) # number operator\n",
    "I = qt.basis(2**n, 0) # vacuum state\n",
    "I.dims = [[2]*n, [1]*n]"
   ]
  },
  {
   "cell_type": "markdown",
   "metadata": {},
   "source": [
    "So we have some fermions. Now we're going to do a crazy thing. It turns out we can split a fermion into two \"Majorana fermions.\" The idea is that a Majorana fermion is its own antiparticle: its creation and annihilation operators *are the same operator*. In some sense, we can think of them like the \"square roots\" of fermions. Furthermore, just as we can split any normal fermion into two Majoranas, we can fuse any two Majoranas into a new normal fermion. \n",
    "\n",
    "Given normal fermion operators \\\\(f\\\\) and \\\\(f^{\\dagger}\\\\), we form Majorana operators:\n",
    "\n",
    "$$ \\psi_{L} = \\frac{1}{\\sqrt{2}} (f + f^{\\dagger}) $$\n",
    "$$ \\psi_{R} = \\frac{i}{\\sqrt{2}} (f - f^{\\dagger}) $$\n",
    "\n",
    "Here \\\\( \\psi \\\\) is the standard way of referring to a Majorana operator. We've chosen to call the two Majoranas we get  by \"left\" and \"right\" for reasons we shall shortly see. And by the way, they are hermitian.\n",
    "\n",
    "So we we have $n$ fermions, we could imagine splitting them all into Majoranas. They'll obey the commutation relations:\n",
    "\n",
    "$$ \\{ \\psi_{i}, \\psi_{j} \\}  = \\delta_{i}^{j}$$\n",
    "\n",
    "Then, for example, we could create new normal fermions out of the Majoranas on the left, and then on the right. \n",
    "\n",
    "The vacuum of the original fermions corresponds to a maximally entangled state between the left fermions and the right fermions."
   ]
  },
  {
   "cell_type": "code",
   "execution_count": null,
   "metadata": {},
   "outputs": [],
   "source": [
    "def majorana_operators(f):\n",
    "    L, R = [], []\n",
    "    for i in range(len(f)):\n",
    "        L.append((1/np.sqrt(2))*(f[i] + f[i].dag()))\n",
    "        R.append((1j/(np.sqrt(2)))*(f[i] - f[i].dag()))\n",
    "    return L, R\n",
    "\n",
    "def test_majorana_operators(m):\n",
    "    for i in range(len(m)):\n",
    "        for j in range(len(m)):\n",
    "            d = m[i].shape[0]\n",
    "            test = anticommutator(m[i], m[j]).full()\n",
    "            if not ((i == j and np.isclose(test, np.eye(d)).all()) or\\\n",
    "                (i != j and np.isclose(test, np.zeros((d,d))).all())):\n",
    "                return False\n",
    "    return True\n",
    "\n",
    "def majoranas_to_fermions(m):\n",
    "    return [(m[i] + 1j*m[i+1])/np.sqrt(2) for i in range(0, len(m)-1, 2)],\\\n",
    "            [(m[i] - 1j*m[i+1])/np.sqrt(2) for i in range(0, len(m)-1, 2)]\n",
    "\n",
    "def test_fermion_operators2(f, fdag):\n",
    "    for i in range(len(f)):\n",
    "        for j in range(len(f)):\n",
    "            d = f[i].shape[0]\n",
    "            test1 = anticommutator(f[i], f[j]).full()\n",
    "            test2 = anticommutator(f[i], fdag[j]).full()\n",
    "            if not \\\n",
    "                (np.isclose(test1, np.zeros((d,d))).all()\\\n",
    "                    and \\\n",
    "                ((np.isclose(test2, np.zeros((d,d))).all() and i != j)\\\n",
    "                        or (np.isclose(test2, np.eye(d)).all() and i == j))):\n",
    "                return False\n",
    "    return True\n",
    "\n",
    "#########################################################################################\n",
    "\n",
    "mL, mR = majorana_operators(f)\n",
    "print(test_majorana_operators(mL+mR))\n",
    "\n",
    "Lf, Lfdag = majoranas_to_fermions(mL)\n",
    "NLf = sum([Lfdag[i]*Lf[i] for i in range(len(Lf))]) # L number operator\n",
    "Rf, Rfdag = majoranas_to_fermions(mR)\n",
    "NRf = sum([Rfdag[i]*Rf[i] for i in range(len(Rf))]) # R number operator\n",
    "                                   \n",
    "print(test_fermion_operators2(Lf, Lfdag))\n",
    "print(test_fermion_operators2(Rf, Rfdag))\n",
    "print(qt.expect(NLf, I), qt.expect(NRf, I))\n",
    "\n",
    "NLR = NLf+NRf\n",
    "NLRl, NLRv = NLR.eigenstates()\n",
    "\n",
    "CB = np.array([v.full().T[0] for v in NLRv]).T\n",
    "ILR = I.transform(CB) # The vacuum from the L/R perspective\n",
    "\n",
    "print(qt.entropy_vn(ILR.ptrace((0,2,4)))) # really should re-order things...\n",
    "print(qt.entropy_vn(ILR.ptrace((1,3,5))))\n",
    "print(qt.entropy_vn((1/8)*qt.identity(2**3))) # max entropy\n",
    "\n",
    "#for i, v in enumerate(NLRv):\n",
    "#    print(\"%d) l=%f <NL>=%f, <NR>=%f\" %(i, NLRl[i], qt.expect(NLf, v), qt.expect(NRf, v)))"
   ]
  },
  {
   "cell_type": "markdown",
   "metadata": {},
   "source": [
    "<hr>\n",
    "\n",
    "The next thing we need to realize is that the mMjorana operators form a basis for the whole space of operators.\n",
    "\n",
    "We consider all combinations of Majoranas of different lengths (eg. \\\\( I, \\psi_{0}, \\psi_{1}, \\psi_{2}, \\psi_{0}\\psi_{1}, \\psi_{0}\\psi_{2}, \\psi_{1}\\psi_{2}, \\psi_{0}\\psi_{1}\\psi_{2} \\\\)) and take the inner product of our operator with each of them in turn. "
   ]
  },
  {
   "cell_type": "code",
   "execution_count": null,
   "metadata": {},
   "outputs": [],
   "source": [
    "from itertools import combinations\n",
    "from functools import reduce\n",
    "\n",
    "def to_majorana_basis(op, m):\n",
    "    N = len(m)\n",
    "    terms = []\n",
    "    for n in range(N+1):\n",
    "        if n == 0:\n",
    "            terms.append(op.tr()/m[0].shape[0])\n",
    "        else:\n",
    "            for pr in combinations(list(range(N)), n):\n",
    "                s = reduce(lambda x,y: x*y, [m[p] for p in pr])\n",
    "                terms.append((s.dag()*op).tr()*2**(n-2))\n",
    "    return qt.Qobj(np.array(terms))\n",
    "\n",
    "def from_majorana_basis(op, m):\n",
    "    op = op.full().T[0]\n",
    "    N = len(m)\n",
    "    c = 0\n",
    "    terms = []\n",
    "    for n in range(N+1):\n",
    "        if n == 0:\n",
    "            terms.append(op[c]*qt.identity(m[0].shape[0]))\n",
    "            terms[-1].dims = m[0].dims\n",
    "            c += 1\n",
    "        else:\n",
    "            for pr in combinations(list(range(N)), n):\n",
    "                s = reduce(lambda x,y: x*y, [m[p] for p in pr])\n",
    "                terms.append(op[c]*s)\n",
    "                terms[-1].dims = m[0].dims\n",
    "                c += 1\n",
    "    return sum(terms)"
   ]
  },
  {
   "cell_type": "markdown",
   "metadata": {},
   "source": [
    "Now suppose we consider a system of n fermions, which will split into $\\frac{n}{2}$ left fermions and $\\frac{n}{2}$ right fermions via Majoranas.\n",
    "\n",
    "But actually, let's first just consider a system of $\\frac{n}{2}$ fermions. We form Majoranas out of them, not really caring about left and right. \n",
    "\n",
    "We're interested in an operator O on this space, which is $\\frac{n}{2}$ x $\\frac{n}{2}$ dimensional. We expand it in a basis of strings of the $\\frac{n}{2}$ Majoranas, and get a series of coefficients. \n",
    "\n",
    "Then we take the larger system of $n$ fermions, and take the $\\frac{n}{2}$ Majorana operators on the left side of our larger system and multiply them all by the obtained coefficicents and sum. We've done this in order to upgrade our operator to act only with the left Majoranas of the larger system.\n",
    "\n",
    "Naturally, we could upgrade our operator to act with either left Majoranas or right Majoranas. Suppose we act with it on the left. Here's the upshot. Suppose we're in the vacuum state of the original fermions, which corresponds to a maximally entangled state acros left and right.\n",
    "\n",
    "Because left and right are entangled, this amounts what we had before when we turned an operator into a state by acting with it on one half of a maximally entangled (cup) state. The operator on the left becomes splayed out across left and right as a state. \n",
    "\n",
    "Indeed, just as before, We can imagine bringing the operator down around the cup and up the right \"wire.\" Before, however, we had to take the transpose of the operator. In other words, we got the same state as if we acted on the left half with the operator if instead we multiply the right half by the transpose of the original operator.\n",
    "\n",
    "Here something a little different occurs: we don't take the transpose of the original operator anymore, instead to get the right relation, it suffices to multiply all the right Majoranas by $i$! In other words, instead of doing a 90 degree rotation to the matrix, as it were, somehow in this basis, that boils down to 90 degree rotation in the complex plane. It makes sense: since in each original fermion dwell a left and a right part, each separated by a mere local rotation."
   ]
  },
  {
   "cell_type": "code",
   "execution_count": null,
   "metadata": {},
   "outputs": [],
   "source": [
    "n_ = int(n/2)\n",
    "f_ = fermion_operators(n_)\n",
    "m_ = reduce(lambda x, y: x+y, majorana_operators(f_))\n",
    "\n",
    "O = qt.rand_unitary(2**n_)\n",
    "O.dims = [[2]*n_, [2]*n_]\n",
    "\n",
    "OL = from_majorana_basis(to_majorana_basis(O, m_), mL)\n",
    "OR = from_majorana_basis(to_majorana_basis(O, m_), [1j*r for r in mR])\n",
    "\n",
    "#print(to_majorana_basis(OR, mL))\n",
    "#print(to_majorana_basis(OL, mR))\n",
    "\n",
    "print(OL*I == OR*I)"
   ]
  },
  {
   "cell_type": "markdown",
   "metadata": {},
   "source": [
    "Now before in our wormhole adventures, we sort of waved our hands when it came to choosing the coupling operator between the two sides, saying that the $ZZ$ coupling is a good proxy for a \"size\" operator. Here there is a literal size operator which we can use. \n",
    "\n",
    "As I've said, if we take an operator and apply it to the left side, it unwinds out as a \"vector\" across the left and right--and here's the twist: *the total number operator of the original fermions* turns out to be the size operator. And the individual number operators count the numbers of Majoranas themselves \"inside\" an operator.\n",
    "\n",
    "The construction is that we take an operator that acts on $\\frac{n}{2}$ x $\\frac{n}{2}$ fermions, upgrade it to a double sided state by acting on the left on the maximally entangled left/right state corresponding to the \"complex fermion vacuum\" (as we'll call the original fermion vacuum). We then look at the expectation value of the (complex fermion) number operator(s) on that state. Easy as pie!"
   ]
  },
  {
   "cell_type": "code",
   "execution_count": null,
   "metadata": {},
   "outputs": [],
   "source": [
    "def size(O, i=None):\n",
    "    global f, mL, m_, I, N\n",
    "    majorana_state = (from_majorana_basis(to_majorana_basis(O, m_), mL)*I).unit()\n",
    "    if type(i) != type(None):\n",
    "        return qt.expect(f[i].dag()*f[i], majorana_state)\n",
    "    else:\n",
    "        return qt.expect(N, majorana_state)\n",
    "\n",
    "print(size(m_[0]))\n",
    "print(size(m_[1]*m_[0]))\n",
    "print(size(m_[2]*m_[1]*m_[0]))\n",
    "print(size(m_[2]*m_[1]*m_[0], i=0))\n",
    "print(size(m_[2]*m_[1]*m_[0], i=1))\n",
    "print(size(m_[2]*m_[1]*m_[0], i=2))"
   ]
  },
  {
   "cell_type": "markdown",
   "metadata": {},
   "source": [
    "Now we're ready to define the SYK hamiltonian.\n",
    "\n",
    "\\\\( E_{SYK} = -\\frac{1}{4!} \\sum_{i}^{m} \\sum_{j}^{m} \\sum_{k}^{m} \\sum_{l}^{m} c_{i,j,k,l} \\psi_{i}\\psi_{j}\\psi_{k}\\psi_{l} \\\\) for \\\\( i < j < k < l \\\\)\n",
    "\n",
    "It's a sum of four way interactions between Majorana fermions, in other words, the interactions are 4-local. The coefficients are normally distributed. \n",
    "\n",
    "Before, once we'd decided on an energy operator, we formed \\\\( E_{L}\\\\) and \\\\( E_{R} \\\\), where the latter was the transpose of the former. Here we build SYK energy operators out of left Majoranas and right Majoranas, and the right ones are multiplied by $i$."
   ]
  },
  {
   "cell_type": "code",
   "execution_count": null,
   "metadata": {},
   "outputs": [],
   "source": [
    "import math\n",
    "\n",
    "def random_syk_couplings(m):\n",
    "    J = {}\n",
    "    for i in range(m):\n",
    "        for j in range(m):\n",
    "            for k in range(m):\n",
    "                for l in range(m):\n",
    "                    if i < j and j < k and k < l:\n",
    "                        J[(i, j, k, l)] = np.random.normal()\n",
    "    return J\n",
    "\n",
    "def syk_ham(couplings, m):\n",
    "    Jterms = []\n",
    "    for ijkl, c in couplings.items():\n",
    "        i, j, k, l = ijkl\n",
    "        Jterms.append(c*m[i]*m[j]*m[k]*m[l])\n",
    "    return (-1/(math.factorial(4)))*sum(Jterms)\n",
    "\n",
    "J = random_syk_couplings(n)\n",
    "E = syk_ham(J, m_)\n",
    "EL = syk_ham(J, mL)\n",
    "ER = syk_ham(J, [1j*r for r in mR]) \n",
    "print(EL*I == ER*I)"
   ]
  },
  {
   "cell_type": "markdown",
   "metadata": {},
   "source": [
    "Now we can evolve our operator \\\\( O \\\\) in time!"
   ]
  },
  {
   "cell_type": "code",
   "execution_count": null,
   "metadata": {},
   "outputs": [],
   "source": [
    "OLt = lambda t: (1j*EL*t).expm()*OL*(-1j*EL*t).expm()\n",
    "ORt = lambda t: (1j*ER*t).expm()*OR*(-1j*ER*t).expm()\n",
    "print(OLt(-10)*I == ORt(10)*I)"
   ]
  },
  {
   "cell_type": "markdown",
   "metadata": {},
   "source": [
    "Similarly, we can construct the TFD state at inverse temperature \\\\( \\beta \\\\) by \"splaying\" \\\\( \\rho \\\\) across left and right."
   ]
  },
  {
   "cell_type": "code",
   "execution_count": null,
   "metadata": {},
   "outputs": [],
   "source": [
    "def construct_thermal_dm(H, beta=0):\n",
    "    return (-beta*H*(1/2)).expm()/np.sqrt((-beta*H*(1/2)).expm().tr())\n",
    "\n",
    "rho = construct_thermal_dm(E, beta=0.5)\n",
    "rhoR = from_majorana_basis(to_majorana_basis(rho, m_), [1j*r for r in mR])\n",
    "TFD = (rhoR*I).unit()"
   ]
  },
  {
   "cell_type": "markdown",
   "metadata": {},
   "source": [
    "We could use the TFD instead of the complex fermion vacuum to get a temperature dependent notion of size!"
   ]
  },
  {
   "cell_type": "code",
   "execution_count": null,
   "metadata": {},
   "outputs": [],
   "source": [
    "def cold_size(O, i=None):\n",
    "    global f, mL, m_, TFD, N\n",
    "    majorana_state = (from_majorana_basis(to_majorana_basis(O, m_), mL)*TFD).unit()\n",
    "    if type(i) != type(None):\n",
    "        return qt.expect(f[i].dag()*f[i], majorana_state)\n",
    "    else:\n",
    "        return qt.expect(N, majorana_state)\n",
    "    \n",
    "print(cold_size(m_[0]))\n",
    "print(cold_size(m_[1]*m_[0]))\n",
    "print(cold_size(m_[2]*m_[1]*m_[0]))\n",
    "print(cold_size(m_[2]*m_[1]*m_[0], i=0))\n",
    "print(cold_size(m_[2]*m_[1]*m_[0], i=1))\n",
    "print(cold_size(m_[2]*m_[1]*m_[0], i=2))"
   ]
  },
  {
   "cell_type": "markdown",
   "metadata": {},
   "source": [
    "Moreover, consider:"
   ]
  },
  {
   "cell_type": "code",
   "execution_count": null,
   "metadata": {},
   "outputs": [],
   "source": [
    "OLt(-10)*TFD"
   ]
  },
  {
   "cell_type": "code",
   "execution_count": null,
   "metadata": {},
   "outputs": [],
   "source": [
    "ORt(10)*TFD"
   ]
  },
  {
   "cell_type": "markdown",
   "metadata": {},
   "source": [
    "As you can see, they're pretty close up to phase shifts on the components at finite temperature. Check it out at infinite temperature, and compare unitary vs hermitian operators. This is what is meant by ~ perfect size winding. We can get close to an identity between left and right operators at different temperatures by a diagonal phase shift. And indeed, the total number operator of the complex fermions is diagonal in the basis we're working in."
   ]
  },
  {
   "cell_type": "code",
   "execution_count": null,
   "metadata": {},
   "outputs": [],
   "source": [
    "A = OLt(-10)*TFD\n",
    "B = ORt(10)*TFD\n",
    "A_ = A.full().T[0]\n",
    "B_ = B.full().T[0]\n",
    "D_ = np.array([B_[i]/A_[i] for i in range(len(A_))])\n",
    "D = qt.Qobj(np.diag(D_)) # our e^{igV}\n",
    "D.dims = [A.dims[0], A.dims[0]]\n",
    "\n",
    "print(D*A == B)"
   ]
  },
  {
   "cell_type": "markdown",
   "metadata": {},
   "source": [
    "Okay, so we've got a wormhole for operators. But what about for states? Before we just inserted our qubit using a SWAP operation. But that won't work here: we're working in the complex fermion basis where each fermion encodes left and right! But of course, we can gather up the left and right Majoranas to form left and right fermions. We could imagine swapping our qubit for the leftmost fermion, but that's kind of weird since although both qubits and fermionic oscillators live in 2D Hilbert spaces, they have different interpretations: in the case of a spin, the basis vectors refer to spin along or against the axis of quanization, and in the case of an oscillator, the basis vectors refer to the number of excitations, 0 or 1. \n",
    "\n",
    "We can solve this with a little geometry whose specifics we can't get into here. It turns out, just as we can form a complex fermion out of two Majoranas, we can form a qubit out of three Majoranas!\n",
    "\n",
    "$$ X = -i\\psi_{x}\\psi_{z} $$\n",
    "$$ Y = -i\\psi_{z}\\psi_{y} $$\n",
    "$$ Z = -i\\psi_{y}\\psi_{x} $$\n",
    "\n",
    "These indeed follow the correct commutation relations for the Pauli operators.\n",
    "\n",
    "$$ [X, Y] = iZ $$\n",
    "$$ [Y, Z] = iX $$\n",
    "$$ [Z, X] = iY $$\n",
    "$$ [X, X] = [Y, Y] = [Z, Z] = 0 $$"
   ]
  },
  {
   "cell_type": "code",
   "execution_count": null,
   "metadata": {},
   "outputs": [],
   "source": [
    "def commutator(a, b):\n",
    "    return a*b - b*a\n",
    "\n",
    "X = -1j*m_[0]*m_[2]\n",
    "Y = -1j*m_[2]*m_[1]\n",
    "Z = -1j*m_[1]*m_[0]\n",
    "print(commutator(X, Y) == 1j*Z)\n",
    "print(commutator(Y, Z) == 1j*X)\n",
    "print(commutator(Z, X) == 1j*Y)\n",
    "print(commutator(X, X) == commutator(Y, Y) == commutator(Z, Z))\n",
    "print(commutator(X, X).norm())"
   ]
  },
  {
   "cell_type": "markdown",
   "metadata": {},
   "source": [
    "Cool! So let's start our wormhole protocol. We start with a msg in the spin up state. It of course has its XYZ operators."
   ]
  },
  {
   "cell_type": "code",
   "execution_count": null,
   "metadata": {},
   "outputs": [],
   "source": [
    "msg = qt.basis(2,0)\n",
    "big_I = qt.tensor(msg, I)\n",
    "big_TFD = qt.tensor(msg, TFD)\n",
    "\n",
    "msgXYZ = {\"I\": qt.tensor(qt.identity(2), IDn),\\\n",
    "          \"X\": qt.tensor(qt.sigmax(), IDn),\\\n",
    "          \"Y\": qt.tensor(qt.sigmay(), IDn),\\\n",
    "          \"Z\":qt.tensor(qt.sigmaz(), IDn)}\n",
    "\n",
    "def Ostar(state):\n",
    "    global msgXYZ\n",
    "    return [qt.expect(msgXYZ[o], state) for o in [\"I\", \"X\", \"Y\", \"Z\"]]"
   ]
  },
  {
   "cell_type": "markdown",
   "metadata": {},
   "source": [
    "Then we can form XYZ operators that act on the \"first\" qubit of the left black hole and XYZ operators that act on the \"first\" qubit of the right black hole, where we use the first three Majorana's on either side. And let's make some helper functions that give us the rotation axis of each of the spins. "
   ]
  },
  {
   "cell_type": "code",
   "execution_count": null,
   "metadata": {},
   "outputs": [],
   "source": [
    "LXYZ = {\"I\": qt.tensor(qt.identity(2), IDn),\\\n",
    "        \"X\": qt.tensor(qt.identity(2), from_majorana_basis(to_majorana_basis(X, m_), mL)),\\\n",
    "        \"Y\": qt.tensor(qt.identity(2), from_majorana_basis(to_majorana_basis(Y, m_), mL)),\\\n",
    "        \"Z\": qt.tensor(qt.identity(2), from_majorana_basis(to_majorana_basis(Z, m_), mL))}\n",
    "\n",
    "RXYZ = {\"I\": qt.tensor(qt.identity(2), IDn),\\\n",
    "        \"X\": qt.tensor(qt.identity(2), from_majorana_basis(to_majorana_basis(X, m_), [1j*r for r in mR])),\\\n",
    "        \"Y\": qt.tensor(qt.identity(2), from_majorana_basis(to_majorana_basis(Y, m_), [1j*r for r in mR])),\\\n",
    "        \"Z\": qt.tensor(qt.identity(2), from_majorana_basis(to_majorana_basis(Z, m_), [1j*r for r in mR]))}\n",
    "\n",
    "def Lstar(state):\n",
    "    global LXYZ\n",
    "    return [qt.expect(LXYZ[o],state) for o in [\"I\", \"X\", \"Y\", \"Z\"]]\n",
    "\n",
    "def Rstar(state):\n",
    "    global RXYZ\n",
    "    return [qt.expect(RXYZ[o],state) for o in [\"I\", \"X\", \"Y\", \"Z\"]]"
   ]
  },
  {
   "cell_type": "markdown",
   "metadata": {},
   "source": [
    "So we have our XYZ operators. Now we need our swap. Well, here's an idea. We can take the normal swap operator and express it in the Pauli basis. We have two sets Pauli matrices for the message qubit and the left black hole qubit, and so we can rebuild the swap operator out of them!"
   ]
  },
  {
   "cell_type": "code",
   "execution_count": null,
   "metadata": {},
   "outputs": [],
   "source": [
    "from itertools import product\n",
    "from qutip.qip.operations.gates import swap\n",
    "\n",
    "def pauli_basis(n):\n",
    "    IXYZ = {\"I\": qt.identity(2), \"X\": qt.sigmax(), \"Y\": qt.sigmay(), \"Z\": qt.sigmaz()}\n",
    "    names, ops = [], []\n",
    "    for P in product(IXYZ, repeat=n):\n",
    "        names.append(\"\".join(P))\n",
    "        ops.append(qt.tensor(*[IXYZ[p] for p in P]))\n",
    "    return names, ops\n",
    "\n",
    "def to_pauli(op, Pops):\n",
    "    return np.array([(o.dag()*op).tr() for o in Pops])/np.sqrt(len(Pops))\n",
    "\n",
    "############################################\n",
    "\n",
    "SWAP = swap(N=2, targets=[0,1])\n",
    "Pnames, Pops = pauli_basis(2)\n",
    "SWAPp = to_pauli(SWAP, Pops)\n",
    "\n",
    "INSERT = sum([SWAPp[i]*msgXYZ[name[0]]*LXYZ[name[1]] for i, name in enumerate(Pnames)])\n",
    "\n",
    "print(Ostar(big_TFD)) #outside qubit\n",
    "print(Lstar(big_TFD)) #inside left qubit\n",
    "print()\n",
    "print(Ostar(INSERT*big_TFD))\n",
    "print(Lstar(INSERT*big_TFD))\n",
    "print()\n",
    "print(Ostar(INSERT*INSERT*big_TFD))\n",
    "print(Lstar(INSERT*INSERT*big_TFD))"
   ]
  },
  {
   "cell_type": "markdown",
   "metadata": {},
   "source": [
    "So now we have all the ingredients in place."
   ]
  },
  {
   "cell_type": "code",
   "execution_count": null,
   "metadata": {},
   "outputs": [],
   "source": [
    "%matplotlib inline\n",
    "import matplotlib.pyplot as plt\n",
    "\n",
    "state = big_TFD.copy()\n",
    "big_EL = qt.tensor(qt.identity(2), EL)\n",
    "big_ER = qt.tensor(qt.identity(2), ER)\n",
    "\n",
    "tiny_N = sum([a.dag()*a for a in f])#skip the first complex fermion?\n",
    "big_N = qt.tensor(qt.identity(2), tiny_N)  \n",
    "\n",
    "def teleportation(state, g, t=100):\n",
    "    global big_EL, big_ER, big_N, INSERT\n",
    "    return (-1j*big_ER*t).expm()*(1j*g*big_N).expm()*(-1j*big_EL*t).expm()*INSERT*(1j*big_EL*t).expm()*state\n",
    "\n",
    "G = np.linspace(-10, 10, 300)\n",
    "Zs = [qt.expect(RXYZ[\"Z\"], teleportation(state, g)) for g in G]\n",
    "g = G[np.argmin(Zs)]\n",
    "\n",
    "state2 = teleportation(state, g)\n",
    "exiting_star = Rstar(state2)\n",
    "\n",
    "print(exiting_star)\n",
    "plt.plot(G, Zs, linewidth=2.0)\n",
    "plt.show()"
   ]
  },
  {
   "cell_type": "markdown",
   "metadata": {},
   "source": [
    "And there you have it. We iterate over possible values g of the coupling, and then: evolve back in time on the left, swap in our message, evolve forward in time on the left, couple, and then evolve in time on the right, finally examining the x/y/z expectation values on the right qubit.\n",
    "\n",
    "It's not that accurate at all, but then again we're only using a handful of fermions!\n",
    "\n",
    "Finally, we can define geometric operators:"
   ]
  },
  {
   "cell_type": "code",
   "execution_count": null,
   "metadata": {},
   "outputs": [],
   "source": [
    "BOOST = qt.tensor(qt.identity(2), ER - EL)\n",
    "ETA = EL + ER - g*N #or tiny_N\n",
    "TE = qt.tensor(qt.identity(2), ETA - qt.expect(ETA, TFD))\n",
    "PR = qt.tensor(qt.identity(2), -ER - g*N/2)\n",
    "PL = qt.tensor(qt.identity(2), -EL - g*N/2)\n",
    "P = -1j*commutator(BOOST, TE)"
   ]
  },
  {
   "cell_type": "markdown",
   "metadata": {},
   "source": [
    "So we have this interesting construction. From one perspective, that of the complex fermions, we have a vacuum state with no excitations. From another perspective, that of the left/right fermions, we have two maximally entangled systems. In other words, whether something is in a cup state is somewhat in the eye of the beholder....\n",
    "\n",
    "Finally, for more: see [syk_animated.py](examples/syk_animated.py)."
   ]
  }
 ],
 "metadata": {
  "kernelspec": {
   "display_name": "VPython",
   "language": "python",
   "name": "vpython"
  },
  "language_info": {
   "codemirror_mode": {
    "name": "ipython",
    "version": 3
   },
   "file_extension": ".py",
   "mimetype": "text/x-python",
   "name": "python",
   "nbconvert_exporter": "python",
   "pygments_lexer": "ipython3",
   "version": "3.7.7"
  }
 },
 "nbformat": 4,
 "nbformat_minor": 4
}
