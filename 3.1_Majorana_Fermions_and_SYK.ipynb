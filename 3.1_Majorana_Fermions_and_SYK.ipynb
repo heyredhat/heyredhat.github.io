{
 "cells": [
  {
   "cell_type": "markdown",
   "metadata": {},
   "source": [
    "# How to Continue Making a Wormhole\n",
    "\n",
    "## Part 2: Majorana Fermions and SYK"
   ]
  },
  {
   "cell_type": "markdown",
   "metadata": {},
   "source": [
    "To approach SYK (the Sachdev-Ye-Kitaev) model, first we need to understand about fermions.\n",
    "\n",
    "As you may know, we (often) classify particles in terms of whether they are bosons or fermions. Generally speaking, bosons are like force particles: examples are the photon, the gluon. Any number of bosons can be in the same state: hence, a laser beam. And the bosonic particles are in themselves indistinguishable: they are permutation symmetric. In many cases, we can use quantum harmonic oscillators to easily keep track of bosonic degrees of freedom. We assign a harmonic oscillator to each degree of freedom of the particle, and the number operator of each oscillator keeps track of how many particles are in *that state*. The use of harmonic oscillators automatically imposes for us that the particles be permutation symmetric. We won't go into the details of this here, but save that for a later meeting. For now, let's just observe that in practice, if we work in finite dimensions, we can just cap the maximum number of quanta in a given harmonic oscillator, and get finite dimensional \"creation\" and \"annihilation\" operators, which add and subtract quanta from each oscillator--and although they are not hermitian, they can be used as building blocks for hermitian operators. If we have multiple oscillators, we can just tensor these creation and annihilation operators with identities so they act on the appropriate subspaces. These operators obey the following commutation relations:\n",
    "\n",
    "$$ [b_{i}, b_{j}] = [b^{\\dagger}_{i}, b^{\\dagger}_{j}] = 0 $$\n",
    "$$ [b_{i}, b^{\\dagger}_{j}] = \\delta^{i}_{j} $$\n",
    "\n",
    "Where \\\\( b^{\\dagger} \\\\) is a creation operator, \\\\( b \\\\) is an annihilation operator, and: the commutator is \\\\( [A, B] = AB - BA \\\\). By the way, the anticommutator is \\\\( \\{A, B\\} = AB + BA \\\\).\n",
    "\n",
    "If we want to do the same thing for fermions, we have to make some changes. First, our oscillators can only have 0 or 1 excitations. In other words, at maximum only 1 fermion can be in a given state. This is the Pauli exclusion principle at work. Indeed, the tensor product has to work differently: the whole thing has to do with how fermions are permutation *antisymmetric* particles, unlike bosons which are permutation *symmetric*. So it doesn't matter the order in which we create bosons, but if for fermions: \\\\( f^{\\dagger}_{i} f^{\\dagger}_{j} \\mid 0 \\rangle = -f^{\\dagger}_{i} f^{\\dagger}_{j} \\mid 0 \\rangle \\\\), where \\\\( \\mid 0 \\rangle \\\\) is the fermion vacuum aka the state of all oscillators having 0 quanta.\n",
    "\n",
    "The upshot is that the commutation relations between fermions involve the anticommutator instead of the commutator.\n",
    "\n",
    "$$ \\{f_{i}, f_{j}\\} = \\{f^{\\dagger}_{i}, f^{\\dagger}_{j}\\} = 0 $$\n",
    "$$ \\{f_{i}, f^{\\dagger}_{j}\\} = \\delta^{i}_{j} $$\n",
    "\n",
    "So it's not hard to do implement this. Suppose we have 5 fermions. The standard 2x2 matrices for creation and annihilation operators are just:\n",
    "\n",
    "$$ f^{\\dagger} = \\begin{pmatrix} 0 & 0 \\\\ 1 & 0 \\end{pmatrix} $$\n",
    "$$ f = \\begin{pmatrix} 0 & 1 \\\\ 0 & 0 \\end{pmatrix} $$\n",
    "\n",
    "To get 5 pairs of creation and annihilation operators with the correct commutation relations, and so which preserve the antisymmetry of the fermions: \n",
    "\n",
    "$$ f_{0} = f \\otimes I \\otimes I \\otimes I \\otimes I $$\n",
    "$$ f_{1} = Z \\otimes f \\otimes I \\otimes I \\otimes I $$\n",
    "$$ f_{2} = Z \\otimes Z \\otimes f \\otimes I \\otimes I $$\n",
    "$$ f_{3} = Z \\otimes Z \\otimes Z \\otimes f \\otimes I $$\n",
    "$$ f_{4} = Z \\otimes Z \\otimes Z \\otimes Z \\otimes f $$\n",
    "\n",
    "The idea is that there is a \"normal ordering\" for the fermions. When the operators are applied to the vacuum in the descending order, the Z's in \\\\( f_{4} \\\\), say, don't matter since there are no excitations in those oscillators: we're in the vacuum after all. But when the operators are applied in the reverse order, they pick up a negative sign from the Z's. You can check that this works\n"
   ]
  },
  {
   "cell_type": "code",
   "execution_count": null,
   "metadata": {},
   "outputs": [],
   "source": [
    "import qutip as qt\n",
    "import numpy as np\n",
    "\n",
    "def anticommutator(a, b):\n",
    "    return a*b + b*a\n",
    "\n",
    "#########################################################################################\n",
    "\n",
    "def fermion_operators(n):\n",
    "    return [qt.tensor(*[qt.destroy(2) if i == j\\\n",
    "                else (qt.sigmaz() if j < i\\\n",
    "                    else qt.identity(2))\\\n",
    "                        for j in range(n)])\\\n",
    "                            for i in range(n)]\n",
    "\n",
    "def test_fermion_operators(f):\n",
    "    for i in range(len(f)):\n",
    "        for j in range(len(f)):\n",
    "            d = f[i].shape[0]\n",
    "            test1 = anticommutator(f[i], f[j]).full()\n",
    "            test2 = anticommutator(f[i], f[j].dag()).full()\n",
    "            if not \\\n",
    "                (np.isclose(test1, np.zeros((d,d))).all()\\\n",
    "                    and \\\n",
    "                ((np.isclose(test2, np.zeros((d,d))).all() and i != j)\\\n",
    "                        or (np.isclose(test2, np.eye(d)).all() and i == j))):\n",
    "                return False\n",
    "    return True\n",
    "\n",
    "#########################################################################################\n",
    "\n",
    "n = 6\n",
    "IDn = qt.identity(2**n)\n",
    "IDn.dims = [[2]*n, [2]*n]\n",
    "\n",
    "f = fermion_operators(n)\n",
    "print(test_fermion_operators(f))\n",
    "\n",
    "N = sum([a.dag()*a for a in f]) # number operator\n",
    "I = qt.basis(2**n, 0) # vacuum state\n",
    "I.dims = [[2]*n, [1]*n]"
   ]
  },
  {
   "cell_type": "markdown",
   "metadata": {},
   "source": [
    "So we have some fermions. Now we're going to do a crazy thing. It turns out we can split a fermion into two \"majorana fermions.\" The idea is that a majorana fermion is its own antiparticle: its creation and annihilation operators *are the same operator*. In some sense, we can think of them like the \"square roots\" of fermions. Just as we can split any normal fermion into two majoranas, we can fuse any two majoranas into a new fermion. \n",
    "\n",
    "Given normal fermion operators \\\\(f\\\\) and \\\\(f^{\\dagger}\\\\), we form majorana operators:\n",
    "\n",
    "$$ \\psi_{L} = \\frac{1}{\\sqrt{2}} (f + f^{\\dagger}) $$\n",
    "$$ \\psi_{R} = \\frac{i}{\\sqrt{2}} (f - f^{\\dagger}) $$\n",
    "\n",
    "Here \\\\( \\psi \\\\) is the standard way of referring to a majorana operator. We've chosen to call the two majoranas we get as a result by \"left\" and \"right\" for reasons we shall shortly see. And by the way, they are hermitian.\n",
    "\n",
    "So we we have n fermions, we could imagine splitting them all into majoranas. They'll obey the commutation relations:\n",
    "\n",
    "$$ \\{ \\psi_{i}, \\psi_{j} \\}  = \\delta_{i}^{j}$$\n",
    "\n",
    "Then, for example, we could create new normal fermions out of the majoranas on the left, and then on the right."
   ]
  },
  {
   "cell_type": "code",
   "execution_count": null,
   "metadata": {},
   "outputs": [],
   "source": [
    "def majorana_operators(f):\n",
    "    L, R = [], []\n",
    "    for i in range(len(f)):\n",
    "        L.append((1/np.sqrt(2))*(f[i] + f[i].dag()))\n",
    "        R.append((1j/(np.sqrt(2)))*(f[i] - f[i].dag()))\n",
    "    return L, R\n",
    "\n",
    "def test_majorana_operators(m):\n",
    "    for i in range(len(m)):\n",
    "        for j in range(len(m)):\n",
    "            d = m[i].shape[0]\n",
    "            test = anticommutator(m[i], m[j]).full()\n",
    "            if not ((i == j and np.isclose(test, np.eye(d)).all()) or\\\n",
    "                (i != j and np.isclose(test, np.zeros((d,d))).all())):\n",
    "                return False\n",
    "    return True\n",
    "\n",
    "def majoranas_to_fermions(m):\n",
    "    return [(m[i] + 1j*m[i+1])/np.sqrt(2) for i in range(0, len(m)-1, 2)],\\\n",
    "            [(m[i] - 1j*m[i+1])/np.sqrt(2) for i in range(0, len(m)-1, 2)]\n",
    "\n",
    "def test_fermion_operators2(f, fdag):\n",
    "    for i in range(len(f)):\n",
    "        for j in range(len(f)):\n",
    "            d = f[i].shape[0]\n",
    "            test1 = anticommutator(f[i], f[j]).full()\n",
    "            test2 = anticommutator(f[i], fdag[j]).full()\n",
    "            if not \\\n",
    "                (np.isclose(test1, np.zeros((d,d))).all()\\\n",
    "                    and \\\n",
    "                ((np.isclose(test2, np.zeros((d,d))).all() and i != j)\\\n",
    "                        or (np.isclose(test2, np.eye(d)).all() and i == j))):\n",
    "                return False\n",
    "    return True\n",
    "\n",
    "#########################################################################################\n",
    "\n",
    "mL, mR = majorana_operators(f)\n",
    "print(test_majorana_operators(mL+mR))\n",
    "\n",
    "Lf, Lfdag = majoranas_to_fermions(mL)\n",
    "NLf = sum([Lfdag[i]*Lf[i] for i in range(len(Lf))]) # L number operator\n",
    "Rf, Rfdag = majoranas_to_fermions(mR)\n",
    "NRf = sum([Rfdag[i]*Rf[i] for i in range(len(Rf))]) # R number operator\n",
    "                                   \n",
    "print(test_fermion_operators2(Lf, Lfdag))\n",
    "print(test_fermion_operators2(Rf, Rfdag))\n",
    "\n",
    "NLR = NLf+NRf\n",
    "NLRl, NLRv = NLR.eigenstates()\n",
    "CB = np.array([v.full().T[0] for v in NLRv]).T\n",
    "ILR = I.transform(CB) # The vacuum from the L/R perspective\n",
    "\n",
    "print(ILR.ptrace((0,2))) # ...\n",
    "print(ILR.ptrace((1,3)))\n",
    "print(qt.entropy_vn(ILR.ptrace((0,2))))\n",
    "print(qt.entropy_vn(ILR.ptrace((1,3))))\n",
    "print(2*np.log(2))"
   ]
  },
  {
   "cell_type": "markdown",
   "metadata": {},
   "source": [
    "The first thing we need to realize is that the majorana operators form a basis for the whole space of operators.\n",
    "\n",
    "We consider all combinations of majoranas of different lengths (eg. \\\\( I, \\psi_{0}, \\psi_{1}, \\psi_{2}, \\psi_{0}\\psi_{1}, \\psi_{0}\\psi_{2}, \\psi_{1}\\psi_{2}, \\psi_{0}\\psi_{1}\\psi_{2} \\\\)) and take the inner product of our operator with each of them in turn. "
   ]
  },
  {
   "cell_type": "code",
   "execution_count": null,
   "metadata": {},
   "outputs": [],
   "source": [
    "from itertools import combinations\n",
    "from functools import reduce\n",
    "\n",
    "def to_majorana_basis(op, m):\n",
    "    N = len(m)\n",
    "    terms = []\n",
    "    for n in range(N+1):\n",
    "        if n == 0:\n",
    "            terms.append(op.tr()/m[0].shape[0])\n",
    "        else:\n",
    "            for pr in combinations(list(range(N)), n):\n",
    "                s = reduce(lambda x,y: x*y, [m[p] for p in pr])\n",
    "                terms.append((s.dag()*op).tr()*2**(n-2))\n",
    "    return qt.Qobj(np.array(terms))\n",
    "\n",
    "def from_majorana_basis(op, m):\n",
    "    op = op.full().T[0]\n",
    "    N = len(m)\n",
    "    c = 0\n",
    "    terms = []\n",
    "    for n in range(N+1):\n",
    "        if n == 0:\n",
    "            terms.append(op[c]*qt.identity(m[0].shape[0]))\n",
    "            terms[-1].dims = m[0].dims\n",
    "            c += 1\n",
    "        else:\n",
    "            for pr in combinations(list(range(N)), n):\n",
    "                s = reduce(lambda x,y: x*y, [m[p] for p in pr])\n",
    "                terms.append(op[c]*s)\n",
    "                terms[-1].dims = m[0].dims\n",
    "                c += 1\n",
    "    return sum(terms)"
   ]
  },
  {
   "cell_type": "markdown",
   "metadata": {},
   "source": [
    "Now suppose we want to consider a system of n fermions, which will split into n/2 left fermions and n/2 right fermions via the majoranas.\n",
    "\n",
    "So actually, first we consider a system of n/2 fermions.\n",
    "We form majoranas out of them, not really caring about left and right. \n",
    "\n",
    "We're interested in an operator O which is n/2 x n/2.\n",
    "\n",
    "First we expand it in a basis of n/2 majoranas, and get a series of coefficients. We then take the n/2 majoranas on the left side of our larger system and multiply them all by those coefficicents and sum. And now we've upgraded our operator to act only on the left majoranas. In this world, we can't simply do \\\\( O \\otimes I \\\\) vs \\\\( I \\otimes O\\\\).\n",
    "\n",
    "So we can upgrade our operator to act with either left majoranas or right majoranas. But we also have to take the transpose of our operator on the right. It turns out here we don't take the transpose of the original matrix anymore. To get the right relation, it suffices to multiply all the right majoranas by i. In other words, instead of doing a 90 degree rotation in \"matrix world,\" somehow in this basis, this translates into a 90 degree rotation in the complex plane. It makes sense: since in each original fermion dwell a left and a right part, each separated by a mere local rotation."
   ]
  },
  {
   "cell_type": "code",
   "execution_count": null,
   "metadata": {},
   "outputs": [],
   "source": [
    "n_ = int(n/2)\n",
    "f_ = fermion_operators(n_)\n",
    "m_ = reduce(lambda x, y: x+y, majorana_operators(f_))\n",
    "\n",
    "O = qt.rand_unitary(2**n_)\n",
    "O.dims = [[2]*n_, [2]*n_]\n",
    "\n",
    "OL = from_majorana_basis(to_majorana_basis(O, m_), mL)\n",
    "OR = from_majorana_basis(to_majorana_basis(O, m_), [1j*r for r in mR])\n",
    "\n",
    "print(to_majorana_basis(OR, mL))\n",
    "print(to_majorana_basis(OL, mR))\n",
    "\n",
    "print(OL*I == OR*I)"
   ]
  },
  {
   "cell_type": "markdown",
   "metadata": {},
   "source": [
    "Now before we sort of waved our hands when it came to choosing the coupling operator in the wormhole model, saying that the ZZ coupling is a good proxy for a \"size\" operator. Here there is a literal size operator which we can use. It turns out just as we've seen before, if we take an operator and apply it to the left side, it unwinds out as a vector across the left and right--and here's the twist: *the total number operator of the original fermions* turns out to be the size operator. And the individual number operators count the numbers of majoranas themselves \"inside\" an operator.\n",
    "\n",
    "The construction is that we take an operator that acts on n/2 x n/2 fermions, upgrade it to a double sided state by acting on the left on the \"complex fermion vacuum\" (as we'll call the original fermion vacuum), which splays it out--since the complex fermion vacuum is the maximally entangled state when seen from the \"left/right\" point of view. We then look at the expectation value of the number operator(s) on that state. Easy as pie!"
   ]
  },
  {
   "cell_type": "code",
   "execution_count": null,
   "metadata": {},
   "outputs": [],
   "source": [
    "def size(O, i=None):\n",
    "    global f, mL, m_, I, N\n",
    "    majorana_state = (from_majorana_basis(to_majorana_basis(O, m_), mL)*I).unit()\n",
    "    if type(i) != type(None):\n",
    "        return qt.expect(f[i].dag()*f[i], majorana_state)\n",
    "    else:\n",
    "        return qt.expect(N, majorana_state)\n",
    "\n",
    "print(size(m_[0]))\n",
    "print(size(m_[1]*m_[0]))\n",
    "print(size(m_[2]*m_[1]*m_[0]))\n",
    "print(size(m_[2]*m_[1]*m_[0], i=0))\n",
    "print(size(m_[2]*m_[1]*m_[0], i=1))\n",
    "print(size(m_[2]*m_[1]*m_[0], i=2))"
   ]
  },
  {
   "cell_type": "markdown",
   "metadata": {},
   "source": [
    "Now we're ready to define the SYK hamiltonian.\n",
    "\n",
    "\\\\( E_{SYK} = -\\frac{1}{4!} \\sum_{i}^{m} \\sum_{j}^{m} \\sum_{k}^{m} \\sum_{l}^{m} c_{i,j,k,l} \\psi_{i}\\psi_{j}\\psi_{k}\\psi_{l} \\\\) for \\\\( i < j < k < l \\\\)\n",
    "\n",
    "It's a sum of four term interactions between majorana fermions, in other words, the interactions are 4-local. The coefficients are normally distributed. \n",
    "\n",
    "Before, once we'd decided on an energy operator, we formed \\\\( E_{L}\\\\) and \\\\( E_{R} \\\\), where the latter was also the transpose. Here we build SYK energy operators out of left majoranas and right majoranas, and the right ones are multiplied by i."
   ]
  },
  {
   "cell_type": "code",
   "execution_count": null,
   "metadata": {},
   "outputs": [],
   "source": [
    "import math\n",
    "\n",
    "def random_syk_couplings(m):\n",
    "    J = {}\n",
    "    for i in range(m):\n",
    "        for j in range(m):\n",
    "            for k in range(m):\n",
    "                for l in range(m):\n",
    "                    if i < j and j < k and k < l:\n",
    "                        J[(i, j, k, l)] = np.random.normal()\n",
    "    return J\n",
    "\n",
    "def syk_ham(couplings, m):\n",
    "    Jterms = []\n",
    "    for ijkl, c in couplings.items():\n",
    "        i, j, k, l = ijkl\n",
    "        Jterms.append(c*m[i]*m[j]*m[k]*m[l])\n",
    "    return (-1/(math.factorial(4)))*sum(Jterms)\n",
    "\n",
    "J = random_syk_couplings(n)\n",
    "E = syk_ham(J, m_)\n",
    "EL = syk_ham(J, mL)\n",
    "ER = syk_ham(J, [1j*r for r in mR]) \n",
    "print(EL*I == ER*I)"
   ]
  },
  {
   "cell_type": "markdown",
   "metadata": {},
   "source": [
    "Now we can evolve our operator \\\\( O \\\\) in time!"
   ]
  },
  {
   "cell_type": "code",
   "execution_count": null,
   "metadata": {},
   "outputs": [],
   "source": [
    "OLt = lambda t: (1j*EL*t).expm()*OL*(-1j*EL*t).expm()\n",
    "ORt = lambda t: (1j*ER*t).expm()*OR*(-1j*ER*t).expm()\n",
    "print(OLt(-10)*I == ORt(10)*I)"
   ]
  },
  {
   "cell_type": "markdown",
   "metadata": {},
   "source": [
    "Similarly, we can construct the TFD state at inverse temperature \\\\( \\beta \\\\) by \"splaying\" \\\\( \\rho \\\\) across left and right."
   ]
  },
  {
   "cell_type": "code",
   "execution_count": null,
   "metadata": {},
   "outputs": [],
   "source": [
    "def construct_thermal_dm(H, beta=0):\n",
    "    return (-beta*H*(1/2)).expm()/np.sqrt((-beta*H*(1/2)).expm().tr())\n",
    "\n",
    "rho = construct_thermal_dm(E, beta=0.5)\n",
    "rhoR = from_majorana_basis(to_majorana_basis(rho, m_), [1j*r for r in mR])\n",
    "TFD = (rhoR*I).unit()"
   ]
  },
  {
   "cell_type": "markdown",
   "metadata": {},
   "source": [
    "We could use the TFD instead of the complex fermion vacuum to get a temperature dependent notion of size!"
   ]
  },
  {
   "cell_type": "code",
   "execution_count": null,
   "metadata": {},
   "outputs": [],
   "source": [
    "def cold_size(O, i=None):\n",
    "    global f, mL, m_, TFD, N\n",
    "    majorana_state = (from_majorana_basis(to_majorana_basis(O, m_), mL)*TFD).unit()\n",
    "    if type(i) != type(None):\n",
    "        return qt.expect(f[i].dag()*f[i], majorana_state)\n",
    "    else:\n",
    "        return qt.expect(N, majorana_state)\n",
    "    \n",
    "print(cold_size(m_[0]))\n",
    "print(cold_size(m_[1]*m_[0]))\n",
    "print(cold_size(m_[2]*m_[1]*m_[0]))\n",
    "print(cold_size(m_[2]*m_[1]*m_[0], i=0))\n",
    "print(cold_size(m_[2]*m_[1]*m_[0], i=1))\n",
    "print(cold_size(m_[2]*m_[1]*m_[0], i=2))"
   ]
  },
  {
   "cell_type": "markdown",
   "metadata": {},
   "source": [
    "Moreover, consider:"
   ]
  },
  {
   "cell_type": "code",
   "execution_count": null,
   "metadata": {},
   "outputs": [],
   "source": [
    "OLt(-10)*TFD"
   ]
  },
  {
   "cell_type": "code",
   "execution_count": null,
   "metadata": {},
   "outputs": [],
   "source": [
    "ORt(10)*TFD"
   ]
  },
  {
   "cell_type": "markdown",
   "metadata": {},
   "source": [
    "As you can see, they're pretty close up to phase shifts on the components at finite temperature! And check it out at infinite temperature, and try it with unitaries vs hermitian operators. This is what is meant by ~ perfect size winding. We can get close to an identity between left and right operators at different temperatures by a diagonal phase shift. And indeed, the total number operator of the complex fermions is diagonal in the basis we're working in."
   ]
  },
  {
   "cell_type": "code",
   "execution_count": null,
   "metadata": {},
   "outputs": [],
   "source": [
    "A = OLt(-10)*TFD\n",
    "B = ORt(10)*TFD\n",
    "A_ = A.full().T[0]\n",
    "B_ = B.full().T[0]\n",
    "D_ = np.array([B_[i]/A_[i] for i in range(len(A_))])\n",
    "D = qt.Qobj(np.diag(D_)) # our e^{igV}\n",
    "D.dims = [A.dims[0], A.dims[0]]\n",
    "\n",
    "print(D*A == B)"
   ]
  },
  {
   "cell_type": "markdown",
   "metadata": {},
   "source": [
    "Okay, so we've got a wormhole for operators. But what about for states? Before we just inserted our qubit using a SWAP operation. But that won't work here: we're working in the complex fermion basis where each fermion encodes left and right! But of course, we can gather up the left and right majoranas to form left and right fermions. We could imagine swapping our qubit for the leftmost fermion, but that's kind of weird since although both are 2d vector spaces, they have different interpretations: in the case of a spin, the basis vectors refer to spin along or against the axis of quanization, and in the case of an oscillator, the basis vectors refer to the number of excitations. \n",
    "\n",
    "So here's a little geometry. You can kinda think of the fermions as being different directions in space, pairs of fermions forming \"bivectors\" (in the plane) between them, triples of fermions forming some kind of volume... Let's not get into specifics. The point is: we can grab three majorana fermions and turn them into a qubit. \n",
    "\n",
    "$$ X = -i\\psi_{x}\\psi_{z} $$\n",
    "$$ Y = -i\\psi_{z}\\psi_{y} $$\n",
    "$$ Z = -i\\psi_{y}\\psi_{x} $$\n",
    "\n",
    "These indeed follow the correct commutation relations for the Pauli operators.\n",
    "\n",
    "$$ [X, Y] = iZ $$\n",
    "$$ [Y, Z] = iX $$\n",
    "$$ [Z, X] = iY $$\n",
    "$$ [X, X] = [Y, Y] = [Z, Z] = 0 $$"
   ]
  },
  {
   "cell_type": "code",
   "execution_count": null,
   "metadata": {},
   "outputs": [],
   "source": [
    "def commutator(a, b):\n",
    "    return a*b - b*a\n",
    "\n",
    "X = -1j*m_[0]*m_[2]\n",
    "Y = -1j*m_[2]*m_[1]\n",
    "Z = -1j*m_[1]*m_[0]\n",
    "print(commutator(X, Y) == 1j*Z)\n",
    "print(commutator(Y, Z) == 1j*X)\n",
    "print(commutator(Z, X) == 1j*Y)\n",
    "print(commutator(X, X) == commutator(Y, Y) == commutator(Z, Z))\n",
    "print(commutator(X, X).norm())"
   ]
  },
  {
   "cell_type": "markdown",
   "metadata": {},
   "source": [
    "Cool! So let's start our wormhole protocol. We start with a msg in the spin up state. It of course has its XYZ operators."
   ]
  },
  {
   "cell_type": "code",
   "execution_count": null,
   "metadata": {},
   "outputs": [],
   "source": [
    "msg = qt.basis(2,0)\n",
    "big_I = qt.tensor(msg, I)\n",
    "big_TFD = qt.tensor(msg, TFD)\n",
    "\n",
    "msgXYZ = {\"I\": qt.tensor(qt.identity(2), IDn),\\\n",
    "          \"X\": qt.tensor(qt.sigmax(), IDn),\\\n",
    "          \"Y\": qt.tensor(qt.sigmay(), IDn),\\\n",
    "          \"Z\":qt.tensor(qt.sigmaz(), IDn)}\n",
    "\n",
    "def Ostar(state):\n",
    "    global msgXYZ\n",
    "    return [qt.expect(msgXYZ[o], state) for o in [\"I\", \"X\", \"Y\", \"Z\"]]"
   ]
  },
  {
   "cell_type": "markdown",
   "metadata": {},
   "source": [
    "Then we can form XYZ operators that act on the \"first\" qubit of the left black hole and XYZ operators that act on the \"first\" qubit of the right black hole. And let's make some helper functions that give us the rotation axis of each of the spins. "
   ]
  },
  {
   "cell_type": "code",
   "execution_count": null,
   "metadata": {},
   "outputs": [],
   "source": [
    "LXYZ = {\"I\": qt.tensor(qt.identity(2), IDn),\\\n",
    "        \"X\": qt.tensor(qt.identity(2), from_majorana_basis(to_majorana_basis(X, m_), mL)),\\\n",
    "        \"Y\": qt.tensor(qt.identity(2), from_majorana_basis(to_majorana_basis(Y, m_), mL)),\\\n",
    "        \"Z\": qt.tensor(qt.identity(2), from_majorana_basis(to_majorana_basis(Z, m_), mL))}\n",
    "\n",
    "RXYZ = {\"I\": qt.tensor(qt.identity(2), IDn),\\\n",
    "        \"X\": qt.tensor(qt.identity(2), from_majorana_basis(to_majorana_basis(X, m_), [1j*r for r in mR])),\\\n",
    "        \"Y\": qt.tensor(qt.identity(2), from_majorana_basis(to_majorana_basis(Y, m_), [1j*r for r in mR])),\\\n",
    "        \"Z\": qt.tensor(qt.identity(2), from_majorana_basis(to_majorana_basis(Z, m_), [1j*r for r in mR]))}\n",
    "\n",
    "def Lstar(state):\n",
    "    global LXYZ\n",
    "    return [qt.expect(LXYZ[o],state) for o in [\"I\", \"X\", \"Y\", \"Z\"]]\n",
    "\n",
    "def Rstar(state):\n",
    "    global RXYZ\n",
    "    return [qt.expect(RXYZ[o],state) for o in [\"I\", \"X\", \"Y\", \"Z\"]]"
   ]
  },
  {
   "cell_type": "markdown",
   "metadata": {},
   "source": [
    "So we have our XYZ operators. Now we need our swap. Well, here's an idea. We can take the normal swap operator and express it in the Pauli basis. We have two sets Pauli matrices for the message qubit and the left black hole qubit, and so we can rebuild the swap operator out of them!"
   ]
  },
  {
   "cell_type": "code",
   "execution_count": null,
   "metadata": {},
   "outputs": [],
   "source": [
    "from itertools import product\n",
    "from qutip.qip.operations.gates import swap\n",
    "\n",
    "def pauli_basis(n):\n",
    "    IXYZ = {\"I\": qt.identity(2), \"X\": qt.sigmax(), \"Y\": qt.sigmay(), \"Z\": qt.sigmaz()}\n",
    "    names, ops = [], []\n",
    "    for P in product(IXYZ, repeat=n):\n",
    "        names.append(\"\".join(P))\n",
    "        ops.append(qt.tensor(*[IXYZ[p] for p in P]))\n",
    "    return names, ops\n",
    "\n",
    "def to_pauli(op, Pops):\n",
    "    return np.array([(o.dag()*op).tr() for o in Pops])/np.sqrt(len(Pops))\n",
    "\n",
    "############################################\n",
    "\n",
    "SWAP = swap(N=2, targets=[0,1])\n",
    "Pnames, Pops = pauli_basis(2)\n",
    "SWAPp = to_pauli(SWAP, Pops)\n",
    "\n",
    "INSERT = sum([SWAPp[i]*msgXYZ[name[0]]*LXYZ[name[1]] for i, name in enumerate(Pnames)])\n",
    "\n",
    "print(Ostar(big_TFD))\n",
    "print(Lstar(big_TFD))\n",
    "print()\n",
    "print(Ostar(INSERT*big_TFD))\n",
    "print(Lstar(INSERT*big_TFD))\n",
    "print()\n",
    "print(Ostar(INSERT*INSERT*big_TFD))\n",
    "print(Lstar(INSERT*INSERT*big_TFD))"
   ]
  },
  {
   "cell_type": "markdown",
   "metadata": {},
   "source": [
    "So now we have all the ingredients in place."
   ]
  },
  {
   "cell_type": "code",
   "execution_count": null,
   "metadata": {},
   "outputs": [],
   "source": [
    "%matplotlib notebook\n",
    "import matplotlib.pyplot as plt\n",
    "\n",
    "state = big_TFD.copy()\n",
    "big_EL = qt.tensor(qt.identity(2), EL)\n",
    "big_ER = qt.tensor(qt.identity(2), ER)\n",
    "\n",
    "#tiny_N skips first cmplx fermion\n",
    "tiny_N = sum([a.dag()*a for a in f[1:]])\n",
    "big_N = qt.tensor(qt.identity(2), tiny_N)\n",
    "#big_N = qt.tensor(qt.identity(2), N)\n",
    "\n",
    "def teleportation(state, g, t=100):\n",
    "    global big_EL, big_ER, big_N, INSERT\n",
    "    return (1j*big_ER*t).expm()*(1j*g*big_N).expm()*(-1j*big_EL*t).expm()*INSERT*(1j*big_EL*t).expm()*state\n",
    "\n",
    "G = np.linspace(-10, 10, 300)\n",
    "Zs = [qt.expect(RXYZ[\"Z\"], teleportation(state, g)) for g in G]\n",
    "g = G[np.argmin(Zs)]\n",
    "\n",
    "state2 = teleportation(state, g)\n",
    "exiting_star = Rstar(state2)\n",
    "\n",
    "print(exiting_star)\n",
    "plt.plot(G, Zs, linewidth=2.0)\n",
    "plt.show()"
   ]
  },
  {
   "cell_type": "markdown",
   "metadata": {},
   "source": [
    "And there you have it. We iterate over possible values g of the coupling, and then: evolve back in time on the left, swap in our message, evolve forward in time on the left, couple, and then evolve in time on the right, and look at the x/y/z expectation values on the right qubit.\n",
    "\n",
    "Finally, we can define geometric operators:"
   ]
  },
  {
   "cell_type": "code",
   "execution_count": null,
   "metadata": {},
   "outputs": [],
   "source": [
    "BOOST = qt.tensor(qt.identity(2), ER - EL)\n",
    "ETA = EL + ER - g*N #or tiny_N\n",
    "TE = qt.tensor(qt.identity(2), ETA - qt.expect(ETA, TFD))\n",
    "PR = qt.tensor(qt.identity(2), -ER - g*N/2)\n",
    "PL = qt.tensor(qt.identity(2), -EL - g*N/2)\n",
    "P = -1j*commutator(BOOST, TE)"
   ]
  },
  {
   "cell_type": "markdown",
   "metadata": {},
   "source": [
    "And now a word of philosophy.\n",
    "\n",
    "So we have this interesting construction. From one perspective, that of the complex fermions, we have a vacuum state with no excitations. From another perspective, that of the left/right fermions, we have two maximally entangled systems. In other words, whether something is in a cup state is somewhat in the eye of the beholder.\n",
    "\n",
    "Now in quantum field theory, one often works in the approximation where special relativity holds. Great effort is spent obtaining unitary representations of the Poincare group of space/time translations, rotations and boosts, and the resulting Minkowski vacuum is Poincare invariant. In other words, all observers who are just translated, rotated and boosted from each other agree on the vacuum state, and hence: on what constitutes a particle. \n",
    "\n",
    "But when we consider curved spacetimes and in general accelerated reference frames, it turns out  observers disagree on the vacuum state, and on what constitutes a particle. A famous example is the Unruh radiation. It is predicted that compared to an observer moving inertially, an accelerated observer moving through the same space will detect particles, whereas the inertial observer wouldn't. An observer moving with a constant acceleration divides the world into parts: for example, those parts in the past which can't ever catch up to this observer, and those parts in the future the observer will never be able to reach, due to the finite speed of light, and the fact of they're accelerating. And speaking very broadly, there's a map from the creation and annihilation operators in the inertial frame to creation and annihilation operators in the accelerated frame, and they're related by a linear Bogoliobov transformation, which is a symplectic transformation, which means that it preserves the relationship between position and momentum, creation and annihilation, for all the operators: so that the commutation relations are satisfied on both sides. And there is a whole very deep theory there. In the end, it's like the vacuum in one frame is built out of particle states in the other frame, and particle states in the one frame might correspond to the vacuum state of another. The same trick is used in condensed matter systems. A Bogoliubov transformation can diagonalize any quadratic energy operator: but one ends up with a system \"made\" of different kinds of particles!\n",
    "\n",
    "In our wormhole case specifically, we have one frame: the frame, as it were, from outside the whole system, where the left black hole and the right black hole can be distinguished, and our qubit enters on the left, and comes out on the right. And before things begin, the two black holes (at infinite temperature) are in the maximally entangled CUP state. But there's another frame where the complex fermion number operator is diagonal: there, before the qubit insertion, we're just sitting in the vacuum, a vacuum which is made of equal parts left and right from the other perspective. After all, if you lived your whole life inside the wormhole, you'd never even know there was necessarily a \"left\" and \"right\" side. And the whole wormhole protocol works because we, from the outside, are able to implement the number operator coupling, which is precisely diagonal \"from the inside perspective.\" There's two ways to over come left and right: to be \"inside\" it and so unaware of the difference, or to be \"outside\" it by bringing left and right together to interact.\n",
    "\n",
    "Moreover, if we think about the left and right sides as the \"doubled Hilbert space\" of an operator, then the number operator, which acts across left an right, measures the size of that operator... I was wondering whether you can relate this to the fact that in Ads/CFT, the former is of a dimension higher than the latter.\n",
    "\n",
    "So: whether something is a cup or a cap depends on the particular observer. Different observers in general motion can disagree about what consitutes a particle, disagree about the string diagram that represents the situation. Different observers may join unlike things, cleave other things apart, open themselves up for entry here, closing themselves off there... (So maybe our friend trapped in a loop behind an entangler gate might be able to escape after all, by a complete reconceptualization at the atomic level.)\n",
    "\n",
    "Finally, for more: see [syk_animated.py](examples/syk_animated.py).\n",
    "\n",
    "(And incidentally, in the general case, not all vacua are unitarily equivalent!)"
   ]
  }
 ],
 "metadata": {
  "kernelspec": {
   "display_name": "VPython",
   "language": "python",
   "name": "vpython"
  },
  "language_info": {
   "codemirror_mode": {
    "name": "ipython",
    "version": 3
   },
   "file_extension": ".py",
   "mimetype": "text/x-python",
   "name": "python",
   "nbconvert_exporter": "python",
   "pygments_lexer": "ipython3",
   "version": "3.7.7"
  }
 },
 "nbformat": 4,
 "nbformat_minor": 4
}
