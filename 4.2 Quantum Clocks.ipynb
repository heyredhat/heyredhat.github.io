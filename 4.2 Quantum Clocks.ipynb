{
 "cells": [
  {
   "cell_type": "markdown",
   "metadata": {},
   "source": [
    "# How to Think about Entanglement\n",
    "\n",
    "## Part 2: Clocks"
   ]
  },
  {
   "cell_type": "markdown",
   "metadata": {},
   "source": [
    "In the normal formulation of quantum mechanics, time enters the equations as a classical variable. For example, we can introduce time dependence to a state by writing: \n",
    "\n",
    "\\\\(|\\psi(t)\\rangle = e^{-iEt} |\\psi\\rangle\\\\), \n",
    "\n",
    "where E is the energy operator and t is the apparently classical time measured in your lab. But time should be quantized like everything else right? Rumor has it that just as position and momentum are conjugate variables, energy and time are supposed to be conjugate to each other. Concretely, if we Fourier transform the position operator, we get the momentum operator: and if we Fourier transform the energy operator, we should get a \"time operator.\" But it's not clear how this operator relates to the classical time variable. \n",
    "\n",
    "The answer to the question is provided by something called the \"Page-Wootters mechanism.\" Hundreds of years ago Leibniz famously reasoned that if we moved every clock in the universe ahead 5 minutes, no one *in* the universe could tell the difference, and that therefore the universe as a whole has \"no time,\" in other words, that time is relational. If we buy this a) we have to represent our clock as a quantum system *in* the universe as well, and b) that we have to take \\\\(E|\\psi\\rangle = 0\\\\): in other words, the overall state of the universe has to be in the 0-energy eigenspace of its energy operator: in other words, the overall energy of the universe has to be just 0. (Remember that energy eigenstates don't evolve in time (except for a phase, and the states with 0 energy don't even have that!)) So the quantum state of the universe should be timeless. Or better said, time independent: since what we find is that the condition \\\\(E|\\psi\\rangle = 0\\\\) leads to some interesting structure in \\\\(|\\psi\\rangle\\\\). Crucially, if we have two systems (like a clock (A) and a spin (B)), each with separate/commuting energy operators so that \\\\(E = E_A + E_B\\\\), then \\\\(|\\psi\\rangle\\\\) will be a maximally entangled state between the two systems, with the property that projections onto the eigenstates of the time operator of the clock A project the spin B into exactly the state predicted by the normal Schrodinger evolution of B at the classical time t, now interpreted as an eigenvalue of the *other systems*'s time operator. Cool! So independent subsystems constrained to exist in a time-independent universe together automatically parameterize each other's time evolution! We'll discuss what this implies about different interpretations of quantum mechanics..."
   ]
  }
 ],
 "metadata": {
  "kernelspec": {
   "display_name": "VPython",
   "language": "python",
   "name": "vpython"
  },
  "language_info": {
   "codemirror_mode": {
    "name": "ipython",
    "version": 3
   },
   "file_extension": ".py",
   "mimetype": "text/x-python",
   "name": "python",
   "nbconvert_exporter": "python",
   "pygments_lexer": "ipython3",
   "version": "3.7.7"
  }
 },
 "nbformat": 4,
 "nbformat_minor": 4
}
