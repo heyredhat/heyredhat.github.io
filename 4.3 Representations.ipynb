{
 "cells": [
  {
   "cell_type": "markdown",
   "metadata": {},
   "source": [
    "# How to Think about Entanglement\n",
    "\n",
    "## Part 3: Representations"
   ]
  },
  {
   "cell_type": "markdown",
   "metadata": {},
   "source": [
    "```\n",
    "    We find already in Plato the doctrine that if anything is beautiful in its kind, this is not because of its color or shape, but because it participates (Greek) in \"that,\" viz. the absolute, Beauty, which is a presence (G) to it and with which it has something in common (G).  So also creatures, while they are alive, \"participate\" in immortality.  So that even an imperfect likeness (as all must be) \"participates\" in that which it resembles.  These propositions are combined in the words \"The being of all things is derived from the Divine Beauty.\"  In the language of exemplarism, that Beauty is \"the single form that is the form of very different things.\"  In this sense every \"form\" is protean, in that it can enter into innumerable natures.  \n",
    "      Some notion of the manner in which a form, or idea, can be said to be in a representation of it may be had if we consider a straight line:  we cannot say truly that the straight line itself \"is\" the shortest distance between two points, but only that it is a picture, imitation or expression of that shortest distance;  yet it is evident that the line coincides with the shortest distance between its extremities,  and that by this presence the line \"participates\" in its referent. Even if we think of space as curved, and the shortest distance therefore actually an arc, the straight line, a reality in the field of plane geometry, is still an adequate symbol of its idea, which it need not resemble, but must express.  Symbols are projections of their referents, which are in them in the same sense that our three dimensional face is reflected in the plane mirror.\n",
    "      -- AKC, \"Imitation, Expression, and Participation\"\n",
    "```\n"
   ]
  },
  {
   "cell_type": "markdown",
   "metadata": {},
   "source": [
    "One thing that's often underemphasized in writing about physics is how important *representations* are, and how most of the technical details are actually about proving things like: X really represents what I say it does. Because the fact is that pretty much anything can represent anything else, but if you choose your representation at random it's probably going to suck: which I mean in a technical sense: to use it, it'll require a lot of book-keeping and bending over backwards to keep track of things. E.g., I can represent a library as a bunch of 0's and 1's, but that will make it difficult of *me* to read. Words in contrast are good for humans in this respect.\n",
    "\n",
    "Ideally, the goal is to find representations of things that make as few unnecessary distinctions as possible *so that anything you can naturally do to the representation has a unique meaning in terms of the thing it represents*. And we have to understand \"representation\" w/r/t to human beings and our minds/bodies. \n",
    "\n",
    "An example:\n",
    "\n",
    "![](img/tautology.png)\n",
    "\n",
    "Above we have a line of symbols where some kind of \"algebra\" is going on. We have a bunch of symbols A B C and D. And we have two things we can do to them: the \"O with a cross\" (called the tensor product) and the \"cross without an O\" (called multiplication). And according to the rules governing these two actions, the first line is a true statement, an \"equation\": A tensor B times C tensor D is just the same as taking A times C and tensoring it to B times D.\n",
    "\n",
    "But maybe using \"algebra\" is actually sort of dumb. For example, below it is a better representation, which lives in 2D, on the full paper, not just along a 1 dimensional row of symbols/single line of text. In this representation, with wires and boxes, the former equation is actually a tautology--it's literally just a thing = itself: not even worth bringing up! It doesn't even have to be proven since the representation itself doesn't make the unnecessary distinction whose symptom is actually the ability to write a so-called \"equation\" at all, which might require proof: a sequence of allowed actions that bring the \"left\" into the same form as the \"right\". To wit, the essence of the analogy is: we represent A, B, C, and D as boxes with wires coming in and out of them. And \"tensor\" means put side to side. And \"multiply\" means put atop/below.\n",
    "\n",
    "To reiterate, when we represented this \"truth\" with a linear sequence of symbols and some rules for rearranging those symbols, we could write down an \"equation\"--but this was only possible because there was a redundancy in the symbolism: here's two statements that actually \"mean\" the same thing, they're equal, even though there are two ways *we can write them*. In contrast, when we use a \"planar diagram\" instead, we don't even need to \"prove\" that the equation is \"true\": it's just *literally* obvious. And that makes it a better representation.\n",
    "\n",
    "Now it turns out that if we define A, B, C, and D to be matrices/grids of numbers, and take \"O with a cross\" to mean combine the two matrices in a fancy way we call the tensor product, and \"cross without an O\" to mean matrix multiplication, another way of combining matrices, then it is a fact that our \"equation\"/tautology is also true of those matrices. So that whatever else is true about these matrices, each full of possibly gazillions of numbers which are a pain in the ass to keep track of, you won't go wrong representing them as boxes with wires.\n",
    "\n",
    "Now it turns out another equation which one can write out in the algebra, but also with the diagrams, and also with the matrices is this one:\n",
    "\n",
    "![](img/yanking_equation.png)\n",
    "\n",
    "And it says that you can \"yank\" a string straight and it doesn't change the meaning at all. So a planar diagram per se is imperfect too-- by statically depicting the situation in a single image, it make an \"unnecessary\" distinction.\n",
    "\n",
    "And so, it turns out that literally *a piece of string* is the best representation of how these symbols/boxes/matrices can be wired together. Anything you can do to the string you can also do to the matrices. So if you are playing around with the string, you're also playing around with the matrices, and it's like: the guardrails are up: you literally *cannot fail* to make a true statement about the matrices.\n",
    "\n",
    "At last then: we interpret each wire to represent a \"quantum system,\" and each matrix to represent the \"time evolution of that quantum system\" (we have to require a few things of our matrices, certain symmetries, for this part to work: so that matrices themselves are \"imperfect representations\" in the same sense as the symbolic algebra before). And a \"cup\" aka a U shape represents: two maximally entangled quantum systems side by side in space, and a \"cap\" represents: a filter which tests whether two quantum systems are in the maximally entangled state (which the systems may pass with a certain probability). Whatever this means, the important point is this: now by playing around with my boxes connected by pieces of literal string, doing anything I can do to them in real life, *I cannot fail to make true statements about a bunch of evolving possibly entangled quantum systems being prepared, processed, and measured in the lab.* (And by the way, this doesn't in itself have anything to do with \"string theory\".)\n",
    "\n",
    "So that indeed, the matrices and the literal physical systems themselves \"participate in\" stringiness. They are as much connected by strings as anything else connected by strings. If by string you mean, whatever it is all strings have in common, whatever it is that is so obvious about strings that otherwise you'd pass over in silence unless you were *representing them* in some other language which makes distinctions irrelevant to STRINGINESS itself. And we find ourselves in a kind of weird transcendent position, doing both--both participating in stringiness insofar as we know a string when we see it but also embedding stringiness in all sorts of different representations, as I have literally done in this email, so that we ourselves are judging to what extent the different representations represent the same thing. It's the difference between: imagining all the ways we can mess with a string which for us means with our eyes and fingers vs imagining what it would be like to be the string itself: and from the string's own perspective, it's the shortest path between A and B, as straight as an arrow: and it's we who are all in a tangle.\n",
    "\n",
    "So I should say basically that the branch of mathematics that studies \"analogical sequences\" of this type, like:\n",
    "\n",
    "algebraic symbols -> wires/boxes -> matrices -> entangled quantum systems across space in time\n",
    "\n",
    "is called category theory. And in recent years, they've actually reformulated a huge portion of quantum mechanics in such a way that basically *you don't even have to calculate a single number*, multiply even the tiniest matrix: everything is expressed pictorially, in diagrams, using tactile and visual reasoning. No need for numbers (although you might want them in the end, and they're easily obtained). Just for flavor, the rules look like this kind of thing.\n",
    "\n",
    "![](img/zx.png)\n",
    "\n",
    "And I can attest that when thinking about this stuff, it's really convenient to be able picture these things in your head when reasoning about quantum problems, and *seeing the answer is true as opposed to believing it*.\n",
    "\n",
    "And with regard to Coomaraswamy's world, maybe we'll see an eventual return to the pictorial reasoning of traditional art, souped up and overlaid with ideas ancient and modern, where the point is neither to resemble an original nor to innovate in purely aesthetic terms, but to communicate a precise meta(physical) meaning.\n",
    "\n",
    "I think if there's a conundrum here, it's like... I was talking to a guy studying category theory and he was going on about making a clear distinction between the \"logical\" and the \"ontological\": in the logical setting, we are dealing with representations, and whether something can be proved to be true in some representation; in the ontological setting, we try to reason about the thing itself in its own terms, independent of representation. If we were feeling in a certain mood, we could try to define the latter in terms of reasoning about the relationships between representations, and then argue that any metaphysics beyond that is a fools errand if we only have access to things via representations: first of all, since if we were working without the mediation of a representation, we wouldn't even be able to articulate the so called \"truths\" aka \"equations\" about it. (Of course, one could imagine a hybrid situation, as seems to be the case, as we have degrees of self-consciousness.) But the situation gets starker when we imagine \"infinities,\" for example: the classic example: are we to imagine the numbers 1, 2, 3... infinity all really exist ontologically in a completed sense, or is it enough to say that any \"logical reasoners\" who agree about the rules for numbers, will agree on what the symbol \"...\" means, which is that you can just keep counting if you want: in other words, we've turned something ontological into something logical: the rules for the '...' symbol. Then again, is it that '\"feeling of opportunity\" that all of us \"counters\" agree on? And then again again, to treat the numbers ontologically is to imagine their completion: the world from the perspective of 1,2,3... itself as it were, irrespective of anyone's perspective on them. Maybe you can attain that mentally. But there's an even more interesting issue there. Since for us, what it means to view the world from the perspective of 1,2,3..., is as much to view ourselves distorted by 1,2,3...'s POV: to wit, it's like our string must get tangled to the extent that we straighten 1,2,3's...\n",
    "\n",
    "In the end, however, the basic dilemma is that by definition, you can't prove that things are ontologically complete using logical reasoning. Even if \"ontological perfection\" were true, you could never prove it in terms of some representations. Instead the relationship is direct: all who perceive beauty participate in it, all who wiggle around participate in stringhood: but any confirmation that we both stood there seeing the same thing together requires the mediation of representations which are incapable of making an absolute distinction between the logical and the ontological.\n",
    "\n",
    "One interesting wrinkle in this whole story, which became the main subject my conversation with this category theorist, is the status of quantum indeterminism. One could try to imagine the *logical representation* of the *ontological completion* of something like quantum mechanics (aka the quantum state of the universe as a whole for all time), and paradoxically you'd get a representation of the universe as some timeless entangled state with all actual choices TBD, but without any freedom to change the law of the universe-- The first thing to say is that there's kind of complementarity between local and global: to the extent you take a global perspective, the individual choices made by individual subsystems become invisible to you. To the extent you take a local perspective, the entanglements between these choices become invisible. Seeing as we experience ourselves as subsystems in the universe immersed in the circumstance of \"actual choices,\" the relevant question for us w/r/t the \"meaning of our choices\" is: is the law globally fixed for all time, or do these choices (which I regard as my choices, your choices, the choices of electrons, nature's choices) change the very space of possibility? Is all the \"indeterminism\" in the world, all its \"incompleteness,\" the result of not having filled in the \"individual outcomes of experiments,\" while the structure between them, the laws governing them, remains fixed? Or does the incompleteness, the *becoming* of the world, unfold at an even higher level? Due to entanglement, choices across space and time, while random, depend upon each other in the way predicted by standard quantum mechanics, but does the law itself depend on our choices? The issue is that if it did, and I made a choice, whose outcome I couldn't know before hand, I'd have to change my representation of the \"universe as a whole\" to accommodate the change in law. Was I just wrong before about how the universe was already? And this change in possibility space was already taken into account in a higher possibility space? Or was I right before, and now we're all in a new universe because of me! To wit, I could imagine: okay, imagine I make all possible choices, leading to all possible laws, and that's the whole universe, completed. But on the other hand, you could say: as all these \"quantum states of the universe\" are merely provisional representations *for us*, do we actually need to imagine that the whole universe is one big quantum state *for real* beyond all representation? \n",
    "\n",
    "On the other other other hand, the only real peril, of course, in rushing to infinity is that you might accidentally hypostasize some accidents-- and attribute to the ALL something inappropriate. It's just that transcending all mistakes to reach the thought of perfection is easier said that done."
   ]
  }
 ],
 "metadata": {
  "kernelspec": {
   "display_name": "VPython",
   "language": "python",
   "name": "vpython"
  },
  "language_info": {
   "codemirror_mode": {
    "name": "ipython",
    "version": 3
   },
   "file_extension": ".py",
   "mimetype": "text/x-python",
   "name": "python",
   "nbconvert_exporter": "python",
   "pygments_lexer": "ipython3",
   "version": "3.7.7"
  }
 },
 "nbformat": 4,
 "nbformat_minor": 4
}
