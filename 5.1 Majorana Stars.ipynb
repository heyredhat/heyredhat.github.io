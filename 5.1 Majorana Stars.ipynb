{
 "cells": [
  {
   "cell_type": "markdown",
   "metadata": {},
   "source": [
    "# How to Think about Spheres\n",
    "\n",
    "## Part 1: Majorana's Stars"
   ]
  },
  {
   "cell_type": "markdown",
   "metadata": {},
   "source": [
    "We'll review Majorana's trick of generalizing the Bloch sphere representation for a spin-1/2 particle to any spin-j. The usual Bloch sphere represents a spin-1/2 particle aka a qubit as a point on a sphere (representing its axis of rotation) and a phase (representing how far its turned around its axis). It turns out we can represent spin-j states as 2j such points (often called stars): to wit, as \"constellations\" on the sphere. Imagine tornadoes, vortices at each of the points, whirling the surface of the sphere around themselves, and this is the nature of the spin's angular momentum. It turns out the entire state of the surface of the sphere can be determined precisely from the locations of these vortices, these eyes of the storm. And this is exactly like how the locations of the zeros of a polynomial determine the function everywhere. It's not an analogy: the quantum state of the spin (in the |j, m> representation) is proportional to a polynomial whose roots are the stars, after a projection from the complex plane to the sphere. \n",
    "\n",
    "Conceptually, the key to understanding the construction lies in the connection between spherical symmetry and permutation symmetry. Spin-j states can also be represented as permutation symmetric tensor products of 2j spin-1/2 particles, where the \"constellation\" is encoded entirely in the entanglement between the 2j spins. Once you have that, for example, the calculation of which particles can pop out of an angular momentum conserving interaction becomes very elegant and interesting to visualize. We can then demonstrate a third representation of angular momentum using a pair of 1D harmonic oscillators, which is the simplest possible model of what is known as \"second quantization,\" and which also will allow us to think about spin for massless particles: aka polarization. If time allows, we can show a remarkable connection between angular momentum conserving interactions and the quantum generalization of polyhedra, an insight much beloved in the Loop Quantum Gravity community..."
   ]
  }
 ],
 "metadata": {
  "kernelspec": {
   "display_name": "VPython",
   "language": "python",
   "name": "vpython"
  },
  "language_info": {
   "codemirror_mode": {
    "name": "ipython",
    "version": 3
   },
   "file_extension": ".py",
   "mimetype": "text/x-python",
   "name": "python",
   "nbconvert_exporter": "python",
   "pygments_lexer": "ipython3",
   "version": "3.7.7"
  }
 },
 "nbformat": 4,
 "nbformat_minor": 4
}
