{
 "cells": [
  {
   "cell_type": "markdown",
   "metadata": {},
   "source": [
    "# What is an atom?\n",
    "## 1. A Pebble?\n"
   ]
  },
  {
   "cell_type": "markdown",
   "metadata": {},
   "source": [
    "So we begin with an atom, or the idea of an atom. We symbolize it with a pebble: $\\Large\\bullet$.  Tiny, hard, impenetrable. Point-like. You can turn over a real pebble in your hand. Of course, you can split an actual pebble, but maybe you imagine splitting it again and again, and eventually maybe you can't split it any more: and we're talking about that, that ur-pebble at the bottom in the dust, separated from its fellow dust. Or from another point of view, we're tracing the roots of our human concept of a \"pebble\" and what we can do with it.\n",
    "\n",
    "So we have a pebble: $\\Large\\bullet$. What can we do with it? Well, if we had it, we could lose it, get rid of it, take it away. We'll denote the absence of the pebble with $\\Large\\circ$.\n",
    "\n",
    "The point is in our way of representing things, we have a way of symbolizing both a thing and its absence. And indeed, this is how we perceive the situation: the empty space there in your hand is just inviting me to place a pebble in it. To understand the concept of a pebble is to see the world as one giant set of opportunities to place a pebble somewhere where it's absent or to take a pebble from where it sits. \n",
    "\n",
    "Furthermore, such a scheme is necessary for reliable communication. If we can in fact recognize a pebble, we can use the presence or absence of a pebble to communicate something perhaps totally unrelated to the pebble. A little rock on a ledge by a window, a sign that the riots begin tomorrow. But there's a catch! Just the same, we could have prepared a little surprise, which is that it would be precisely the *absence* of the pebble that would signify the riots begin tomorrow, whereas its presence would have signified regrouping. So it's clear: in order to communicate something with a pebble, we have to both understand pebbles, to be able to pick them out of the background of perception, promoting their presence or absence to the foreground, but also: we have to make an ultimately arbitrary choice about whether presence or absence will significant, which one is $0$ and which one is $1$. The choice is arbitrary, but a choice must be made. And this fact means that if we swap pebbles for absences, we can on the flip side correct our rule for signification by swapping them in the same way, riots for regrouping."
   ]
  }
 ],
 "metadata": {
  "kernelspec": {
   "display_name": "VPython",
   "language": "python",
   "name": "vpython"
  },
  "language_info": {
   "codemirror_mode": {
    "name": "ipython",
    "version": 3
   },
   "file_extension": ".py",
   "mimetype": "text/x-python",
   "name": "python",
   "nbconvert_exporter": "python",
   "pygments_lexer": "ipython3",
   "version": "3.7.7"
  }
 },
 "nbformat": 4,
 "nbformat_minor": 4
}
