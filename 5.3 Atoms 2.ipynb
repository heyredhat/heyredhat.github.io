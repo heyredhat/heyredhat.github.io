{
 "cells": [
  {
   "cell_type": "markdown",
   "metadata": {},
   "source": [
    "# What is an atom?\n",
    "## 2. A pile of pebbles\n"
   ]
  },
  {
   "cell_type": "markdown",
   "metadata": {},
   "source": [
    "So far we've just been really considering a single pebble and what we can do with it. \n",
    "\n",
    "But, if $1$ pebble is sitting there, why not put another one beside it? So now we have $2$ pebbles: $ \\Large \\{ \\Large\\bullet, \\Large\\bullet \\}$. We could add another pebble. Then we'd have $3$ pebbles: $ \\Large \\{ \\Large\\bullet, \\Large\\bullet, \\Large\\bullet \\}$. And, all things being equal, there's no limit to our being able to add more pebbles. And so, we've discovered counting up. And naturally, if we can count up, we can count down, removing pebbles until we're back to our original pebble. \n",
    "\n",
    "One way to look at this is that we're providing more context for our pebble $\\Large\\bullet$. Picture it like our pebble is actually floating in an infinite sea of pebble-absences: $ \\Large \\{\\dots, \\Large\\circ, \\Large\\bullet, \\Large\\circ, \\dots \\}$. Each absence represents an opportunity to add another pebble. You can take the bait: $ \\Large \\{\\dots, \\Large\\circ, \\Large\\bullet, \\Large\\bullet, \\dots \\}$, and again: $ \\Large \\{\\dots, \\Large\\bullet, \\Large\\bullet, \\Large\\bullet, \\dots \\}$, without limit: which implies there's always one more $\\Large\\circ$ left no matter how many $\\Large\\bullet$'s you add, just as you started with a single $\\Large\\bullet$ in a sea of $\\Large\\circ$'s. Of course the order doesn't matter. \n",
    "\n",
    "If before we had atomic pebbles, we now have composites made of those atoms, in which the atoms all coexist simultaneously, atop each other, however you want to look at it. What I mean is that the pebbles are indistinguishable. Indeed, to number things is to treat those things as indistinguishable, interchangable, of the same type.\n",
    "\n",
    "So we've discovered the counting numbers $1, 2, 3, \\dots$. You could picture them like: a bunch of pebbles in a pile. But notice we start counting at 1. This is necessary because we'd like to preserve the original symmetry, the fact that we could swap a pebble for its absence, as well as our interpretations, and still get a successful signification. In this case, we just flip the colors on all the pebbles. \n",
    "\n",
    "But technicalities aside, a practical example: Suppose I want to communicate to you the number of birds that flew by my window today. For each bird I see, I place a pebble in a bag. I hand the bag to you, and you draw out the pebbles one at a time until there's none left. As many as you counted: that's the number of birds I saw today. For this to work, we have to agree on what it is to put a pebble in a bag and to take it out again, and also on: what is an empty bag. Then we can climb up and down the tree, and meet again at the root. "
   ]
  }
 ],
 "metadata": {
  "kernelspec": {
   "display_name": "VPython",
   "language": "python",
   "name": "vpython"
  },
  "language_info": {
   "codemirror_mode": {
    "name": "ipython",
    "version": 3
   },
   "file_extension": ".py",
   "mimetype": "text/x-python",
   "name": "python",
   "nbconvert_exporter": "python",
   "pygments_lexer": "ipython3",
   "version": "3.7.7"
  }
 },
 "nbformat": 4,
 "nbformat_minor": 4
}
