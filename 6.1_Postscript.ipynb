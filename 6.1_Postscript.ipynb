{
 "cells": [
  {
   "cell_type": "markdown",
   "metadata": {},
   "source": [
    "# Postscript\n"
   ]
  },
  {
   "cell_type": "markdown",
   "metadata": {},
   "source": [
    "<hr>\n",
    "\n",
    "Our narrative has followed a particular thread: the generalization of the concept of number until it's adequate to describe the numbers which appear in physics. Along the way, we'll develop all the mathematics required to make simple, illustrative models at each stage, and begin to understand the stakes of even such rarefied subjects as quantum field theory and the quantum theory of gravity. A word to the wise: mathematicians might balk at my notion of the \"dialectical unfolding of the concept of number,\" and the resulting philosophy of mathematics and physics that results. Whether the notion can be made precise or not is for me less important that its role in organizing the mathematics into a narrative progression, which is a great aid to understanding and memory.\n",
    "\n",
    "The idea of a dialectic goes back to the beginning of written philosophy. One rather famous example of a philosopher who spent a lot of time thinking about dialectics was Hegel. The caricature runs like this: first, you have a thesis. Then, the thesis calls into existence its antithesis. Finally, the thesis and antithesis are overcome by a synthesis, which resolves them together, but which couldn't have been anticipated by mere analysis of the thesis and antithesis, which are by definition irreconcilable. A new cycle begins: the synthesis itself acts as a thesis, bringing forth an antithesis, etc. Hegel famously used this device to try to retell human history as part of the dialectical unfolding of ideas in a cosmic spirit. Marx tried to apply it to social and economic structures. Its reputation has risen and fallen, tracking the motion of various politics. Whether \"the dialectic\" applies to this or that complicated phenomenon is a difficult question to answer, but the mathematics of numbers is one place where the dialectical pattern can be displayed rather cleanly and persuasively.\n",
    "\n",
    "We first establish four dialectical axioms. These are not axioms in the usual sense of formal objects, upon which well defined operations act, from which we can mechanically deduce theorems. Instead, they establish the rules of the dialectic: and unlike a monologue, the results of a dialogue cannot be anticipated beforehand, because of the uncertainty of the other. We'll see in what sense they are like axioms as we go along: they are best explained by using them.\n",
    "\n",
    "But here they are:\n",
    "\n",
    "### The Four Axioms of the Dialectic of Number\n",
    "+ You can do something or not.\n",
    "+ Anything you can do, you can do again.\n",
    "+ Anything you can do, you can undo.\n",
    "+ Anything you can do in sequence, you can do simultaneously.\n",
    "\n",
    "We can actually be more specific:\n",
    "\n",
    "+ You can make a mark.\n",
    "+ You can make another mark.\n",
    "+ You can erase a mark.\n",
    "+ You can symbolize a sequence of marks with a mark.\n"
   ]
  },
  {
   "cell_type": "markdown",
   "metadata": {},
   "source": [
    "<hr>\n",
    "\n",
    "On Stories. Loops stories. Circuits closing. \n",
    "\n",
    "We’re swimming upstream \n",
    "\n",
    "Evolutionary stories.\n",
    "\n",
    "Rovelli on time: entropy in the eye of the beholder.\n",
    "\n",
    "Language and tensors.\n"
   ]
  },
  {
   "cell_type": "markdown",
   "metadata": {},
   "source": [
    "<hr>\n",
    "\n",
    "\tcontinuous evolution is like falling thru empty time\n",
    "\tcollapse is like a boundary in time\n",
    "\n",
    "\tfree fall is falling thru empty space\n",
    "\thorizons are boundaries in space\n"
   ]
  },
  {
   "cell_type": "markdown",
   "metadata": {},
   "source": [
    "<hr>\n",
    "\n",
    "```In the end how to be ready for love.\n",
    "How to love.\n",
    "To get everything else out of the way.\n",
    "To build one's statue.\n",
    "\n",
    "To bring here and there\n",
    "a wormhole.\n",
    "\n",
    "How to make a wormhole, the ultimate \"communication\"-- aligning here and there and now.\n"
   ]
  },
  {
   "cell_type": "markdown",
   "metadata": {},
   "source": [
    "<hr>\n",
    "\n",
    "In a relativistic world, two things without a relationship which interact can only lead to a random outcome, since there is literally no prior reason. We can shear of relationships and so create these situations.\n"
   ]
  },
  {
   "cell_type": "markdown",
   "metadata": {},
   "source": [
    "<hr>\n",
    "\n",
    "Celestial Amplitudes. Spin helicity. Twistors.\n",
    "\n",
    "Classical vs Quantum Ising models. \n",
    "\n",
    "Heat equation vs Schrodinger equation\n",
    "\n",
    "Statics vs Dynamics"
   ]
  },
  {
   "cell_type": "markdown",
   "metadata": {},
   "source": [
    "<hr>\n",
    "\n",
    "The Hydrogen Atom -> Periodic table. \n",
    "\n",
    "The Solar system analogy, and the Old Quantum Mechanics. \n",
    "\n",
    "A \"quantum of action.\"\n"
   ]
  },
  {
   "cell_type": "markdown",
   "metadata": {},
   "source": [
    "<hr>\n",
    "\n",
    "The \"observer\" represents the physical world for that observer, and not the perceptions of the observer? But then there is the question of: what one knows vs. what it is possible to know.\n",
    "\n",
    "We after do seem to be able to perceive \"multiple possibilities.\" Distinguishing mind, open mind.\n",
    "\n",
    "Consider the lack of orientation w/r/t to the outside of one's \"inner world.\"\n",
    "\n",
    "Telepathy is possible, but others can't confirm it?\n",
    "\n",
    "What provides context to the matrices? Connection to experience.\n",
    "The character of physics : what is invariant under perspectives.\n"
   ]
  },
  {
   "cell_type": "markdown",
   "metadata": {},
   "source": [
    "<hr>\n",
    "\n",
    "Now there could be some restrictions on where a “cut” can take place. Here’s one idea I keep tossing around in my head. One could imagine dividing the world into SUBJECT BODY WORLD, all entangled, and we set up the formalism so that projections all take place on the BODY (including clocks if we’re working with timeless QM, and in general, including all the past choices relevant to the moment being considered), and the rule is that only cuts which are permissible are those that lead to SUBJECT and WORLD being in separable states (of course, having been steered appropriately). This is just one spin on the Heisenberg/Von Neumann cut. Is it paradoxical that the SUBJECT could itself split into multiple disconnected pieces? Finally, in this scheme, one is tempted to interpret the quantum states of the SUBJECT, in their own entangled superposition, in terms of perceptual gestalts rather than “superpositions over outcomes” (re: the theory of constellations). And yet: there is a fixed point, which is our gestalt perception of: multiple possibilities unfolding itself.)"
   ]
  },
  {
   "cell_type": "markdown",
   "metadata": {},
   "source": [
    "<hr>\n",
    "For Irving.\n",
    "\n",
    "Any theory of the mind has as its empirical basis a list of correlations: between the body and experience. \n",
    "\n",
    "I poke your brain with some electricity, and ask you: Did I trigger some perception, like the smell of your mother’s cooking? Or no? I’m going over your brain, poking here and there, to figure out which parts of the brain correspond to what we are actually conscious of. The thing is: I can’t directly observe your experience itself. So I have to ask you: Did my poke do anything or not? And you have to tell me.\n",
    "\n",
    "Well, you aren’t satisfied with that, so you start monitoring the neurons that control my mouth, and learn to decode what I’m about to say it just before my mouth actually moves. And then you press inward into the brain, trying to predict whether I say yes or no before I actually say it. \n",
    "\n",
    "Maybe this proves in practice impossible, if for example the signal from the poked neuron bubbles out over the whole brain, and bounces around, and then refocuses itself near the part where I tell my mouth what to do so that it would be practically impossible to actually trace the causation the full yway. Or if for example, the brain is highly entangled, so that the the relevant occurrences are taking place at a deeper level of entanglement (correspondingly larger scale of the brain). And if, whether due to quantum effects or semiclassical effects, any attempt to fully map out the firing of our neurons necessarily alters their firing pattern.\n",
    "\n",
    "But Irving makes an even more profound point about self-consciousness. \n",
    "    \n",
    "So we ask you: Tell me if you feel something, yes or no. And then we poke a neuron, and then that neuron fires, and then another neuron fires … and then we hit a fork in the road, if neuron A fires, then...you say yes! but if neuron B fires, then..you say no! We’ve done the experiment many times, and have in fact observed this correlation. Great! So we don’t actually need your personal experience anymore, we just poke you, and if neuron A fires, there was a conscious perception associated to the poke; and if neuron B fires, then there wasn’t.\n",
    "\n",
    "The issue, however, is: what if we hadn’t asked the question?\n",
    "\n",
    "We asked you a yes/no question, and this prepared you to be in the mindset of answering that question, monitoring your perceptions for any change, while we poke you. And this has a neural correlate: neuron A fires if yes, neuron B fires if no. And so we think we don’t need you to introspect anymore, we can just look at your brain and guess: ah, the person associated to this brain will be experiencing this right now.\n",
    "\n",
    "But if we hadn’t asked the question, and you hadn’t been in that discriminatory mindset, then there would be no neuron A to trace and no neuron B to trace. There would just be you having an experience, and its neural correlates meanwhile in the brain, but there would be no way to tell from looking at the brain whether the poke was experienced consciously or not.\n",
    "\n",
    "In other words, we can’t get rid of introspection. The ability to assign neuron A to CONSCIOUS and neuron B to UNCONSCIOUS depends on the subject of the experiment themselves asking the question. (It’s possible that not all brains can ask themselves such questions!) If they aren’t asking themselves the question, then there won’t be any neural correlate to CONSCIOUS vs UNCONSCIOUS. And therefore, we can’t just study brains in isolation from the self. And we have to be sensitive to the fact that “asking yourself whether you are having a perception or not” is not the same experience as “having a perception per se.”\n",
    "\n",
    "Of course, this doesn’t rule out broader analysis, like: generally speaking, when the visual cortex is firing this way, people see this sort of thing. But that’s a prediction. Even if we know about convolutional neural networks, and watch an image being processed layer by layer, and see the same kinds of connectivity and activation in the visual cortex, in the end, it is self-reporting that is the basis for the study of brain/mind correlations. \n",
    "\n",
    "One might say: well, what calculation is happening when we poke you, and neuron A fires or neuron B fires. Like what computation is that the result of? If we know what computation it was, and its meaning, then we maybe could say: well, since this computes whether the poke was experienced or not, then by understanding its meaning (probably having to do with attention), we could then understand why some things are conscious or not, and then predict that directly from the brain.\n",
    "\n",
    "But that perhaps jumps the gun. Since it could be that: when we have a perception that we are conscious of, it bounces around, and gets into our rhythm, and induces all sorts of correlations are are good proxies for the thing having been perceived; but that ultimately there is no rule able to be given in the sense of a computation, but only a correlation between body and mind.\n",
    "    \n",
    "It’s still not clear if actually we are conscious of our entire brains/bodies, only most of it is “folded up” in our perception, in the background, in the white noise, encrypted as it were, and what we are really doing is folding and unfolding, expanding things out, or scrambling them across, so that we are really conscious of our whole selves (even the whole world), but most of it its compressed down into the fringes of our experience, or is perceived as “scaffolding,” like “spacetime.” So that the question isn’t: what parts of our brain are we conscious of and which parts aren’t we conscious of. But the same question as in quantum mechanics: why do we have this perspective, as opposed to any other? And nothing in science offers any answer to that.\n"
   ]
  },
  {
   "cell_type": "markdown",
   "metadata": {},
   "source": [
    "<hr>\n",
    "\n",
    "19th century context. Kant and Darwin. \n",
    "\n",
    "On: <a href=\"https://experts.illinois.edu/en/publications/transfinite-life-oskar-goldberg-and-the-vitalist-imagination\">\"Transfinite Life: Oskar Goldberg and the Vitalist Imagination\"</a>\n",
    "\n",
    "The book is perhaps more interesting for its contextualization of the guy rather than the guy himself! There's an interesting genealogy of late 19th / early 20th century vitalist thinkers that evidently runs through the \"phenomenologists\" like Brentano and Husserl as well as the \"embryologists\" which I hadn't quite realized. It's the end of the 19th century. Everyone's obsessed with the mechanism/vitalism duality: physics seems mechanical and yet look at how in perception the whole comes before the parts, which therefore can't be separated mechanically question mark. Everyone's trying to define what makes an organic whole. But it's the end of the 19th century. We haven't proven atoms exist yet. There's probably an ether. No word yet on anything like DNA. One scientists takes a fertilized frog egg, lets it split for a bit, and then separates it into two pieces. Half a frog grows out of each. Another scientist takes a sea urchin and lets a fertilized egg split for a bit, then gives it a shake to separate it into many pieces, each of which grow into their own smaller sea urchin. The latter is taken by some people to be evidence that the sea urchin is contained \"holistically\" in each of its cells in an \"organic\" non-mechanical way. Well, now we have a more mechanistic explanation in terms of DNA. But at the time, it was seen as part of the argument for holistic, top-down causation--along with the nonseparability of the perceptual gestalt, where the whole perception of seeing you sitting on a chair comes prior to being analyzed into its component pieces, and the pieces only make sense with regard to the perceptual whole. Remember we're converging on whether the world is made of \"atoms\" or not in the science of the time. It's a very live possibility that it isn't, that actually perhaps some kind of \"continuous\"/\"organic?\" math governs the world. Then some Jewish/very neoKantian German thinkers get excited by that and also Cantor's discovery that there are transfinite numbers, where are kinda like \"organic wholes\" in the sense that they \"contain\" for example \"the completed infinity of 1,2,3,4,...\" or \"the completed infinity of the continuous line,\" and also by the late 19th / early 20 century obsession with myth in the context of the colonial era which made all Europeans fantasize about what made them so different in their bourgeois lives from the tribal peoples out yonder, and speculate about \"organic\" forms of collective social organizations, tribes, etc. Our Oskar Goldberg decides to tell a post-WW1 story about how the nation-states lost their way, turned into capitalistic killing machines, divorced from their origins in the holistically unified tribal state, each Nation a God to its people, but sort of in an almost to me comic book like setting, where YHVH manifests in the world at Sinai, the one true God, but the way God set up the world was that if He could Enter it, Any Other Transcendental Powers could also enter it, and so they do, and gather up people of their own, whose lives become holistically organized around sacrifices to that God, etc (I suppose you don't have to read this as a \"racist\" story per se, although he tries to suggest that this is the origin of ethnicities, which in his mind grew up around charismatic leaders in touch with the relevant Transcendental Power, and helping holistically organize the people)--and anyway the one true God YHVH who is the One True God because he is the only Unique One cleaves his people to him, and he's on a metaphysical war against the false gods. 5000 years of civilization go by, and all the old Tribes are scattered and lost, and although the Transcendental Powers are still active, they aren't organized in an obvious tribal fashion, and we still have to join YHVH on his mission to save the world by having everyone appreciate how transcendentally unique YHVH is re: the other gods. And so now we need an organic politics in the aftermath of the Great War.\n",
    "\n",
    "Meanwhile, I'm thinking:\n",
    "\n",
    "In other news, James Joyce shows you can have your cake and eat it two, walking around Greece and Dublin simultaneously. It's the 1920's. And on the other side of the stage, the physicists are just then actually answering the question. Is the universe continuous or discrete, vitalist or mechanical? And the answer is drumroll: both! The universe is actually quantum mechanical! It's made up of quanta, in the sense that measurements always reveal some definite number of quanta, but the math that governs how they evolve in time is continuous! The quanta can join together into complexes called atoms that explain all of chemistry and familiar matter. And in fact, you can have holistic organic wholes in the other sense too! That's just entanglement: there is more information in two entangled particles together, than there is apart. The two parts are defined in terms of the whole; rather than the whole being defined in terms of its parts. So that at its deepest level, the world is not \"mechanical\"-- but there are good arguments that you can use to show why the world looks mechanical in many common circumstances! In other words, the organic-ness is generically *very fragile*. And yet evolution is very powerful... Am I holistically contained in each of my cells? I'm still not sure! But a lot can be explained mechanically via DNA at least with regard to embryos, as I said, so the proof will be trickier. We're probably going to discover all sorts of funny entanglement effects across our bodies. But no one has yet really figured out how to relate all this to perceptual gestalts although of course that is the dream. Von Neumann had his interesting thought about \"psychophysical parallelism\" but I say no one has really been able to unpack it in a truly satisfying way.\n",
    "\n",
    "Quantum mechanics unifies the continuous and the discrete, the vitalist and the mechanical, but it doesn't pretend yet to have all the metaphysical answers. In fact, it spends most of its time worrying about the difference between what it doesn't know and what it can't know. Anyway, that's what I was thinking about as I was reading this book! It's a little repetition in a disseration kind of way, but contains lots of interesting details."
   ]
  }
 ],
 "metadata": {
  "kernelspec": {
   "display_name": "VPython",
   "language": "python",
   "name": "vpython"
  },
  "language_info": {
   "codemirror_mode": {
    "name": "ipython",
    "version": 3
   },
   "file_extension": ".py",
   "mimetype": "text/x-python",
   "name": "python",
   "nbconvert_exporter": "python",
   "pygments_lexer": "ipython3",
   "version": "3.7.7"
  }
 },
 "nbformat": 4,
 "nbformat_minor": 4
}
