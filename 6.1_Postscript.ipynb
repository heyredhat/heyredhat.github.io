{
 "cells": [
  {
   "cell_type": "markdown",
   "metadata": {},
   "source": [
    "Incidentally, it's worth thinking about the fact that this whole recipe is *not* reversible. Suppose we wanted to go from our symmetrized state of $n$ qubits back to the separable state of $n$ qubits. If we've performed the measurement, and indeed, ended up in the symmetrized state, what happens? We apply the inverse of `QFT.dag()*CPERMS*QFT`: our control ends up in an even superposition as before, and then we condition the permutations on it... but we're in the permutation symmetric state, so it has no effect! \n",
    "\n",
    "On the other hand, if we *don't* make that final measurement, then everything is perfectly reversible. Because of linearity, if we apply operations on the qubits, those operations are applied \"in each possible world,\" including the one where they end up totally symmetrized, so a) we can always wait until later to actually measure the control, if we want, and it'll be just as if we measured the control, and then manipulated the symmetrized state; and b) we can apply the above circuit in reverse, and obtain a state of separable qubits whose \"stars\" have evolved in just the right way. E.g.:"
   ]
  },
  {
   "cell_type": "code",
   "execution_count": 5,
   "metadata": {},
   "outputs": [
    {
     "name": "stdout",
     "output_type": "stream",
     "text": [
      "original spin probs:\n",
      "[0.29278106+0.j 0.26911552+0.j 0.20033854+0.j 0.23776488+0.j]\n",
      "evolved spin probs:\n",
      "[0.53636766+0.j 0.21956477+0.j 0.06337357+0.j 0.180694  +0.j]\n",
      "evolved sym probs:\n",
      "[0.53636765+0.j 0.21956477+0.j 0.06337357+0.j 0.180694  +0.j]\n"
     ]
    }
   ],
   "source": [
    "d = n+1\n",
    "j = (d-1)/2\n",
    "\n",
    "spin = qt.rand_ket(d) # create a spin\n",
    "qubits = [qt.Qobj(xyz_spinor(star))\\\n",
    "              for star in spin_XYZ(spin)] # get qubits\n",
    "\n",
    "S = spin_sym(j)\n",
    "H = qt.rand_herm(d)#qt.jmat(j, 'x')\n",
    "U = (-1j*H*np.pi).expm()\n",
    "spin2 = U*spin # apply random unitary to spin\n",
    "\n",
    "state = qt.tensor(qt.basis(dp, 0), *qubits)\n",
    "# apply symmetrization circuit, then upgraded unitary,\n",
    "# the the inverse of the sym circuit\n",
    "CIRCUIT = QFT.dag()*CPERMS*QFT\n",
    "bigH = S*H*S.dag()\n",
    "bigU = qt.tensor(qt.identity(dp), (-1j*bigH*np.pi).expm())\n",
    "state = CIRCUIT.dag()*bigU*CIRCUIT*state\n",
    "\n",
    "final_state = state.ptrace(list(range(1, n+1)))\n",
    "# convert the final sym state into a spin state\n",
    "# for comparison\n",
    "final_spin = (S.dag()*final_state*S).unit()\n",
    "\n",
    "print(\"original spin probs:\")\n",
    "print(np.diag((spin*spin.dag()).full()))\n",
    "print(\"evolved spin probs:\")\n",
    "print(np.diag((spin2*spin2.dag()).full()))\n",
    "print(\"evolved sym probs:\")\n",
    "print(np.diag(final_spin.full()))"
   ]
  },
  {
   "cell_type": "markdown",
   "metadata": {},
   "source": [
    "# Postscript on Perception\n"
   ]
  },
  {
   "cell_type": "markdown",
   "metadata": {},
   "source": [
    "\n",
    "Now in quantum field theory, one often works in the approximation where special relativity holds. Great effort is spent obtaining unitary representations of the Poincare group of space/time translations, rotations and boosts, and the resulting Minkowski vacuum is Poincare invariant. In other words, all observers who are just translated, rotated and boosted from each other agree on the vacuum state, and hence: on what constitutes a particle. \n",
    "\n",
    "But when we consider curved spacetimes and in general accelerated reference frames, it turns out  observers disagree on the vacuum state, and on what constitutes a particle. A famous example is the Unruh radiation. It is predicted that compared to an observer moving inertially, an accelerated observer moving through the same space will detect particles, whereas the inertial observer wouldn't. An observer moving with a constant acceleration divides the world into parts: for example, those parts in the past which can't ever catch up to this observer, and those parts in the future the observer will never be able to reach, due to the finite speed of light, and the fact of they're accelerating. And speaking very broadly, there's a map from the creation and annihilation operators in the inertial frame to creation and annihilation operators in the accelerated frame, and they're related by a linear Bogoliobov transformation, which is a symplectic transformation, which means that it preserves the relationship between position and momentum, creation and annihilation, for all the operators: so that the commutation relations are satisfied on both sides. And there is a whole very deep theory there. In the end, it's like the vacuum in one frame is built out of particle states in the other frame, and particle states in the one frame might correspond to the vacuum state of another. The same trick is used in condensed matter systems. A Bogoliubov transformation can diagonalize any quadratic energy operator: but one ends up with a system \"made\" of different kinds of particles!\n",
    "\n",
    "In our wormhole case specifically, we have one frame: the frame, as it were, from outside the whole system, where the left black hole and the right black hole can be distinguished, and our qubit enters on the left, and comes out on the right. And before things begin, the two black holes (at infinite temperature) are in the maximally entangled CUP state. But there's another frame where the complex fermion number operator is diagonal: there, before the qubit insertion, we're just sitting in the vacuum, a vacuum which is made of equal parts left and right from the other perspective. After all, if you lived your whole life inside the wormhole, you'd never even know there was necessarily a \"left\" and \"right\" side. And the whole wormhole protocol works because we, from the outside, are able to implement the number operator coupling, which is precisely diagonal \"from the inside perspective.\" There's two ways to over come left and right: to be \"inside\" it and so unaware of the difference, or to be \"outside\" it by bringing left and right together to interact.\n",
    "\n",
    "So: whether something is a cup or a cap depends on the particular observer. Different observers in general motion can disagree about what consitutes a particle, disagree about the string diagram that represents the situation. Different observers may join unlike things, cleave other things apart, open themselves up for entry here, closing themselves off there... \n"
   ]
  },
  {
   "cell_type": "markdown",
   "metadata": {},
   "source": [
    "Markov blankets.\n",
    "\n",
    "Relativistic wave equation for any spin."
   ]
  },
  {
   "cell_type": "markdown",
   "metadata": {},
   "source": [
    "<hr>\n",
    "\n",
    "\n",
    "\n",
    "In a sense, I've established four dialectical axioms. These are not axioms in the usual sense of formal objects, upon which well defined operations act, from which we can mechanically deduce theorems. Instead, they establish the rules of the dialectic: and unlike a monologue, the results of a dialogue cannot be anticipated beforehand. They are best explained by using them.\n",
    "\n",
    "### The Four Axioms of the Dialectic of Number\n",
    "+ You can do something or not.\n",
    "+ Anything you can do, you can do again.\n",
    "+ Anything you can do, you can undo.\n",
    "+ Anything you can do in sequence, you can do simultaneously.\n",
    "\n",
    "We can actually be more specific:\n",
    "\n",
    "+ You can make a mark.\n",
    "+ You can make another mark.\n",
    "+ You can erase a mark.\n",
    "+ You can symbolize a sequence of marks with a mark."
   ]
  },
  {
   "cell_type": "markdown",
   "metadata": {},
   "source": [
    "<hr>\n",
    "\n",
    "With that, we should conclude this journey, at least for now.\n",
    "\n",
    "Space, time, particle: all are contextualized with reference to some observer. What I see as some particles in some space, you might see as some other particles in some other space. Exactly how this all works we don't yet fully know and won't until we more completely understand the interplay between quantum spacetime and matter, the theory of quantum gravity.\n",
    "\n",
    "But we can make a general comment with regard to our theme of \"atoms\":\n",
    "\n",
    "Even as the notion of \"atoms\" pervades every stage of the progression of mathematical thought, at the end of the day, there are no atoms in themselves, nothing absolutely indivisible from all perspectives. The fate of the periodic table in the face of the transmutation of the elements is quite general.\n",
    "\n",
    "Step by step, as it has unfolded, our story has been as much about translating between the perspective of observers as it has been about the pebbles which are passed between them. Our theories of physics allow observers to come to agreement about the way the world is independent of their perspectives, using mathematics to represent the relationship between their points of view. But the observers themselves, as it were, stand outside the theory as such, as *users* of the theory, which provides a reliable means of guaranteeing communication and agreement. \n",
    "\n",
    "This may seem like a limitation, but the underlying message of modern physics is that of relativity: everything that we can reliably communicate about is always a relative phenomenon. Science is the attempt to communicate clearly about the relationships between things, not the \"things themselves.\" Indeed, the success of science doesn't necessarily imply that *everything* is communicable. After all, nothing in physics can predict that *you* would be you, it can only predict your future observations given your past observations. One of the great features of modern physics is that, even as it blows our mind with previously inconceivable magic tricks, it is at its core deeply modest. It knows quite well what it can't talk about. The rest, as they say, is metaphysics.\n",
    "\n",
    "In other words, if there is anything atomic left in physics, it's *you*, right here, right now."
   ]
  },
  {
   "cell_type": "markdown",
   "metadata": {},
   "source": [
    "<hr>\n",
    "\n",
    "On Stories. Loops stories. Circuits closing. \n",
    "\n",
    "We’re swimming upstream \n",
    "\n",
    "Evolutionary stories.\n",
    "\n",
    "Rovelli on time: entropy in the eye of the beholder.\n",
    "\n",
    "Language and tensors.\n"
   ]
  },
  {
   "cell_type": "markdown",
   "metadata": {},
   "source": [
    "<hr>\n",
    "\n",
    "\tcontinuous evolution is like falling thru empty time\n",
    "\tcollapse is like a boundary in time\n",
    "\n",
    "\tfree fall is falling thru empty space\n",
    "\thorizons are boundaries in space\n"
   ]
  },
  {
   "cell_type": "markdown",
   "metadata": {},
   "source": [
    "<hr>\n",
    "\n",
    "```In the end how to be ready for love.\n",
    "How to love.\n",
    "To get everything else out of the way.\n",
    "To build one's statue.\n",
    "\n",
    "To bring here and there\n",
    "a wormhole.\n",
    "\n",
    "How to make a wormhole, the ultimate \"communication\"-- aligning here and there and now.\n"
   ]
  },
  {
   "cell_type": "markdown",
   "metadata": {},
   "source": [
    "<hr>\n",
    "\n",
    "In a relativistic world, two things without a relationship which interact can only lead to a random outcome, since there is literally no prior reason. We can shear of relationships and so create these situations.\n"
   ]
  },
  {
   "cell_type": "markdown",
   "metadata": {},
   "source": [
    "<hr>\n",
    "\n",
    "The \"observer\" represents the physical world for that observer, and not the perceptions of the observer? But then there is the question of: what one knows vs. what it is possible to know.\n",
    "\n",
    "We after do seem to be able to perceive \"multiple possibilities.\" Distinguishing mind, open mind.\n",
    "\n",
    "Consider the lack of orientation w/r/t to the outside of one's \"inner world.\"\n",
    "\n",
    "Telepathy is possible, but others can't confirm it?\n",
    "\n",
    "What provides context to the matrices? Connection to experience.\n",
    "The character of physics : what is invariant under perspectives.\n"
   ]
  },
  {
   "cell_type": "markdown",
   "metadata": {},
   "source": [
    "<hr>\n",
    "\n",
    "Now there could be some restrictions on where a “cut” can take place. Here’s one idea I keep tossing around in my head. One could imagine dividing the world into SUBJECT BODY WORLD, all entangled, and we set up the formalism so that projections all take place on the BODY (including clocks if we’re working with timeless QM, and in general, including all the past choices relevant to the moment being considered), and the rule is that only cuts which are permissible are those that lead to SUBJECT and WORLD being in separable states (of course, having been steered appropriately). This is just one spin on the Heisenberg/Von Neumann cut. Is it paradoxical that the SUBJECT could itself split into multiple disconnected pieces? Finally, in this scheme, one is tempted to interpret the quantum states of the SUBJECT, in their own entangled superposition, in terms of perceptual gestalts rather than “superpositions over outcomes” (re: the theory of constellations). And yet: there is a fixed point, which is our gestalt perception of: multiple possibilities unfolding itself.)"
   ]
  },
  {
   "cell_type": "markdown",
   "metadata": {},
   "source": [
    "<hr>\n",
    "For Irving.\n",
    "\n",
    "Any theory of the mind has as its empirical basis a list of correlations: between the body and experience. \n",
    "\n",
    "I poke your brain with some electricity, and ask you: Did I trigger some perception, like the smell of your mother’s cooking? Or no? I’m going over your brain, poking here and there, to figure out which parts of the brain correspond to what we are actually conscious of. The thing is: I can’t directly observe your experience itself. So I have to ask you: Did my poke do anything or not? And you have to tell me.\n",
    "\n",
    "Well, you aren’t satisfied with that, so you start monitoring the neurons that control my mouth, and learn to decode what I’m about to say it just before my mouth actually moves. And then you press inward into the brain, trying to predict whether I say yes or no before I actually say it. \n",
    "\n",
    "Maybe this proves in practice impossible, if for example the signal from the poked neuron bubbles out over the whole brain, and bounces around, and then refocuses itself near the part where I tell my mouth what to do so that it would be practically impossible to actually trace the causation the full yway. Or if for example, the brain is highly entangled, so that the the relevant occurrences are taking place at a deeper level of entanglement (correspondingly larger scale of the brain). And if, whether due to quantum effects or semiclassical effects, any attempt to fully map out the firing of our neurons necessarily alters their firing pattern.\n",
    "\n",
    "But Irving makes an even more profound point about self-consciousness. \n",
    "    \n",
    "So we ask you: Tell me if you feel something, yes or no. And then we poke a neuron, and then that neuron fires, and then another neuron fires … and then we hit a fork in the road, if neuron A fires, then...you say yes! but if neuron B fires, then..you say no! We’ve done the experiment many times, and have in fact observed this correlation. Great! So we don’t actually need your personal experience anymore, we just poke you, and if neuron A fires, there was a conscious perception associated to the poke; and if neuron B fires, then there wasn’t.\n",
    "\n",
    "The issue, however, is: what if we hadn’t asked the question?\n",
    "\n",
    "We asked you a yes/no question, and this prepared you to be in the mindset of answering that question, monitoring your perceptions for any change, while we poke you. And this has a neural correlate: neuron A fires if yes, neuron B fires if no. And so we think we don’t need you to introspect anymore, we can just look at your brain and guess: ah, the person associated to this brain will be experiencing this right now.\n",
    "\n",
    "But if we hadn’t asked the question, and you hadn’t been in that discriminatory mindset, then there would be no neuron A to trace and no neuron B to trace. There would just be you having an experience, and its neural correlates meanwhile in the brain, but there would be no way to tell from looking at the brain whether the poke was experienced consciously or not.\n",
    "\n",
    "In other words, we can’t get rid of introspection. The ability to assign neuron A to CONSCIOUS and neuron B to UNCONSCIOUS depends on the subject of the experiment themselves asking the question. (It’s possible that not all brains can ask themselves such questions!) If they aren’t asking themselves the question, then there won’t be any neural correlate to CONSCIOUS vs UNCONSCIOUS. And therefore, we can’t just study brains in isolation from the self. And we have to be sensitive to the fact that “asking yourself whether you are having a perception or not” is not the same experience as “having a perception per se.”\n",
    "\n",
    "Of course, this doesn’t rule out broader analysis, like: generally speaking, when the visual cortex is firing this way, people see this sort of thing. But that’s a prediction. Even if we know about convolutional neural networks, and watch an image being processed layer by layer, and see the same kinds of connectivity and activation in the visual cortex, in the end, it is self-reporting that is the basis for the study of brain/mind correlations. \n",
    "\n",
    "One might say: well, what calculation is happening when we poke you, and neuron A fires or neuron B fires. Like what computation is that the result of? If we know what computation it was, and its meaning, then we maybe could say: well, since this computes whether the poke was experienced or not, then by understanding its meaning (probably having to do with attention), we could then understand why some things are conscious or not, and then predict that directly from the brain.\n",
    "\n",
    "But that perhaps jumps the gun. Since it could be that: when we have a perception that we are conscious of, it bounces around, and gets into our rhythm, and induces all sorts of correlations are are good proxies for the thing having been perceived; but that ultimately there is no rule able to be given in the sense of a computation, but only a correlation between body and mind.\n",
    "    \n",
    "It’s still not clear if actually we are conscious of our entire brains/bodies, only most of it is “folded up” in our perception, in the background, in the white noise, encrypted as it were, and what we are really doing is folding and unfolding, expanding things out, or scrambling them across, so that we are really conscious of our whole selves (even the whole world), but most of it its compressed down into the fringes of our experience, or is perceived as “scaffolding,” like “spacetime.” So that the question isn’t: what parts of our brain are we conscious of and which parts aren’t we conscious of. But the same question as in quantum mechanics: why do we have this perspective, as opposed to any other? And nothing in science offers any answer to that.\n"
   ]
  },
  {
   "cell_type": "markdown",
   "metadata": {},
   "source": [
    "<hr>\n",
    "\n",
    "19th century context. Kant and Darwin. \n",
    "\n",
    "On: <a href=\"https://experts.illinois.edu/en/publications/transfinite-life-oskar-goldberg-and-the-vitalist-imagination\">\"Transfinite Life: Oskar Goldberg and the Vitalist Imagination\"</a>\n",
    "\n",
    "The book is perhaps more interesting for its contextualization of the guy rather than the guy himself! There's an interesting genealogy of late 19th / early 20th century vitalist thinkers that evidently runs through the \"phenomenologists\" like Brentano and Husserl as well as the \"embryologists\" which I hadn't quite realized. It's the end of the 19th century. Everyone's obsessed with the mechanism/vitalism duality: physics seems mechanical and yet look at how in perception the whole comes before the parts, which therefore can't be separated mechanically question mark. Everyone's trying to define what makes an organic whole. But it's the end of the 19th century. We haven't proven atoms exist yet. There's probably an ether. No word yet on anything like DNA. One scientists takes a fertilized frog egg, lets it split for a bit, and then separates it into two pieces. Half a frog grows out of each. Another scientist takes a sea urchin and lets a fertilized egg split for a bit, then gives it a shake to separate it into many pieces, each of which grow into their own smaller sea urchin. The latter is taken by some people to be evidence that the sea urchin is contained \"holistically\" in each of its cells in an \"organic\" non-mechanical way. Well, now we have a more mechanistic explanation in terms of DNA. But at the time, it was seen as part of the argument for holistic, top-down causation--along with the nonseparability of the perceptual gestalt, where the whole perception of seeing you sitting on a chair comes prior to being analyzed into its component pieces, and the pieces only make sense with regard to the perceptual whole. Remember we're converging on whether the world is made of \"atoms\" or not in the science of the time. It's a very live possibility that it isn't, that actually perhaps some kind of \"continuous\"/\"organic?\" math governs the world. Then some Jewish/very neoKantian German thinkers get excited by that and also Cantor's discovery that there are transfinite numbers, where are kinda like \"organic wholes\" in the sense that they \"contain\" for example \"the completed infinity of 1,2,3,4,...\" or \"the completed infinity of the continuous line,\" and also by the late 19th / early 20 century obsession with myth in the context of the colonial era which made all Europeans fantasize about what made them so different in their bourgeois lives from the tribal peoples out yonder, and speculate about \"organic\" forms of collective social organizations, tribes, etc. Our Oskar Goldberg decides to tell a post-WW1 story about how the nation-states lost their way, turned into capitalistic killing machines, divorced from their origins in the holistically unified tribal state, each Nation a God to its people, but sort of in an almost to me comic book like setting, where YHVH manifests in the world at Sinai, the one true God, but the way God set up the world was that if He could Enter it, Any Other Transcendental Powers could also enter it, and so they do, and gather up people of their own, whose lives become holistically organized around sacrifices to that God, etc (I suppose you don't have to read this as a \"racist\" story per se, although he tries to suggest that this is the origin of ethnicities, which in his mind grew up around charismatic leaders in touch with the relevant Transcendental Power, and helping holistically organize the people)--and anyway the one true God YHVH who is the One True God because he is the only Unique One cleaves his people to him, and he's on a metaphysical war against the false gods. 5000 years of civilization go by, and all the old Tribes are scattered and lost, and although the Transcendental Powers are still active, they aren't organized in an obvious tribal fashion, and we still have to join YHVH on his mission to save the world by having everyone appreciate how transcendentally unique YHVH is re: the other gods. And so now we need an organic politics in the aftermath of the Great War.\n",
    "\n",
    "Meanwhile, I'm thinking:\n",
    "\n",
    "In other news, James Joyce shows you can have your cake and eat it two, walking around Greece and Dublin simultaneously. It's the 1920's. And on the other side of the stage, the physicists are just then actually answering the question. Is the universe continuous or discrete, vitalist or mechanical? And the answer is drumroll: both! The universe is actually quantum mechanical! It's made up of quanta, in the sense that measurements always reveal some definite number of quanta, but the math that governs how they evolve in time is continuous! The quanta can join together into complexes called atoms that explain all of chemistry and familiar matter. And in fact, you can have holistic organic wholes in the other sense too! That's just entanglement: there is more information in two entangled particles together, than there is apart. The two parts are defined in terms of the whole; rather than the whole being defined in terms of its parts. So that at its deepest level, the world is not \"mechanical\"-- but there are good arguments that you can use to show why the world looks mechanical in many common circumstances! In other words, the organic-ness is generically *very fragile*. And yet evolution is very powerful... Am I holistically contained in each of my cells? I'm still not sure! But a lot can be explained mechanically via DNA at least with regard to embryos, as I said, so the proof will be trickier. We're probably going to discover all sorts of funny entanglement effects across our bodies. But no one has yet really figured out how to relate all this to perceptual gestalts although of course that is the dream. Von Neumann had his interesting thought about \"psychophysical parallelism\" but I say no one has really been able to unpack it in a truly satisfying way.\n",
    "\n",
    "Quantum mechanics unifies the continuous and the discrete, the vitalist and the mechanical, but it doesn't pretend yet to have all the metaphysical answers. In fact, it spends most of its time worrying about the difference between what it doesn't know and what it can't know. Anyway, that's what I was thinking about as I was reading this book! It's a little repetition in a disseration kind of way, but contains lots of interesting details."
   ]
  }
 ],
 "metadata": {
  "kernelspec": {
   "display_name": "VPython",
   "language": "python",
   "name": "vpython"
  },
  "language_info": {
   "codemirror_mode": {
    "name": "ipython",
    "version": 3
   },
   "file_extension": ".py",
   "mimetype": "text/x-python",
   "name": "python",
   "nbconvert_exporter": "python",
   "pygments_lexer": "ipython3",
   "version": "3.7.7"
  }
 },
 "nbformat": 4,
 "nbformat_minor": 4
}
