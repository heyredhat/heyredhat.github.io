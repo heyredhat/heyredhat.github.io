{
 "cells": [
  {
   "cell_type": "markdown",
   "metadata": {},
   "source": [
    "# Negative Probabilities\n"
   ]
  },
  {
   "cell_type": "code",
   "execution_count": 8,
   "metadata": {},
   "outputs": [
    {
     "name": "stdout",
     "output_type": "stream",
     "text": [
      "Quantum object: dims = [[2], [1]], shape = (2, 1), type = ket\n",
      "Qobj data =\n",
      "[[0.70710678+0.j        ]\n",
      " [0.        -0.70710678j]]\n",
      "P(Z+, X+): 0.250\n",
      "P(Z+, X-): 0.250\n",
      "P(Z-, X+): 0.250\n",
      "P(Z-, X-): 0.250\n",
      "SUM: 1.000\n",
      "P(Z+, X+) + P(Z+, X-) = P(Z+) == 0.500 = 0.500\n",
      "P(Z-, X+) + P(Z-, X-) = P(Z-) == 0.500 = 0.500 | SUM: 1.000\n",
      "P(Z+, X+) + P(Z-, X+) = P(X+) == 0.500 = 0.500\n",
      "P(Z+, X-) + P(Z-, X-) = P(X+) == 0.500 = 0.500 | SUM: 1.000\n",
      "True\n",
      "True\n",
      "True\n",
      "True\n",
      "(0.7499999999999998+0j) (-0.24999999999999994+0j) (0.7499999999999998+0j) (-0.24999999999999994+0j)\n",
      "(0.9999999999999996+0j)\n",
      "\n",
      "P(Z+, X+): 0.250\n",
      "P(Z+, X-): 0.250\n",
      "P(Z-, X+): 0.250\n",
      "P(Z-, X-): 0.250\n"
     ]
    }
   ],
   "source": [
    "import qutip as qt\n",
    "import numpy as np\n",
    "\n",
    "ZL, ZV = qt.sigmaz().eigenstates()\n",
    "ZP = [v*v.dag() for v in ZV]\n",
    "XL, XV = qt.sigmax().eigenstates()\n",
    "XP = [v*v.dag() for v in XV]\n",
    "\n",
    "a = (qt.basis(2,0)-1j*qt.basis(2,1)).unit()#qt.rand_ket(2)\n",
    "print(a)\n",
    "\n",
    "#Zpm Xpm\n",
    "P_pp = (1/4)*(qt.identity(2) + qt.sigmaz() + qt.sigmax()) # + qt.sigmay()\n",
    "P_pm  = (1/4)*(qt.identity(2) + qt.sigmaz() - qt.sigmax()) #- qt.sigmay()\n",
    "P_mp  = (1/4)*(qt.identity(2) - qt.sigmaz() + qt.sigmax()) #- qt.sigmay()\n",
    "P_mm  = (1/4)*(qt.identity(2) - qt.sigmaz() - qt.sigmax()) #+ qt.sigmay()\n",
    "print(\"P(Z+, X+): %.3f\" % qt.expect(P_pp, a))\n",
    "print(\"P(Z+, X-): %.3f\" % qt.expect(P_pm, a))\n",
    "print(\"P(Z-, X+): %.3f\" % qt.expect(P_mp, a))\n",
    "print(\"P(Z-, X-): %.3f\" % qt.expect(P_mm, a))\n",
    "print(\"SUM: %.3f\" % (qt.expect(P_pp, a)+qt.expect(P_pm, a)+qt.expect(P_mp, a)+qt.expect(P_mm, a)) )\n",
    "print(\"P(Z+, X+) + P(Z+, X-) = P(Z+) == %.3f = %.3f\" % (qt.expect(P_pp + P_pm, a), qt.expect(ZP[1],a)))\n",
    "print(\"P(Z-, X+) + P(Z-, X-) = P(Z-) == %.3f = %.3f | SUM: %.3f\" % (qt.expect(P_mp + P_mm, a), qt.expect(ZP[0],a), qt.expect(ZP[1],a)+qt.expect(ZP[0],a)))\n",
    "print(\"P(Z+, X+) + P(Z-, X+) = P(X+) == %.3f = %.3f\" % (qt.expect(P_pp + P_mp, a), qt.expect(XP[1],a)))\n",
    "print(\"P(Z+, X-) + P(Z-, X-) = P(X+) == %.3f = %.3f | SUM: %.3f\" % (qt.expect(P_pm + P_mm, a), qt.expect(XP[0],a), qt.expect(XP[1],a)+qt.expect(XP[0],a)))\n",
    "\n",
    "print(P_pp + P_pm == (1/4)*(2*qt.identity(2) + 2*qt.sigmaz()) == (1/2)*(qt.identity(2) + qt.sigmaz()) == ZP[1])\n",
    "print(P_mp + P_mm == (1/4)*(2*qt.identity(2) - 2*qt.sigmaz()) == (1/2)*(qt.identity(2) - qt.sigmaz()) == ZP[0])\n",
    "print(P_pp + P_mp == (1/4)*(2*qt.identity(2) + 2*qt.sigmax()) == (1/2)*(qt.identity(2) + qt.sigmax()) == XP[1])\n",
    "print(P_pm + P_mm == (1/4)*(2*qt.identity(2) - 2*qt.sigmax()) == (1/2)*(qt.identity(2) - qt.sigmax()) == XP[0])\n",
    "\n",
    "x, y = a.full().T[0]\n",
    "p_pp = 0.5*(x*x.conjugate()) + 0.5*((1+1j)*x.conjugate()*y + (1-1j)*y.conjugate()*x)\n",
    "p_pm = 0.5*(abs(x)**2) - 0.5*((1+1j)*x.conjugate()*y + (1-1j)*y.conjugate()*x)\n",
    "p_mp = 0.5*(abs(y)**2) + 0.5*((1+1j)*x.conjugate()*y + (1-1j)*y.conjugate()*x)\n",
    "p_mm = 0.5*(abs(y)**2) - 0.5*((1+1j)*x.conjugate()*y + (1-1j)*y.conjugate()*x)\n",
    "print(p_pp, p_pm, p_mp, p_mm)\n",
    "print(sum([p_pp, p_pm, p_mp, p_mm]))\n",
    "\n",
    "P_pp2 = (1/4)*(qt.tensor(qt.identity(2),qt.identity(2)) + qt.tensor(qt.sigmaz(), qt.identity(2)) + qt.tensor(qt.identity(2), qt.sigmax())) # + qt.sigmay()\n",
    "P_pm2  = (1/4)*(qt.tensor(qt.identity(2),qt.identity(2)) + qt.tensor(qt.sigmaz(), qt.identity(2)) - qt.tensor(qt.identity(2), qt.sigmax())) #- qt.sigmay()\n",
    "P_mp2  = (1/4)*(qt.tensor(qt.identity(2),qt.identity(2)) - qt.tensor(qt.sigmaz(), qt.identity(2))  + qt.tensor(qt.identity(2), qt.sigmax())) #- qt.sigmay()\n",
    "P_mm2  = (1/4)*(qt.tensor(qt.identity(2),qt.identity(2)) - qt.tensor(qt.sigmaz(), qt.identity(2))  - qt.tensor(qt.identity(2), qt.sigmax())) #+ qt.sigmay()\n",
    "\n",
    "a2 = qt.singlet_state()\n",
    "print()\n",
    "print(\"P(Z+, X+): %.3f\" % qt.expect(P_pp2, a2))\n",
    "print(\"P(Z+, X-): %.3f\" % qt.expect(P_pm2, a2))\n",
    "print(\"P(Z-, X+): %.3f\" % qt.expect(P_mp2, a2))\n",
    "print(\"P(Z-, X-): %.3f\" % qt.expect(P_mm2, a2))\n"
   ]
  },
  {
   "cell_type": "code",
   "execution_count": 145,
   "metadata": {},
   "outputs": [
    {
     "name": "stdout",
     "output_type": "stream",
     "text": [
      "[ 0.1889854 +0.2322791j  -0.37552359+0.87710488j]\n",
      "1.2655293085787844\n",
      "\n",
      "[0.0896690628208362, -0.12022164685177072, 0.38575095543055543, 0.9103309371791637]\n",
      "1.2655293085787847\n",
      "\n"
     ]
    }
   ],
   "source": [
    "import numpy as np\n",
    "import qutip as qt\n",
    "\n",
    "n=2\n",
    "state = qt.rand_ket(n)\n",
    "amps = state.full().T[0]\n",
    "amps = amps\n",
    "print(amps)\n",
    "print(abs(sum(amps))**2)\n",
    "print()\n",
    "\n",
    "pAB = lambda a, b: ((1+1j)/2)*a.conjugate()*b + ((1-1j)/2)*b.conjugate()*a\n",
    "\n",
    "terms = []\n",
    "for i in range(n):\n",
    "    for j in range(n):\n",
    "        terms.append(pAB(amps[i], amps[j]).real)\n",
    "print(terms)\n",
    "print(sum(terms))\n",
    "print()"
   ]
  }
 ],
 "metadata": {
  "kernelspec": {
   "display_name": "VPython",
   "language": "python",
   "name": "vpython"
  },
  "language_info": {
   "codemirror_mode": {
    "name": "ipython",
    "version": 3
   },
   "file_extension": ".py",
   "mimetype": "text/x-python",
   "name": "python",
   "nbconvert_exporter": "python",
   "pygments_lexer": "ipython3",
   "version": "3.7.7"
  }
 },
 "nbformat": 4,
 "nbformat_minor": 4
}
