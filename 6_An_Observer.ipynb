{
 "cells": [
  {
   "cell_type": "markdown",
   "metadata": {},
   "source": [
    "# What is an atom?\n",
    "## 10. An observer?\n"
   ]
  },
  {
   "cell_type": "markdown",
   "metadata": {},
   "source": [
    "Let's recap. \n",
    "\n",
    "We began (1) by investigating our most basic idea of a \"pebble.\" We could place a pebble somewhere, and we could take it away. To communicate with a pebble, we had to agree on whether presence or absence would be significant. \n",
    "\n",
    "We then engaged in a mathematical dialectic. We imagined that anything we could do once, we could do again. So we could place another pebble, and another, and another. And make a little pile of indistinguishable pebbles which we could also take away from. And so we invented the counting numbers (2). The rule was we could repeat an action, but we always had to be able to go backwards too. To communicate with a counting number, we have to agree on what number we start counting from. We can conceive of this as a contextualization of our original pebble: *this* pebble is actually the 4th pebble, if you've been keeping count, and to keep count is: to build up a little pile. So the pile is a contextualization of the pebble.\n",
    "\n",
    "Then (3), we could imagine repeating \"counting\" itself, counting \"all at once,\" and so we invented addition, or combining piles. We had to have an inverse, and so we invented the negative numbers, when it became clear that we could subtract past 0. And thus, we found the \"integers.\" To communicate with an integer, we have to agree on what is 0, and also which direction we're in, positive or negative.\n",
    "\n",
    "Then (4), we imagined iterating addition to get multiplication, whose inverse is division. We thus found the rational numbers, or piles of \"prime pebbles.\" We can now yet further contextualize: we can specify a rational number which translates between your units and my units, between our different ideas of \"1\". We also noticed that allowing division by 0 wraps the number line into a circle.\n",
    "\n",
    "Then (5), we imagined iterating multiplication to get exponentiation, whose inverse is root-taking. We thus discovered the irrational numbers like the $\\sqrt 2$, but also the complex numbers $a + b\\sqrt{-1}$. We could thus rotate between two coordinate axes, turning irrationals into rationals, and back. We investigated the meaning of a \"limit\" and how at this stage the numbers turn reflexive, leading us to reflect on the general theory of computation and its limitations. We observed that no single set of logical atoms which are powerful enough to axiomatize arithmetic is complete in the sense that it can prove all true theorems about itself, and indeed, one such undecidable statement is the consistency of that formal system itself, in other words, if it leads to a contradiction. In other to prove the consistency of such a logical system, one as to move to a larger, more powerful system, adding axioms, which leads to yet other undecidable truths, which can be decided with yet more axioms. The point being is that: one can't start from a single set of axioms and rules for inference and imagine a machine trying out every possible rearrangement of symbols and thus proving all possible theorems. And so we proved that conceptually, there can't be a single set of \"master concepts\" from which all concepts can be mechanically derived. Hence, one requires a *dialectical* unfolding of mathematical ideas alongside the purely deductive. And indeed, that's exactly what we've been doing.\n",
    "\n",
    "For example, you could spend all day thinking about the nature of probability in terms of probability theory and you'd never be able to derive the surprising way that probabilities enter into our theory of physics, and how when they appear they are often intimately connected in surprising ways with, for example, geometry.\n",
    "\n",
    "Then (6), we began by considering an unordered set of complex numbers, which we associated to points on the plane/sphere, and realized we could interpret them as the roots of a polynomial, giving us a yet higher order version of the idea of a \"pile of pebbles\": an *equation*. We developed an interpretation of polynomials as \"quantum states,\" indeed, as the states of spin-$j$ particles. Polynomials brought with them the idea of vector spaces, and we realized that polynomials were only defined up to a set of basis vectors, and that Hermitian matrices, not necessariy commuting, which are observables in quantum mechanics, provide such basis sets via their eigenvectors. And so, to give context to our polynomials, to correctly communicate a quantum state, we had to specify a set of basis polynomials (which themselves provide context for their roots). Linear algebra provides the theory of generalized \"perspective switches,\" and we realized we could generalize our idea of perspective to that of an \"experimental situation,\" by which a state is filtered probablistically into outcome states, which provide a complete basis for the state: re the Stern-Gerlach apparatus. And we realized the importance, therefore, of unitary representations. \n",
    "\n",
    "Vector spaces, as well, bring with them the idea of the tensor product, and we realized that the symmetric tensor product of $2j$ spin-$\\frac{1}{2}$ states gives us a representation of a spin-$j$ state. And this was interesting because it involved entanglement between potentially spatially separate systems. In one of the great twists of all time, entanglement proves that any simple reductionism can't work in science. What particles get entangled, there is more information in the whole than in the parts. For example, in the antisymmetric state, two spin-$\\frac{1}{2}$ particles are maximally uncertain with regard to their individual rotation axis, but their entanglement means that they must always point in the opposite direction. So that if one is measured to be $\\uparrow$, the other one must be $\\downarrow$ in any direction. Of course, through repeated experiementation on the two particles, one could precisely determine the quantum state of the whole: that it's in the antisymmetric state. But for each instance of the experiment, there is more information contained in the two particles together, in their \"jointness,\" than can be separated into two spatially separate parts. To wit, we found that our constellation was encoded not individually in any of the symmetric spin-$\\frac{1}{2}$ particles, but in the entanglement between them.\n",
    "\n",
    "This was foreshadowed in the holistic relationship between the roots of a polynomial and its coefficients. And indeed, precisely because of that: even though we might have a situation like $2j$ disparate permutation symmetric particles, where the entangled whole is greater than its parts, from another point of view the same situation can be described as a simple juxtaposition: a product of roots, constellated on the sphere. \n",
    "\n",
    "We digressed to discuss the theory of Clebsch-Gordan coefficients, and the idea that the tensor product of a bunch of spins could be split into separate sectors, turning the AND of the tensor product into the OR of a choice. And so we arrived at the theory of angular momentum conserving interactions with allusions to spin networks, which by the way, can be generalized to other types of interactions that conserve other quantities besides angular momentum.\n",
    "\n",
    "We then discussed the idea of second quantization. We realized that polynomials (without the Majorana interpretation, in other words, generally infinite dimensional) also provide a representation of a quantum harmonic oscillator, full of indistinguishable, countable energy quanta. And we imagined introducing a quantum harmonic oscillator to each degree of freedom of a first quantized quantum system. In our case, we introduced two harmonic oscillators, one each for the $\\uparrow$ state and the $\\downarrow$ state of a spin-$\\frac{1}{2}$. And the fixed number subspaces of this Hilbert space turned out to correspond to spin-$0$, spin-$\\frac{1}{2}$, spin-$1$, $\\dots$ Hilbert spaces, each of them indeed being a permutation symmetric tensor product of spin-$\\frac{1}{2}$'s.\n",
    "\n",
    "And so we developed a representation capable of expressing a superposition of spins with different $j$ values, which was also a representation of the polarization of light, and in either case was a theory of indistinguishable particles. All known actual particles are of this type, quanta of some quantum field, albeit more complex. \n",
    "\n",
    "From this point of view, we can rephrase our theory of spin in terms of the repeated measurements of \"the number of quanta in the $\\uparrow$ oscillator\" and \"the number of quanta in the $\\downarrow$ oscillator,\" and that due to second quantization, we can think about any measurement, in some sense, as being reducible to the measurement of *some* number operator. And so, we've come full circle: we can now contextualize our pebbles as counting the number of quanta of some mode of a quantum field. Indeed, we could say that the world is conceptually made of \"pebbles\" insofar as we can use pebbles, appropriately contextualized, to represent it. And any actual clay pebble has emerged in some limit of this quantum theory.\n"
   ]
  },
  {
   "cell_type": "markdown",
   "metadata": {},
   "source": [
    "<hr>\n",
    "\n",
    "The story isn't over yet.\n",
    "\n",
    "When one works in relativistic quantum field theory, a basic demand is that the vacuum state (with no particles) is Lorentz invariant. In other words, translated, rotated, boosted observers all agree on the vacuum state, indeed, on the idea of \"what is a particle.\" This theory leads to Wigner's classification scheme. The idea is that what we mean by a \"particle\" anyway is whatever is invariant, or the same, whether we rotate it, whether we translate it, whether we translate by it, whether we see it while moving at top speed, etc. In other words, we define a particle in terms of what we can do that leaves it the same, that thing which is invariant underneath the different perspectives we might have on it, in this case, spatio-temporal perspectives. Hence the importance of group theory. (Sidebar: today in the field of neural networks, people are starting to build networks which explictly respect the underlying group structure of some domain, the classic example being learning representations of images that are translation invariant, and so forth. The idea, of course, being that a neural network should be able to recognize the identity of something even if it's seen askew--and you can really help it along if you make sure its representation is invariant under some group.)\n",
    "\n",
    "But when one moves to field theory in a curved space, one must employ (not necessarily unitary) symplectic transformations between perspectives. Famously, in the Unruh effect, while a stationary observer in the vacuum measures 0 particles, an accelerated observer experiences a different vacuum state, indeed, one with a non-0 number of particles! A symplectic transformation is one that maps creation and annihilation operators to different creation and annihilation operators while preserving the fact that they are, indeed, creation and annihilation operators. So that the $a/a^{\\dagger}$'s in the accelerated reference frame are built out of the $a/a^{\\dagger}$'s in the rest frame, in a particular way relating to the acceleration. \n",
    "\n",
    "For example, there is a class of symplectic transformations known as Bogoliubov transformations, which can turn any Hamiltonian quadratic in its creation and annihilation operators into a simple oscillator Hamiltonian: $\\sum_{i} a^{\\dagger}a$, etc. This can be used in condensed matter as well to describe how in certain systems electrons pair up to rove around as meta-particles. So that: *what is one set of particles from one point of view may be another set of particles from another point of view*.  \n",
    "\n",
    "There is even a general theorem that the oscillator picture of fields falls apart: Haag's Theorem, which says that an interacting theory is not necessarily unitarily equivalent to a free theory: imagine photons and electrons so tightly interacting that they can't be treated as separate entities. You might not even be able to do a tensor decomposition on the Hilbert space! \n",
    "\n",
    "This reaches its culmination in holographic theory, where one has, for example, a conformal field theory on the boundary of some space (like on the surface of the sphere) being from another point of view a gravitational theory in the interior of that space (like in the interior of the sphere), usually an anti-DeSitter space, one with negative curvature, so that signals going off to infinity, return in finite time--just like the inside of a black hole. Indeed, that was the motivation: one wants to regard the seemingly inaccessible quantum state of the interior of the black hole (including the things that fall into it) as being, from another perspective, the quantum state that lives on a surface, the event horizon (and also the Hawking radiation). In these models, there is an interesting connection between phenomena that extend across large scales of the boundary and phenomena occur deep in the interior of bulk of the \"emergent spacetime.\"\n",
    "\n",
    "And so we realize that even a quantum field has to contextualized with reference to some observer: one inside the black hole vs one outside, in terms of their different notions of space, time, and particle. \n",
    "\n",
    "Indeed, step by step, as it has unfolded, our story has been as much about translating between the perspective of observers (so that communication can be successful) as it has been about the pebbles which are passed between them. And so we have to ask: What is an observer, anyway? We have a theory that allows observers to come to agreement about the way the world is independent of their perspectives, using mathematics to represent the relationship between their points of view, so that they don't get out of sync. But the observers themselves, as it were, stand outside the theory as such, as *users* of the theory, which provides a reliable means of guaranteeing communication and agreement. What more can we say about them?\n"
   ]
  }
 ],
 "metadata": {
  "kernelspec": {
   "display_name": "VPython",
   "language": "python",
   "name": "vpython"
  },
  "language_info": {
   "codemirror_mode": {
    "name": "ipython",
    "version": 3
   },
   "file_extension": ".py",
   "mimetype": "text/x-python",
   "name": "python",
   "nbconvert_exporter": "python",
   "pygments_lexer": "ipython3",
   "version": "3.7.4"
  }
 },
 "nbformat": 4,
 "nbformat_minor": 4
}
