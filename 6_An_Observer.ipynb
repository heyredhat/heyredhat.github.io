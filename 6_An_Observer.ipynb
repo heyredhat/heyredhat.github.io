{
 "cells": [
  {
   "cell_type": "markdown",
   "metadata": {},
   "source": [
    "# What is an atom?\n",
    "## 10. An observer?\n"
   ]
  },
  {
   "cell_type": "markdown",
   "metadata": {},
   "source": [
    "The story isn't over yet.\n",
    "\n",
    "When one works in relativistic quantum field theory, a basic demand is that the vacuum state (with no particles) is Lorentz invariant. In other words, translated, rotated, boosted observers all agree on the vacuum state, indeed, on the idea of \"what is a particle.\" This theory leads to Wigner's classification scheme. The idea is that what we mean by a \"particle\" anyway is whatever is invariant, or the same, whether we rotate it, whether we translate it, whether we translate by it, whether we see it while moving at top speed, etc. In other words, we define a particle in terms of what we can do that leaves it the same, that thing which is invariant underneath the different perspectives we might have on it, in this case, spatio-temporal perspectives. Hence the importance of group theory. (Sidebar: today in the field of neural networks, people are starting to build networks which explictly respect the underlying group structure of some domain, the classic example being learning representations of images that are translation invariant, and so forth. The idea, of course, being that a neural network should be able to recognize the identity of something even if it's seen askew--and you can really help it along if you make sure its representation is invariant under some group.)\n",
    "\n",
    "But when one moves to field theory in a curved space, one must employ (not necessarily unitary) symplectic transformations between perspectives. Famously, in the Unruh effect, while a stationary observer in the vacuum measures 0 particles, an accelerated observer experiences a different vacuum state, indeed, one with a non-0 number of particles! A symplectic transformation is one that maps creation and annihilation operators to different creation and annihilation operators while preserving the fact that they are, indeed, creation and annihilation operators. So that the $a/a^{\\dagger}$'s in the accelerated reference frame are built out of the $a/a^{\\dagger}$'s in the rest frame, in a particular way relating to the acceleration. \n",
    "\n",
    "For example, there is a class of symplectic transformations known as Bogoliubov transformations, which can turn any Hamiltonian quadratic in its creation and annihilation operators into a simple oscillator Hamiltonian: $\\sum_{i} a^{\\dagger}a$, etc. This can be used in condensed matter as well to describe how in certain systems electrons pair up to rove around as meta-particles. So that: *what is one set of particles from one point of view may be another set of particles from another point of view*.  \n",
    "\n",
    "There is even a general theorem that the oscillator picture of fields falls apart: Haag's Theorem, which says that an interacting theory is not necessarily unitarily equivalent to a free theory: imagine photons and electrons so tightly interacting that they can't be treated as separate entities. You might not even be able to do a tensor decomposition on the Hilbert space! \n",
    "\n",
    "This reaches its culmination in holographic theory, where one has, for example, a conformal field theory on the boundary of some space (like on the surface of the sphere) being from another point of view a gravitational theory in the interior of that space (like in the interior of the sphere), usually an anti-DeSitter space, one with negative curvature, so that signals going off to infinity, return in finite time--just like the inside of a black hole. Indeed, that was the motivation: one wants to regard the seemingly inaccessible quantum state of the interior of the black hole (including the things that fall into it) as being, from another perspective, the quantum state that lives on a surface, the event horizon (and also the Hawking radiation). In these models, there is an interesting connection between phenomena that extend across large scales of the boundary and phenomena occur deep in the interior of bulk of the \"emergent spacetime.\"\n",
    "\n",
    "And so we realize that even a quantum field has to contextualized with reference to some observer: one inside the black hole vs one outside, in terms of their different notions of space, time, and particle. \n",
    "\n",
    "Indeed, step by step, as it has unfolded, our story has been as much about translating between the perspective of observers (so that communication can be successful) as it has been about the pebbles which are passed between them. And so we have to ask: What is an observer, anyway? We have a theory that allows observers to come to agreement about the way the world is independent of their perspectives, using mathematics to represent the relationship between their points of view, so that they don't get out of sync. But the observers themselves, as it were, stand outside the theory as such, as *users* of the theory, which provides a reliable means of guaranteeing communication and agreement. What more can we say about them?\n"
   ]
  }
 ],
 "metadata": {
  "kernelspec": {
   "display_name": "VPython",
   "language": "python",
   "name": "vpython"
  },
  "language_info": {
   "codemirror_mode": {
    "name": "ipython",
    "version": 3
   },
   "file_extension": ".py",
   "mimetype": "text/x-python",
   "name": "python",
   "nbconvert_exporter": "python",
   "pygments_lexer": "ipython3",
   "version": "3.7.4"
  }
 },
 "nbformat": 4,
 "nbformat_minor": 4
}
