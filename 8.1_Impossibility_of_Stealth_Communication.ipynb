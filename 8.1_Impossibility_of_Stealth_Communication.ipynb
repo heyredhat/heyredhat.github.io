{
 "cells": [
  {
   "cell_type": "markdown",
   "metadata": {},
   "source": [
    "# On the impossibility of \"stealth communication\"\n",
    "\n",
    "Suppose we have two spin-$\\frac{1}{2}$ particles $A$ and $B$ in the antisymmetric state: $\\frac{1}{\\sqrt{2}} (\\mid \\uparrow \\downarrow \\rangle - \\mid \\downarrow \\uparrow \\rangle)$, in other words, $\\begin{pmatrix} 0 \\\\ \\frac{1}{\\sqrt{2}} \\\\ -\\frac{1}{\\sqrt{2}} \\\\ 0 \\end{pmatrix}$.\n",
    "\n",
    "The pure state density matrix associated with the two particles is: $\\begin{pmatrix} 0 & 0 & 0 & 0 \\\\ 0 & \\frac{1}{2} & -\\frac{1}{2} & 0 \\\\ 0 & -\\frac{1}{2} & \\frac{1}{2} & 0 \\\\ 0 & 0 & 0 & 0 \\end{pmatrix}$.\n",
    "\n",
    "The partial state of $A$ is $\\begin{pmatrix} \\frac{1}{2} & 0 \\\\ 0 & \\frac{1}{2} \\end{pmatrix}$, and the partial state of $B$ is $\\begin{pmatrix} \\frac{1}{2} & 0 \\\\ 0 & \\frac{1}{2} \\end{pmatrix}$. \n",
    "\n",
    "In other words, the partial states of $A$ and $B$ are both maximally mixed states. These mixed states are both \"improper mixtures\" in that they are reduced states of an overall pure state of the two spins, which is in an entangled superposition.\n",
    "\n",
    "For simplicity, let's assume that Alice (who has $A$) and Bob (who has $B$) both agree to measure their particle in the $Z$ direction.\n",
    "\n",
    "Suppose Bob goes first and measures his spin. Half the time Bob will get $\\uparrow$ and half the time Bob will get $\\downarrow$.\n",
    "\n",
    "In the first case, the joint state will end up as: $\\mid \\downarrow \\rangle \\mid \\uparrow \\rangle$ or $\\begin{pmatrix} 0 \\\\ 0 \\\\ 1 \\\\ 0 \\end{pmatrix}$. In the second case, the joint state will end up as $\\mid \\uparrow \\rangle \\mid \\downarrow \\rangle$ or $\\begin{pmatrix} 0 \\\\ 1 \\\\ 0 \\\\ 0 \\end{pmatrix}$.\n",
    "\n",
    "In both cases, we end up with $A$ and $B$ in separable states.\n",
    "\n",
    "If we consider the state of $A$ after Bob's measurement of $B$, we have a situation of *classical* uncertainty with regard to whether $A$ is now $\\uparrow$ or $\\downarrow$. In other words, $A$'s state is a *proper* mixture: $\\frac{1}{2}\\mid \\uparrow \\rangle \\langle \\uparrow \\mid + \\frac{1}{2}\\mid \\downarrow \\rangle \\langle \\downarrow \\mid$, i.e.: $\\begin{pmatrix} \\frac{1}{2} & 0 \\\\ 0 & \\frac{1}{2} \\end{pmatrix}$. But that's just the same density matrix for $A$ as before Bob's measurement of $B$!\n",
    "\n",
    "We see that whether or not Bob makes a measurement of $B$, the density matrix for $A$ is precisely the same: the maximally mixed state. In the first case, the maximally mixed state is an \"improper mixture,\" being the reduced state of one half of a pure entangled state. In the second case, the maximally mixed state is a \"proper mixture,\" representing the classical uncertainty with regard to whether $A$ has ended up $\\uparrow$ or $\\downarrow$. But either way, it's the same density matrix. \n",
    "\n",
    "The consequence is that there is absolutely *no* effect local to $A$ that can reveal whether or not Bob has made a measurement on $B$. Instead, what one can say is that by repeating the experiment many times, and *comparing* the results of $A$ and $B$, it can be determined that in fact $A$ and $B$ started out in the singlet state, and so always (dis)agree. \n",
    "\n",
    "Indeed, Alice can't personally resolve her mixed state into a pure state unless a) she does a measurement herself or b) Bob phones her up and tells her what result he got. \n",
    "\n",
    "The relevant issue is whether the *joint state* remains entangled or has collapsed to being separable, which is not something that can be determined locally.\n",
    "\n",
    "<hr>\n",
    "\n",
    "You hope to use the appearence of interference in a double slit experiment after a Stern-Gerlach apparatus to determine whether Bob has made a measurement or not on $B$. This cannot be done.\n",
    "\n",
    "If Bob has made a measurement, then $A$ is either $\\uparrow$ or $\\downarrow$, comes out the top port or the bottom port, goes through the top slit or the bottom slit, each half the time, and thus there is no interference. If Bob has not made a measurement, then *precisely the same thing happens*. You seemed to suggest that if Bob doesn't make a measurement, $A$ would be in the state $\\frac{1}{\\sqrt{2}} (\\mid \\uparrow \\rangle + \\mid \\downarrow \\rangle)$, whose corresponding density matrix would be: $\\begin{pmatrix} \\frac{1}{2} & \\frac{1}{2} \\\\ \\frac{1}{2} & \\frac{1}{2} \\end{pmatrix}$-- but this is clearly *not* the case. That would be a *superposition* of $A$ being $\\mid \\uparrow \\rangle$ and $A$ being $\\mid \\downarrow \\rangle$, in other words $A$ being $\\mid \\rightarrow \\rangle$. This would imply that if Alice decided to measure along the $X$ direction instead, Alice would get $\\uparrow$ (in the X direction) 100% of the time, which is manifestly not true! \n",
    "\n",
    "The actual state of $A$ if Bob doesn't make a measurement is $\\begin{pmatrix} \\frac{1}{2} & 0 \\\\ 0 & \\frac{1}{2} \\end{pmatrix}$, which is an improper mixture deriving from $\\frac{1}{\\sqrt{2}} (\\mid \\uparrow \\downarrow \\rangle - \\mid \\downarrow \\uparrow \\rangle)$. Clearly, the off-diagonal terms are 0, and so there is no quantum coherence, and so no interference pattern. \n",
    "\n",
    "Indeed, the point is that $A$ is *not* in a superposition in itself, by itself, but rather that the *joint state* of $A$ and $B$ is in an entangled superposition. (One can see that it's only in the pure state density matrix of the two particles together that there are any off-diagonal terms: $\\begin{pmatrix} 0 & 0 & 0 & 0 \\\\ 0 & \\frac{1}{2} & -\\frac{1}{2} & 0 \\\\ 0 & -\\frac{1}{2} & \\frac{1}{2} & 0 \\\\ 0 & 0 & 0 & 0 \\end{pmatrix}$). And it's worth remarking that it's this *jointness* that was at issue in the Einstein/Bohr debates, which is to say, the impossibility of describing $A$'s state as merely, for example, $\\frac{1}{\\sqrt{2}} (\\mid \\uparrow \\rangle + \\mid \\downarrow \\rangle)$, *without reference to $B$'s state*."
   ]
  },
  {
   "cell_type": "markdown",
   "metadata": {},
   "source": [
    "<hr>\n",
    "\n",
    "Even more explicitly, suppose Bob makes his measurement on $B$. Then the joint state ends up either as $\\begin{pmatrix} 0 \\\\ 0 \\\\ 1 \\\\ 0 \\end{pmatrix}$ or $\\begin{pmatrix} 0 \\\\ 1 \\\\ 0 \\\\ 0 \\end{pmatrix}$ each with probability $\\frac{1}{2}$. In terms of the overall density matrix: $\\frac{1}{2}\\begin{pmatrix} 0 & 0 & 0 & 0 \\\\ 0 & 0 & 0 & 0 \\\\ 0 & 0 & 1 & 0 \\\\ 0 & 0 & 0 & 0 \\end{pmatrix} + \\frac{1}{2}\\begin{pmatrix} 0 & 0 & 0 & 0 \\\\ 0 & 1 & 0 & 0 \\\\ 0 & 0 & 0 & 0 \\\\ 0 & 0 & 0 & 0 \\end{pmatrix} = \\begin{pmatrix} 0 & 0 & 0 & 0 \\\\ 0 & \\frac{1}{2} & 0 & 0 \\\\ 0 & 0 & \\frac{1}{2} & 0 \\\\ 0 & 0 & 0 & 0 \\end{pmatrix}$.\n",
    "\n",
    "Given this joint state, the partial states of $A$ and $B$ would both be $\\begin{pmatrix} \\frac{1}{2} & 0 \\\\ 0 & \\frac{1}{2} \\end{pmatrix}$ *exactly the same* as for $\\begin{pmatrix} 0 & 0 & 0 & 0 \\\\ 0 & \\frac{1}{2} & -\\frac{1}{2} & 0 \\\\ 0 & -\\frac{1}{2} & \\frac{1}{2} & 0 \\\\ 0 & 0 & 0 & 0 \\end{pmatrix}$, the state before the collapse. \n",
    "\n",
    "Therefore no local measurements by Alice can distinguish whether Bob has made his measurement or not."
   ]
  },
  {
   "cell_type": "markdown",
   "metadata": {},
   "source": [
    "<hr>\n",
    "\n",
    "In my original example, which I talked about in my meeting, I was only considering the spin, not the position at all, and I said that if you recombined the two beams coming out of an SG, then the coherence of the original *spin state* would be restored. That I am confident of. On the other hand, if you think about the two beams coming out of the SG, the upper beam will be a tensor product of |spin UP>|pos up>, and the bottom beam will be a tensor product of |spin DOWN>|pos down>. If you add these up, there shouldn't be any interference between |up pos> and |down pos> since |spin UP> and |spin DOWN> are orthogonal states. \n",
    "\n",
    "Okay I understand why you want the DS— I also stand by what I said in my second email last night, that you won’t get interference in the position states because after the SG you end up with |spin up>|up pos> + |spin down>|down pos> and since spin up and down are orthogonal, the two tensor products are also orthogonal, hence they can be added with no interference in the position— in fact, the situation is exactly analogous to the case of a simple double slit where we have detectors checking on the path at each slit: you end up with |top slit detection>|up path> + |bottom slit detection>|down path>, and the same argument applies.\n",
    "\n",
    "I disagree! In the latter case, sure the particle will take both paths but in two different branches of the wave function and so there won’t be any interference in position. It’s the same problem from before, you’re imagining there’s |top position state> and there’s |bottom position state> and you can just add them and get interference, but in fact you have to take into account the tensor product with the spin: what you should add is |spin up>|top position state> and |spin down>|bottom position state>. These two states will always be at right angles since |spin up> and |spin down> are at right angles, regardless of the positions. Therefore when you add them, there won’t be any interference effect in the positions. Indeed, to me the great danger of using Bohmian guidance waves as a source of intuition is that one is often led to incorrectly picture these waves unfolding together in 3D space, and to misapply our intuitions about how that works. The proper home of quantum mechanics is (at least in this nonrelativistic setting) a tensor product of Hilbert spaces. The two waves might each be propagating in 3D, but in two different “universes” as it were (to use some “many worlds” intuition), each kept separate since one is associated with the spin being up and the other is associated with the spin being down.\n",
    "\n",
    "In the latter case, the proper mixed state doesn't so much represent the \"actual\" state of the particle as Alice's ignorance about whether her spin has collapsed to UP or DOWN due to Bob's measurement. That's what is meant by \"classical uncertainty.\" The point is that even if the spin has collapsed, there is no way for Alice to know what it has collapsed to unless she herself does a measurement (or Bob tells her). But here's the subtlety. Suppose Alice herself does a measurement. It's possible that some relativistic observer will say she did her measurement before Bob, but another observer might say that Bob did his measurement before Alice. The point is that it makes no difference; the relationship is completely symmetrical: the answer (UP or DOWN) is always random, and the answers always (dis)agree. The correlations can only be noticed by doing measurements on both particles, and bringing the results together: there is no way to tell whether there was any entanglement between the particles by subjecting them individually to local measurements, without later comparing them. My point in bringing up the two kinds of mixed states was to show that whether or not Bob has made a measurement, Alice's description of the particle before her own measurement is necessarily the same: the maximally mixed state. In other words, depending on one's time ordering of events, one would classify Alice's maximally mixed state as an improper mixture (if she measures first) or a proper mixture (if Bob measures first). But as I say, the density matrix is the same either way.\n"
   ]
  },
  {
   "cell_type": "code",
   "execution_count": null,
   "metadata": {},
   "outputs": [],
   "source": []
  }
 ],
 "metadata": {
  "kernelspec": {
   "display_name": "VPython",
   "language": "python",
   "name": "vpython"
  },
  "language_info": {
   "codemirror_mode": {
    "name": "ipython",
    "version": 3
   },
   "file_extension": ".py",
   "mimetype": "text/x-python",
   "name": "python",
   "nbconvert_exporter": "python",
   "pygments_lexer": "ipython3",
   "version": "3.7.4"
  }
 },
 "nbformat": 4,
 "nbformat_minor": 4
}
