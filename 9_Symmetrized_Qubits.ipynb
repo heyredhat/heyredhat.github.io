{
 "cells": [
  {
   "cell_type": "markdown",
   "metadata": {},
   "source": [
    "# How to Prepare a Permutation Symmetric Multiqubit State on an Actual Quantum Computer\n"
   ]
  },
  {
   "cell_type": "markdown",
   "metadata": {},
   "source": [
    "I've made a big deal over the fact that one can represent a spin-$j$ state equivalently as a permutation symmetric state of $2j$ qubits, not least because given that our quantum computers work with qubits, we need a way to represent everything we might care about in terms of them.\n",
    "\n",
    "For example, if we have a spin-$\\frac{3}{2}$ state, we could express it in the usual $\\mid j, m \\rangle$ basis as:\n",
    "\n",
    "$ a\\mid \\frac{3}{2}, \\frac{3}{2}\\rangle + b\\mid \\frac{3}{2}, \\frac{1}{2}\\rangle + c\\mid \\frac{3}{2}, -\\frac{1}{2}\\rangle + d\\mid \\frac{3}{2}, -\\frac{3}{2}\\rangle\\rangle $\n",
    "\n",
    "or in terms of symmeterized qubits:\n",
    "\n",
    "$ a\\mid \\uparrow \\uparrow \\uparrow \\rangle + b\\frac{1}{\\sqrt{3}}(\\mid \\uparrow \\uparrow \\downarrow \\rangle + \\mid \\uparrow \\downarrow \\uparrow \\rangle + \\mid \\downarrow \\uparrow \\uparrow \\rangle) + c\\frac{1}{\\sqrt{3}}(\\mid \\downarrow \\downarrow \\uparrow \\rangle + \\mid \\downarrow \\uparrow \\downarrow \\rangle + \\mid \\uparrow \\downarrow \\downarrow \\rangle) + d\\mid \\downarrow \\downarrow \\downarrow \\rangle$\n",
    "\n",
    "In other words, there's a one-to-one correspondence between the four $\\mid j, m \\rangle$ basis states and the four symmetric basis states of three qubits. To wit: the state with $3 \\uparrow$, with $2 \\uparrow, 1 \\downarrow$, with $2 \\downarrow, 1 \\uparrow$, and with $3 \\downarrow$.\n",
    "\n",
    "So we can easily form a linear map that takes us from the one representation to the other:"
   ]
  },
  {
   "cell_type": "code",
   "execution_count": 1,
   "metadata": {},
   "outputs": [
    {
     "name": "stdout",
     "output_type": "stream",
     "text": [
      "spin state:\n",
      "Quantum object: dims = [[4], [1]], shape = (4, 1), type = ket\n",
      "Qobj data =\n",
      "[[-0.33949479-0.39663995j]\n",
      " [-0.44666802+0.2061572j ]\n",
      " [-0.24466995-0.25950522j]\n",
      " [-0.40608237-0.43965633j]]\n",
      "\n",
      "permutation symmetric qubits:\n",
      "Quantum object: dims = [[2, 2, 2], [1]], shape = (8, 1), type = ket\n",
      "Qobj data =\n",
      "[[-0.33949479-0.39663995j]\n",
      " [-0.2578839 +0.11902491j]\n",
      " [-0.2578839 +0.11902491j]\n",
      " [-0.14126026-0.14982541j]\n",
      " [-0.2578839 +0.11902491j]\n",
      " [-0.14126026-0.14982541j]\n",
      " [-0.14126026-0.14982541j]\n",
      " [-0.40608237-0.43965633j]]\n",
      "\n",
      "transformation an isometry?: True\n"
     ]
    }
   ],
   "source": [
    "import numpy as np\n",
    "import qutip as qt\n",
    "from itertools import product\n",
    "\n",
    "def spin_sym(j):\n",
    "    n = int(2*j)\n",
    "    if n == 0:\n",
    "        return qt.Qobj([1])\n",
    "    N = {}\n",
    "    for p in product([0,1], repeat=n):\n",
    "        if p.count(1) in N:\n",
    "            N[p.count(1)] += qt.tensor(*[qt.basis(2, i) for i in p])\n",
    "        else:\n",
    "            N[p.count(1)] = qt.tensor(*[qt.basis(2, i) for i in p])\n",
    "    Q = qt.Qobj(np.array([N[i].unit().full().T[0].tolist() for i in range(n+1)]))\n",
    "    Q.dims[1] = [2]*n\n",
    "    return Q.dag()\n",
    "\n",
    "j = 3/2\n",
    "S = spin_sym(j)\n",
    "\n",
    "spin = qt.rand_ket(int(2*j+1))\n",
    "sym = S*spin\n",
    "\n",
    "print(\"spin state:\\n%s\" % spin)\n",
    "print(\"\\npermutation symmetric qubits:\\n%s\" % sym)\n",
    "\n",
    "I = S.dag()*S\n",
    "print(\"\\ntransformation an isometry?: %s\" % (I == qt.identity(I.shape[0])))"
   ]
  },
  {
   "cell_type": "markdown",
   "metadata": {},
   "source": [
    "<hr>\n",
    "\n",
    "Another way of obtaining the same result is to find the roots of the Majorana polynomial of the spin, convert each into a qubit, and then symmeterize the qubits. Well, technically, if we do this, we lose the overall phase information of the original spin, but such is life.\n",
    "\n",
    "Below we take a spin, finds its stars, convert them into qubits, symmeterize them, then use the inverse of the transformation above to return us to a spin state, and find the stars again. We see we recover the original stars exactly. So we get the right result up to phase."
   ]
  },
  {
   "cell_type": "code",
   "execution_count": 2,
   "metadata": {},
   "outputs": [
    {
     "data": {
      "text/html": [
       "<div id=\"glowscript\" class=\"glowscript\"></div>"
      ],
      "text/plain": [
       "<IPython.core.display.HTML object>"
      ]
     },
     "metadata": {},
     "output_type": "display_data"
    },
    {
     "data": {
      "application/javascript": [
       "if (typeof Jupyter !== \"undefined\") { window.__context = { glowscript_container: $(\"#glowscript\").removeAttr(\"id\")};}else{ element.textContent = ' ';}"
      ],
      "text/plain": [
       "<IPython.core.display.Javascript object>"
      ]
     },
     "metadata": {},
     "output_type": "display_data"
    },
    {
     "name": "stdout",
     "output_type": "stream",
     "text": [
      "initial stars:\n",
      "[ 0.04646562 -0.77615288 -0.62883038]\n",
      "[-0.32173743  0.93071233  0.17395284]\n",
      "[ 0.83174711 -0.3818807   0.40294401]\n",
      "\n",
      "final stars:\n",
      "[ 0.04646562 -0.77615288 -0.62883038]\n",
      "[-0.32173743  0.93071233  0.17395284]\n",
      "[ 0.83174711 -0.3818807   0.40294401]\n",
      "\n"
     ]
    }
   ],
   "source": [
    "from examples.magic import *\n",
    "from itertools import permutations\n",
    "\n",
    "def symmetrize(kets):\n",
    "    return sum([qt.tensor(*[kets[p_] for p_ in p])\\\n",
    "                for p in permutations(list(range(len(kets))))]).unit()\n",
    "\n",
    "stars = spin_XYZ(spin)\n",
    "qubits = [qt.Qobj(xyz_spinor(star)) for star in stars]\n",
    "sym2 = symmetrize(qubits)\n",
    "spin2 = S.dag()*sym2\n",
    "stars2 = spin_XYZ(spin2)\n",
    "\n",
    "print(\"initial stars:\\n%s\\n\" % \"\\n\".join([str(star) for star in stars]))\n",
    "print(\"final stars:\\n%s\\n\" % \"\\n\".join([str(star) for star in stars2]))"
   ]
  },
  {
   "cell_type": "markdown",
   "metadata": {},
   "source": [
    "<hr>\n",
    "\n",
    "One way of saying this is that if we have a state of $2j$ separable qubits, each with an $(x, y, z)$ point representing its rotation axis, if we permute the qubits in all possible orders and add up all these permuted states, then the resulting state is naturally permutation symmetric, but remarkably preserves the $(x, y, z)$ points of each of the qubits. Each point is now encoded not individually in the separable qubits, but instead holistically in the state of the entangled whole. If we transform from the symmeterized qubits to the spin-$j$ state and find the roots of the Majorana polynomial, these complex roots, stereographically projected to the sphere, gives us back our original $(x, y, z)$ points. Of course, we have thrown out some information: namely, the phases of the individual qubits we symmeterized.\n",
    "\n",
    "That's all well and good, but a moment's reflection will convince you that the operation of symmeterizing a bunch of qubits is *not* a unitary operation. After all, I need to make a separate copy of the qubits, one for each possible permutation, and then add them all up. This of course would violate no-cloning. \n",
    "\n",
    "So you might wonder: Suppose I have $2j$ separable qubits loaded into my quantum computer, and I want to prepare the permutation symmetric state corresponding to them. How do I do it?! Clearly, there can be no deterministic quantum operation that will do the trick.\n",
    "\n",
    "<hr>"
   ]
  },
  {
   "cell_type": "markdown",
   "metadata": {},
   "source": [
    "Well, in this game, what one can't do deterministically, one can often do probablistically. And that turns out to be the case here.\n",
    "\n",
    "Consider the following circuit:\n",
    "\n",
    "<img src=\"img/two_qubit_symmetrizer.png\">\n"
   ]
  },
  {
   "cell_type": "markdown",
   "metadata": {},
   "source": [
    "The heart of this circuit is the \"controlled swap\" or Fredkin gate. This is a three qubit gate: if the first qubit is $\\uparrow$, it leaves the second two alone; but if the first qubit is $\\downarrow$, it swaps/permutes the second two. \n",
    "\n",
    "Its matrix representation is:\n",
    "\n",
    "$$ \\begin{bmatrix}\n",
    "1 & 0 & 0 & 0 & 0 & 0 & 0 & 0 \\\\\n",
    "0 & 1 & 0 & 0 & 0 & 0 & 0 & 0 \\\\\n",
    "0 & 0 & 1 & 0 & 0 & 0 & 0 & 0 \\\\\n",
    "0 & 0 & 0 & 1 & 0 & 0 & 0 & 0 \\\\\n",
    "0 & 0 & 0 & 0 & 1 & 0 & 0 & 0 \\\\\n",
    "0 & 0 & 0 & 0 & 0 & 0 & 1 & 0 \\\\\n",
    "0 & 0 & 0 & 0 & 0 & 1 & 0 & 0 \\\\\n",
    "0 & 0 & 0 & 0 & 0 & 0 & 0 & 1 \\\\\n",
    "\\end{bmatrix} $$\n",
    "\n",
    "Which is easily obtained insofar as its just the $4 \\times 4$ identity block concatenated with the usual swap gate:\n",
    "\n",
    "$$\\begin{bmatrix} 1&0&0&0\\\\0&0&1&0\\\\0&1&0&0\\\\0&0&0&1\\end{bmatrix}$$\n",
    "\n",
    "By the way, that's a general rule for constructing controlled gates: just take the gate you want to be controlled by the first qubit, and concatenate it with an identity matrix of the same dimensionality.\n",
    "\n",
    "So we have our two qubits we want to symmetrize, and the control qubit, with starts in the $\\mid \\uparrow \\rangle$ state. We apply a Hadamard gate to the control, which takes it to an even superposition $\\frac{1}{\\sqrt{2}}(\\mid \\uparrow \\rangle + \\mid \\downarrow \\rangle$. So then when we apply the Fredkin, the two qubits to be symmetrized end up in *a superposition of being swapped and not being swapped*, relative to the control. We then apply a Hadamard again to the control, which by the way, is its own inverse ($H = H^{\\dagger}$), to undo that original rotation, while leaving it entangled with the two qubits.\n",
    "\n",
    "We then measure the control qubit: if we get $\\uparrow$, then our two qubits $\\mid \\psi \\rangle$ and $\\mid \\phi \\rangle$ end up in the symmetrized state $\\frac{1}{\\sqrt{2}}(\\mid \\psi \\rangle\\mid \\phi \\rangle + \\mid \\phi \\rangle\\mid \\psi \\rangle)$. On the other hand, we get $\\downarrow$, then our two qubits ends up in the antisymmetrized state: $\\frac{1}{\\sqrt{2}}(\\mid \\psi \\rangle\\mid \\phi \\rangle - \\mid \\phi \\rangle\\mid \\psi \\rangle)$.\n",
    "\n",
    "So if we want the symmetrized state, we just keep doing the experiment over and over again until we get the answer we want! \n",
    "\n",
    "In the diagram above, you may note there are also two phase rotation gates. We can use those if we want a symmetrized state that picks up an arbitrary phase when the qubits are swapped. If $\\theta=0$, we just get the identity matrix for both of them, and everything is as I said above."
   ]
  },
  {
   "cell_type": "code",
   "execution_count": 3,
   "metadata": {},
   "outputs": [
    {
     "name": "stdout",
     "output_type": "stream",
     "text": [
      "p(up): 0.7472\n",
      "p(down): 0.2528\n",
      "obtained: down\n",
      "got correct antisymmetrized state?: True\n"
     ]
    }
   ],
   "source": [
    "from scipy.linalg import block_diag\n",
    "\n",
    "# construct our operators\n",
    "H = (1/np.sqrt(2))*qt.Qobj(np.array([[1,1],\\\n",
    "                                     [1,-1]]))\n",
    "SWAP = qt.Qobj(np.array([[1,0,0,0],\\\n",
    "                         [0,0,1,0],\\\n",
    "                         [0,1,0,0],\\\n",
    "                         [0,0,0,1]]))\n",
    "CSWAP = qt.Qobj(block_diag(np.eye(4), SWAP.full()))\n",
    "CSWAP.dims = [[2,2,2], [2,2,2]]\n",
    "\n",
    "theta = 0\n",
    "P1 = qt.Qobj(np.array([[np.exp(1j*theta/2), 0],\\\n",
    "                       [0, 1]]))\n",
    "P2 = qt.Qobj(np.array([[1, 0],\\\n",
    "                       [0, np.exp(1j*theta/2)]]))\n",
    "\n",
    "CIRCUIT = qt.tensor(H, qt.identity(2), qt.identity(2))*\\\n",
    "          qt.tensor(P2, qt.identity(2), qt.identity(2))*\\\n",
    "          CSWAP*\\\n",
    "          qt.tensor(P1, qt.identity(2), qt.identity(2))*\\\n",
    "          qt.tensor(H, qt.identity(2), qt.identity(2))\n",
    "\n",
    "c = qt.basis(2,0) # control\n",
    "a, b = qt.rand_ket(2), qt.rand_ket(2)\n",
    "state = qt.tensor(c, a, b)\n",
    "\n",
    "def measure_control(state):\n",
    "    Zl, Zv = qt.sigmaz().eigenstates()\n",
    "    Zp = [v*v.dag() for v in Zv][::-1]\n",
    "    dm = state.ptrace(0).full().real\n",
    "    which = np.random.choice(list(range(2)), p=np.diag(dm))\n",
    "    print(\"p(up): %.4f\" % (dm[0,0]))\n",
    "    print(\"p(down): %.4f\" % (dm[1,1]))\n",
    "    print(\"obtained: %s\" % (\"up\" if which == 0 else \"down\"))\n",
    "    return which, (qt.tensor(Zp[which], qt.identity(2), qt.identity(2))*state).unit()\n",
    "\n",
    "which, state = measure_control(CIRCUIT*state)\n",
    "answer = state.ptrace((1,2)) # throw out the control\n",
    "\n",
    "correct_sym = (qt.tensor(a,b) + qt.tensor(b,a)).unit()\n",
    "correct_sym = correct_sym*correct_sym.dag() # since we need to compare w/ a (pure) density matrix\n",
    "correct_antisym = (qt.tensor(a,b) - qt.tensor(b,a)).unit()\n",
    "correct_antisym = correct_antisym*correct_antisym.dag()\n",
    "\n",
    "if which == 0:\n",
    "    print(\"got correct symmetrized state?: %s\" % (answer == correct_sym))\n",
    "else:\n",
    "    print(\"got correct antisymmetrized state?: %s\" % (answer == correct_antisym))\n"
   ]
  },
  {
   "cell_type": "markdown",
   "metadata": {},
   "source": [
    "<hr>\n",
    "\n",
    "Okay, so that's great, but what if we have multiple qubits we want to symmetrize?\n",
    "\n",
    "The simplest thing to do is a direct generalization of the above. If we have $n$ qubits, there will be $n!$ possible permutations. So we'll need a control qudit that lives in $n!$ dimensions. For example, for $3$ qubits, there are $3! = 6$ possible permutations, so we need a control state that is $6$ dimensional. We start with the control in its $\\mid 0 \\rangle$ state, and the apply the Hadamard in $n!$ dimensions, in other words, the <a href=\"https://en.wikipedia.org/wiki/Quantum_Fourier_transform\">\"Quantum Fourier Transform,\"</a> which takes $\\mid 0 \\rangle$ to an even superposition of all its basis states. We then do a controlled operation, which makes performing the $i^{th}$ permutation on the $n$ qubits depend on the control being in the $\\mid i \\rangle$ basis state. So we end up with the $n$ qubits being in a superposition of being permuted in all possible ways, relative to the control. Then we apply the inverse QFT to the control, and then measure the control: if it ends up back in the $\\mid 0 \\rangle$ state, then the $n$ qubits are in the permutation symmetric state. Sweet!\n",
    "\n",
    "You might wonder how to contruct such a controlled permutation gate. In braket notation, you can think of it like:\n",
    "\n",
    "$$ \\sum_{p_{i} \\in perm} \\sum_{j=0}^{2^n} \\mid i \\rangle P_{i}\\mid j \\rangle \\langle i \\mid \\langle j \\mid$$\n",
    "\n",
    "In other words, we sum over all the permutations $p_{i}$ (where the $i$ labels both a basis state of the control $\\mid i \\rangle$, and also $P_{i}$, the operator which performs that permutation of the qubits), and also over the $2^n$ basis states of the $n$ qubits, labeled by $j$: $\\mid j \\rangle$. Clearly, if this operator acts on a state coming in on the right, it will perform the $i^{th}$ permutation to the extent that the control is in the $i^{th}$ state.\n",
    "\n",
    "Let's check it out:\n"
   ]
  },
  {
   "cell_type": "code",
   "execution_count": 4,
   "metadata": {},
   "outputs": [
    {
     "name": "stdout",
     "output_type": "stream",
     "text": [
      "got the right permutation symmetric state?: True\n"
     ]
    }
   ],
   "source": [
    "import math\n",
    "from itertools import product\n",
    "\n",
    "# constructs a unitary operation that performs\n",
    "# the desired permutation of qubit subsystems\n",
    "def construct_permuter(perm):\n",
    "    n = len(perm)\n",
    "    indices = [[(i, j) for j in range(2)] for i in range(n)]\n",
    "    tensor_indices = list(product(*indices))\n",
    "    pindices = [[(i, j) for j in range(2)] for i in perm]\n",
    "    ptensor_indices = list(product(*pindices))\n",
    "    d = len(tensor_indices)\n",
    "    m = np.zeros((d,d))\n",
    "    for i, pind in enumerate(ptensor_indices):\n",
    "        oi = None\n",
    "        for p in permutations(pind):\n",
    "            if p in tensor_indices:\n",
    "                oi = tensor_indices.index(p)\n",
    "                break\n",
    "        m[i, oi] = 1\n",
    "    m = qt.Qobj(m)\n",
    "    m.dims = [[2]*n, [2]*n]\n",
    "    return m\n",
    "\n",
    "def construct_qft(d):\n",
    "    w = np.exp(2*np.pi*1j/d)\n",
    "    return (1/np.sqrt(d))*qt.Qobj(\\\n",
    "                    np.array([[w**(i*j)\\\n",
    "                                   for j in range(d)]\\\n",
    "                                       for i in range(d)]))\n",
    "\n",
    "# constructs a unitary operator that does each of n!\n",
    "# permutations of n qubits relative to a control of\n",
    "# dimensionality n!\n",
    "def construct_cperms(n):\n",
    "    ds = 2**n\n",
    "    dp = math.factorial(n)\n",
    "    perms = list(permutations(list(range(n))))\n",
    "    terms = []\n",
    "    for i, p in enumerate(perms):\n",
    "        for j in range(ds):\n",
    "            permuter = construct_permuter(p)\n",
    "            permuter.dims = [[ds], [ds]]\n",
    "            terms.append(\\\n",
    "                qt.tensor(qt.basis(dp, i), permuter*qt.basis(ds, j))*\\\n",
    "                    qt.tensor(qt.basis(dp, i), qt.basis(ds, j)).dag())\n",
    "    O = sum(terms)\n",
    "    O.dims = [[dp]+[2]*n, [dp]+[2]*n]\n",
    "    return O\n",
    "\n",
    "################################################################################\n",
    "\n",
    "n = 3\n",
    "dp = math.factorial(n)\n",
    "qubits = [qt.rand_ket(2) for i in range(n)]\n",
    "\n",
    "QFT = qt.tensor(construct_qft(dp), *[qt.identity(2)]*n)\n",
    "CPERMS = construct_cperms(n)\n",
    "PROJ = qt.tensor(qt.basis(dp, 0)*qt.basis(dp, 0).dag(), *[qt.identity(2)]*n)\n",
    "\n",
    "state = qt.tensor(qt.basis(dp, 0), *qubits)\n",
    "state = QFT.dag()*CPERMS*QFT*state\n",
    "\n",
    "# We're lazy, so let's just project into the right state, regardless of probability\n",
    "final_state = (PROJ*state).unit().ptrace(list(range(1, n+1))) # throw out the control\n",
    "correct_state = symmetrize(qubits)\n",
    "correct_state = correct_state*correct_state.dag() # want to compare with (pure) density matrix\n",
    "\n",
    "print(\"got the right permutation symmetric state?: %s\" % (final_state == correct_state))"
   ]
  },
  {
   "cell_type": "markdown",
   "metadata": {},
   "source": [
    "Incidentally, it's worth thinking about the fact that this whole recipe is *not* reversible. Suppose we wanted to go from our symmetrized state of $n$ qubits back to the separable state of $n$ qubits. If we've performed the measurement, and indeed, ended up in the symmetrized state, what happens? We apply the inverse of `QFT.dag()*CPERMS*QFT`: our control ends up in an even superposition as before, and then we condition the permutations on it... but we're in the permutation symmetric state, so it has no effect! \n",
    "\n",
    "On the other hand, if we *don't* make that final measurement, then everything is perfectly reversible. Because of linearity, if we apply operations on the qubits, those operations are applied \"in each possible world,\" including the one where they end up totally symmetrized, so a) we can always wait until later to actually measure the control, if we want, and it'll be just as if we measured the control, and then manipulated the symmetrized state; and b) we can apply the above circuit in reverse, and obtain a state of separable qubits whose \"stars\" have evolved in just the right way. E.g.:"
   ]
  },
  {
   "cell_type": "code",
   "execution_count": 5,
   "metadata": {},
   "outputs": [
    {
     "name": "stdout",
     "output_type": "stream",
     "text": [
      "original spin probs:\n",
      "[0.29278106+0.j 0.26911552+0.j 0.20033854+0.j 0.23776488+0.j]\n",
      "evolved spin probs:\n",
      "[0.53636766+0.j 0.21956477+0.j 0.06337357+0.j 0.180694  +0.j]\n",
      "evolved sym probs:\n",
      "[0.53636765+0.j 0.21956477+0.j 0.06337357+0.j 0.180694  +0.j]\n"
     ]
    }
   ],
   "source": [
    "d = n+1\n",
    "j = (d-1)/2\n",
    "\n",
    "spin = qt.rand_ket(d) # create a spin\n",
    "qubits = [qt.Qobj(xyz_spinor(star))\\\n",
    "              for star in spin_XYZ(spin)] # get qubits\n",
    "\n",
    "S = spin_sym(j)\n",
    "H = qt.rand_herm(d)#qt.jmat(j, 'x')\n",
    "U = (-1j*H*np.pi).expm()\n",
    "spin2 = U*spin # apply random unitary to spin\n",
    "\n",
    "state = qt.tensor(qt.basis(dp, 0), *qubits)\n",
    "# apply symmetrization circuit, then upgraded unitary,\n",
    "# the the inverse of the sym circuit\n",
    "CIRCUIT = QFT.dag()*CPERMS*QFT\n",
    "bigH = S*H*S.dag()\n",
    "bigU = qt.tensor(qt.identity(dp), (-1j*bigH*np.pi).expm())\n",
    "state = CIRCUIT.dag()*bigU*CIRCUIT*state\n",
    "\n",
    "final_state = state.ptrace(list(range(1, n+1)))\n",
    "# convert the final sym state into a spin state\n",
    "# for comparison\n",
    "final_spin = (S.dag()*final_state*S).unit()\n",
    "\n",
    "print(\"original spin probs:\")\n",
    "print(np.diag((spin*spin.dag()).full()))\n",
    "print(\"evolved spin probs:\")\n",
    "print(np.diag((spin2*spin2.dag()).full()))\n",
    "print(\"evolved sym probs:\")\n",
    "print(np.diag(final_spin.full()))"
   ]
  },
  {
   "cell_type": "markdown",
   "metadata": {},
   "source": [
    "<hr>\n",
    "\n",
    "Okay, the final concern you might have is that our control system is $n!$ dimensions, where $n$ is the number of qubits we want to symmetrize. We, however, want to formulate *everything* in terms of qubits. Is there a way of using several qubits as controls to get the same effect? Yes! And here's how:\n",
    "\n",
    "First, let's define:\n",
    "\n",
    "$$ R_{k} = \\frac{1}{\\sqrt{k+1}} \\begin{bmatrix} 1 & -\\sqrt{k} \\\\ \\sqrt{k} & 1 \\end{bmatrix}$$\n",
    "\n",
    "$$ T_{j,j+1} = \\frac{1}{\\sqrt{k-j+1}} \\begin{bmatrix} \\sqrt{k-j+1} & 0 & 0 & 0 \\\\ 0 & 1 & \\sqrt{k-j} & 0 \\\\ 0 & -\\sqrt{k-j} & 1 & 0 \\\\ 0 & 0 & 0 & \\sqrt{k-j+1} \\end{bmatrix}$$\n",
    "\n",
    "The point of these guys it to prepare our control qubits. If we have $k$ control qubits in the $\\mid 0, 0, 0, \\dots \\rangle$ state, if we apply $R_{k}$ to the first qubit, and $T_{j, j+1}$'s to adjacent qubits along the line (from $j=1$ to $j = k-1$), then we'll end up in the state:\n",
    "\n",
    "$$ \\frac{1}{\\sqrt{k+1}}(\\mid 00 \\dots 0 \\rangle + \\mid 10 \\dots 0 \\rangle + \\mid 01 \\dots 0 \\rangle + \\mid 00 \\dots 1 \\rangle)$$\n",
    "\n",
    "In other words, a superposition over all the qubits being $\\uparrow$ or just one of the qubits being $\\downarrow$. (Recall in this notation $\\mid 0 \\rangle$ = $\\mid \\uparrow \\rangle$, etc.) This is the qubit equivalent of our control qudit from before being prepared in an even superposition of all its basis states. Call this whole procedure $U_{k}$.\n",
    "\n",
    "So we have $k$ control qubits prepared. Here's the key: this is in the context of having *already symmetrized* $k$ qubits and we want to symmetrize an additional $k+1^{th}$ qubit. Having prepared the $k$ control qubits, we apply $k$ Fredkin gates. If $j$ runs from $1$ to $k$, then the $j^{th}$ Fredkin uses the $j^{th}$ control qubit to condition the swapping of the $j^{th}$ and $k+1^{th}$ qubits. Then, we as before apply the inverse of the preparation of the control qubits, $U_{k}^{\\dagger}$.\n",
    "\n",
    "Okay, so the whole point is to \"cascade the above construction\" for $k = 1,2,\\dots,n-1$, where $n$ is the number of qubits we want to symmetrize. So we start with $k=1$: we've \"already symmetrized\" one qubit and we want to symmetrize the next one, so we introduce $k=1$ control qubits, preparing them, and then fredkin-ing, and unpreparing. Then we move on to $k=2$, and we add two more control qubits, prepare them, fredkin, and unprepare, etc. In the end, we'll need $\\frac{n(n-1)}{2}$ control qubits in total: so if $n=4$, we have $\\frac{4(4-1)}{2} = 6$ control qubits. \n",
    "\n",
    "Finally, we measure all the controls, and if they're all in the $0/\\uparrow$ state, then our qubits will have been symmetrized!\n",
    "\n",
    "Here's the circuit for the $n=4$ case: \n",
    "\n",
    "<img width=400 src=\"img/four_qubit_symmetrizer.png\">\n",
    "\n",
    "Let's check it out!"
   ]
  },
  {
   "cell_type": "code",
   "execution_count": 7,
   "metadata": {},
   "outputs": [
    {
     "name": "stdout",
     "output_type": "stream",
     "text": [
      "used 6 control qubits\n",
      "got the right permutation symmetric state?: True\n"
     ]
    }
   ],
   "source": [
    "from qutip.qip.operations import fredkin\n",
    "\n",
    "def upgrade(O, i, n):\n",
    "    return qt.tensor([O if i==j else \\\n",
    "                      qt.identity(2)\\\n",
    "                        for j in range(n)])\n",
    "\n",
    "def Uk(k):\n",
    "    return (1/np.sqrt(k+1))*qt.Qobj(np.array([[1, -np.sqrt(k)],\\\n",
    "                                              [np.sqrt(k), 1]]))\n",
    "\n",
    "def Tj(j, k):\n",
    "    T = (1/np.sqrt(k-j+1))*qt.Qobj(np.array([[np.sqrt(k-j+1), 0, 0, 0],\\\n",
    "                                             [0, 1, np.sqrt(k-j), 0],\\\n",
    "                                             [0, -np.sqrt(k-j), 1, 0],\\\n",
    "                                             [0, 0, 0, np.sqrt(k-j+1)]]))\n",
    "    T.dims = [[2,2], [2,2]]\n",
    "    return T\n",
    "\n",
    "################################################################################\n",
    "\n",
    "n = 4\n",
    "qubits = [qt.rand_ket(2) for i in range(n)]\n",
    "state = qt.tensor(*qubits)\n",
    "offset = 0 # keeps track of how many control qubits we've already added\n",
    "for k in range(1, n):\n",
    "    controls = qt.tensor(*[qt.basis(2,0)]*k)\n",
    "    U = upgrade(Uk(k), 0, k)\n",
    "    for j in range(k-1):\n",
    "        T = qt.tensor(*[qt.identity(2)]*(j), Tj(j+1, k), *[qt.identity(2)]*(k-j-2))\n",
    "        U = T*U\n",
    "    controls = U*controls\n",
    "    state = qt.tensor(controls, state)\n",
    "    d = len(state.dims[0])\n",
    "    for j in range(k):\n",
    "        state = fredkin(N=d, control=j, targets=[offset+k+j, offset+2*k])*state\n",
    "    state = qt.tensor(U.dag(), qt.tensor(*[qt.identity(2)]*(d-k)))*state\n",
    "    offset += k\n",
    "\n",
    "print(\"used %d control qubits\" % offset)\n",
    "# do our projections\n",
    "for i in range(offset):\n",
    "    state = (upgrade(qt.basis(2,0)*qt.basis(2,0).dag(), i, len(state.dims[0]))*state).unit()\n",
    "\n",
    "final_state = state.ptrace(list(range(offset, len(state.dims[0]))))\n",
    "correct_state = symmetrize(qubits)\n",
    "correct_state = correct_state*correct_state.dag()\n",
    "\n",
    "print(\"got the right permutation symmetric state?: %s\" % (final_state == correct_state))"
   ]
  },
  {
   "cell_type": "markdown",
   "metadata": {},
   "source": [
    "## Bibliography\n",
    "\n",
    "<a href=\"https://arxiv.org/abs/quant-ph/0212143\">Symmetrization and Entanglement of Arbitrary States of Qubits</a>\n",
    "\n",
    "<a href=\"refs/Stabilization_of_Quantum_Compu.pdf\">Stabilization of Quantum Computations By Symmetrization</a>"
   ]
  }
 ],
 "metadata": {
  "kernelspec": {
   "display_name": "VPython",
   "language": "python",
   "name": "vpython"
  },
  "language_info": {
   "codemirror_mode": {
    "name": "ipython",
    "version": 3
   },
   "file_extension": ".py",
   "mimetype": "text/x-python",
   "name": "python",
   "nbconvert_exporter": "python",
   "pygments_lexer": "ipython3",
   "version": "3.7.7"
  }
 },
 "nbformat": 4,
 "nbformat_minor": 4
}
