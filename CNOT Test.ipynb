{
 "cells": [
  {
   "cell_type": "code",
   "execution_count": 62,
   "metadata": {},
   "outputs": [
    {
     "name": "stdout",
     "output_type": "stream",
     "text": [
      "-0.708+-0.629i |000> Pr: 0.897\n",
      "0.147+-0.285i |100> Pr: 0.103\n"
     ]
    }
   ],
   "source": [
    "from spheres import *\n",
    "from qutip.qip.operations import cnot\n",
    "\n",
    "state = qt.tensor(qt.rand_ket(2), qt.basis(2,0), qt.basis(2,0))\n",
    "dirac(state)"
   ]
  },
  {
   "cell_type": "code",
   "execution_count": 63,
   "metadata": {},
   "outputs": [
    {
     "name": "stdout",
     "output_type": "stream",
     "text": [
      "-0.708+-0.629i |000> Pr: 0.897\n",
      "0.147+-0.285i |110> Pr: 0.103\n",
      "0.3318006955577651\n"
     ]
    }
   ],
   "source": [
    "state2 = cnot(N=3, control=0, target=1)*state\n",
    "dirac(state2)\n",
    "print(qt.entropy_vn(state2.ptrace(0)))"
   ]
  },
  {
   "cell_type": "code",
   "execution_count": 64,
   "metadata": {},
   "outputs": [
    {
     "name": "stdout",
     "output_type": "stream",
     "text": [
      "-0.708+-0.629i |000> Pr: 0.897\n",
      "0.147+-0.285i |111> Pr: 0.103\n"
     ]
    }
   ],
   "source": [
    "state3 = cnot(N=3, control=1, target=2)*state2\n",
    "dirac(state3)"
   ]
  },
  {
   "cell_type": "code",
   "execution_count": 49,
   "metadata": {},
   "outputs": [
    {
     "data": {
      "text/latex": [
       "Quantum object: dims = [[2], [2]], shape = (2, 2), type = oper, isherm = True\\begin{equation*}\\left(\\begin{array}{*{11}c}0.124 & 0.0\\\\0.0 & 0.876\\\\\\end{array}\\right)\\end{equation*}"
      ],
      "text/plain": [
       "Quantum object: dims = [[2], [2]], shape = (2, 2), type = oper, isherm = True\n",
       "Qobj data =\n",
       "[[0.12435798 0.        ]\n",
       " [0.         0.87564202]]"
      ]
     },
     "execution_count": 49,
     "metadata": {},
     "output_type": "execute_result"
    }
   ],
   "source": [
    "state3.ptrace(0)"
   ]
  },
  {
   "cell_type": "code",
   "execution_count": 65,
   "metadata": {},
   "outputs": [
    {
     "data": {
      "text/plain": [
       "0.3318006955577651"
      ]
     },
     "execution_count": 65,
     "metadata": {},
     "output_type": "execute_result"
    }
   ],
   "source": [
    "qt.entropy_vn(state3.ptrace(2))"
   ]
  },
  {
   "cell_type": "code",
   "execution_count": 35,
   "metadata": {},
   "outputs": [
    {
     "data": {
      "text/plain": [
       "0.6931471805599453"
      ]
     },
     "execution_count": 35,
     "metadata": {},
     "output_type": "execute_result"
    }
   ],
   "source": [
    "np.log(2)"
   ]
  },
  {
   "cell_type": "code",
   "execution_count": null,
   "metadata": {},
   "outputs": [],
   "source": []
  }
 ],
 "metadata": {
  "kernelspec": {
   "display_name": "Python 3",
   "language": "python",
   "name": "python3"
  },
  "language_info": {
   "codemirror_mode": {
    "name": "ipython",
    "version": 3
   },
   "file_extension": ".py",
   "mimetype": "text/x-python",
   "name": "python",
   "nbconvert_exporter": "python",
   "pygments_lexer": "ipython3",
   "version": "3.8.5"
  }
 },
 "nbformat": 4,
 "nbformat_minor": 4
}
