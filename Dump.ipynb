{
 "cells": [
  {
   "cell_type": "markdown",
   "metadata": {},
   "source": [
    "<hr>\n",
    "You hope to use the appearence of interference in a double slit experiment after a Stern-Gerlach apparatus to determine whether Bob has made a measurement or not on $B$. This cannot be done.\n",
    "\n",
    "If Bob has made a measurement, then $A$ is either $\\uparrow$ or $\\downarrow$, comes out the top port or the bottom port, goes through the top slit or the bottom slit, each half the time, and thus there is no interference. If Bob has not made a measurement, then *precisely the same thing happens*. You seemed to suggest that if Bob doesn't make a measurement, $A$ would be in the state $\\frac{1}{\\sqrt{2}} (\\mid \\uparrow \\rangle + \\mid \\downarrow \\rangle)$, whose corresponding density matrix would be: $\\begin{pmatrix} \\frac{1}{2} & \\frac{1}{2} \\\\ \\frac{1}{2} & \\frac{1}{2} \\end{pmatrix}$-- but this is clearly *not* the case. That would be a *superposition* of $A$ being $\\mid \\uparrow \\rangle$ and $A$ being $\\mid \\downarrow \\rangle$, in other words $A$ being $\\mid \\rightarrow \\rangle$. This would imply that if Alice decided to measure along the $X$ direction instead, Alice would get $\\uparrow$ (in the X direction) 100% of the time, which is manifestly not true! \n",
    "\n",
    "The actual state of $A$ if Bob doesn't make a measurement is $\\begin{pmatrix} \\frac{1}{2} & 0 \\\\ 0 & \\frac{1}{2} \\end{pmatrix}$, which is an improper mixture deriving from $\\frac{1}{\\sqrt{2}} (\\mid \\uparrow \\downarrow \\rangle - \\mid \\downarrow \\uparrow \\rangle)$. Clearly, the off-diagonal terms are 0, and so there is no quantum coherence, and so no interference pattern. \n",
    "\n",
    "Indeed, the point is that $A$ is *not* in a superposition in itself, by itself, but rather that the *joint state* of $A$ and $B$ is in an entangled superposition. (One can see that it's only in the pure state density matrix of the two particles together that there are any off-diagonal terms: $\\begin{pmatrix} 0 & 0 & 0 & 0 \\\\ 0 & \\frac{1}{2} & -\\frac{1}{2} & 0 \\\\ 0 & -\\frac{1}{2} & \\frac{1}{2} & 0 \\\\ 0 & 0 & 0 & 0 \\end{pmatrix}$). And it's worth remarking that it's this *jointness* that was at issue in the Einstein/Bohr debates, which is to say, the impossibility of describing $A$'s state as merely, for example, $\\frac{1}{\\sqrt{2}} (\\mid \\uparrow \\rangle + \\mid \\downarrow \\rangle)$, *without reference to $B$'s state*."
   ]
  },
  {
   "cell_type": "markdown",
   "metadata": {},
   "source": [
    "<hr>\n",
    "\n",
    "In my original example, which I talked about in my meeting, I was only considering the spin, not the position at all, and I said that if you recombined the two beams coming out of an SG, then the coherence of the original *spin state* would be restored. That I am confident of. On the other hand, if you think about the two beams coming out of the SG, the upper beam will be a tensor product of |spin UP>|pos up>, and the bottom beam will be a tensor product of |spin DOWN>|pos down>. If you add these up, there shouldn't be any interference between |up pos> and |down pos> since |spin UP> and |spin DOWN> are orthogonal states. \n",
    "\n",
    "Okay I understand why you want the DS— I also stand by what I said in my second email last night, that you won’t get interference in the position states because after the SG you end up with |spin up>|up pos> + |spin down>|down pos> and since spin up and down are orthogonal, the two tensor products are also orthogonal, hence they can be added with no interference in the position— in fact, the situation is exactly analogous to the case of a simple double slit where we have detectors checking on the path at each slit: you end up with |top slit detection>|up path> + |bottom slit detection>|down path>, and the same argument applies.\n",
    "\n",
    "I disagree! In the latter case, sure the particle will take both paths but in two different branches of the wave function and so there won’t be any interference in position. It’s the same problem from before, you’re imagining there’s |top position state> and there’s |bottom position state> and you can just add them and get interference, but in fact you have to take into account the tensor product with the spin: what you should add is |spin up>|top position state> and |spin down>|bottom position state>. These two states will always be at right angles since |spin up> and |spin down> are at right angles, regardless of the positions. Therefore when you add them, there won’t be any interference effect in the positions. Indeed, to me the great danger of using Bohmian guidance waves as a source of intuition is that one is often led to incorrectly picture these waves unfolding together in 3D space, and to misapply our intuitions about how that works. The proper home of quantum mechanics is (at least in this nonrelativistic setting) a tensor product of Hilbert spaces. The two waves might each be propagating in 3D, but in two different “universes” as it were (to use some “many worlds” intuition), each kept separate since one is associated with the spin being up and the other is associated with the spin being down.\n",
    "\n"
   ]
  }
 ],
 "metadata": {
  "kernelspec": {
   "display_name": "VPython",
   "language": "python",
   "name": "vpython"
  },
  "language_info": {
   "codemirror_mode": {
    "name": "ipython",
    "version": 3
   },
   "file_extension": ".py",
   "mimetype": "text/x-python",
   "name": "python",
   "nbconvert_exporter": "python",
   "pygments_lexer": "ipython3",
   "version": "3.7.4"
  }
 },
 "nbformat": 4,
 "nbformat_minor": 4
}
