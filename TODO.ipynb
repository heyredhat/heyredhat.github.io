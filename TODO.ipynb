{
 "cells": [
  {
   "cell_type": "markdown",
   "metadata": {},
   "source": [
    "# TODO\n"
   ]
  },
  {
   "cell_type": "markdown",
   "metadata": {},
   "source": [
    "closedness of phase space...\n",
    "\n",
    "Equilibrium... and yet complex \n",
    "Heat equation vs Schrodinger equation\n",
    "statics vs dynamics\n",
    "cf baez\n",
    "\n",
    "expanded atiyah\n",
    "electron?\n",
    "quantum polyhedron\n",
    "\n",
    "nlp / tensors\n",
    "\n",
    "spin helicity\n",
    "\n",
    "the symbol: \n",
    "\n",
    "crypto : error correcting\n",
    "\n",
    "quantum game theory : evolution\n",
    "\n",
    "horizons\n",
    "\t\n",
    "\tcontinuous evolution is like falling thru empty time\n",
    "\tcollapse is like a boundary in time\n",
    "\n",
    "\tfree fall is falling thru empty space\n",
    "\thorizons are boundaries in space\n",
    "\n",
    "--\n",
    "\n",
    "find that ellipse code\n",
    "\n",
    "multiple polynomials: variety...\n",
    "\n",
    "\n"
   ]
  },
  {
   "cell_type": "code",
   "execution_count": null,
   "metadata": {},
   "outputs": [],
   "source": []
  }
 ],
 "metadata": {
  "kernelspec": {
   "display_name": "VPython",
   "language": "python",
   "name": "vpython"
  },
  "language_info": {
   "codemirror_mode": {
    "name": "ipython",
    "version": 3
   },
   "file_extension": ".py",
   "mimetype": "text/x-python",
   "name": "python",
   "nbconvert_exporter": "python",
   "pygments_lexer": "ipython3",
   "version": "3.7.7"
  }
 },
 "nbformat": 4,
 "nbformat_minor": 4
}
