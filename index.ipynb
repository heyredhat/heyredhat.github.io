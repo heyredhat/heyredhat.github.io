{
 "cells": [
  {
   "cell_type": "markdown",
   "metadata": {},
   "source": [
    "<style>\n",
    "    .container {\n",
    "        top: 0px;\n",
    "    }\n",
    "</style>\n",
    "<a href=\"https://github.com/heyredhat/heyredhat.github.io\"><img align=\"center\" src=\"img/front_logo.png\" /></a>"
   ]
  },
  {
   "cell_type": "markdown",
   "metadata": {},
   "source": [
    "# <div align=\"center\">Essays on Quantum Physics</div>"
   ]
  },
  {
   "cell_type": "markdown",
   "metadata": {},
   "source": [
    "1. [Introduction](1%20Introduction.html) ([notebook](1%20Introduction.ipynb))\n",
    "2. [*How to Make a Wormhole*: Yanking](2.1%20Yanking.html) ([notebook](2.1%20Yanking.ipynb))\n",
    "3. [*How to Make a Wormhole*: Teleportation](2.2%20Teleportation.html) ([notebook](2.2%20Teleportation.ipynb))\n",
    "4. [*How to Make a Wormhole*: Time Evolution](2.3%20Time%20Evolution.html) ([notebook](2.3%20Time%20Evolution.ipynb))\n",
    "5. [*How to Make a Wormhole*: The TFD](2.4%20The%20TFD.html) ([notebook](2.4%20The%20TFD.ipynb))\n",
    "6. [*How to Make a Wormhole*: Scrambling and Winding](2.5%20Scrambling%20and%20Winding.html) ([notebook](2.5%20Scrambling%20and%20Winding.ipynb))\n",
    "7. [*How to Make a Wormhole*: Wormhole Experiments](2.6%20Wormhole%20Experiments.html) ([notebook](2.6%20Wormhole%20Experiments.ipynb))\n",
    "8. [*How to Make a Wormhole*: Geometrical Sketch](2.7%20Geometrical%20Sketch.html) ([notebook](2.7%20Geometrical%20Sketch.ipynb))\n",
    "9. [*How to Continue Making a Wormhole*: Philosophical Interlude](3.1%20Philosophical%20Interlude.html) ([notebook](3.1%20Philosophical%20Interlude.ipynb))\n",
    "10. [*How to Continue Making a Wormhole*: Majorana Fermions and SYK](3.2%20Majorana%20Fermions%20and%20SYK.html) ([notebook](3.2%20Majorana%20Fermions%20and%20SYK.ipynb))\n",
    "11. [*How to Continue Making a Wormhole*: A Really Existing Quantum Computer](3.3%20A%20Really%20Existing%20Quantum%20Computer.html) ([notebook](3.3%20A%20Really%20Existing%20Quantum%20Computer.ipynb))\n",
    "12. [*How to Think about Entanglement*: Spheres](4.1%20Spheres.html) ([notebook](4.1%20Spheres.ipynb))\n",
    "13. [*How to Think about Entanglement*: Quantum Clocks](4.2%20Quantum%20Clocks.html) ([notebook](4.2%20Quantum%20Clocks.ipynb)) \n",
    "14. [*How to Think about Entanglement*: Representations](4.3%20Representations.html) ([notebook](4.3%20Representations.ipynb)) [in progress]\n",
    "15. [*How to Think about Atoms*: 0: Introduction](5.1%20Atoms%200.html) ([notebook](5.1%20Atoms%200.ipynb))\n",
    "16. [*How to Think about Atoms*: I: A pebble? ](5.2%20Atoms%201.html) ([notebook](5.2%20Atoms%201.ipynb))\n",
    "17. [*How to Think about Atoms*: II: A counting number?](5.3%20Atoms%202.html) ([notebook](5.3%20Atoms%202.ipynb))\n",
    "18. [*How to Think about Atoms*: III: An integer?](5.4%20Atoms%203.html) ([notebook](5.4%20Atoms%203.ipynb))\n",
    "19. [*How to Think about Atoms*: IV: A rational?](5.5%20Atoms%204.html) ([notebook](5.5%20Atoms%204.ipynb))\n",
    "20. [*How to Think about Atoms*: V: $\\mathbb{C} + \\infty$?](5.6%20Atoms%205.html) ([notebook](5.6%20Atoms%205.ipynb))\n",
    "21. [*How to Think about Atoms*: VI: A polynomial?](5.7%20Atoms%206.html) ([notebook](5.7%20Atoms%206.ipynb))\n",
    "22. [*How to Think about Atoms*: VII: A matrix?](5.8%20Atoms%207.html) ([notebook](5.8%20Atoms%207.ipynb))\n",
    "23. [*How to Think about Atoms*: VIII: A tensor?](5.9%20Atoms%208.html) ([notebook](5.9%20Atoms%208.ipynb))\n",
    "24. ...\n",
    "\n",
    "Also: [Bibliography](Bibliography.html) ([notebook](Bibliography.ipynb))"
   ]
  },
  {
   "cell_type": "markdown",
   "metadata": {},
   "source": [
    "<div align=\"center\"><a href=\"https://mybinder.org/v2/gh/heyredhat/heyredhat.github.io/master\"><img src=\"https://mybinder.org/badge_logo.svg\" /></a>\n",
    "<div align=\"center\">&copy; 2020 heyredhat @ gmail.com</div>"
   ]
  }
 ],
 "metadata": {
  "kernelspec": {
   "display_name": "VPython",
   "language": "python",
   "name": "vpython"
  },
  "language_info": {
   "codemirror_mode": {
    "name": "ipython",
    "version": 3
   },
   "file_extension": ".py",
   "mimetype": "text/x-python",
   "name": "python",
   "nbconvert_exporter": "python",
   "pygments_lexer": "ipython3",
   "version": "3.7.7"
  }
 },
 "nbformat": 4,
 "nbformat_minor": 4
}
