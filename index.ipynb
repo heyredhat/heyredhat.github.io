{
 "cells": [
  {
   "cell_type": "markdown",
   "metadata": {},
   "source": [
    "<style>\n",
    "    .container {\n",
    "        top: 0px;\n",
    "    }\n",
    "</style>\n",
    "<div style=\"display: block;\n",
    "            margin-left: auto;\n",
    "            margin-right: auto;\n",
    "            width: 70%;\"><a href=\"http://heyredhat.github.io/\">\n",
    "                            <img  width=800 src=\"img/front_logo.png\" />\n",
    "                         </a>\n",
    "</div>"
   ]
  },
  {
   "cell_type": "markdown",
   "metadata": {},
   "source": [
    "# <div align=\"center\">Essays on Quantum Physics</div>"
   ]
  },
  {
   "cell_type": "markdown",
   "metadata": {},
   "source": [
    "1. [Introduction](1_Introduction.html) ([notebook](1_Introduction.ipynb))\n",
    "2. [*How to Make a Wormhole*: Yanking](2_Yanking.html) ([notebook](2_Yanking.ipynb))\n",
    "3. [*How to Make a Wormhole*: Teleportation](2.1_Teleportation.html) ([notebook](2.1_Teleportation.ipynb))\n",
    "4. [*How to Make a Wormhole*: Time Evolution](2.2_Time_Evolution.html) ([notebook](2.2_Time_Evolution.ipynb))\n",
    "5. [*How to Make a Wormhole*: The TFD](2.3_The_TFD.html) ([notebook](2.3_The_TFD.ipynb))\n",
    "6. [*How to Make a Wormhole*: Scrambling and Winding](2.4_Scrambling_and_Winding.html) ([notebook](2.4_Scrambling_and_Winding.ipynb))\n",
    "7. [*How to Make a Wormhole*: Wormhole Experiments](2.5_Wormhole_Experiments.html) ([notebook](2.5_Wormhole_Experiments.ipynb))\n",
    "8. [*How to Make a Wormhole*: Geometrical Sketch](2.6_Geometrical_Sketch.html) ([notebook](2.6_Geometrical_Sketch.ipynb))\n",
    "9. [*How to Continue Making a Wormhole*: Diagrams Etc.](3_Diagrams_Etc.html) ([notebook](3_Diagrams_Etc.ipynb))\n",
    "10. [*How to Continue Making a Wormhole*: A Really Existing Quantum Computer](3.2_A_Really_Existing_Quantum_Computer.html) ([notebook](3.2_A_Really_Existing_Quantum_Computer.ipynb))\n",
    "11. [*How to Think about Entanglement*: Spheres and Ellipsoids](4_Spheres_and_Ellipsoids.html) ([notebook](4_Spheres_and_Ellipsoids.ipynb))\n",
    "12. [*How to Think about Entanglement*: Quantum Clocks](4.1_Quantum_Clocks.html) ([notebook](4.1_Quantum_Clocks.ipynb)) \n",
    "13. [*How to Think about Entanglement*: On Representations](4.2_On_Representations.html) ([notebook](4.2_On_Representations.ipynb)) [in progress]\n",
    "14. [*How to Think about Atoms*: 0: What is an Atom?](5_What_is_an_Atom.html) ([notebook](5_What_is_an_Atom.ipynb))\n",
    "15. [*How to Think about Atoms*: I: A pebble? ](5.1_A_Pebble.html) ([notebook](5.1_A_Pebble.ipynb))\n",
    "16. [*How to Think about Atoms*: II: A counting number?](5.2_A_Counting_Number.html) ([notebook](5.2_A_Counting_Number.ipynb))\n",
    "17. [*How to Think about Atoms*: III: An integer?](5.3_An_Integer.html) ([notebook](5.3_An_Integer.ipynb))\n",
    "18. [*How to Think about Atoms*: IV: A rational?](5.4_A_Rational.html) ([notebook](5.4_A_Rational.ipynb))\n",
    "19. [*How to Think about Atoms*: V: $\\mathbb{C} + \\infty$?](5.5_A_Star.html) ([notebook](5.5_A_Star.ipynb))\n",
    "20. [*How to Think about Atoms*: VI: A polynomial?](5.6_A_Polynomial.html) ([notebook](5.6_A_Polynomial.ipynb))\n",
    "21. [*How to Think about Atoms*: VII: A matrix?](5.7_A_Matrix.html) ([notebook](5.7_A_Matrix.ipynb))\n",
    "22. [*How to Think about Atoms*: VIII: A tensor?](5.8_A_Tensor.html) ([notebook](5.8_A_Tensor.ipynb))\n",
    "23. [*How to Think about Atoms*: Polyhedral Interlude](5.8.1_Polyhedral_Interlude.html) ([notebook](5.8.1_Polyhedral_Interlude.ipynb))\n",
    "24. [What is a Quantum Reference Frame?](7_Quantum_Reference_Frames.html) ([notebook](7_Quantum_Reference_Frames.ipynb)) [in progress]\n",
    "25. [Why I'm Not a Bohmian](8_Why_I_am_not_a_Bohmian.html) ([notebook](8_Why_I_am_not_a_Bohmian.ipynb))\n",
    "26. [On the Impossibility of Stealth Communication](8.1_Impossibility_of_Stealth_Communication.html) ([notebook](8.1_Impossibility_of_Stealth_Communication.ipynb))\n",
    "27. [*How to Think about Atoms*: IX: A quantum?](5.9_A_Quantum.html) ([notebook](5.9_A_Quantum.ipynb))\n",
    "28. [More Fun with Coherent States](7.1_More_Fun_With_Coherent_States.html) ([notebook](7.1_More_Fun_With_Coherent_States.ipynb))\n",
    "29. [On Counting in Quantum Mechanics](6.1_Countability.html) ([notebook](6.1_Countability.ipynb))\n",
    "30. [Fermionic Quantization (and the Spin Statistics Theorem)](6.2_Fermionic_Quantization.html) ([notebook](6.2_Fermionic_Quantization.ipynb))\n",
    "31. [Berry / Robbins / Atiyah ](6.3_Atiyah.html) ([notebook](6.3_Atiyah.ipynb))\n",
    "32. [*How to Think about Atoms*: X: Well, it depends on an observer's state of motion!](6_An_Observer.html) ([notebook](6_An_Observer.ipynb))\n",
    "33. [Variational Quantum Eigensolver Tutorial](https://github.com/heyredhat/vqe_tutorial)\n",
    "34. [*How to Continue Making a Wormhole*: Majorana Fermions and SYK](3.1_Majorana_Fermions_and_SYK.html) ([notebook](3.1_Majorana_Fermions_and_SYK.ipynb))\n",
    "35. [How to Prepare a Permutation Symmetric Multiqubit State on an Actual Quantum Computer](9_Symmetrized_Qubits.html) ([notebook](9_Symmetrized_Qubits.ipynb))\n",
    "36. [Gaussian Quantum Mechanics and Negative Probabilities](9.1_Gaussian_QM_and_Negative_Probabilities.html) ([notebook](9.1_Gaussian_QM_and_Negative_Probabilities.ipynb))\n",
    "37. [Majorana Stars and Structured Gaussian Beams](9.2_Majorana_Stars_and_Structured_Gaussian_Beams.html) ([notebook](9.2_Majorana_Stars_and_Structured_Gaussian_Beams.ipynb))\n",
    "38. [Envariance and the Origin of Probabilities in Quantum Mechanics](9.3_Envariance.html) ([notebook](9.3_Envariance.ipynb))\n",
    "39. [Quantum Mechanical Puzzles of Supervenience](9.4_Puzzles_of_Supervenience.html) ([notebook](9.4_Puzzles_of_Supervenience.ipynb))\n",
    "40. [Quantum Mechanical Puzzles of Supervenience, Pt. 2](9.5_Puzzles_of_Supervenience_Pt2.html) ([notebook](9.5_Puzzles_of_Supervenience_Pt2.ipynb))\n",
    "41. [How To Prepare a Spin-j State on a Photonic Quantum Computer](9.6_Photonic_SpinJ.html) ([notebook](9.6_Photonic_SpinJ.ipynb))\n",
    "42. [Generalizing the Majorana Representation for Mixed States and Operators](9.7_Majorana_for_Mixed_States.html) ([notebook](9.7_Majorana_for_Mixed_States.ipynb))\n",
    "43. [QBism](9.8_QBism.html) ([notebook](9.8_QBism.ipynb)) [in progress]\n",
    "44. ...\n",
    "\n",
    "Also: [Bibliography](0_Bibliography.html) ([notebook](0_Bibliography.ipynb))"
   ]
  },
  {
   "cell_type": "markdown",
   "metadata": {},
   "source": [
    "<div align=\"center\"><a href=\"https://mybinder.org/v2/gh/heyredhat/heyredhat.github.io/master\"><img src=\"https://mybinder.org/badge_logo.svg\" /></a>\n",
    "<div align=\"center\">&copy; 2020 heyredhat @ gmail.com</div>"
   ]
  }
 ],
 "metadata": {
  "kernelspec": {
   "display_name": "VPython",
   "language": "python",
   "name": "vpython"
  },
  "language_info": {
   "codemirror_mode": {
    "name": "ipython",
    "version": 3
   },
   "file_extension": ".py",
   "mimetype": "text/x-python",
   "name": "python",
   "nbconvert_exporter": "python",
   "pygments_lexer": "ipython3",
   "version": "3.8.5"
  }
 },
 "nbformat": 4,
 "nbformat_minor": 4
}
