{
 "cells": [
  {
   "cell_type": "markdown",
   "metadata": {},
   "source": [
    "<style>\n",
    "    .container {\n",
    "        top: 0px;\n",
    "    }\n",
    "</style>\n",
    "<div style=\"display: block;\n",
    "            margin-left: auto;\n",
    "            margin-right: auto;\n",
    "            width: 70%;\"><a href=\"http://heyredhat.github.io/\">\n",
    "                            <img  width=800 src=\"img/front_logo.png\" />\n",
    "                         </a>\n",
    "</div>"
   ]
  },
  {
   "cell_type": "markdown",
   "metadata": {},
   "source": [
    "# <div align=\"center\">Essays on Quantum Physics</div>"
   ]
  },
  {
   "cell_type": "markdown",
   "metadata": {},
   "source": [
    "1. [Introduction](1_Introduction.html) ([notebook](1_Introduction.ipynb))\n",
    "2. [*How to Make a Wormhole*: Yanking](2_Yanking.html) ([notebook](2_Yanking.ipynb))\n",
    "3. [*How to Make a Wormhole*: Teleportation](2.1_Teleportation.html) ([notebook](2.1_Teleportation.ipynb))\n",
    "4. [*How to Make a Wormhole*: Time Evolution](2.2_Time_Evolution.html) ([notebook](2.2_Time_Evolution.ipynb))\n",
    "5. [*How to Make a Wormhole*: The TFD](2.3_The_TFD.html) ([notebook](2.3_The_TFD.ipynb))\n",
    "6. [*How to Make a Wormhole*: Scrambling and Winding](2.4_Scrambling_and_Winding.html) ([notebook](2.4_Scrambling_and_Winding.ipynb))\n",
    "7. [*How to Make a Wormhole*: Wormhole Experiments](2.5_Wormhole_Experiments.html) ([notebook](2.5_Wormhole_Experiments.ipynb))\n",
    "8. [*How to Make a Wormhole*: Geometrical Sketch](2.6_Geometrical_Sketch.html) ([notebook](2.6_Geometrical_Sketch.ipynb))\n",
    "9. [*How to Continue Making a Wormhole*: Diagrams Etc.](3_Diagrams_Etc.html) ([notebook](3_Diagrams_Etc.ipynb))\n",
    "10. [*How to Continue Making a Wormhole*: Majorana Fermions and SYK](3.1_Majorana_Fermions_and_SYK.html) ([notebook](3.1_Majorana_Fermions_and_SYK.ipynb))\n",
    "11. [*How to Continue Making a Wormhole*: A Really Existing Quantum Computer](3.2_A_Really_Existing_Quantum_Computer.html) ([notebook](3.2_A_Really_Existing_Quantum_Computer.ipynb))\n",
    "12. [*How to Think about Entanglement*: Spheres and Ellipsoids](4_Spheres_and_Ellipsoids.html) ([notebook](4_Spheres_and_Ellipsoids.ipynb))\n",
    "13. [*How to Think about Entanglement*: Quantum Clocks](4.1_Quantum_Clocks.html) ([notebook](4.1_Quantum_Clocks.ipynb)) \n",
    "14. [*How to Think about Entanglement*: On Representations](4.2_On_Representations.html) ([notebook](4.2_On_Representations.ipynb)) [in progress]\n",
    "15. [*How to Think about Atoms*: 0: What is an Atom?](5_What_is_an_Atom.html) ([notebook](5_What_is_an_Atom.ipynb))\n",
    "16. [*How to Think about Atoms*: I: A pebble? ](5.1_A_Pebble.html) ([notebook](5.1_A_Pebble.ipynb))\n",
    "17. [*How to Think about Atoms*: II: A counting number?](5.2_A_Counting_Number.html) ([notebook](5.2_A_Counting_Number.ipynb))\n",
    "18. [*How to Think about Atoms*: III: An integer?](5.3_An_Integer.html) ([notebook](5.3_An_Integer.ipynb))\n",
    "19. [*How to Think about Atoms*: IV: A rational?](5.4_A_Rational.html) ([notebook](5.4_A_Rational.ipynb))\n",
    "20. [*How to Think about Atoms*: V: $\\mathbb{C} + \\infty$?](5.5_A_Star.html) ([notebook](5.5_A_Star.ipynb))\n",
    "21. [*How to Think about Atoms*: VI: A polynomial?](5.6_A_Polynomial.html) ([notebook](5.6_A_Polynomial.ipynb))\n",
    "22. [*How to Think about Atoms*: VII: A matrix?](5.7_A_Matrix.html) ([notebook](5.7_A_Matrix.ipynb))\n",
    "23. [*How to Think about Atoms*: VIII: A tensor?](5.8_A_Tensor.html) ([notebook](5.8_A_Tensor.ipynb))\n",
    "24. [*How to Think about Atoms*: Polyhedral Interlude](5.8.1_Polyhedral_Interlude.html) ([notebook](5.8.1_Polyhedral_Interlude.ipynb))\n",
    "25. [*How to Think about Atoms*: IX: A quantum?](5.8_A_Quantum.html) ([notebook](5.8_A_Quantum.ipynb)) [in progress]\n",
    "26. [What is a Quantum Reference Frame?](7_Quantum_Reference_Frames.html) ([notebook](7_Quantum_Reference_Frames.ipynb)) [in progress]\n",
    "27. [Why I'm Not a Bohmian](8_Why_I_am_not_a_Bohmian.html) ([notebook](8_Why_I_am_not_a_Bohmian.ipynb))\n",
    "28. [On the Impossibility of Stealth Communication](8.1_Impossibility_of_Stealth_Communication.html) ([notebook](8.1_Impossibility_of_Stealth_Communication.ipynb))\n",
    "29. ...\n",
    "\n",
    "Also: [Bibliography](0_Bibliography.html) ([notebook](0_Bibliography.ipynb))"
   ]
  },
  {
   "cell_type": "markdown",
   "metadata": {},
   "source": [
    "<div align=\"center\"><a href=\"https://mybinder.org/v2/gh/heyredhat/heyredhat.github.io/master\"><img src=\"https://mybinder.org/badge_logo.svg\" /></a>\n",
    "<div align=\"center\">&copy; 2020 heyredhat @ gmail.com</div>"
   ]
  }
 ],
 "metadata": {
  "kernelspec": {
   "display_name": "VPython",
   "language": "python",
   "name": "vpython"
  },
  "language_info": {
   "codemirror_mode": {
    "name": "ipython",
    "version": 3
   },
   "file_extension": ".py",
   "mimetype": "text/x-python",
   "name": "python",
   "nbconvert_exporter": "python",
   "pygments_lexer": "ipython3",
   "version": "3.7.4"
  }
 },
 "nbformat": 4,
 "nbformat_minor": 4
}
