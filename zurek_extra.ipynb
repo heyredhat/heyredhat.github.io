{
 "cells": [
  {
   "cell_type": "markdown",
   "metadata": {},
   "source": [
    "<hr>\n",
    "\n",
    "Let's consider a single qubit:\n"
   ]
  },
  {
   "cell_type": "code",
   "execution_count": 2,
   "metadata": {},
   "outputs": [
    {
     "name": "stdout",
     "output_type": "stream",
     "text": [
      "-0.581+0.481i |0> Pr: 0.568\n",
      "-0.654+-0.060i |1> Pr: 0.432\n",
      "\n",
      "xyz: [0.70194258 0.69895773 0.13687478]\n",
      "\n",
      "Quantum object: dims = [[2], [2]], shape = (2, 2), type = oper, isherm = True\n",
      "Qobj data =\n",
      "[[0.56843739+0.j         0.35097129-0.34947887j]\n",
      " [0.35097129+0.34947887j 0.43156261+0.j        ]]\n"
     ]
    }
   ],
   "source": [
    "from spheres import *\n",
    "\n",
    "qubit = qt.rand_ket(2)\n",
    "\n",
    "dirac(qubit)\n",
    "print(\"\\nxyz: %s\\n\" % spinor_xyz(qubit))\n",
    "print(qubit*qubit.dag())"
   ]
  },
  {
   "cell_type": "markdown",
   "metadata": {},
   "source": [
    "We see here it represented in Dirac braket notation, in terms of its point on the sphere in cartesian coordinates, and its density mtrix $\\mid \\phi \\rangle \\langle \\phi \\mid$. Note that the probabilities appear along the diagonal of this matrix.\n",
    "\n",
    "What happens during an entangling interaction?"
   ]
  },
  {
   "cell_type": "code",
   "execution_count": 4,
   "metadata": {},
   "outputs": [
    {
     "name": "stdout",
     "output_type": "stream",
     "text": [
      "-0.581+0.481i |00> Pr: 0.568\n",
      "-0.654+-0.060i |11> Pr: 0.432\n",
      "\n",
      "qubit partial state: \n",
      "xyz: [0.         0.         0.06843739]\n",
      "Quantum object: dims = [[2], [2]], shape = (2, 2), type = oper, isherm = True\n",
      "Qobj data =\n",
      "[[0.56843739 0.        ]\n",
      " [0.         0.43156261]]\n",
      "\n",
      "apparatus partial state: \n",
      "xyz: [0.         0.         0.06843739]\n",
      "Quantum object: dims = [[2], [2]], shape = (2, 2), type = oper, isherm = True\n",
      "Qobj data =\n",
      "[[0.56843739 0.        ]\n",
      " [0.         0.43156261]]\n",
      "0.6837503574022689\n",
      "0.6837503574022689\n"
     ]
    }
   ],
   "source": [
    "a, b = components(qubit)\n",
    "entangled = a*bitstring_basis(\"00\") + b*bitstring_basis(\"11\")\n",
    "\n",
    "dirac(entangled)\n",
    "print(\"\\nqubit partial state: \\nxyz: %s\\n%s\" % (spinj_xyz(entangled.ptrace(0)), entangled.ptrace(0)))\n",
    "print(\"\\napparatus partial state: \\nxyz: %s\\n%s\" % (spinj_xyz(entangled.ptrace(1)), entangled.ptrace(1)))\n",
    "\n",
    "print(qt.entropy_vn(entangled.ptrace(0)))\n",
    "print(qt.entropy_vn(entangled.ptrace(1)))"
   ]
  },
  {
   "cell_type": "markdown",
   "metadata": {},
   "source": [
    "What we can see here is the phenomenon of decoherence: if we look at the reduced density matrices, which encode all the information locally accessible at that quantum subsystem, we can see that while they still contain the same probabilities for a $Z$ measurement along the diagonal, the off-diagonal terms have gone to 0, and so the full information about the qubit's (x, y, z) point is no longer localized at the qubit, but rather is contained in the entangled state as a whole. "
   ]
  },
  {
   "cell_type": "code",
   "execution_count": null,
   "metadata": {},
   "outputs": [],
   "source": []
  },
  {
   "cell_type": "code",
   "execution_count": null,
   "metadata": {},
   "outputs": [],
   "source": []
  },
  {
   "cell_type": "code",
   "execution_count": null,
   "metadata": {},
   "outputs": [],
   "source": []
  },
  {
   "cell_type": "code",
   "execution_count": null,
   "metadata": {},
   "outputs": [],
   "source": []
  },
  {
   "cell_type": "code",
   "execution_count": null,
   "metadata": {},
   "outputs": [],
   "source": [
    "n_experiments = 4\n",
    "\n",
    "experiment = (sum([qt.tensor(qt.basis(2,0), qt.basis(n, i), qt.basis(n, i)) for i in range(a)]) +\\\n",
    "              sum([qt.tensor(qt.basis(2,1), qt.basis(n, i), qt.basis(n, i)) for i in range(a, n)])).unit()\n",
    "\n",
    "experiments = qt.tensor(*[experiment]*n_experiments)\n"
   ]
  },
  {
   "cell_type": "code",
   "execution_count": null,
   "metadata": {},
   "outputs": [],
   "source": [
    "up_outcome = sum([qt.tensor(qt.basis(2,0), qt.basis(n, i), qt.basis(n, i)) for i in range(a)]).unit()\n",
    "down_outcome = sum([qt.tensor(qt.basis(2,1), qt.basis(n, i), qt.basis(n, i)) for i in range(a, n)]).unit()\n"
   ]
  },
  {
   "cell_type": "code",
   "execution_count": null,
   "metadata": {},
   "outputs": [],
   "source": []
  },
  {
   "cell_type": "code",
   "execution_count": null,
   "metadata": {},
   "outputs": [],
   "source": []
  },
  {
   "cell_type": "code",
   "execution_count": null,
   "metadata": {},
   "outputs": [],
   "source": []
  },
  {
   "cell_type": "code",
   "execution_count": null,
   "metadata": {},
   "outputs": [],
   "source": []
  },
  {
   "cell_type": "code",
   "execution_count": 1,
   "metadata": {},
   "outputs": [
    {
     "name": "stdout",
     "output_type": "stream",
     "text": [
      "-0.628+-0.686i |0>\n",
      "0.342+-0.136i |1>\n",
      "\n",
      "Quantum object: dims = [[2], [2]], shape = (2, 2), type = oper, isherm = True\n",
      "Qobj data =\n",
      "[[ 0.86466356+0.j         -0.121481  -0.31978564j]\n",
      " [-0.121481  +0.31978564j  0.13533644+0.j        ]]\n"
     ]
    }
   ],
   "source": [
    "from spheres import *\n",
    "\n",
    "n_env = 10\n",
    "pure = qt.rand_ket(2)\n",
    "environment = qt.rand_ket(2**n_env)\n",
    "environment.dims = [[2]*n_env, [1]*n_env]\n",
    "g = np.random.randn(n_env)\n",
    "H = tensor_upgrade(qt.sigmaz(), 0, n_env+1)*sum([g[k-1]*tensor_upgrade(qt.sigmaz(), k, n_env+1) for k in range(1, n_env+1)])\n",
    "state = qt.tensor(pure, environment)\n",
    "\n",
    "dirac(pure)\n",
    "print()\n",
    "print(state.ptrace(0))"
   ]
  },
  {
   "cell_type": "code",
   "execution_count": 2,
   "metadata": {},
   "outputs": [
    {
     "data": {
      "text/plain": [
       "0.0"
      ]
     },
     "execution_count": 2,
     "metadata": {},
     "output_type": "execute_result"
    }
   ],
   "source": [
    "qt.commutator(tensor_upgrade(qt.sigmaz(), 0, n_env+1), H).norm()"
   ]
  },
  {
   "cell_type": "code",
   "execution_count": 19,
   "metadata": {},
   "outputs": [
    {
     "data": {
      "application/vnd.jupyter.widget-view+json": {
       "model_id": "796acf491c6342489cb8e0804ce282ff",
       "version_major": 2,
       "version_minor": 0
      },
      "text/plain": [
       "HTML(value='')"
      ]
     },
     "metadata": {},
     "output_type": "display_data"
    },
    {
     "ename": "KeyboardInterrupt",
     "evalue": "",
     "output_type": "error",
     "traceback": [
      "\u001b[0;31m---------------------------------------------------------------------------\u001b[0m",
      "\u001b[0;31mKeyboardInterrupt\u001b[0m                         Traceback (most recent call last)",
      "\u001b[0;32m<ipython-input-19-3f0e82189484>\u001b[0m in \u001b[0;36m<module>\u001b[0;34m\u001b[0m\n\u001b[1;32m      9\u001b[0m \u001b[0;32mfor\u001b[0m \u001b[0mi\u001b[0m \u001b[0;32min\u001b[0m \u001b[0mrange\u001b[0m\u001b[0;34m(\u001b[0m\u001b[0;36m10000\u001b[0m\u001b[0;34m)\u001b[0m\u001b[0;34m:\u001b[0m\u001b[0;34m\u001b[0m\u001b[0;34m\u001b[0m\u001b[0m\n\u001b[1;32m     10\u001b[0m     \u001b[0mstate\u001b[0m \u001b[0;34m=\u001b[0m \u001b[0mU\u001b[0m\u001b[0;34m*\u001b[0m\u001b[0mstate\u001b[0m\u001b[0;34m\u001b[0m\u001b[0;34m\u001b[0m\u001b[0m\n\u001b[0;32m---> 11\u001b[0;31m     \u001b[0mdm\u001b[0m \u001b[0;34m=\u001b[0m \u001b[0mstate\u001b[0m\u001b[0;34m.\u001b[0m\u001b[0mptrace\u001b[0m\u001b[0;34m(\u001b[0m\u001b[0;36m0\u001b[0m\u001b[0;34m)\u001b[0m\u001b[0;34m.\u001b[0m\u001b[0mfull\u001b[0m\u001b[0;34m(\u001b[0m\u001b[0;34m)\u001b[0m\u001b[0;34m\u001b[0m\u001b[0;34m\u001b[0m\u001b[0m\n\u001b[0m\u001b[1;32m     12\u001b[0m     \u001b[0mout\u001b[0m\u001b[0;34m.\u001b[0m\u001b[0mvalue\u001b[0m \u001b[0;34m=\u001b[0m \u001b[0;34m\"<br>\"\u001b[0m\u001b[0;34m.\u001b[0m\u001b[0mjoin\u001b[0m\u001b[0;34m(\u001b[0m\u001b[0;34m[\u001b[0m\u001b[0mstr\u001b[0m\u001b[0;34m(\u001b[0m\u001b[0mrow\u001b[0m\u001b[0;34m)\u001b[0m \u001b[0;32mfor\u001b[0m \u001b[0mrow\u001b[0m \u001b[0;32min\u001b[0m \u001b[0mdm\u001b[0m\u001b[0;34m]\u001b[0m\u001b[0;34m)\u001b[0m\u001b[0;34m\u001b[0m\u001b[0;34m\u001b[0m\u001b[0m\n",
      "\u001b[0;32m~/opt/anaconda3/envs/spheres/lib/python3.8/site-packages/qutip/qobj.py\u001b[0m in \u001b[0;36mptrace\u001b[0;34m(self, sel, sparse)\u001b[0m\n\u001b[1;32m   1353\u001b[0m             \u001b[0;32mreturn\u001b[0m \u001b[0mq\u001b[0m\u001b[0;34m.\u001b[0m\u001b[0mtidyup\u001b[0m\u001b[0;34m(\u001b[0m\u001b[0;34m)\u001b[0m \u001b[0;32mif\u001b[0m \u001b[0msettings\u001b[0m\u001b[0;34m.\u001b[0m\u001b[0mauto_tidyup\u001b[0m \u001b[0;32melse\u001b[0m \u001b[0mq\u001b[0m\u001b[0;34m\u001b[0m\u001b[0;34m\u001b[0m\u001b[0m\n\u001b[1;32m   1354\u001b[0m         \u001b[0;32melse\u001b[0m\u001b[0;34m:\u001b[0m\u001b[0;34m\u001b[0m\u001b[0;34m\u001b[0m\u001b[0m\n\u001b[0;32m-> 1355\u001b[0;31m             \u001b[0;32mreturn\u001b[0m \u001b[0m_ptrace_dense\u001b[0m\u001b[0;34m(\u001b[0m\u001b[0mself\u001b[0m\u001b[0;34m,\u001b[0m \u001b[0msel\u001b[0m\u001b[0;34m)\u001b[0m\u001b[0;34m\u001b[0m\u001b[0;34m\u001b[0m\u001b[0m\n\u001b[0m\u001b[1;32m   1356\u001b[0m \u001b[0;34m\u001b[0m\u001b[0m\n\u001b[1;32m   1357\u001b[0m     \u001b[0;32mdef\u001b[0m \u001b[0mpermute\u001b[0m\u001b[0;34m(\u001b[0m\u001b[0mself\u001b[0m\u001b[0;34m,\u001b[0m \u001b[0morder\u001b[0m\u001b[0;34m)\u001b[0m\u001b[0;34m:\u001b[0m\u001b[0;34m\u001b[0m\u001b[0;34m\u001b[0m\u001b[0m\n",
      "\u001b[0;32m~/opt/anaconda3/envs/spheres/lib/python3.8/site-packages/qutip/qobj.py\u001b[0m in \u001b[0;36m_ptrace_dense\u001b[0;34m(Q, sel)\u001b[0m\n\u001b[1;32m   2201\u001b[0m                 \u001b[0;34m.\u001b[0m\u001b[0mtranspose\u001b[0m\u001b[0;34m(\u001b[0m\u001b[0msel\u001b[0m \u001b[0;34m+\u001b[0m \u001b[0mqtrace\u001b[0m\u001b[0;34m)\u001b[0m\u001b[0;34m\u001b[0m\u001b[0;34m\u001b[0m\u001b[0m\n\u001b[1;32m   2202\u001b[0m                 .reshape([np.prod(dkeep), np.prod(dtrace)]))\n\u001b[0;32m-> 2203\u001b[0;31m         \u001b[0mrhomat\u001b[0m \u001b[0;34m=\u001b[0m \u001b[0mvmat\u001b[0m\u001b[0;34m.\u001b[0m\u001b[0mdot\u001b[0m\u001b[0;34m(\u001b[0m\u001b[0mvmat\u001b[0m\u001b[0;34m.\u001b[0m\u001b[0mconj\u001b[0m\u001b[0;34m(\u001b[0m\u001b[0;34m)\u001b[0m\u001b[0;34m.\u001b[0m\u001b[0mT\u001b[0m\u001b[0;34m)\u001b[0m\u001b[0;34m\u001b[0m\u001b[0;34m\u001b[0m\u001b[0m\n\u001b[0m\u001b[1;32m   2204\u001b[0m     \u001b[0;32melse\u001b[0m\u001b[0;34m:\u001b[0m\u001b[0;34m\u001b[0m\u001b[0;34m\u001b[0m\u001b[0m\n\u001b[1;32m   2205\u001b[0m         rhomat = np.trace(Q.full()\n",
      "\u001b[0;31mKeyboardInterrupt\u001b[0m: "
     ]
    }
   ],
   "source": [
    "dt = 0.001\n",
    "U = (-1j*H*dt).expm()\n",
    "\n",
    "from IPython.display import display\n",
    "import ipywidgets as widgets\n",
    "out = widgets.HTML()\n",
    "display(out)\n",
    "\n",
    "for i in range(10):\n",
    "    state = U*state\n",
    "    dm = state.ptrace(0).full()\n",
    "    out.value = \"<br>\".join([str(row) for row in dm])"
   ]
  },
  {
   "cell_type": "code",
   "execution_count": 2,
   "metadata": {},
   "outputs": [
    {
     "data": {
      "text/plain": [
       "2.0"
      ]
     },
     "execution_count": 2,
     "metadata": {},
     "output_type": "execute_result"
    }
   ],
   "source": []
  },
  {
   "cell_type": "code",
   "execution_count": null,
   "metadata": {},
   "outputs": [],
   "source": []
  },
  {
   "cell_type": "code",
   "execution_count": null,
   "metadata": {},
   "outputs": [],
   "source": []
  },
  {
   "cell_type": "code",
   "execution_count": null,
   "metadata": {},
   "outputs": [],
   "source": []
  },
  {
   "cell_type": "code",
   "execution_count": null,
   "metadata": {},
   "outputs": [],
   "source": []
  },
  {
   "cell_type": "markdown",
   "metadata": {},
   "source": [
    "<hr>\n",
    "\n",
    "Axioms:\n",
    "\n",
    "- States of quantum systems are represented by vectors in some Hilbert space.\n",
    "- Evolutions are unitary, obeying the Schrodinger equation.\n",
    "- Immediate repetition of a measurement yields the sme outcome.\n",
    "- Measurement outcome is one of the orthonormal eigenstates of the measured observable.\n",
    "- Probability given by Born's rule $\\mid \\langle \\phi_{n} | \\psi \\rangle\\mid^2$.\n",
    "- Universe consists of subystems. Cf. Tensor product.\n",
    "\n",
    "Different versions of you in each branch. But what is the preferred basis?\n",
    "\n",
    "Environment induced superselection: \"einselection\". Constant monitoring of the system by the environment. Picks out special observerable(s) whose states form a pointer basis. E.g., these observables commute with the interaction Hamiltonian: $[O, H_{int}] = 0$.\n",
    "\n",
    "Consider evolution of the form:\n",
    "\n",
    "$e^{-it\\hat{H}} = \\sum_{s} \\mid s \\rangle \\langle s \\mid \\otimes U_{s}$\n",
    "\n",
    "Where the first part acts on the system and the second part on the environment. The $U_{s}$ are arbitrary unitaries which govern the evolution of environment conditional on the state of the system. The $\\mid s \\rangle$ form a pointer basis. Under this evolution, the density matrix of the system will decohere, being diagonal precisely in the $\\mid s \\rangle$ basis. \n",
    "\n",
    "<img src=\"img/pure_decoherence.png\">\n",
    "\n",
    "The Objective past of a quantum universe: Redundant records of consistent histories\n",
    "\n",
    "\"Con- tinuous monitoring of S by its environment results in re- dundant records of in E. Thus, many observers can find out state of the system indirectly, from small fragments of the same E that caused decoherence. Recent and still ongoing studies discussed in Section IV show how this replication selects “fittest” states that can survive moni- toring, and yield copious information-theoretic offspring: Quantum Darwinism favors pointer observables at the expense of their complements. Objectivity of preferred is quantified by their redundancy – by the number of copies of the state of the system deposited in E. Stabil- ity in spite of the environment is clearly a prerequisite for large redundancy. Hence, pointer states do best in this information - theoretic “survival of the fittest”.\n",
    "\n",
    "Relative States and the Environment: Einselection, Envariance, Quantum Darwinism, and the Existential Interpretation\n",
    "\n"
   ]
  },
  {
   "cell_type": "markdown",
   "metadata": {},
   "source": [
    "Problem of factoring into subsystems: Sean Caroll.\n",
    "\n"
   ]
  },
  {
   "cell_type": "code",
   "execution_count": null,
   "metadata": {},
   "outputs": [],
   "source": []
  },
  {
   "cell_type": "code",
   "execution_count": null,
   "metadata": {},
   "outputs": [],
   "source": []
  },
  {
   "cell_type": "code",
   "execution_count": null,
   "metadata": {},
   "outputs": [],
   "source": []
  },
  {
   "cell_type": "code",
   "execution_count": null,
   "metadata": {},
   "outputs": [],
   "source": []
  },
  {
   "cell_type": "markdown",
   "metadata": {},
   "source": [
    "Orthogonality:\n",
    "\n",
    "\n",
    "A measurement means we start out in a state like:\n",
    "\n",
    "$$ \\mid \\psi \\rangle\\mid 0 \\rangle = (\\sum_{i}c_{i}\\mid s_{i}\\rangle)\\mid 0 \\rangle $$\n",
    "\n",
    "And unitarily end up in a state like:\n",
    "\n",
    "$$ \\sum_{i}c_{i}\\mid s_{i} \\rangle\\mid e_{i} \\rangle $$\n",
    "\n",
    "The norm must be preserved.\n",
    "\n"
   ]
  },
  {
   "cell_type": "code",
   "execution_count": null,
   "metadata": {},
   "outputs": [],
   "source": []
  },
  {
   "cell_type": "code",
   "execution_count": 205,
   "metadata": {
    "scrolled": true
   },
   "outputs": [
    {
     "data": {
      "text/plain": [
       "(Quantum object: dims = [[1], [1]], shape = (1, 1), type = bra\n",
       " Qobj data =\n",
       " [[0.09755705-0.06580976j]],\n",
       " Quantum object: dims = [[1], [1]], shape = (1, 1), type = bra\n",
       " Qobj data =\n",
       " [[0.09755705-0.06580976j]])"
      ]
     },
     "execution_count": 205,
     "metadata": {},
     "output_type": "execute_result"
    }
   ],
   "source": [
    "a, b = qt.rand_ket(2), qt.rand_ket(2)\n",
    "c, d = qt.rand_ket(2), qt.rand_ket(2)\n",
    "\n",
    "amp = qt.tensor(c, d).dag()*qt.tensor(a, b)\n",
    "amp2 = c.dag()*a*d.dag()*b\n",
    "\n",
    "amp, amp2"
   ]
  },
  {
   "cell_type": "code",
   "execution_count": 203,
   "metadata": {},
   "outputs": [
    {
     "data": {
      "text/latex": [
       "Quantum object: dims = [[1], [1]], shape = (1, 1), type = bra\\begin{equation*}\\left(\\begin{array}{*{11}c}(0.439+0.731j)\\\\\\end{array}\\right)\\end{equation*}"
      ],
      "text/plain": [
       "Quantum object: dims = [[1], [1]], shape = (1, 1), type = bra\n",
       "Qobj data =\n",
       "[[0.43851354+0.73140366j]]"
      ]
     },
     "execution_count": 203,
     "metadata": {},
     "output_type": "execute_result"
    }
   ],
   "source": [
    "amp2*amp2"
   ]
  },
  {
   "cell_type": "code",
   "execution_count": null,
   "metadata": {},
   "outputs": [],
   "source": []
  },
  {
   "cell_type": "code",
   "execution_count": null,
   "metadata": {},
   "outputs": [],
   "source": []
  },
  {
   "cell_type": "code",
   "execution_count": null,
   "metadata": {},
   "outputs": [],
   "source": []
  },
  {
   "cell_type": "code",
   "execution_count": null,
   "metadata": {},
   "outputs": [],
   "source": []
  },
  {
   "cell_type": "markdown",
   "metadata": {},
   "source": [
    "\"Reproducibility of local operations on different sub- systems is also a generic characteristic of quantum field theories (QFT) that is less well-known in the quantum in- formation community. Working in the vacuum state on Minkowski spacetime, the Reeh-Schlieder theorem [16] entails that any operator supported in a local region can be reproduced by another operator in a different local region, potentially at spacelike separations. This result implies that the vacuum is entangled between any set of local regions, and has implications for the localizability of quantum fields [17, 18].\"\n",
    "\n",
    "Operational symmetries of entangled states"
   ]
  },
  {
   "cell_type": "code",
   "execution_count": null,
   "metadata": {},
   "outputs": [],
   "source": []
  },
  {
   "cell_type": "code",
   "execution_count": null,
   "metadata": {},
   "outputs": [],
   "source": []
  },
  {
   "cell_type": "code",
   "execution_count": null,
   "metadata": {},
   "outputs": [],
   "source": []
  },
  {
   "cell_type": "code",
   "execution_count": 29,
   "metadata": {},
   "outputs": [
    {
     "name": "stdout",
     "output_type": "stream",
     "text": [
      "0.577 |000> Pr: 0.333\n",
      "0.577 |011> Pr: 0.333\n",
      "0.577 |122> Pr: 0.333\n"
     ]
    }
   ],
   "source": [
    "from spheres import *\n",
    "\n",
    "n = 3\n",
    "a = np.random.randint(1,n)\n",
    "b = n-a\n",
    "fine_up = sum(qt.tensor(qt.basis(n, i), qt.basis(n, i)) for i in range(a)).unit()\n",
    "fine_down = sum(qt.tensor(qt.basis(n, i), qt.basis(n, i)) for i in range(a, n)).unit()\n",
    "\n",
    "qubit_app_env = (sum([qt.tensor(qt.basis(2,0), qt.basis(n, i), qt.basis(n, i)) for i in range(a)]) +\\\n",
    "                 sum([qt.tensor(qt.basis(2,1), qt.basis(n, i), qt.basis(n, i)) for i in range(a, n)])).unit()\n",
    "\n",
    "dirac(qubit_app_env)"
   ]
  },
  {
   "cell_type": "code",
   "execution_count": 31,
   "metadata": {},
   "outputs": [
    {
     "name": "stdout",
     "output_type": "stream",
     "text": [
      "0.707 |00> Pr: 0.500\n",
      "0.707 |11> Pr: 0.500\n"
     ]
    }
   ],
   "source": [
    "dirac(fine_up)"
   ]
  },
  {
   "cell_type": "code",
   "execution_count": 10,
   "metadata": {},
   "outputs": [
    {
     "name": "stdout",
     "output_type": "stream",
     "text": [
      "0.192 |000000000> Pr: 0.037\n",
      "0.192 |000000011> Pr: 0.037\n",
      "0.192 |000000122> Pr: 0.037\n",
      "0.192 |000011000> Pr: 0.037\n",
      "0.192 |000011011> Pr: 0.037\n",
      "0.192 |000011122> Pr: 0.037\n",
      "0.192 |000122000> Pr: 0.037\n",
      "0.192 |000122011> Pr: 0.037\n",
      "0.192 |000122122> Pr: 0.037\n",
      "0.192 |011000000> Pr: 0.037\n",
      "0.192 |011000011> Pr: 0.037\n",
      "0.192 |011000122> Pr: 0.037\n",
      "0.192 |011011000> Pr: 0.037\n",
      "0.192 |011011011> Pr: 0.037\n",
      "0.192 |011011122> Pr: 0.037\n",
      "0.192 |011122000> Pr: 0.037\n",
      "0.192 |011122011> Pr: 0.037\n",
      "0.192 |011122122> Pr: 0.037\n",
      "0.192 |122000000> Pr: 0.037\n",
      "0.192 |122000011> Pr: 0.037\n",
      "0.192 |122000122> Pr: 0.037\n",
      "0.192 |122011000> Pr: 0.037\n",
      "0.192 |122011011> Pr: 0.037\n",
      "0.192 |122011122> Pr: 0.037\n",
      "0.192 |122122000> Pr: 0.037\n",
      "0.192 |122122011> Pr: 0.037\n",
      "0.192 |122122122> Pr: 0.037\n"
     ]
    }
   ],
   "source": [
    "n_experiments = 3\n",
    "experiments = qt.tensor(*[qubit_app_env for i in range(n_experiments)])\n",
    "dirac(experiments)"
   ]
  },
  {
   "cell_type": "code",
   "execution_count": 35,
   "metadata": {},
   "outputs": [
    {
     "name": "stdout",
     "output_type": "stream",
     "text": [
      "[(0, 0, 0)]\n"
     ]
    },
    {
     "ename": "TypeError",
     "evalue": "int() argument must be a string, a bytes-like object or a number, not 'tuple'",
     "output_type": "error",
     "traceback": [
      "\u001b[0;31m---------------------------------------------------------------------------\u001b[0m",
      "\u001b[0;31mTypeError\u001b[0m                                 Traceback (most recent call last)",
      "\u001b[0;32m<ipython-input-35-45600913ba1c>\u001b[0m in \u001b[0;36m<module>\u001b[0;34m\u001b[0m\n\u001b[1;32m      2\u001b[0m     \u001b[0mperms\u001b[0m \u001b[0;34m=\u001b[0m \u001b[0mlist\u001b[0m\u001b[0;34m(\u001b[0m\u001b[0mset\u001b[0m\u001b[0;34m(\u001b[0m\u001b[0mlist\u001b[0m\u001b[0;34m(\u001b[0m\u001b[0mpermutations\u001b[0m\u001b[0;34m(\u001b[0m\u001b[0;34m[\u001b[0m\u001b[0;36m1\u001b[0m\u001b[0;34m]\u001b[0m\u001b[0;34m*\u001b[0m\u001b[0mi\u001b[0m \u001b[0;34m+\u001b[0m \u001b[0;34m[\u001b[0m\u001b[0;36m0\u001b[0m\u001b[0;34m]\u001b[0m\u001b[0;34m*\u001b[0m\u001b[0;34m(\u001b[0m\u001b[0mn_experiments\u001b[0m\u001b[0;34m-\u001b[0m\u001b[0mi\u001b[0m\u001b[0;34m)\u001b[0m\u001b[0;34m)\u001b[0m\u001b[0;34m)\u001b[0m\u001b[0;34m)\u001b[0m\u001b[0;34m)\u001b[0m\u001b[0;34m\u001b[0m\u001b[0;34m\u001b[0m\u001b[0m\n\u001b[1;32m      3\u001b[0m     \u001b[0mprint\u001b[0m\u001b[0;34m(\u001b[0m\u001b[0mperms\u001b[0m\u001b[0;34m)\u001b[0m\u001b[0;34m\u001b[0m\u001b[0;34m\u001b[0m\u001b[0m\n\u001b[0;32m----> 4\u001b[0;31m     \u001b[0msm\u001b[0m \u001b[0;34m=\u001b[0m \u001b[0msum\u001b[0m\u001b[0;34m(\u001b[0m\u001b[0;34m[\u001b[0m\u001b[0mqt\u001b[0m\u001b[0;34m.\u001b[0m\u001b[0mtensor\u001b[0m\u001b[0;34m(\u001b[0m\u001b[0mqt\u001b[0m\u001b[0;34m.\u001b[0m\u001b[0mbasis\u001b[0m\u001b[0;34m(\u001b[0m\u001b[0;36m2\u001b[0m\u001b[0;34m,\u001b[0m\u001b[0mint\u001b[0m\u001b[0;34m(\u001b[0m\u001b[0mp\u001b[0m\u001b[0;34m)\u001b[0m\u001b[0;34m)\u001b[0m\u001b[0;34m,\u001b[0m \u001b[0mfine_up\u001b[0m \u001b[0;32mif\u001b[0m \u001b[0mp\u001b[0m \u001b[0;34m==\u001b[0m \u001b[0;36m0\u001b[0m \u001b[0;32melse\u001b[0m \u001b[0mfine_down\u001b[0m\u001b[0;34m)\u001b[0m \u001b[0;32mfor\u001b[0m \u001b[0mp\u001b[0m \u001b[0;32min\u001b[0m \u001b[0mperms\u001b[0m\u001b[0;34m]\u001b[0m\u001b[0;34m)\u001b[0m\u001b[0;34m\u001b[0m\u001b[0;34m\u001b[0m\u001b[0m\n\u001b[0m\u001b[1;32m      5\u001b[0m     \u001b[0mprint\u001b[0m\u001b[0;34m(\u001b[0m\u001b[0mi\u001b[0m\u001b[0;34m)\u001b[0m\u001b[0;34m\u001b[0m\u001b[0;34m\u001b[0m\u001b[0m\n\u001b[1;32m      6\u001b[0m     \u001b[0mdirac\u001b[0m\u001b[0;34m(\u001b[0m\u001b[0msm\u001b[0m\u001b[0;34m)\u001b[0m\u001b[0;34m\u001b[0m\u001b[0;34m\u001b[0m\u001b[0m\n",
      "\u001b[0;32m<ipython-input-35-45600913ba1c>\u001b[0m in \u001b[0;36m<listcomp>\u001b[0;34m(.0)\u001b[0m\n\u001b[1;32m      2\u001b[0m     \u001b[0mperms\u001b[0m \u001b[0;34m=\u001b[0m \u001b[0mlist\u001b[0m\u001b[0;34m(\u001b[0m\u001b[0mset\u001b[0m\u001b[0;34m(\u001b[0m\u001b[0mlist\u001b[0m\u001b[0;34m(\u001b[0m\u001b[0mpermutations\u001b[0m\u001b[0;34m(\u001b[0m\u001b[0;34m[\u001b[0m\u001b[0;36m1\u001b[0m\u001b[0;34m]\u001b[0m\u001b[0;34m*\u001b[0m\u001b[0mi\u001b[0m \u001b[0;34m+\u001b[0m \u001b[0;34m[\u001b[0m\u001b[0;36m0\u001b[0m\u001b[0;34m]\u001b[0m\u001b[0;34m*\u001b[0m\u001b[0;34m(\u001b[0m\u001b[0mn_experiments\u001b[0m\u001b[0;34m-\u001b[0m\u001b[0mi\u001b[0m\u001b[0;34m)\u001b[0m\u001b[0;34m)\u001b[0m\u001b[0;34m)\u001b[0m\u001b[0;34m)\u001b[0m\u001b[0;34m)\u001b[0m\u001b[0;34m\u001b[0m\u001b[0;34m\u001b[0m\u001b[0m\n\u001b[1;32m      3\u001b[0m     \u001b[0mprint\u001b[0m\u001b[0;34m(\u001b[0m\u001b[0mperms\u001b[0m\u001b[0;34m)\u001b[0m\u001b[0;34m\u001b[0m\u001b[0;34m\u001b[0m\u001b[0m\n\u001b[0;32m----> 4\u001b[0;31m     \u001b[0msm\u001b[0m \u001b[0;34m=\u001b[0m \u001b[0msum\u001b[0m\u001b[0;34m(\u001b[0m\u001b[0;34m[\u001b[0m\u001b[0mqt\u001b[0m\u001b[0;34m.\u001b[0m\u001b[0mtensor\u001b[0m\u001b[0;34m(\u001b[0m\u001b[0mqt\u001b[0m\u001b[0;34m.\u001b[0m\u001b[0mbasis\u001b[0m\u001b[0;34m(\u001b[0m\u001b[0;36m2\u001b[0m\u001b[0;34m,\u001b[0m\u001b[0mint\u001b[0m\u001b[0;34m(\u001b[0m\u001b[0mp\u001b[0m\u001b[0;34m)\u001b[0m\u001b[0;34m)\u001b[0m\u001b[0;34m,\u001b[0m \u001b[0mfine_up\u001b[0m \u001b[0;32mif\u001b[0m \u001b[0mp\u001b[0m \u001b[0;34m==\u001b[0m \u001b[0;36m0\u001b[0m \u001b[0;32melse\u001b[0m \u001b[0mfine_down\u001b[0m\u001b[0;34m)\u001b[0m \u001b[0;32mfor\u001b[0m \u001b[0mp\u001b[0m \u001b[0;32min\u001b[0m \u001b[0mperms\u001b[0m\u001b[0;34m]\u001b[0m\u001b[0;34m)\u001b[0m\u001b[0;34m\u001b[0m\u001b[0;34m\u001b[0m\u001b[0m\n\u001b[0m\u001b[1;32m      5\u001b[0m     \u001b[0mprint\u001b[0m\u001b[0;34m(\u001b[0m\u001b[0mi\u001b[0m\u001b[0;34m)\u001b[0m\u001b[0;34m\u001b[0m\u001b[0;34m\u001b[0m\u001b[0m\n\u001b[1;32m      6\u001b[0m     \u001b[0mdirac\u001b[0m\u001b[0;34m(\u001b[0m\u001b[0msm\u001b[0m\u001b[0;34m)\u001b[0m\u001b[0;34m\u001b[0m\u001b[0;34m\u001b[0m\u001b[0m\n",
      "\u001b[0;31mTypeError\u001b[0m: int() argument must be a string, a bytes-like object or a number, not 'tuple'"
     ]
    }
   ],
   "source": [
    "for i in range(n_experiments):\n",
    "    perms = list(set(list(permutations([1]*i + [0]*(n_experiments-i)))))\n",
    "    print(perms)\n",
    "    for perm in perms:\n",
    "        sum([qt.tensor(qt.basis(2,int(p)), fine_up if p == 0 else fine_down)])\n",
    "    print(i)\n",
    "    dirac(sm)"
   ]
  },
  {
   "cell_type": "code",
   "execution_count": null,
   "metadata": {},
   "outputs": [],
   "source": []
  },
  {
   "cell_type": "code",
   "execution_count": 62,
   "metadata": {},
   "outputs": [
    {
     "name": "stdout",
     "output_type": "stream",
     "text": [
      "-0.708+-0.629i |000> Pr: 0.897\n",
      "0.147+-0.285i |100> Pr: 0.103\n"
     ]
    }
   ],
   "source": [
    "from spheres import *\n",
    "from qutip.qip.operations import cnot\n",
    "\n",
    "state = qt.tensor(qt.rand_ket(2), qt.basis(2,0), qt.basis(2,0))\n",
    "dirac(state)"
   ]
  },
  {
   "cell_type": "code",
   "execution_count": 63,
   "metadata": {},
   "outputs": [
    {
     "name": "stdout",
     "output_type": "stream",
     "text": [
      "-0.708+-0.629i |000> Pr: 0.897\n",
      "0.147+-0.285i |110> Pr: 0.103\n",
      "0.3318006955577651\n"
     ]
    }
   ],
   "source": [
    "state2 = cnot(N=3, control=0, target=1)*state\n",
    "dirac(state2)\n",
    "print(qt.entropy_vn(state2.ptrace(0)))"
   ]
  },
  {
   "cell_type": "code",
   "execution_count": 64,
   "metadata": {},
   "outputs": [
    {
     "name": "stdout",
     "output_type": "stream",
     "text": [
      "-0.708+-0.629i |000> Pr: 0.897\n",
      "0.147+-0.285i |111> Pr: 0.103\n"
     ]
    }
   ],
   "source": [
    "state3 = cnot(N=3, control=1, target=2)*state2\n",
    "dirac(state3)"
   ]
  },
  {
   "cell_type": "code",
   "execution_count": 49,
   "metadata": {},
   "outputs": [
    {
     "data": {
      "text/latex": [
       "Quantum object: dims = [[2], [2]], shape = (2, 2), type = oper, isherm = True\\begin{equation*}\\left(\\begin{array}{*{11}c}0.124 & 0.0\\\\0.0 & 0.876\\\\\\end{array}\\right)\\end{equation*}"
      ],
      "text/plain": [
       "Quantum object: dims = [[2], [2]], shape = (2, 2), type = oper, isherm = True\n",
       "Qobj data =\n",
       "[[0.12435798 0.        ]\n",
       " [0.         0.87564202]]"
      ]
     },
     "execution_count": 49,
     "metadata": {},
     "output_type": "execute_result"
    }
   ],
   "source": [
    "state3.ptrace(0)"
   ]
  },
  {
   "cell_type": "code",
   "execution_count": 65,
   "metadata": {},
   "outputs": [
    {
     "data": {
      "text/plain": [
       "0.3318006955577651"
      ]
     },
     "execution_count": 65,
     "metadata": {},
     "output_type": "execute_result"
    }
   ],
   "source": [
    "qt.entropy_vn(state3.ptrace(2))"
   ]
  },
  {
   "cell_type": "code",
   "execution_count": 35,
   "metadata": {},
   "outputs": [
    {
     "data": {
      "text/plain": [
       "0.6931471805599453"
      ]
     },
     "execution_count": 35,
     "metadata": {},
     "output_type": "execute_result"
    }
   ],
   "source": [
    "np.log(2)"
   ]
  },
  {
   "cell_type": "code",
   "execution_count": null,
   "metadata": {},
   "outputs": [],
   "source": []
  }
 ],
 "metadata": {
  "kernelspec": {
   "display_name": "Python 3",
   "language": "python",
   "name": "python3"
  },
  "language_info": {
   "codemirror_mode": {
    "name": "ipython",
    "version": 3
   },
   "file_extension": ".py",
   "mimetype": "text/x-python",
   "name": "python",
   "nbconvert_exporter": "python",
   "pygments_lexer": "ipython3",
   "version": "3.8.5"
  }
 },
 "nbformat": 4,
 "nbformat_minor": 4
}
